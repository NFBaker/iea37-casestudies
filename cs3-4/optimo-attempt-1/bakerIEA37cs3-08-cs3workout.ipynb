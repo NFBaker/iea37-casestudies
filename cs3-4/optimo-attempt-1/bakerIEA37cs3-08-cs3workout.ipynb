{
 "cells": [
  {
   "cell_type": "markdown",
   "metadata": {},
   "source": [
    "Just testing this out"
   ]
  },
  {
   "cell_type": "code",
   "execution_count": 22,
   "metadata": {},
   "outputs": [
    {
     "name": "stdout",
     "output_type": "stream",
     "text": [
      "-10.650319260075621\n",
      "10.65031926007562\n"
     ]
    },
    {
     "data": {
      "image/png": "[encoded data removed]",
      "text/plain": [
       "<Figure size 432x288 with 1 Axes>"
      ]
     },
     "metadata": {
      "needs_background": "light"
     },
     "output_type": "display_data"
    }
   ],
   "source": [
    "%run 'baker_cs34_functions_sandbox.py'\n",
    "\n",
    "fn = \"iea37-boundary-cs3.yaml\"\n",
    "bndryPts = getTurbAtrbtCs3YAML(fn)\n",
    "clsdBP = closeBndryList(bndryPts)\n",
    "coordList = closeBndryList(bndryPts)    # Duplicate the 1st coord for a closed boundary\n",
    "\n",
    "fname_turb = \"iea37-10mw.yaml\"\n",
    "fname_wr = \"iea37-windrose-cs3.yaml\"\n",
    "wind_dir, wind_dir_freq, wind_speeds, wind_speed_probs, num_speed_bins, min_speed, max_speed = iea37aepC.getWindRoseYAML(fname_wr)\n",
    "turb_ci, turb_co, rated_ws, rated_pwr, turb_diam = iea37aepC.getTurbAtrbtYAML(fname_turb)\n",
    "\n",
    "displaySize = np.recarray(1, coordinate)\n",
    "displaySize.x = 10\n",
    "displaySize.y = 10\n",
    "numLinspace = 10\n",
    "numGridLines = 10                   # How many gridlines we'll use for the visualization\n",
    "printOffset = (5, 5)\n",
    "vertexList = [0, 6, 8, 9, 18]       # Hard code the vertices (though this could be done algorithmically)\n",
    "\n",
    "scaledAEP = 1e5\n",
    "scaledTC = 1e3\n",
    "\n",
    "# Spline up the boundary\n",
    "[splineList, segCoordList] = makeCs3BndrySplines(vertexList, clsdBP, numGridLines)\n",
    "\n",
    "#-- Testing --#\n",
    "numTurbs = 25\n",
    "#turbRandoList = iea37cs3randomstarts(numTurbs, splineList, vertexList, bndryPts, turb_diam)\n",
    "\n",
    "#-- Plot the boundary --#\n",
    "for i in range(numSides):\n",
    "    plt.hold = True\n",
    "    printBoundaryArray(segCoordList[i].x, splineList[i](segCoordList[i].x), 5)\n",
    "\n",
    "#-- Plot the turbine locations --#\n",
    "#- Plot the example layout -#\n",
    "fn = \"iea37-ex-opt3.yaml\"\n",
    "ex_turb_coords, fname_turb, fname_wr = iea37aepC.getTurbLocYAML(fn)\n",
    "x0sEx = makeFirstCoordStruct(ex_turb_coords)\n",
    "x0aEx = makeCoordArray(x0sEx)\n",
    "printTurbines(x0sEx, getPltClrs().getColor(1), turb_diam/2)\n",
    "#printTurbines(turbRandoList, getPltClrs().getColor(1), turb_diam/2)\n",
    "#x0 = makeCoordArray(turbRandoList)\n",
    "#Args = optimoMakeArgTuples(wind_dir_freq, wind_speeds, wind_speed_probs, wind_dir, turb_diam, turb_ci, turb_co, rated_ws, rated_pwr, scaledAEP, scaledTC)\n",
    "#startAEPex = optimoFun(x0aEx, Args)\n",
    "exCoords = makeCoordMatrix(x0aEx)\n",
    "startAEPex = iea37aepC.calcAEPcs3((exCoords * scaledTC), wind_dir_freq, wind_speeds, wind_speed_probs, wind_dir, turb_diam, turb_ci, turb_co, rated_ws, rated_pwr)\n",
    "scaledAEPex = sum(startAEPex / scaledAEP)\n",
    "print(scaledAEPex)\n"
   ]
  },
  {
   "cell_type": "code",
   "execution_count": 29,
   "metadata": {
    "scrolled": true
   },
   "outputs": [
    {
     "name": "stdout",
     "output_type": "stream",
     "text": [
      "10.65041365706673\n"
     ]
    },
    {
     "data": {
      "image/png": "[encoded data removed]",
      "text/plain": [
       "<Figure size 432x288 with 1 Axes>"
      ]
     },
     "metadata": {
      "needs_background": "light"
     },
     "output_type": "display_data"
    }
   ],
   "source": [
    "# Optimized from ex. layout\n",
    "\n",
    "turbListOpt = [ 10363.7999999999,\n",
    "            10339.0002099738, \\\n",
    "            8856.4337381459, \\\n",
    "            8952.4100142127, \\\n",
    "            9874.9796355798, \\\n",
    "            10090.9955577907, \\\n",
    "            7717.8568892167, \\\n",
    "            8395.7432375154, \\\n",
    "            9321.8549180849, \\\n",
    "            9848.2019219908, \\\n",
    "            7138.7610093461, \\\n",
    "            7850.3243626916, \\\n",
    "            8934.0412583744, \\\n",
    "            9603.5324500883, \\\n",
    "            6515.4321372410, \\\n",
    "            6754.4094362848, \\\n",
    "            7788.7713824879, \\\n",
    "            9129.9180657667, \\\n",
    "            9416.0143016015, \\\n",
    "            6098.3000000000, \\\n",
    "            7930.1465702169, \\\n",
    "            7442.7900797922, \\\n",
    "            8443.4906033379, \\\n",
    "            8499.0021259221, \\\n",
    "            8937.6914260313, \\\n",
    "            6490.3000000000, \\\n",
    "            6357.6844725682, \\\n",
    "            6046.8105760982, \\\n",
    "            6212.2565755481, \\\n",
    "            5271.8185128605, \\\n",
    "            5179.7469631547, \\\n",
    "            5439.6379345956, \\\n",
    "            5344.2140571785, \\\n",
    "            4417.7025104588, \\\n",
    "            3733.1673393326, \\\n",
    "            4694.4250745417, \\\n",
    "            4388.6886557197, \\\n",
    "            3522.1807646441, \\\n",
    "            2425.1645313492, \\\n",
    "            3263.5444796080, \\\n",
    "            3905.5949920958, \\\n",
    "            3029.3106050708, \\\n",
    "            2867.3813710461, \\\n",
    "            1258.7253125071, \\\n",
    "            3297.5000000000, \\\n",
    "            1667.4978213738, \\\n",
    "            1995.2707835567, \\\n",
    "            1411.6059513438, \\\n",
    "            1152.7085989009, \\\n",
    "            547.3824701170]\n",
    "\n",
    "x0sOpt = makeCoordStruct(turbListOpt)\n",
    "x0aOpt = makeCoordArray(x0sOpt)\n",
    "exCoordsOpt = makeCoordMatrix(x0aOpt)\n",
    "startAEPexOpt = iea37aepC.calcAEPcs3((exCoordsOpt * scaledTC), wind_dir_freq, wind_speeds, wind_speed_probs, wind_dir, turb_diam, turb_ci, turb_co, rated_ws, rated_pwr)\n",
    "scaledAEPexOpt = sum(startAEPexOpt / scaledAEP)\n",
    "print(scaledAEPexOpt)\n",
    "#-- Plot the boundary --#\n",
    "for i in range(numSides):\n",
    "    plt.hold = True\n",
    "    printBoundaryArray(segCoordList[i].x, splineList[i](segCoordList[i].x), 5)\n",
    "\n",
    "#-- Plot the turbine locations --#\n",
    "printTurbines(x0sOpt, getPltClrs().getColor(1), turb_diam/2)"
   ]
  },
  {
   "cell_type": "markdown",
   "metadata": {},
   "source": [
    "From Dr. Ning:\n",
    "\n",
    "Convex hull function.\n",
    "\n",
    "~~Also, your constraints are boolean. They need to be continuous for gradients.~~\n",
    "\n",
    "pyoptsparse\n",
    "\n",
    "~~Plot to scale~~\n",
    "\n",
    "Design space sweep - move one and see what it does.\n",
    "scale to order one"
   ]
  },
  {
   "cell_type": "code",
   "execution_count": 28,
   "metadata": {},
   "outputs": [
    {
     "name": "stdout",
     "output_type": "stream",
     "text": [
      "10.650413930225456\n"
     ]
    },
    {
     "data": {
      "image/png": "[encoded data removed]",
      "text/plain": [
       "<Figure size 432x288 with 1 Axes>"
      ]
     },
     "metadata": {
      "needs_background": "light"
     },
     "output_type": "display_data"
    }
   ],
   "source": [
    "# Optimized from ex. layout\n",
    "\n",
    "turbListOpt = [ 8368.945874, \\\n",
    "                8717.385825, \\\n",
    "                10168.69615, \\\n",
    "                6939.991474, \\\n",
    "                7588.288313, \\\n",
    "                10195.51552, \\\n",
    "                6912.085169, \\\n",
    "                8920.453459, \\\n",
    "                6098.3, \\\n",
    "                8775.650352, \\\n",
    "                7748.635356, \\\n",
    "                9364.475114, \\\n",
    "                6756.998056, \\\n",
    "                7255.24518, \\\n",
    "                7261.728278, \\\n",
    "                6221.58806, \\\n",
    "                9363.750656, \\\n",
    "                8555.57498, \\\n",
    "                7947.971464, \\\n",
    "                7831.511068, \\\n",
    "                10057.18645, \\\n",
    "                9765.591639, \\\n",
    "                8905.138115, \\\n",
    "                7659.698217, \\\n",
    "                7099.010372, \\\n",
    "                4072.50962, \\\n",
    "                760.7575801, \\\n",
    "                5446.992774, \\\n",
    "                2944.468705, \\\n",
    "                5146.839258, \\\n",
    "                5590.407921, \\\n",
    "                2537.66176, \\\n",
    "                1908.986501, \\\n",
    "                3297.5, \\\n",
    "                2785.015207, \\\n",
    "                4140.264044, \\\n",
    "                290.7043021, \\\n",
    "                3520.125633, \\\n",
    "                4229.962477, \\\n",
    "                3911.686919, \\\n",
    "                3463.0268, \\\n",
    "                255.6567831, \\\n",
    "                2500.63323, \\\n",
    "                2159.441702, \\\n",
    "                3145.974898, \\\n",
    "                6512.164102, \\\n",
    "                5693.0213, \\\n",
    "                5427.91776, \\\n",
    "                5393.836432, \\\n",
    "                3755.031525]\n",
    "\n",
    "x0sOpt = makeCoordStruct(turbListOpt)\n",
    "x0aOpt = makeCoordArray(x0sOpt)\n",
    "exCoordsOpt = makeCoordMatrix(x0aOpt)\n",
    "startAEPexOpt = iea37aepC.calcAEPcs3((exCoordsOpt * scaledTC), wind_dir_freq, wind_speeds, wind_speed_probs, wind_dir, turb_diam, turb_ci, turb_co, rated_ws, rated_pwr)\n",
    "scaledAEPexOpt = sum(startAEPexOpt / scaledAEP)\n",
    "print(scaledAEPexOpt)\n",
    "#-- Plot the boundary --#\n",
    "for i in range(numSides):\n",
    "    plt.hold = True\n",
    "    printBoundaryArray(segCoordList[i].x, splineList[i](segCoordList[i].x), 5)\n",
    "\n",
    "#-- Plot the turbine locations --#\n",
    "printTurbines(x0sOpt, getPltClrs().getColor(1), turb_diam/2)"
   ]
  },
  {
   "cell_type": "markdown",
   "metadata": {},
   "source": []
  }
 ],
 "metadata": {
  "kernelspec": {
   "display_name": "Python 3",
   "language": "python",
   "name": "python3"
  },
  "language_info": {
   "codemirror_mode": {
    "name": "ipython",
    "version": 3
   },
   "file_extension": ".py",
   "mimetype": "text/x-python",
   "name": "python",
   "nbconvert_exporter": "python",
   "pygments_lexer": "ipython3",
   "version": "3.7.4"
  }
 },
 "nbformat": 4,
 "nbformat_minor": 2
}
