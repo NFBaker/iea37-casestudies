{
 "cells": [
  {
   "cell_type": "markdown",
   "metadata": {},
   "source": [
    "# Optimization of IEA case\n",
    "`1000.26.Feb.20`"
   ]
  },
  {
   "cell_type": "markdown",
   "metadata": {
    "heading_collapsed": true
   },
   "source": [
    "## Explanation"
   ]
  },
  {
   "cell_type": "markdown",
   "metadata": {
    "hidden": true
   },
   "source": [
    "Having not yet completed the mapping algorithm, I need to move ahead with a simpler optimization. I'll divide the space into vertical slices, and make a switch statement to see what zone we''re in, and if it's valid. Below will be the code for that."
   ]
  },
  {
   "cell_type": "markdown",
   "metadata": {},
   "source": [
    "## Load area and split"
   ]
  },
  {
   "cell_type": "code",
   "execution_count": 1,
   "metadata": {
    "code_folding": []
   },
   "outputs": [
    {
     "name": "stderr",
     "output_type": "stream",
     "text": [
      "ERROR:root:File `'baker-cs34-functions-sandbox.py'` not found.\n",
      "ERROR:root:File `'iea37-aepcalc.py'` not found.\n"
     ]
    },
    {
     "ename": "NameError",
     "evalue": "name 'getTurbAtrbtCs3YAML' is not defined",
     "output_type": "error",
     "traceback": [
      "\u001b[0;31m---------------------------------------------------------------------------\u001b[0m",
      "\u001b[0;31mNameError\u001b[0m                                 Traceback (most recent call last)",
      "\u001b[0;32m<ipython-input-1-98ec0b80d99f>\u001b[0m in \u001b[0;36m<module>\u001b[0;34m\u001b[0m\n\u001b[1;32m      7\u001b[0m \u001b[0mget_ipython\u001b[0m\u001b[0;34m(\u001b[0m\u001b[0;34m)\u001b[0m\u001b[0;34m.\u001b[0m\u001b[0mrun_line_magic\u001b[0m\u001b[0;34m(\u001b[0m\u001b[0;34m'run'\u001b[0m\u001b[0;34m,\u001b[0m \u001b[0;34m\"'iea37-aepcalc.py'\"\u001b[0m\u001b[0;34m)\u001b[0m\u001b[0;34m\u001b[0m\u001b[0;34m\u001b[0m\u001b[0m\n\u001b[1;32m      8\u001b[0m \u001b[0mfn\u001b[0m \u001b[0;34m=\u001b[0m \u001b[0;34m\"iea37-boundary-cs3.yaml\"\u001b[0m\u001b[0;34m\u001b[0m\u001b[0;34m\u001b[0m\u001b[0m\n\u001b[0;32m----> 9\u001b[0;31m \u001b[0mbndryPts\u001b[0m \u001b[0;34m=\u001b[0m \u001b[0mgetTurbAtrbtCs3YAML\u001b[0m\u001b[0;34m(\u001b[0m\u001b[0mfn\u001b[0m\u001b[0;34m)\u001b[0m\u001b[0;34m\u001b[0m\u001b[0;34m\u001b[0m\u001b[0m\n\u001b[0m\u001b[1;32m     10\u001b[0m \u001b[0mcoordList\u001b[0m \u001b[0;34m=\u001b[0m \u001b[0mcloseBndryList\u001b[0m\u001b[0;34m(\u001b[0m\u001b[0mbndryPts\u001b[0m\u001b[0;34m)\u001b[0m    \u001b[0;31m# Duplicate the first coordinate for a closed boundary\u001b[0m\u001b[0;34m\u001b[0m\u001b[0;34m\u001b[0m\u001b[0m\n",
      "\u001b[0;31mNameError\u001b[0m: name 'getTurbAtrbtCs3YAML' is not defined"
     ]
    }
   ],
   "source": [
    "#- Rip the boundary coordinates from the .yaml file and print -#\n",
    "from scipy.optimize import minimize\n",
    "import scipy.spatial.distance as ssd\n",
    "import random\n",
    "\n",
    "%run 'baker-cs34-functions-sandbox.py'\n",
    "%run 'iea37-aepcalc.py'\n",
    "fn = \"iea37-boundary-cs3.yaml\"\n",
    "bndryPts = getTurbAtrbtCs3YAML(fn)\n",
    "coordList = closeBndryList(bndryPts)    # Duplicate the first coordinate for a closed boundary"
   ]
  },
  {
   "cell_type": "code",
   "execution_count": null,
   "metadata": {
    "code_folding": []
   },
   "outputs": [],
   "source": [
    "#-- Plot the boundary (modelled with splines) --#\n",
    "displaySize = np.recarray(1, coordinate)\n",
    "displaySize.x = 10\n",
    "displaySize.y = 10\n",
    "numLinspace = 10\n",
    "numGridLines = 10                   # How many gridlines we'll use for the visualization\n",
    "printOffset = (5, 5)\n",
    "clsdBP = closeBndryList(bndryPts)\n",
    "vertexList = [0, 6, 8, 9, 18]       # Hard code the vertices (though this could be done algorithmically)\n",
    "numSides = len(vertexList) - 1      # The number of sides for our original coordinate system. Usually (4) to Euclidean, but could be any number)\n",
    "\n",
    "scaleAEP = 1e5\n",
    "scaleTurbCoord = 1e3\n",
    "\n",
    "#-- Spline the boundary --#\n",
    "splineList = np.empty(numSides, interp1d)                  # Init. array IOT save the Splines for each \"side\"\n",
    "buf = np.zeros((numSides, numGridLines, 2))                # Used to initalize the recarray to zeros\n",
    "segCoordList = np.recarray([numSides, numGridLines], dtype=coordinate, buf=buf)\n",
    "\n",
    "#- Create the splines for each side (<numSides> many)-#\n",
    "for i in range(numSides):\n",
    "    BndPts = clsdBP[vertexList[i]:(vertexList[i+1]+1)]      # Extract the points for the \"edge\" we want\n",
    "    segCoordList[i] = sliceBoundary(BndPts, numGridLines)    # Reparameterize the boundry to be defined by <numGridLines> many points\n",
    "    splineList[i] = interp1d(segCoordList[i].x, segCoordList[i].y, kind='linear')   # Make the spline using NumPy's <interp1d>\n",
    "    \n",
    "print(\"The splined boundary and the defining coordinates:\")\n",
    "for i in range(numSides):\n",
    "    plt.hold = True\n",
    "    printBoundaryArray(segCoordList[i].x, splineList[i](segCoordList[i].x), displaySize, 1)\n",
    "\n",
    "#for i in vertexList:                         # Number the vertices\n",
    "for i in range(len(clsdBP)):                         # Number the vertices\n",
    "    plt.plot(clsdBP[i].x, clsdBP[i].y, 'o', color=(getPltClrs().getColor(5)))\n",
    "    plt.annotate(i, (clsdBP[i].x, clsdBP[i].y), xytext=printOffset, textcoords='offset points')\n"
   ]
  },
  {
   "cell_type": "code",
   "execution_count": 3,
   "metadata": {
    "code_folding": [
     0
    ]
   },
   "outputs": [],
   "source": [
    "#-- Split into vertical sections\n",
    "def getVertSectionLines(bndryPts, splineList, vertexList):\n",
    "    #-- Print the windfarm boundary, sliced at coordinates.\n",
    "    #-- bndryPts must be <np.ndarray> of type <coordinate>\n",
    "    \n",
    "    #- Make array of lines -#\n",
    "    buf = np.zeros((len(bndryPts)-1, 2, 2), dtype=coordinate)                # Start and end point for each coordinate's verticale line\n",
    "    regionLines = np.recarray((len(bndryPts)-1, 2), dtype=coordinate, buf=buf)  # Initialize some blank lines\n",
    "    # Outside vertecies are themselves\n",
    "    regionLines[0,0].x = bndryPts[0].x\n",
    "    regionLines[0,0].y = splineList[0](bndryPts[0].x)\n",
    "    regionLines[0,1] = regionLines[vertexList[0],0]\n",
    "\n",
    "    # points 1-6\n",
    "    for i in range(vertexList[0]+1, vertexList[1]+1):\n",
    "        # Start point\n",
    "        regionLines[i,0].x = bndryPts[i].x\n",
    "        regionLines[i,0].y = bndryPts[i].y\n",
    "        # End point\n",
    "        regionLines[i,1].x = regionLines[i,0].x\n",
    "        regionLines[i,1].y = splineList[3](bndryPts[i].x)\n",
    "\n",
    "    # point 7\n",
    "    for i in range(vertexList[1]+1, vertexList[2]):\n",
    "        # Start point\n",
    "        regionLines[i,0].x = bndryPts[i].x\n",
    "        regionLines[i,0].y = bndryPts[i].y\n",
    "        # End point\n",
    "        regionLines[i,1].x = regionLines[i,0].x\n",
    "        regionLines[i,1].y = splineList[2](bndryPts[i].x)\n",
    "        \n",
    "    # Outside vertex is itself\n",
    "    regionLines[vertexList[2],0].x = bndryPts[8].x\n",
    "    regionLines[vertexList[2],0].y = bndryPts[8].y\n",
    "    regionLines[vertexList[2],1] = regionLines[vertexList[2],0]\n",
    "\n",
    "    # points 8-12\n",
    "    for i in range(vertexList[2]+1, 13):\n",
    "        # Start point\n",
    "        regionLines[i,0].x = bndryPts[i].x\n",
    "        regionLines[i,0].y = bndryPts[i].y\n",
    "        # End point\n",
    "        regionLines[i,1].x = regionLines[i,0].x\n",
    "        regionLines[i,1].y = splineList[1](bndryPts[i].x)\n",
    "    \n",
    "    # points 13-17\n",
    "    for i in range(13, vertexList[4]):\n",
    "        # Start point\n",
    "        regionLines[i,0].x = bndryPts[i].x\n",
    "        regionLines[i,0].y = bndryPts[i].y\n",
    "        # End point\n",
    "        regionLines[i,1].x = regionLines[i,0].x\n",
    "        regionLines[i,1].y = splineList[0](bndryPts[i].x)\n",
    "    \n",
    "    # Sort so it's from left to right instead of clockwise around the boundary\n",
    "    regionLines.sort(axis=0)\n",
    "    \n",
    "    return regionLines\n"
   ]
  },
  {
   "cell_type": "code",
   "execution_count": 4,
   "metadata": {
    "code_folding": [
     0
    ]
   },
   "outputs": [
    {
     "data": {
      "image/png": "[encoded data removed]",
      "text/plain": [
       "<Figure size 720x720 with 1 Axes>"
      ]
     },
     "metadata": {
      "needs_background": "light"
     },
     "output_type": "display_data"
    }
   ],
   "source": [
    "#-- Print the new splits --#\n",
    "# Reprint Boundary\n",
    "for i in range(numSides):\n",
    "    plt.hold = True\n",
    "    printBoundaryArray(segCoordList[i].x, splineList[i](segCoordList[i].x), displaySize, 1)\n",
    "\n",
    "# Calculate and split into sections (the new thing)\n",
    "regionLines = getVertSectionLines(coordList, splineList, vertexList)\n",
    "for i in range(len(regionLines)):\n",
    "    plt.plot([regionLines[i,0].x, regionLines[i,1].x], [regionLines[i,0].y, regionLines[i,1].y])\n",
    "    plt.annotate(i, xy=(regionLines[i,0].x, regionLines[i,0].y), xytext=printOffset, textcoords='offset points')\n",
    "    "
   ]
  },
  {
   "cell_type": "markdown",
   "metadata": {},
   "source": [
    "`1308.26.Feb.20`\n",
    "\n",
    "Well that took much longer than expected, but now I've sectioned it off into segments.\n",
    "\n",
    "`1332.26.Feb.20`\n",
    "\n",
    "I next ordered them from left to right instead of in clockwise order of originating vertex, and will use those for the optimization."
   ]
  },
  {
   "cell_type": "markdown",
   "metadata": {},
   "source": [
    "## Setup optimization and constraints\n",
    "`1412.26.Feb.20`"
   ]
  },
  {
   "cell_type": "markdown",
   "metadata": {},
   "source": [
    "Now I'll have to learn pyoptsparse or some Python optimizer to find some good turbine locaitons."
   ]
  },
  {
   "cell_type": "markdown",
   "metadata": {},
   "source": [
    "### Coordinate Formatting\n",
    "`1412.26.Feb.20`"
   ]
  },
  {
   "cell_type": "markdown",
   "metadata": {},
   "source": [
    "Listing the constraints, we have:\n",
    "\n",
    "1. Turbines can't be within two diametes of each other\n",
    "2. Stepping between each of the 17 x-regions, must be above or below bounding lines.\n",
    "\n",
    "I'll have to write some quick fuctions that strip the coordinate values from <coord> types to a list of numbers for the optimizer to modify."
   ]
  },
  {
   "cell_type": "code",
   "execution_count": 74,
   "metadata": {
    "code_folding": []
   },
   "outputs": [],
   "source": [
    "def makeCoordArray(turb_coords):\n",
    "    # Takes coordinates in form turb_coords.x and .y and flattens them into a\n",
    "    # single array. For optimizer to use.\n",
    "    x0 = np.dstack((turb_coords.x, turb_coords.y)).flatten()\n",
    "    return x0\n",
    "\n",
    "def makeCoordStruct(x0):\n",
    "    # Takes coordinates in an [x1,y1,x2,y2...] line and puts them into the form turb_coords.x and .y\n",
    "    # For optimzer use.\n",
    "    nNumRtrs = int(len(x0)/2)\n",
    "    coordList = np.recarray(nNumRtrs, coordinate)\n",
    "    \n",
    "    coordMat = x0.reshape((nNumRtrs, 2))\n",
    "    coordList.x = coordMat[:,0]\n",
    "    coordList.y = coordMat[:,1]\n",
    "    \n",
    "    return coordList\n",
    "\n",
    "def makeCoordMatrix(x0):\n",
    "    # Makes an Mx2 matrix where [0,1] = [x,y]\n",
    "    # For scipy.spatial.distance.pdist() function\n",
    "    nNumRtrs = int(len(x0)/2)\n",
    "    coordMat = x0.reshape((nNumRtrs, 2))\n",
    "    return coordMat\n",
    "\n",
    "def makeFirstCoordStruct(turb_coords):\n",
    "    # Takes ripped .yaml coordinates and puts them into our struct format.\n",
    "    # Only needs to be done once at the beginning.\n",
    "    nNumRtrs = len(turb_coords)\n",
    "    coordList = np.recarray(nNumRtrs, coordinate)\n",
    "    \n",
    "    coordList.x = turb_coords[:, 0]\n",
    "    coordList.y = turb_coords[:, 1]\n",
    "\n",
    "    return coordList"
   ]
  },
  {
   "cell_type": "markdown",
   "metadata": {},
   "source": [
    "### Target Function Format\n",
    "`2002.26.Feb.20`"
   ]
  },
  {
   "cell_type": "markdown",
   "metadata": {},
   "source": [
    "Now that both of those work, I need to figure out how to get the target function in the correct format."
   ]
  },
  {
   "cell_type": "code",
   "execution_count": 203,
   "metadata": {
    "code_folding": [
     9,
     46
    ]
   },
   "outputs": [
    {
     "name": "stdout",
     "output_type": "stream",
     "text": [
      "-10.65041097342426\n"
     ]
    }
   ],
   "source": [
    "def optimoFun(x0, args):\n",
    "    [wind_freq, wind_speeds, wind_speed_probs, wind_dir, turb_diam, turb_ci, turb_co, rated_ws, rated_pwr] = optimoStripArgTuples(args)\n",
    "    newCoords = makeCoordMatrix(x0) * scaleTurbCoord\n",
    "    \n",
    "    dirAEP = calcAEPcs3(newCoords, wind_freq, wind_speeds, wind_speed_probs, wind_dir, turb_diam, turb_ci, turb_co, rated_ws, rated_pwr)\n",
    "    scaledAEP = dirAEP / scaleAEP\n",
    "    return -np.sum(scaledAEP)\n",
    "    #return np.sum(dirAEP)\n",
    "    \n",
    "def optimoStripArgTuples(args):\n",
    "    # Takes the passed array and strips items into their proper variables.\n",
    "    cntr = 0\n",
    "    wind_dir_freq_len = int(args[0])\n",
    "    cntr = cntr + 1\n",
    "    wind_dir_freq = args[cntr:(wind_dir_freq_len + cntr)]\n",
    "    cntr = cntr + wind_dir_freq_len    \n",
    "    wind_speeds_len = int(args[cntr])\n",
    "    cntr = cntr + 1\n",
    "    wind_speeds = args[cntr:(wind_speeds_len + cntr)]\n",
    "    cntr = cntr + wind_speeds_len\n",
    "    wind_speed_prob_len = int(args[cntr])\n",
    "    cntr = cntr + 1\n",
    "    wind_speed_prob_wid = int(args[cntr])\n",
    "    cntr = cntr + 1\n",
    "    wind_speed_prob_size = wind_speed_prob_len * wind_speed_prob_wid\n",
    "    wind_speed_probs = args[cntr:(wind_speed_prob_size + cntr)]\n",
    "    wind_speed_probs = wind_speed_probs.reshape(wind_speed_prob_len, wind_speed_prob_wid)\n",
    "    cntr = cntr + wind_speed_prob_size\n",
    "    wind_dir_len = int(args[cntr])\n",
    "    cntr = cntr + 1\n",
    "    wind_dir = args[cntr:(wind_dir_len + cntr)]\n",
    "    cntr = cntr + wind_dir_len\n",
    "    turb_diam = float(args[cntr])\n",
    "    cntr = cntr + 1\n",
    "    turb_ci = float(args[cntr])\n",
    "    cntr = cntr + 1\n",
    "    turb_co = float(args[cntr])\n",
    "    cntr = cntr + 1\n",
    "    rated_ws = float(args[cntr])\n",
    "    cntr = cntr + 1\n",
    "    rated_pwr = float(args[cntr])\n",
    "    cntr = cntr + 1\n",
    "        \n",
    "    return [wind_dir_freq, wind_speeds, wind_speed_probs, wind_dir,\n",
    "            turb_diam, turb_ci, turb_co, rated_ws, rated_pwr]\n",
    "\n",
    "def optimoMakeArgTuples(wind_dir_freq, wind_speeds, wind_speed_probs, wind_dir, turb_diam, turb_ci, turb_co, rated_ws, rated_pwr):\n",
    "    # Takes the list of passed variables and concatenates them into one long array with size markers for matricies\n",
    "    wind_speed_probs_size = len(wind_speed_probs) * len(wind_speed_probs[0])\n",
    "    argLen = len(wind_dir_freq) \\\n",
    "                + len(wind_speeds) \\\n",
    "                + wind_speed_probs_size \\\n",
    "                + len(wind_dir) \\\n",
    "                + 4 \\\n",
    "                + 6 # 4 For lengths of first four entries\n",
    "                # 5 For single element items <turb_diam, turb_ci, turb_co, rated_ws, rated_pwr>\n",
    "    \n",
    "    args = np.zeros(argLen)\n",
    "    cntr = 0  # Where we are right now.\n",
    "\n",
    "    args[0] = len(wind_dir_freq)\n",
    "    cntr = cntr + 1\n",
    "    args[cntr:(len(wind_dir_freq)+cntr)] = wind_dir_freq\n",
    "    cntr = cntr + len(wind_dir_freq)\n",
    "    args[cntr] = len(wind_speeds)\n",
    "    cntr = cntr + 1\n",
    "    args[cntr:len(wind_speeds)+cntr] = wind_speeds\n",
    "    cntr = cntr + len(wind_speeds)\n",
    "    args[cntr] = len(wind_speed_probs)\n",
    "    cntr = cntr + 1\n",
    "    args[cntr] = len(wind_speed_probs[0])\n",
    "    cntr = cntr + 1\n",
    "    args[cntr:wind_speed_probs_size+cntr] = np.asarray(wind_speed_probs).reshape(-1)\n",
    "    cntr = cntr + wind_speed_probs_size\n",
    "    args[cntr] = len(wind_dir)\n",
    "    cntr = cntr + 1\n",
    "    args[cntr:len(wind_dir)+cntr] = wind_dir\n",
    "    cntr = cntr + len(wind_dir)\n",
    "    args[cntr] = turb_diam\n",
    "    cntr = cntr + 1\n",
    "    args[cntr] = turb_ci\n",
    "    cntr = cntr + 1\n",
    "    args[cntr] = turb_co\n",
    "    cntr = cntr + 1\n",
    "    args[cntr] = rated_ws\n",
    "    cntr = cntr + 1\n",
    "    args[cntr] = rated_pwr\n",
    "    \n",
    "    return args\n",
    "\n",
    "#-- Verify --#\n",
    "testArgs = optimoMakeArgTuples(wind_dir_freq, wind_speeds, wind_speed_probs, wind_dir, turb_diam, turb_ci, turb_co, rated_ws, rated_pwr)\n",
    "#testx1 = makeFirstCoordStruct(turb_coords)\n",
    "testx0 = makeCoordArray(turbRandoList)\n",
    "#print(turb_coords)\n",
    "#testx0 = makeCoordMatrix(turb_coords)\n",
    "testAEP = optimoFun(testx0, testArgs)\n",
    "print(testAEP)\n"
   ]
  },
  {
   "cell_type": "markdown",
   "metadata": {},
   "source": [
    "It took some work, but those functions to smash all the arguments together and pull them back again now work. They need to be in a single tupled list for `scipy.optimize()` to work.\n",
    "\n",
    "Now to figure out how to setup the constraints."
   ]
  },
  {
   "cell_type": "markdown",
   "metadata": {},
   "source": [
    "### Random Turbine Starts\n",
    "`2340.26.Feb.20`"
   ]
  },
  {
   "cell_type": "markdown",
   "metadata": {},
   "source": [
    "Ok I figured out how to calculate the spacing constraints (that no turbine is within two diameters of another):"
   ]
  },
  {
   "cell_type": "code",
   "execution_count": 204,
   "metadata": {
    "code_folding": [
     30
    ]
   },
   "outputs": [
    {
     "name": "stdout",
     "output_type": "stream",
     "text": [
      "-9.73917812734508\n"
     ]
    },
    {
     "data": {
      "image/png": "[encoded data removed]",
      "text/plain": [
       "<Figure size 720x720 with 1 Axes>"
      ]
     },
     "metadata": {
      "needs_background": "light"
     },
     "output_type": "display_data"
    }
   ],
   "source": [
    "def iea37cs3randomstarts(numTurbs, splineList, vertexList, bndryPts, turb_diam):\n",
    "    #-- Initialize our array --#\n",
    "    buf = np.zeros((numTurbs,2))\n",
    "    turbRandoList = np.recarray((numTurbs), dtype=coordinate, buf=buf)\n",
    "    minTurbDist = 2*turb_diam\n",
    "\n",
    "    #-- Get the x-values --#\n",
    "    xmin = bndryPts[vertexList[2]].x   # Our minimum x-value\n",
    "    xmax = bndryPts[vertexList[0]].x   # our maximum x-value\n",
    "    for i in range(numTurbs):\n",
    "        turbRandoList[i].x = random.uniform(xmin, xmax)\n",
    "\n",
    "    #-- Get the y-values --#\n",
    "    #- Determine the upper and lower splines to use for the given x -#\n",
    "    # Fake for-loop here for proximity checking.\n",
    "    i = 0\n",
    "    while i<numTurbs:\n",
    "        ymin,ymax = getUpDwnYvals(turbRandoList[i].x, splineList, vertexList, bndryPts)\n",
    "        turbRandoList[i].y = random.uniform(ymin, ymax) # Get a random number in our bounds\n",
    "        # Check it doesn't conflict with nearby turbines\n",
    "        for j in range(i): # Check only the ones we've place so far\n",
    "            # If this turbine has a proximity conflict\n",
    "            if (coordDist(turbRandoList[i], turbRandoList[j]) < minTurbDist):\n",
    "                turbRandoList[i].x = random.uniform(xmin, xmax) # Give it a new x-val\n",
    "                i = i-1 # Redo the y-val too\n",
    "                break # Stop checking for conflicts and redo the y-values\n",
    "        i = i+1\n",
    "\n",
    "    return turbRandoList\n",
    "\n",
    "def getUpDwnYvals(xCoord, splineList, vertexList, bndryPts):\n",
    "    # Given there are 4 splines (with 0&1 below, 2&3 above),\n",
    "    # returns the indecies of splines the given x-coord falls between\n",
    "    \n",
    "    #-- Upper. If it's out of bounds\n",
    "    if (xCoord < bndryPts[vertexList[2]].x):\n",
    "        ymax = bndryPts[vertexList[2]].y # Give it the y-value of our leftmost point\n",
    "    # If it's to the left of the right upper spline\n",
    "    elif (xCoord < bndryPts[vertexList[3]].x):\n",
    "        ymax = splineList[2](xCoord)  # Make it the left upper spline\n",
    "    # If it's to the left of the rightmost point\n",
    "    elif (xCoord < bndryPts[vertexList[0]].x):\n",
    "        ymax = splineList[3](xCoord)  # Make it the left upper spline\n",
    "    else:\n",
    "        ymax = bndryPts[vertexList[0]].y # Give it the y-value of our rightmost point\n",
    "\n",
    "    #-- Lower. If it's to the left of the right lower spline\n",
    "    if (xCoord < bndryPts[vertexList[2]].x):\n",
    "        ymin = bndryPts[vertexList[2]].y # Give it the y-value of our leftmost point\n",
    "    elif (xCoord < bndryPts[vertexList[1]].x):\n",
    "        ymin = splineList[1](xCoord) # Make it the left upper spline\n",
    "    elif (xCoord < bndryPts[vertexList[0]].x):\n",
    "        ymin = splineList[0](xCoord)\n",
    "    else:\n",
    "        ymin = bndryPts[vertexList[0]].y # Give it the y-value of our rightmost point\n",
    "    \n",
    "    return ymin,ymax\n",
    "\n",
    "#-- Testing --#\n",
    "numTurbs = 25\n",
    "turbRandoList = iea37cs3randomstarts(numTurbs, splineList, vertexList, bndryPts, turb_diam)\n",
    "\n",
    "#-- Plot the boundary --#\n",
    "for i in range(numSides):\n",
    "    plt.hold = True\n",
    "    printBoundaryArray(segCoordList[i].x, splineList[i](segCoordList[i].x), displaySize, 5)\n",
    "\n",
    "#-- Plot the turbine locations --#\n",
    "printTurbines(turbRandoList, getPltClrs().getColor(1), turb_diam/2)\n",
    "x0 = makeCoordArray(turbRandoList)/scaleTurbCoord\n",
    "startAEP = optimoFun(x0, Args)\n",
    "print(startAEP)"
   ]
  },
  {
   "cell_type": "markdown",
   "metadata": {},
   "source": [
    "### Spacing Constraint\n",
    "`2255.26.Feb.20`"
   ]
  },
  {
   "cell_type": "code",
   "execution_count": 131,
   "metadata": {},
   "outputs": [
    {
     "name": "stdout",
     "output_type": "stream",
     "text": [
      "[3487.88557269  453.60145177 1536.56669199 2117.20811221 2956.20405118\n",
      "  191.93478909 4698.97446549 3185.50519047 3550.44855504 2342.13401372\n",
      " 2726.67216129 1348.1120185  2024.19089482 2730.99733723 2773.39491121\n",
      "  707.88887531 3393.80765674 2813.21153666 1516.95695783 1098.87302188\n",
      " 4230.56651494 1134.38678094 4191.62732163 2563.09435735 3189.65224768\n",
      " 1622.01875969  974.68051513  685.14117367 2939.86926211 4864.12133366\n",
      " 1981.03230051 4201.38294898  860.01331883  413.70256729 1773.94477682\n",
      " 1535.82107881 2539.43964208 3918.66590713 3617.03841053 4538.44873563\n",
      " 1233.71944739 3453.899382   3044.11957523 4649.64446422 3605.10260342\n",
      " 4082.71877042  724.13116057 1174.2288363  1869.61349998 2464.41577584\n",
      "  193.09346025 3856.52955172 2451.36922449 2712.57249657 2215.60042937\n",
      " 2516.87148016 1282.80415449 1452.27497694 1923.06512579 1945.8176381\n",
      "   97.40282845 2589.35464203 2210.68809947  696.2863315   250.0773334\n",
      " 3392.84179776  388.6146985  3342.03675568 2140.73180962  318.24764836\n",
      " 1035.92193652  958.60422357 4041.39379613 1635.74357195 3059.9039767\n",
      "  733.75105643  962.3665401   230.24616599  293.81033938 1576.74970269\n",
      " 2500.06407536 1618.62239014 3196.73752022 1008.11184553 1639.56095637\n",
      " 1132.46266966 3674.07973019 1674.19856854 3341.08937976  630.53300634\n",
      "  735.98646347 1573.49268385 4466.39496509 1783.06365526 3572.10750457\n",
      "   72.99391034  251.7592121   425.29805174  624.66371951 1968.88404577\n",
      " 3091.24131784 2326.38372737 3774.98503256  987.71684525 2332.76891215\n",
      " 1841.82600462 4143.13294707 2387.50784019 3724.88088868  282.12959951\n",
      " 2370.57827723 3814.64064389  937.90597837 3120.63835119 1007.4297683\n",
      "  725.39064378 1477.59812619  632.13048974 1458.53748599 2852.30890271\n",
      " 2825.2381387  3460.97663615  152.8001834  2506.89511405 2175.78973581\n",
      " 3580.09603104 2728.45689356 3036.6610093    62.48690131 4347.97949057\n",
      " 2629.03625577 3220.92554326 1844.02150617 2201.33731816  856.70749931\n",
      " 1438.26809273 2228.86784671 2477.33514706  653.051958   3140.7594074\n",
      " 2227.64729731 1252.57463902  734.63429097 3898.2417842   977.35114674\n",
      " 3785.46687748 1983.99075134 2487.8706259   759.78611165 4921.47762574\n",
      " 4834.86756633 4640.29386434 3457.02617696 2102.08639952 1554.25404167\n",
      " 3666.67279874 1108.81068838 3283.41113778 2795.22260933 3226.91527368\n",
      "   98.64286315 3223.3867635   386.01590331 4012.4558339  1897.35399768\n",
      " 2187.82151601 2011.98761728 2250.47839756  946.11483802  398.31792173\n",
      " 1825.60720034 2630.23688311 2322.95385606  435.75832745 1984.28750158\n",
      " 1917.91932519 2282.84523685 2359.98016252 1707.31551112 1203.28512215\n",
      " 4039.45268184 4025.32663366 3627.61755353 2552.25897669 1272.55667308\n",
      "  399.47534183 2511.01617099  173.92416533 2571.84323284 1641.89877649\n",
      " 2092.50081819  284.32150181 2067.61487715  514.31993891 3220.68470704\n",
      "   52.10211776  598.91715897 1091.22248654 2426.66064186 3558.85045613\n",
      " 2690.80435602 4243.60147946 1367.17003752 2768.73744838 2258.8988773\n",
      " 4605.56677473 2791.68386711 4173.62144517  604.9410887   989.50749036\n",
      " 1119.45777129 2371.32427733 3614.91748511 2973.89912385 4280.89891107\n",
      " 1180.82166642 2947.55954141 2474.78302565 4552.99709321 3025.73397167\n",
      " 4069.53443555  426.55359443  913.44073339 2195.4083547  3019.22793345\n",
      " 1772.91971879 3719.40739461 1570.8287855  2021.94829741 1467.44876017\n",
      " 4258.43920474 1946.22074018 3953.05395582 1024.46683787  960.36214229\n",
      " 2100.61121554 1797.81709792 2772.72257085  393.43533196 1523.66439476\n",
      " 1152.08345698 3124.29799492 1708.94209282 2728.01346227  416.02765344\n",
      " 1055.01088325 2003.74741536 1614.38547591  911.20405027 1261.39418831\n",
      " 1316.69612219 1788.3026209  1675.78341704 1374.04632726 1558.0151035\n",
      " 1719.31582403  304.17946609 2320.2451047   860.43890296 1347.89717478\n",
      " 1070.9824504  1275.13088321 1213.93323847 2854.7674161  2307.56026342\n",
      " 2512.25709655  486.97320488  317.37813715 3186.222633     48.50209809\n",
      " 3226.38007906 2538.91817336 2917.41934625 1497.48892196 2019.44830913\n",
      "  620.44128682 1867.23100067 1062.34767264 3502.92460926 2081.5794681\n",
      " 1823.79141652 3036.69136183 2354.71675387 2509.3497645   373.36405251\n",
      "  168.56380333 2320.88919338   62.25424846 2343.78622548 2333.89541381\n",
      " 2771.15853746  165.13458757 2697.39572413 1935.79399966 2742.10615855\n",
      "  322.61200317 3735.07453806 2796.18767867 2496.69397886 3247.11305866]\n"
     ]
    }
   ],
   "source": [
    "def checkTurbSpacing(x0, turb_diam):\n",
    "    testCoordMat = makeCoordMatrix(x0)           # make [[x1,y1],[x2,y2],...]\n",
    "\n",
    "    cTurbSpace = ssd.pdist(testCoordMat, metric='euclidean') # Get the distance between each turbine\n",
    "    constraints = cTurbSpace - (2*turb_diam)                 # Constrain that the turbines are less than 2 diams apart\n",
    "    return constraints  # Negative if ok, positive if too close\n",
    "\n",
    "#-- Validation --#\n",
    "x0 = makeCoordArray(turbRandoList)                # get it into a long array of [x1,y1,x2,y2,...]\n",
    "consTurbSpacing = checkTurbSpacing(x0, turb_diam)\n",
    "print(consTurbSpacing)\n"
   ]
  },
  {
   "cell_type": "markdown",
   "metadata": {},
   "source": [
    "I figured out how to randomize the starting coordinates of the turbines:"
   ]
  },
  {
   "cell_type": "markdown",
   "metadata": {},
   "source": [
    "`0050.27.Feb.20`\n",
    "\n",
    "Actually had to rework that since it was having a spacing issue and generating turbines which violated the spacing constraint. I also made the check of `getUpDownYvals()` a seperate function for use elsewhere. Though it took an hour, I finally got that sorted out."
   ]
  },
  {
   "cell_type": "markdown",
   "metadata": {},
   "source": [
    "### Boundary Constraints\n",
    "`2340.26.Feb.20`"
   ]
  },
  {
   "cell_type": "markdown",
   "metadata": {},
   "source": [
    "Now I have to do the boundary constraints.\n",
    "\n",
    "Though it might be the sleep deprevation talking but I think that, like the random start function, I may only need to figure out which spline the turbine's x-coord falls under and over, and then it'll be easy to determine if it's in or out. I don't see how a gradient based optimizer will have difficulty with this, unless the boundary involves non-injective functions, which cs3 scenario does not."
   ]
  },
  {
   "cell_type": "code",
   "execution_count": 163,
   "metadata": {},
   "outputs": [
    {
     "name": "stdout",
     "output_type": "stream",
     "text": [
      "[1.46790111e+03 2.79759889e+03 2.24299494e+02 5.42665055e+03\n",
      " 1.17149458e+03 3.09400542e+03 2.26766473e+03 3.54698436e+03\n",
      " 1.85290454e+03 2.41259546e+03 5.03242612e+03 4.31718372e+02\n",
      " 2.52724059e+03 1.73825941e+03 2.70027104e+03 1.31714093e+03\n",
      " 7.04775444e+02 3.56072456e+03 4.00311285e+02 3.02414785e+03\n",
      " 8.34247793e+02 3.43125221e+03 3.28064686e+03 7.99153659e+02\n",
      " 2.48457769e+03 1.78092231e+03 3.92396251e+03 1.92050639e+02\n",
      " 3.55322686e+03 7.12273140e+02 1.48948026e+03 1.56703631e+02\n",
      " 2.12470382e+03 2.14079618e+03 2.40991114e+03 2.53782503e+03\n",
      " 3.63556278e+03 6.29937221e+02 9.86675447e+02 4.69216187e+02\n",
      " 1.54280494e+02 4.11121951e+03 1.67036612e+02 7.30515994e+02\n",
      " 2.63072346e+03 1.63477654e+03 2.09665703e+03 1.68158850e+03\n",
      " 3.79316459e+03 4.72335405e+02 4.03726711e+02 6.87920428e+02\n",
      " 3.38311352e+03 8.82386480e+02 6.98198997e+02 1.34114564e+03\n",
      " 4.12847804e+03 1.37021961e+02 3.15858856e+02 8.22108045e-01\n",
      " 4.03528744e+02 3.86197126e+03 1.04978963e+03 1.02590529e+03\n",
      " 1.13998611e+03 3.12551389e+03 1.79585254e+03 4.04203867e+03\n",
      " 1.91359534e+03 2.35190466e+03 2.23303548e+03 3.20260289e+03\n",
      " 1.46390690e+03 2.80159310e+03 4.27970797e+03 1.37323382e+03\n",
      " 1.40787815e+03 2.85762185e+03 4.93796690e+03 7.42913974e+02\n",
      " 1.81293090e+03 2.45256910e+03 3.20466625e+03 2.27813782e+03\n",
      " 2.87930024e+03 1.38619976e+03 3.73036951e+02 2.83070553e+03\n",
      " 1.33325965e+02 4.13217403e+03 5.87070583e+02 1.88575546e+02\n",
      " 2.93977029e+03 1.32572971e+03 2.13134832e+03 9.32637624e+02\n",
      " 2.48301630e+03 1.78248370e+03 4.90650729e+02 3.62897108e+03]\n"
     ]
    }
   ],
   "source": [
    "def checkBndryCons(x0, splineList, vertexList, bndryPts):\n",
    "    turbList = makeCoordStruct(x0)\n",
    "\n",
    "    # Check to make sure our poits are in\n",
    "    bndryCons = np.zeros(numTurbs*4)   # four values (two x and two y) for every turbine\n",
    "    xmin = bndryPts[vertexList[2]].x   # Our minimum x-value\n",
    "    xmax = bndryPts[vertexList[0]].x   # our maximum x-value\n",
    "    \n",
    "    # For every turbine\n",
    "    for i in range(numTurbs):\n",
    "        #- Check x-vals\n",
    "        bndryCons[4*i] = (xmax - turbList[i].x)   # Positive good, neg bad\n",
    "        bndryCons[4*i+1] = (turbList[i].x - xmin) # pos good, neg bad\n",
    "        \n",
    "        #- Check y-vals\n",
    "        ymin,ymax = getUpDwnYvals(turbList[i].x, splineList, vertexList, bndryPts)\n",
    "        bndryCons[4*i+2] = (ymax - turbList[i].y)\n",
    "        bndryCons[4*i+3] = (turbList[i].y - ymin)\n",
    "            \n",
    "    return bndryCons\n",
    "\n",
    "#- Test check -#\n",
    "x0 = makeCoordArray(turbRandoList)\n",
    "#x0 = res.x\n",
    "bBndryCons = checkBndryCons(x0, splineList, vertexList, bndryPts)\n",
    "print(bBndryCons) # Should all be positive"
   ]
  },
  {
   "cell_type": "markdown",
   "metadata": {},
   "source": [
    "`0122.26.Feb.20`\n",
    "\n",
    "It seems both the boundary and spacing constraints are complete, being `<=0` if they are valid, and `>0` if they are invalid. Now I need to code up the actual optimization."
   ]
  },
  {
   "cell_type": "markdown",
   "metadata": {},
   "source": [
    "### Optimization Code"
   ]
  },
  {
   "cell_type": "markdown",
   "metadata": {},
   "source": [
    "\"Main\" function:\n",
    "\n",
    "`1130.27.Feb.20`\n",
    "\n",
    "After discussion at lab meeting, the boundary constraints need to be non-binary. It's not giving the optimizer any gradients to work with."
   ]
  },
  {
   "cell_type": "code",
   "execution_count": 205,
   "metadata": {},
   "outputs": [
    {
     "name": "stdout",
     "output_type": "stream",
     "text": [
      "-9.73917812734508\n",
      "Optimization terminated successfully.    (Exit mode 0)\n",
      "            Current function value: -10.216052284892044\n",
      "            Iterations: 52\n",
      "            Function evaluations: 2761\n",
      "            Gradient evaluations: 52\n"
     ]
    }
   ],
   "source": [
    "fn = \"iea37-ex-opt3.yaml\"\n",
    "turb_coords, fname_turb, fname_wr = getTurbLocYAML(fn)\n",
    "wind_dir, wind_dir_freq, wind_speeds, wind_speed_probs, num_speed_bins, min_speed, max_speed = getWindRoseYAML(fname_wr)\n",
    "turb_ci, turb_co, rated_ws, rated_pwr, turb_diam = getTurbAtrbtYAML(fname_turb)\n",
    "#test = makeFirstCoordStruct(turb_coords)     # Strip it from the .yaml\n",
    "#x0 = makeCoordArray(test)                    # get it into a long array of [x1,y1,x2,y2,...]\n",
    "#testCoordMat = makeCoordMatrix(x0)           # make [[x1,y1],[x2,y2],...]\n",
    "x0 = makeCoordArray(turbRandoList)/scaleTurbCoord\n",
    "startAEP = optimoFun(x0, Args)\n",
    "print(startAEP)\n",
    "\n",
    "#-- Setup the optimization --#\n",
    "#- args in the correct format -#\n",
    "Args = optimoMakeArgTuples(wind_dir_freq, wind_speeds, wind_speed_probs, wind_dir, turb_diam, turb_ci, turb_co, rated_ws, rated_pwr)\n",
    "#- Constraints in the correct format -#\n",
    "#bBndryCons = checkBndryCons(x0, splineList, vertexList, bndryPts)\n",
    "#consTurbSpacing = checkTurbSpacing(x0, turb_diam)\n",
    "cons = ({'type': 'ineq', 'fun': lambda x:  checkBndryCons(x*scaleTurbCoord, splineList, vertexList, bndryPts)},{'type': 'ineq', 'fun': lambda x: checkTurbSpacing(x*scaleTurbCoord, turb_diam)})\n",
    "res = minimize(optimoFun, x0, args=Args, method='SLSQP', constraints=cons, options={'disp': True,'maxiter':1000})\n"
   ]
  },
  {
   "cell_type": "code",
   "execution_count": 206,
   "metadata": {},
   "outputs": [
    {
     "name": "stdout",
     "output_type": "stream",
     "text": [
      "[ 6117.00606815 10363.8         7069.18999838  7475.24942745\n",
      "  6602.43514728  6565.538907    7722.27317691  8947.68648022\n",
      "  9983.89648741  8592.48067542  9414.11859132  9993.75786795\n",
      "  8974.3964913   9106.21797188  8607.78965868  9893.04597135\n",
      "  6908.59319501  8847.73415213  9625.01683116  7818.05005635\n",
      "  8319.42393156  7634.51695318  7370.60100717  9733.84878879\n",
      "  9361.26606671  3322.61480527  6490.3         3644.71932966\n",
      "  5146.19511141  3040.81618141  3799.48930596  3748.73744801\n",
      "  2390.7174995   4458.78664276   881.73707724  1238.79167421\n",
      "  4951.03965396  4334.41847433   649.16653528  6303.20192542\n",
      "  4038.22312224  2512.67645367  4745.08359597  5596.36188254\n",
      "  1885.9243547   1398.16860483  3559.4489361   5005.69392874\n",
      "  3121.67018322   137.19294606]\n",
      "-10.650413978710757\n"
     ]
    },
    {
     "data": {
      "image/png": "[encoded data removed]",
      "text/plain": [
       "<Figure size 720x720 with 1 Axes>"
      ]
     },
     "metadata": {
      "needs_background": "light"
     },
     "output_type": "display_data"
    }
   ],
   "source": [
    "finalTurbLoc = makeCoordStruct(res.x*scaleTurbCoord)\n",
    "\n",
    "#-- Plot the boundary --#\n",
    "for i in range(numSides):\n",
    "    plt.hold = True\n",
    "    printBoundaryArray(segCoordList[i].x, splineList[i](segCoordList[i].x), displaySize, 5)\n",
    "\n",
    "#-- Plot the turbine locations --#\n",
    "printTurbines(finalTurbLoc, getPltClrs().getColor(1), turb_diam/2)\n",
    "#plt.plot(finalTurbLoc.x, finalTurbLoc.y, 'o', color=(getPltClrs().getColor(1)))\n",
    "\n",
    "print(res.x)\n",
    "print(optimoFun(res.x, Args))"
   ]
  },
  {
   "cell_type": "markdown",
   "metadata": {},
   "source": [
    "Another try:"
   ]
  },
  {
   "cell_type": "code",
   "execution_count": 207,
   "metadata": {
    "code_folding": [
     0
    ]
   },
   "outputs": [
    {
     "data": {
      "image/png": "[encoded data removed]",
      "text/plain": [
       "<Figure size 720x720 with 1 Axes>"
      ]
     },
     "metadata": {
      "needs_background": "light"
     },
     "output_type": "display_data"
    }
   ],
   "source": [
    "#- Test check -#\n",
    "#-- Plot the boundary --#\n",
    "for i in range(numSides):\n",
    "    plt.hold = True\n",
    "    printBoundaryArray(segCoordList[i].x, splineList[i](segCoordList[i].x), displaySize, 5)\n",
    "\n",
    "#-- Plot the turbine locations --#\n",
    "printTurbines(turbRandoList, getPltClrs().getColor(1), turb_diam/2)"
   ]
  },
  {
   "cell_type": "code",
   "execution_count": 212,
   "metadata": {
    "code_folding": [
     0
    ]
   },
   "outputs": [
    {
     "name": "stdout",
     "output_type": "stream",
     "text": [
      "-10.650319260075621\n"
     ]
    },
    {
     "data": {
      "image/png": "[encoded data removed]",
      "text/plain": [
       "<Figure size 720x720 with 1 Axes>"
      ]
     },
     "metadata": {
      "needs_background": "light"
     },
     "output_type": "display_data"
    }
   ],
   "source": [
    "#- Test check -#\n",
    "#-- Plot the boundary --#\n",
    "for i in range(numSides):\n",
    "    plt.hold = True\n",
    "    printBoundaryArray(segCoordList[i].x, splineList[i](segCoordList[i].x), displaySize, 5)\n",
    "\n",
    "#-- Plot the turbine locations --#\n",
    "test = makeFirstCoordStruct(turb_coords)     # Strip it from the .yaml\n",
    "test1 = makeCoordArray(test)\n",
    "printTurbines(test, getPltClrs().getColor(1), turb_diam/2)\n",
    "print(optimoFun(test1, Args))"
   ]
  },
  {
   "cell_type": "markdown",
   "metadata": {},
   "source": [
    "`1000.02.Mar.201`\n",
    "\n",
    "I've gotten it working well enough, I'm going to close this notebook, move everything over to a standalone python file, and try and optimize it from there."
   ]
  },
  {
   "cell_type": "markdown",
   "metadata": {},
   "source": []
  }
 ],
 "metadata": {
  "kernelspec": {
   "display_name": "Python 3",
   "language": "python",
   "name": "python3"
  },
  "language_info": {
   "codemirror_mode": {
    "name": "ipython",
    "version": 3
   },
   "file_extension": ".py",
   "mimetype": "text/x-python",
   "name": "python",
   "nbconvert_exporter": "python",
   "pygments_lexer": "ipython3",
   "version": "3.6.8"
  }
 },
 "nbformat": 4,
 "nbformat_minor": 2
}
