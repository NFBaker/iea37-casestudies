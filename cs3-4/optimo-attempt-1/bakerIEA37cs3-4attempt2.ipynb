{
 "cells": [
  {
   "cell_type": "markdown",
   "metadata": {
    "heading_collapsed": true
   },
   "source": [
    "# Notebook Explanation"
   ]
  },
  {
   "cell_type": "markdown",
   "metadata": {
    "hidden": true
   },
   "source": [
    "This is Nick Baker's second attempt at case studies 3 & 4 of the IEA competition. The first attempt was done in Julia, and is incomplete. Only recoding of the target function was completed, no optimization. This attempt will be completed in Python, using PyOptSparse, and Jared Thomas's [WEC method](http://scholarsarchive.byu.edu/cgi/viewcontent.cgi?article=2988&context=facpub) presented in a paper on the subject."
   ]
  },
  {
   "cell_type": "markdown",
   "metadata": {},
   "source": [
    "# Options to Approach the Problem"
   ]
  },
  {
   "cell_type": "markdown",
   "metadata": {},
   "source": []
  }
 ],
 "metadata": {
  "kernelspec": {
   "display_name": "Python 3",
   "language": "python",
   "name": "python3"
  },
  "language_info": {
   "codemirror_mode": {
    "name": "ipython",
    "version": 3
   },
   "file_extension": ".py",
   "mimetype": "text/x-python",
   "name": "python",
   "nbconvert_exporter": "python",
   "pygments_lexer": "ipython3",
   "version": "3.6.8"
  }
 },
 "nbformat": 4,
 "nbformat_minor": 2
}
