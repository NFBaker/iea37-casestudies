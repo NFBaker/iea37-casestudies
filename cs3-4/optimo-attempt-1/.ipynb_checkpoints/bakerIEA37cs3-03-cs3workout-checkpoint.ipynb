{
 "cells": [
  {
   "cell_type": "markdown",
   "metadata": {},
   "source": [
    "# Case Study 3 workout (continued)\n",
    "The actual coding of the optimization"
   ]
  },
  {
   "cell_type": "markdown",
   "metadata": {
    "heading_collapsed": true
   },
   "source": [
    "### Repeat of code from previous notebook.\n",
    "`2000.22.Nov.19`"
   ]
  },
  {
   "cell_type": "code",
   "execution_count": 1,
   "metadata": {
    "hidden": true
   },
   "outputs": [],
   "source": [
    "# Run the code written in notebook 02\n",
    "%run 'baker-cs34-functions.py'"
   ]
  },
  {
   "cell_type": "code",
   "execution_count": 2,
   "metadata": {
    "code_folding": [],
    "hidden": true
   },
   "outputs": [],
   "source": [
    "#- Rip the boundary coordinates from the .yaml file -#\n",
    "fn = \"iea37-boundary-cs3.yaml\"\n",
    "bndryPts = getTurbAtrbtYAML(fn)\n",
    "#print(bndryPts)"
   ]
  },
  {
   "cell_type": "markdown",
   "metadata": {},
   "source": [
    "### Interpolating and visualizing the grids\n",
    "`1549.05.Dec.19`"
   ]
  },
  {
   "cell_type": "markdown",
   "metadata": {},
   "source": [
    "This time we need to save the formulas created.\n",
    "\n",
    "I'm having difficulty finding how to make an `np.recarray()` of the correct `interp1d` data type, so I can initialize an empty array to hold the ones that are created.\n",
    "\n",
    "Though I did figure out how to save all the helper functions in a separate file and use `%run` so they would be here referenced, instead of copy/pasting the entire thing\n",
    "\n",
    "FINALLY figured it out initializing the array with `np.empty(numSides, interp1d)` with is of `NoneType`\n",
    "`1746.05.Dec.19`"
   ]
  },
  {
   "cell_type": "code",
   "execution_count": 3,
   "metadata": {
    "code_folding": []
   },
   "outputs": [],
   "source": [
    "#-- Plot the boundary (modelled with splines) --#\n",
    "displaySize = np.recarray(1, coordinate)\n",
    "displaySize.x = 10\n",
    "displaySize.y = 10\n",
    "numDivs = 20\n",
    "numLinspace = 1000\n",
    "numGridLines = 30                   # How many gridlines we'll use for the visualization\n",
    "clsdBP = closeBndryList(bndryPts)\n",
    "vertexList = [0, 6, 8, 9, 18]       # Hard code the vertices (though this could be done algorithmically)\n",
    "numSides = len(vertexList) - 1      # The number of sides for our original coordinate system. Usually (4) to Euclidean, but could be any number)\n",
    "\n",
    "#-- Plot our space (with splines) --#\n",
    "splineList = np.empty(numSides, interp1d)                  # Init. array IOT save the Splines for each \"side\"\n",
    "xList = np.empty([numSides, numLinspace], np.float64)      # Init. array to hold the x-values of each discretized spline (for plotting)\n",
    "xGridList = np.empty([numSides, numGridLines], np.float64) # Init. array to hold the x-values of each discretized spline (for plotting)\n",
    "\n",
    "#- Create the splines for each side (<numSides> many)-#\n",
    "for i in range(numSides):\n",
    "    BndPts = clsdBP[vertexList[i]:(vertexList[i+1]+1)]      # Extract the points for the \"edge\" we want\n",
    "    BndrySegCoords = sliceBoundary(BndPts, numDivs)         # Reparameterize the boundry to be defined by <numDivs> many points\n",
    "    splineList[i] = interp1d(BndrySegCoords.x, BndrySegCoords.y, kind='linear')   # Make the spline using NumPy's <interp1d>\n",
    "    xList[i] = np.linspace(BndrySegCoords[0].x, BndrySegCoords[len(BndrySegCoords)-1].x, num=numLinspace, endpoint=True) # Record the correct x-values for later visualization\n",
    "    xGridList[i] = np.linspace(BndrySegCoords[0].x, BndrySegCoords[len(BndrySegCoords)-1].x, num=numGridLines, endpoint=True) # Record the correct x-values for later visualization"
   ]
  },
  {
   "cell_type": "code",
   "execution_count": 4,
   "metadata": {},
   "outputs": [
    {
     "data": {
      "image/png": "[encoded data removed]",
      "text/plain": [
       "<Figure size 720x720 with 1 Axes>"
      ]
     },
     "metadata": {
      "needs_background": "light"
     },
     "output_type": "display_data"
    }
   ],
   "source": [
    "#- Plot the splines -#\n",
    "for i in range(numSides):\n",
    "    plt.hold = True\n",
    "    printBoundaryArray(xList[i], splineList[i](xList[i]), displaySize)"
   ]
  },
  {
   "cell_type": "markdown",
   "metadata": {},
   "source": [
    "### Aside (thoughts on gridding)\n",
    "`1841.05.Dec.19`"
   ]
  },
  {
   "attachments": {},
   "cell_type": "markdown",
   "metadata": {},
   "source": [
    "Now I have to figure out how to grid it so it contours properly. Eduardo attempted this with a creative method, but I don't think it's completly accurate. The figure from his earlier referenced jupyter notebook is here included:\n",
    "<img src=\"figures/eduardo-grid.png\" alt=\"cs3 boundary with example turbine placement\" width=\"800\"/>\n",
    "As one can see, the center is quite strictly gridded, and the outtermost grid isn't contoured quite correctly. I'll have to figure out how to meld this a bit \"better\"\n",
    "\n",
    "Drawing it out on the markerboard, I want it to look like this:\n",
    "\n",
    "<img src=\"figures/translation.jpg\" alt=\"cs3 boundary with example turbine placement\" width=\"800\"/>\n",
    "\n",
    "Where the right grid is the Euclidean space, and the left object is the projected translation space. NOte that coordinates are normalized between zero and one.\n",
    "\n",
    "Also I just figured out how to properly insert an image into a Jupyter Notebook. `1816.05.Dec.19`"
   ]
  },
  {
   "cell_type": "markdown",
   "metadata": {},
   "source": [
    "### Interpolating and visualizing the grids (continued)\n",
    "`1843.05.Dec.19`"
   ]
  },
  {
   "cell_type": "markdown",
   "metadata": {},
   "source": [
    "First I'll need to sub-divide each splined side into say 30 points along each line, then plot all interpolated \"grid lines\" using those points as vertices."
   ]
  },
  {
   "cell_type": "code",
   "execution_count": 13,
   "metadata": {},
   "outputs": [
    {
     "name": "stdout",
     "output_type": "stream",
     "text": [
      "5000\n"
     ]
    }
   ],
   "source": [
    "# Create and plot the Euclidean space (normalized from 0 to 1)\n",
    "numGridLines = 5\n",
    "#vertLineArray = np.empty([numGridLines, gridLinspace], coordinate)\n",
    "\n",
    "vertLineArray = np.recarray([numGridLines,numLinspace], coordinate)\n",
    "horizLineArray = np.recarray([numGridLines,numLinspace], coordinate)\n",
    "\n",
    "xGridValsEuc = np.linspace(0, 1, numGridLines, endpoint=True)\n",
    "yGridValsEuc = np.linspace(0, 1, numGridLines, endpoint=True)\n",
    "gridLinspace = np.linspace(0, 1, numLinspace, endpoint=True)\n",
    "\n",
    "for i in range(numGridLines):        # Loop through all x-values\n",
    "    for k in range(numLinspace):        # Loop through all y-values in our linspace\n",
    "        vertLineArray[i][k].x = xGridValsEuc[i]\n",
    "        vertLineArray[i][k].y = gridLinspace[k]\n",
    "    plt.plot(vertLineArray[i].x,vertLineArray[i].y)\n",
    "\n",
    "for j in range(numGridLines):        # Loop through all x-values\n",
    "    for k in range(numLinspace):        # Loop through all y-values in our linspace\n",
    "        horizLineArray[j][k].x = yGridValsEuc[j]\n",
    "        horizLineArray[j][k].y = gridLinspace[k]\n",
    "    plt.plot(horizLineArray[i].x,horizLineArray[i].y)\n",
    "\n",
    "\n",
    "#    plt.plot(xGridValsEuc[x], gridLinspace)\n",
    "#    for y in range(numGridLines)    # Loop through all y-values\n",
    "        "
   ]
  },
  {
   "cell_type": "code",
   "execution_count": null,
   "metadata": {},
   "outputs": [],
   "source": [
    "# Use splines [0] and [2] map to the vertical euclidean boundaries, and [1] and [4] map to the horizontal euclidean boundaries\n",
    "\n",
    "for x in range(numGridLines)        # Loop through all x-values\n",
    "    for y in range(numGridLines)    # Loop through all y-values"
   ]
  },
  {
   "cell_type": "markdown",
   "metadata": {},
   "source": []
  },
  {
   "cell_type": "markdown",
   "metadata": {},
   "source": [
    "## Optimization of cs3"
   ]
  },
  {
   "cell_type": "markdown",
   "metadata": {},
   "source": []
  }
 ],
 "metadata": {
  "kernelspec": {
   "display_name": "Python 3",
   "language": "python",
   "name": "python3"
  },
  "language_info": {
   "codemirror_mode": {
    "name": "ipython",
    "version": 3
   },
   "file_extension": ".py",
   "mimetype": "text/x-python",
   "name": "python",
   "nbconvert_exporter": "python",
   "pygments_lexer": "ipython3",
   "version": "3.6.8"
  }
 },
 "nbformat": 4,
 "nbformat_minor": 2
}
