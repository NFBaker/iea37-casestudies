{
 "cells": [
  {
   "cell_type": "markdown",
   "metadata": {},
   "source": [
    "# Case Study 3 workout\n",
    "The actual coding of the optimization"
   ]
  },
  {
   "cell_type": "markdown",
   "metadata": {},
   "source": [
    "## Mapping of Cartesian Grid to cs3 Boundary"
   ]
  },
  {
   "cell_type": "markdown",
   "metadata": {},
   "source": [
    "### Read in boundary and select vertex points\n",
    "`1015.22.Nov.19`"
   ]
  },
  {
   "cell_type": "markdown",
   "metadata": {},
   "source": [
    "For area 3a (the only portion used in cs3), verticies were selected as the four \"corners\". I forsee the upper boundary giving the greatest difficulty.\n",
    "<img src=\"figures/cs3boundaryvertices.png\" alt=\"cs3 boundary with example turbine placement\" width=\"400\"/>\n",
    "I'll attempt with the right side boundary first (circled in green) since it's relatively simple.\n",
    "1. Make points along the arclength\n",
    "2. Spline the points\n",
    "3. (test) one segment to the left, to make sure it follows generally the curve."
   ]
  },
  {
   "cell_type": "code",
   "execution_count": 1,
   "metadata": {
    "code_folding": [
     0
    ]
   },
   "outputs": [],
   "source": [
    "#-- Necessary Headers --#\n",
    "from __future__ import print_function   # For Python 3 compatibility\n",
    "from scipy.interpolate import interp1d\n",
    "import matplotlib.pyplot as plt\n",
    "import numpy as np\n",
    "import sys\n",
    "import yaml                             # For reading .yaml files\n",
    "from math import radians as DegToRad    # For converting degrees to radians\n",
    "from math import log as ln              # For natural logrithm\n",
    "\n",
    "# Structured datatype for holding coordinate pair\n",
    "coordinate = np.dtype([('x', 'f8'), ('y', 'f8')])"
   ]
  },
  {
   "cell_type": "code",
   "execution_count": 2,
   "metadata": {
    "code_folding": [
     0
    ]
   },
   "outputs": [],
   "source": [
    "#-- Helper Functions --#\n",
    "def getTurbAtrbtYAML(file_name):   # Read in boundary (originally written in MATLAB, needed to be translated)\n",
    "    '''Retreive boundary coordinates from the <.yaml> file'''\n",
    "    # Read in the .yaml file\n",
    "    with open(file_name, 'r') as f:\n",
    "        ptList = yaml.safe_load(f)['boundaries']['IIIa']\n",
    "\n",
    "    # (Convert from <list> to <coordinate> array)\n",
    "    numCoords = len(ptList)                         # Determine how many points we have for the boundary\n",
    "    coordList = np.recarray(numCoords, coordinate)  # Initialize the point list array \n",
    "    for i in range(numCoords):\n",
    "        coordList[i].x = float(ptList[i][0])\n",
    "        coordList[i].y = float(ptList[i][1])\n",
    "\n",
    "    return coordList"
   ]
  },
  {
   "cell_type": "code",
   "execution_count": 3,
   "metadata": {
    "code_folding": []
   },
   "outputs": [
    {
     "name": "stdout",
     "output_type": "stream",
     "text": [
      "[(10363.8, 6490.3) ( 9449.7, 1602.2) ( 9387. , 1056.6) ( 9365.1,  625.5)\n",
      " ( 9360.8,  360.2) ( 9361.5,  126.9) ( 9361.3,  137.1) ( 7997.6, 1457.9)\n",
      " ( 6098.3, 3297.5) ( 8450.3, 6455.3) ( 8505.4, 6422.3) ( 9133. , 6127.4)\n",
      " ( 9332.8, 6072.6) ( 9544.2, 6087.1) ( 9739. , 6171.2) ( 9894.9, 6316.9)\n",
      " (10071.8, 6552.5) (10106.9, 6611.1)]\n"
     ]
    }
   ],
   "source": [
    "#- Rip the boundary coordinates from the .yaml file -#\n",
    "fn = \"iea37-boundary-cs3.yaml\"\n",
    "bndryPts = getTurbAtrbtYAML(fn)\n",
    "print(bndryPts)"
   ]
  },
  {
   "cell_type": "code",
   "execution_count": 4,
   "metadata": {
    "code_folding": []
   },
   "outputs": [],
   "source": [
    "#- Hard code the vertex selection -#\n",
    "vertexList = [0, 6, 8, 9] # top right, bottom right, bottom left, top left"
   ]
  },
  {
   "cell_type": "code",
   "execution_count": 5,
   "metadata": {
    "code_folding": []
   },
   "outputs": [
    {
     "data": {
      "image/png": "[encoded data removed]",
      "text/plain": [
       "<Figure size 432x360 with 1 Axes>"
      ]
     },
     "metadata": {
      "needs_background": "light"
     },
     "output_type": "display_data"
    }
   ],
   "source": [
    "#- Code for visualizing farm area -#\n",
    "def closeBndryList(bndryPts):\n",
    "    # Appends the first element to the end of an <np.ndarray> of type <coordinate> for closed boundary #\n",
    "    numCoords = len(bndryPts)                           # Determine how many points we have for the boundary\n",
    "    coordList = np.recarray((numCoords+1), coordinate)  # Initialize the point list array \n",
    "    for i in range(numCoords):\n",
    "        coordList[i].x = float(bndryPts[i].x)\n",
    "        coordList[i].y = float(bndryPts[i].y)\n",
    "\n",
    "    coordList[i+1].x = bndryPts[0].x\n",
    "    coordList[i+1].y = bndryPts[0].y\n",
    "    \n",
    "    return coordList\n",
    "\n",
    "def printBoundary(bndryPts, size):\n",
    "    #-- Print the windfarm boundary. bndryPts must be <np.ndarray> of type <coordinate>    \n",
    "    plt.plot(bndryPts.x, bndryPts.y)\n",
    "    #plt.xlim(coordList.x.min(), coordList.x.max()) # scales the x-axis to only include the boundary\n",
    "    plt.axis('scaled')                      # Trim the white space\n",
    "    plt.axis('off')                         # Turn off the framing\n",
    "    plt.gcf().set_size_inches(size.x, size.y)   # Make it big and readable\n",
    "    \n",
    "def printBoundaryArray(bndryPtsX, bndryPtsY, size):\n",
    "    #-- Print the windfarm boundary. bndryPts must be <np.ndarray> of type <coordinate>    \n",
    "    plt.plot(bndryPtsX, bndryPtsY)\n",
    "    plt.axis('scaled')                      # Trim the white space\n",
    "    plt.axis('off')                         # Turn off the framing\n",
    "    plt.gcf().set_size_inches(size.x, size.y)   # Make it big and readable\n",
    "\n",
    "\n",
    "def printVerticies(coordList, vertList, colorName):\n",
    "    plt.hold = True\n",
    "    plt.plot(coordList[vertList].x, coordList[vertList].y,'o', color = colorName)\n",
    "    \n",
    "coordList = closeBndryList(bndryPts)    # Duplicate the first coordinate for a closed boundary\n",
    "displaySize = np.recarray(1, coordinate)\n",
    "displaySize.x = 6\n",
    "displaySize.y = 5\n",
    "printBoundary(coordList,displaySize)\n",
    "printVerticies(coordList, vertexList, 'black')\n",
    "plt.show()"
   ]
  },
  {
   "cell_type": "markdown",
   "metadata": {},
   "source": [
    "### Making the arclength partitions\n",
    "`1304.22.Nov.19`"
   ]
  },
  {
   "cell_type": "code",
   "execution_count": 6,
   "metadata": {
    "code_folding": []
   },
   "outputs": [
    {
     "name": "stdout",
     "output_type": "stream",
     "text": [
      "The segment we're looking at:\n"
     ]
    },
    {
     "data": {
      "image/png": "[encoded data removed]",
      "text/plain": [
       "<Figure size 432x360 with 1 Axes>"
      ]
     },
     "metadata": {
      "needs_background": "light"
     },
     "output_type": "display_data"
    }
   ],
   "source": [
    "#-- Pull right side, all points between indicies 0 and 6 --#\n",
    "rsBndry = bndryPts[vertexList[0]:vertexList[1]]\n",
    "print(\"The segment we're looking at:\")\n",
    "displaySize.y = 5\n",
    "printBoundary(rsBndry, displaySize) # for debug\n",
    "\n",
    "def coordDist(pt0, pt1):\n",
    "    # Returns the euclidean distance between two <coordinate> points\n",
    "    xDiff = pt0.x - pt1.x\n",
    "    yDiff = pt0.y - pt1.y\n",
    "    return np.sqrt(xDiff**2 + yDiff**2)\n",
    "\n",
    "def getArcLength(coordList):\n",
    "    # Returns the total distance of a given <np.ndarray> of <coordinate> type\n",
    "    numCoordPairs = len(coordList)-1\n",
    "    totDist = 0                   # Initialize to zero\n",
    "    for i in range(numCoordPairs): # Go through all the point pairs\n",
    "        totDist = totDist + coordDist(coordList[i], coordList[i+1])\n",
    "\n",
    "    return totDist"
   ]
  },
  {
   "cell_type": "code",
   "execution_count": 7,
   "metadata": {
    "code_folding": [
     0
    ]
   },
   "outputs": [
    {
     "name": "stdout",
     "output_type": "stream",
     "text": [
      "Check: We expect arclength to be lightly longer\n",
      "Total arc length: 6452.318959803356\n",
      "1st to last pt length: 6431.808181996723\n"
     ]
    }
   ],
   "source": [
    "# Test that arclength function is working\n",
    "print(\"Check: We expect arclength to be lightly longer\")\n",
    "print(\"Total arc length:\", getArcLength(rsBndry))\n",
    "print(\"1st to last pt length:\",coordDist(bndryPts[0], bndryPts[6]))"
   ]
  },
  {
   "cell_type": "code",
   "execution_count": 8,
   "metadata": {
    "code_folding": [
     0,
     12
    ]
   },
   "outputs": [],
   "source": [
    "def findNewPtOnLine(pt0,pt1,dist):\n",
    "    # Given (x0,y0) and (x1,y1), finds (x2,y2) a distance dist from (x0,y0)\n",
    "    # along line defined by (x0,y0) and (x1,y1).\n",
    "    # https://math.stackexchange.com/questions/175896/finding-a-point-along-a-line-a-certain-distance-away-from-another-point\n",
    "    newPt = np.recarray(1, coordinate)\n",
    "    distTot = abs(coordDist(pt0,pt1))\n",
    "    t = dist/distTot;\n",
    "    newPt.x = ((1-t)*pt0.x) + t*pt1.x;\n",
    "    newPt.y = ((1-t)*pt0.y) + t*pt1.y;\n",
    "    \n",
    "    return newPt\n",
    "\n",
    "def sliceBoundary(totCoordList, numDivs):\n",
    "    # Given a set of <coordinate> on a line (or boundary), and number of divisions,\n",
    "    # This will return a set of pts that have sliced that line <numDivs> many times.\n",
    "    # TERMINOLOGY: 'Segment' slice of boundary line, 'Leg' means portion of boundary we're on\n",
    "    tol = 1e-6  # Tolerance for reaching the end of the line\n",
    "    segCoordList = np.recarray(numDivs+1, coordinate)  # Initialize slice list (extra spot for starting point)\n",
    "    rsArcLen = getArcLength(totCoordList)    # Get total edge length\n",
    "    rsSegmentLen = rsArcLen/numDivs          # The length of each subdivided segment.\n",
    "\n",
    "    # Traverse along the edge, marking where a segment ends\n",
    "    distNeeded = rsSegmentLen # Distance remaining till next marker\n",
    "    distRemain = distNeeded   # Distance remaining until segment ends\n",
    "    segCoordList[0] = totCoordList[0] # Don't forget the first point.\n",
    "    cntrLeg = 0               # Start at the first leg\n",
    "    #-- Traverse and place --#\n",
    "    leftPt = totCoordList[0]\n",
    "    rightPt = totCoordList[1]\n",
    "    distRemLeg = abs(coordDist(leftPt, rightPt))\n",
    "    # Loop through all portions, marking as we go\n",
    "    for cntrSeg in range(numDivs):\n",
    "        while(distRemLeg < distRemain):             # If the remainder of our segment is smaller than we need\n",
    "            if (abs(distRemain - distRemLeg) > tol):\n",
    "                distRemain = distRemain - distRemLeg    # Take out that much distance\n",
    "                cntrLeg = cntrLeg + 1                   # Move to the next leg\n",
    "                leftPt = totCoordList[cntrLeg]          # Move our left point\n",
    "                rightPt = totCoordList[cntrLeg+1]\n",
    "                distRemLeg = abs(coordDist(leftPt, rightPt))\n",
    "            else:                                       # If rounding error makes us go past our line\n",
    "                break\n",
    "\n",
    "        segCoordList[cntrSeg+1] = findNewPtOnLine(leftPt,rightPt,distRemain)\n",
    "        leftPt = segCoordList[cntrSeg+1]\n",
    "        distRemLeg = distRemLeg - distRemain;       # Take out how much we used\n",
    "        distRemain = distNeeded;                    # Reset how much we need\n",
    "\n",
    "    return segCoordList"
   ]
  },
  {
   "cell_type": "code",
   "execution_count": 9,
   "metadata": {},
   "outputs": [
    {
     "data": {
      "image/png": "[encoded data removed]",
      "text/plain": [
       "<Figure size 432x360 with 1 Axes>"
      ]
     },
     "metadata": {
      "needs_background": "light"
     },
     "output_type": "display_data"
    }
   ],
   "source": [
    "#---- Visualize with 10 slices ----#\n",
    "displaySize.y = 5\n",
    "numDivs = 10# Arbitrary, but we'll go with 100 slices.\n",
    "rightBndrySegCoords = sliceBoundary(rsBndry, numDivs)\n",
    "\n",
    "printBoundary(rsBndry, displaySize)\n",
    "printVerticies(rightBndrySegCoords, list(range(numDivs+1)), 'red')"
   ]
  },
  {
   "cell_type": "markdown",
   "metadata": {},
   "source": [
    "### Spline the boundaries\n",
    "`1805.22.Nov.19`"
   ]
  },
  {
   "cell_type": "code",
   "execution_count": 10,
   "metadata": {
    "code_folding": []
   },
   "outputs": [
    {
     "data": {
      "image/png": "[encoded data removed]",
      "text/plain": [
       "<Figure size 432x360 with 1 Axes>"
      ]
     },
     "metadata": {
      "needs_background": "light"
     },
     "output_type": "display_data"
    }
   ],
   "source": [
    "#- Spline the right side -#\n",
    "rsSpline = interp1d(rightBndrySegCoords.x, rightBndrySegCoords.y, kind='linear')\n",
    "xnew = np.linspace(rightBndrySegCoords[0].x, rightBndrySegCoords[len(rightBndrySegCoords)-1].x, num=1000, endpoint=True)\n",
    "\n",
    "printBoundaryArray(xnew, rsSpline(xnew), displaySize)"
   ]
  },
  {
   "cell_type": "code",
   "execution_count": 11,
   "metadata": {},
   "outputs": [],
   "source": [
    "displaySize.y = 10\n",
    "numDivs = 20\n",
    "clsdBP = closeBndryList(bndryPts)\n",
    "vertexList = [0, 6, 8, 9, 18]"
   ]
  },
  {
   "cell_type": "code",
   "execution_count": 12,
   "metadata": {},
   "outputs": [
    {
     "data": {
      "image/png": "[encoded data removed]",
      "text/plain": [
       "<Figure size 432x720 with 1 Axes>"
      ]
     },
     "metadata": {
      "needs_background": "light"
     },
     "output_type": "display_data"
    }
   ],
   "source": [
    "#-- Plot all the sides (no splines for comparison) --#\n",
    "for i in range(len(vertexList)-1):\n",
    "    BndPts = clsdBP[vertexList[i]:(vertexList[i+1]+1)]\n",
    "    plt.hold = True\n",
    "    printBoundary(BndPts, displaySize) # for debug"
   ]
  },
  {
   "cell_type": "code",
   "execution_count": 13,
   "metadata": {},
   "outputs": [
    {
     "data": {
      "image/png": "[encoded data removed]",
      "text/plain": [
       "<Figure size 432x720 with 1 Axes>"
      ]
     },
     "metadata": {
      "needs_background": "light"
     },
     "output_type": "display_data"
    }
   ],
   "source": [
    "#-- Plot all the sides (with splines) --#\n",
    "for i in range(len(vertexList)-1):\n",
    "    BndPts = clsdBP[vertexList[i]:(vertexList[i+1]+1)]\n",
    "    BndrySegCoords = sliceBoundary(BndPts, numDivs)\n",
    "    #printVerticies(BndrySegCoords, list(range(numDivs+1)), 'red')\n",
    "    Spline = interp1d(BndrySegCoords.x, BndrySegCoords.y, kind='linear')\n",
    "    xnew = np.linspace(BndrySegCoords[0].x, BndrySegCoords[len(BndrySegCoords)-1].x, num=1000, endpoint=True)\n",
    "    plt.hold = True\n",
    "    printBoundaryArray(xnew, Spline(xnew), displaySize)"
   ]
  },
  {
   "cell_type": "markdown",
   "metadata": {},
   "source": [
    "# Continued\n",
    "in bakerIEA37cs3-03-cs3workout"
   ]
  },
  {
   "cell_type": "markdown",
   "metadata": {},
   "source": [
    "This is where I'll need to compare to [Eduardo's](https://github.com/byuflowlab/wind-farm-utilities/blob/master/docs/geometry_processing.ipynb) method.\n",
    "\n",
    "I'm thinking I'll do 50 divisions per side, just to visualize. I'll have to experiment with getting the grids to look right.\n",
    "\n",
    "Also, don't forget to save the calculated lines (with correct endpoints) from the previous section."
   ]
  }
 ],
 "metadata": {
  "kernelspec": {
   "display_name": "Python 3",
   "language": "python",
   "name": "python3"
  },
  "language_info": {
   "codemirror_mode": {
    "name": "ipython",
    "version": 3
   },
   "file_extension": ".py",
   "mimetype": "text/x-python",
   "name": "python",
   "nbconvert_exporter": "python",
   "pygments_lexer": "ipython3",
   "version": "3.6.8"
  }
 },
 "nbformat": 4,
 "nbformat_minor": 2
}
