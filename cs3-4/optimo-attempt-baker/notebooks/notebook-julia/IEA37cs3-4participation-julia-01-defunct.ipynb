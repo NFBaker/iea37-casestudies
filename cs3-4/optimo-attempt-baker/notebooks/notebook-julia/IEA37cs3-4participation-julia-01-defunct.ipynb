{
 "cells": [
  {
   "cell_type": "markdown",
   "metadata": {},
   "source": [
    "# Checklist (ToDo)"
   ]
  },
  {
   "cell_type": "markdown",
   "metadata": {},
   "source": [
    "`08.June.20`\n",
    "\n",
    "Below is my master \"to do\" list, with dates as I complete each item."
   ]
  },
  {
   "cell_type": "markdown",
   "metadata": {},
   "source": [
    "I've definitely been slacking, took a few days off of work. Still have much to do.\n",
    "\n",
    "- [x] Write Boundary YAML Reader `1513.09.Jun.20`\n",
    "- [x] Close the boundary list for splining `1614.09.Jun.20`\n",
    "- [x] Augment the points so they're CCW `1630.09.Jun.20`\n",
    "- [x] Boundary Splines `10.Jun.20`\n",
    "- [x] boundary verticies `10.Jun.20`\n",
    "- [x] Boundary function `1432.11.Jun.20`\n",
    "-------------\n",
    "- [x] Verify output is correct `1400.16.Jun.20`\n",
    "- [x] Fit boundary function into FLOWFarm `1700.17.Jun.20`\n",
    "- [x] Write and pass unit tests (2) `1700.17.Jun.20`\n",
    "- [x] Change from appended matrix to a 1-D array (For AD calculation) `1700.06.Jul.20`\n",
    "- [x] Change from appended bndry_pts to a 1-D array (For AD calculation) `1037.07.Jul.20`\n",
    "-------------\n",
    "- [x] Setup base optimization `1700.06.Jul.20`\n",
    "- [x] Start optimization runs `1700.06.Jul.20`\n",
    "-------------\n",
    "- [x] Get `splined_boundary()` optimization running on the super computer `22.Jul.20`\n",
    "    - [x] (SNOPT wrapper working on super computer) - use documentation, PJ, Dr. Ning\n",
    "-------------\n",
    "- [x] Benchmark `splined_boundary()` jacobian call `1329.09.Jul.20`\n",
    "- [x] Benchmark `ray_trace()` jacobian call `1554.09.Jul.20`\n",
    "-------------\n",
    "- [ ] Implement WEC (`done by Jared 11.June.20`)\n",
    "    - [ ] Number of steps is 6, max WEC should be 3x\n",
    "- [ ] Run optimization (both boundary methods) with WEC/multi-start\n",
    "-------------\n",
    "- [x] Implement 'variable reduction' `22.Jul.20`\n",
    "    - [x] partial with just some stuck on the boundary, interior turbs optimized normally `22.Jul.20`\n",
    "    - [ ] 2nd piece is getting interior turbines var reduced (Grid)\n",
    "    - [x] Write function to check boundary spacing around corners `22.Jul.20`\n",
    "- [ ] Do a reduced windrose, save the turbine locations, analyze in the full windrose\n",
    "-------------\n",
    "-------------\n",
    "- [ ] Finish variable reduction w/splined boundary optimization\n",
    "    - [x] variable reduction random starts `1153.02.Aug.20`\n",
    "    - [x] write it to do all regions at once `1925.03.Aug.20`\n",
    "    - [x] do 100 random starts `1958.03.Aug.20`\n",
    "    - [ ] optimize over the 100, give him the best\n",
    "- [ ] Get some good initial layouts\n",
    "    - [ ] Finish variable reduction w/ VarRed interior (Major rows that rotate about their individual axes)\n",
    "    - [ ] Compare best of the 100 bvr-ipm optimizations\n",
    "- [ ] optimize the ray tracing code\n",
    "- [ ] Clean up your \"extras\" code\n",
    "-------------\n",
    "-------------\n",
    "- [ ] 'variable reduction' with discrete regions and concave boundary (conference paper?)\n",
    "-------------\n",
    "-------------\n",
    "- [ ] Change turbine apportionment to array with tags\n",
    "- [x] Correct AEP calculation code `done by Jared 11.June.20`\n",
    "-------------\n",
    "- [x] Write Turbine YAML Writer `Jared completed`\n",
    "- [x] Promulgate your turbine locations `2119.04.Aug.20`\n",
    "- [x] Check FlowFarm against Erik's model - bad numbers `done by Jared 11.June.20`\n",
    "--------------"
   ]
  },
  {
   "cell_type": "code",
   "execution_count": null,
   "metadata": {},
   "outputs": [],
   "source": []
  }
 ],
 "metadata": {
  "kernelspec": {
   "display_name": "Julia 1.4.2",
   "language": "julia",
   "name": "julia-1.4"
  },
  "language_info": {
   "file_extension": ".jl",
   "mimetype": "application/julia",
   "name": "julia",
   "version": "1.4.2"
  }
 },
 "nbformat": 4,
 "nbformat_minor": 2
}
