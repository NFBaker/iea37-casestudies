{
 "cells": [
  {
   "cell_type": "markdown",
   "metadata": {},
   "source": [
    "# FlowFarm Translation\n",
    "\n",
    "`0952.21.May.20`"
   ]
  },
  {
   "cell_type": "markdown",
   "metadata": {},
   "source": [
    "Though the BYU's IEA participation is rudimentarily completed with `scipy.minimize` and `SNOPT`, to enable supplying gradients to `SNOPT`, it had been decided to convert everything over to Julia and plug it into Jared and PJ's `FlowFarm.jl`.\n",
    "This Notebook is the workspace where I will code and test the code translations to make sure everything is working."
   ]
  },
  {
   "cell_type": "markdown",
   "metadata": {},
   "source": [
    "## Read in the YAML Boundaries"
   ]
  },
  {
   "cell_type": "code",
   "execution_count": 5,
   "metadata": {
    "scrolled": false
   },
   "outputs": [
    {
     "ename": "ErrorException",
     "evalue": "syntax: invalid assignment location \"[plL3a, plL3b, plL4a, plL4b, plL4c]\"",
     "output_type": "error",
     "traceback": [
      "syntax: invalid assignment location \"[plL3a, plL3b, plL4a, plL4b, plL4c]\"",
      "",
      "Stacktrace:",
      " [1] top-level scope at C:\\Users\\Captain Baker\\.julia\\packages\\IJulia\\DrVMH\\src\\kernel.jl:52"
     ]
    }
   ],
   "source": [
    "import YAML\n",
    "using Printf\n",
    "using Parameters\n",
    "\n",
    "function getBoundaryCs4YAML(file_name)\n",
    "    ### Retrieve boundary inflection points for IEA37 case study 4 from the <.yaml> file.\n",
    "\n",
    "    # Read in the .yaml file\n",
    "    f = YAML.load(open(file_name))\n",
    "    bndrs = f[\"boundaries\"]\n",
    "\n",
    "    ptList3a = bndrs[\"IIIa\"]\n",
    "    ptList3b = bndrs[\"IIIb\"]\n",
    "    ptList4a = bndrs[\"IVa\"]\n",
    "    ptList4b = bndrs[\"IVb\"]\n",
    "    ptList4c = bndrs[\"IVc\"]\n",
    "    \n",
    "    return ptList3a, ptList3b, ptList4a, ptList4b, ptList4c\n",
    "end\n",
    "\n",
    "fn = \"../../startup-files/iea37-boundary-cs4.yaml\"\n",
    "\n",
    "[plL3a, plL3b, plL4a, plL4b, plL4c] = getBoundaryCs4YAML(fn)\n",
    "\n",
    "print(plL3a)"
   ]
  },
  {
   "cell_type": "markdown",
   "metadata": {},
   "source": [
    "## Spline the boundary "
   ]
  },
  {
   "cell_type": "code",
   "execution_count": null,
   "metadata": {},
   "outputs": [],
   "source": []
  },
  {
   "cell_type": "markdown",
   "metadata": {},
   "source": [
    "## `checkBoundaryCs4()` "
   ]
  },
  {
   "cell_type": "code",
   "execution_count": null,
   "metadata": {},
   "outputs": [],
   "source": []
  },
  {
   "cell_type": "markdown",
   "metadata": {},
   "source": [
    "## ToDo\n",
    "\n",
    "`1410.27.May.20`"
   ]
  },
  {
   "cell_type": "markdown",
   "metadata": {},
   "source": [
    "- [x] Test what you altered with your boundary thing\n",
    "- [x] Rewrite the farm things to be in the correct section\n",
    "- [x] Rewrite all referencing tests\n",
    "- [x] Make cool Figures\n",
    "- [x] Clean up your figure code\n",
    "<!-- - [ ] -->"
   ]
  },
  {
   "cell_type": "markdown",
   "metadata": {},
   "source": [
    "`18.Jun.20`\n",
    "\n",
    "I just realized that my partition method is trash. It breaks down in some simple worst-case boundaries. This means the mapping method is also trash, since boundaries with more than 4 injective sides will break the algorithm. So I've gotta throw it all out. Which sucks.\n",
    "\n",
    "It sucks.\n",
    "\n",
    "Anyways, I've gotta find a new method. A freaking UNDERGRAD, researched the ray tracing method and got it working within a week. I am completely sub-par. Anyways I think that's the method to use.\n",
    "\n",
    "Maybe I should leave this place."
   ]
  },
  {
   "cell_type": "markdown",
   "metadata": {},
   "source": [
    "Apparently theres a better method. I'll need to do some research into this method.\n",
    "http://lin-ear-th-inking.blogspot.com/2019/02/better-and-faster-interior-point-for.html"
   ]
  },
  {
   "cell_type": "markdown",
   "metadata": {},
   "source": [
    "Variable Reduction:\n",
    "----------------------\n",
    "(tips/notes from PJ)\n",
    "\n",
    "45% around outer boundary of entire farm\n",
    "\n",
    "The rest are in grid defined in the middle\n",
    "\n",
    "gird spacing variable, rotation variable, ..."
   ]
  },
  {
   "cell_type": "code",
   "execution_count": null,
   "metadata": {},
   "outputs": [],
   "source": []
  }
 ],
 "metadata": {
  "kernelspec": {
   "display_name": "Julia 1.4.2",
   "language": "julia",
   "name": "julia-1.4"
  },
  "language_info": {
   "file_extension": ".jl",
   "mimetype": "application/julia",
   "name": "julia",
   "version": "1.4.2"
  }
 },
 "nbformat": 4,
 "nbformat_minor": 2
}
