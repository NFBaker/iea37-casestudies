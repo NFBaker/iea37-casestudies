{
 "cells": [
  {
   "cell_type": "code",
   "execution_count": 10,
   "metadata": {},
   "outputs": [],
   "source": [
    "using Profile, ProfileSVG\n",
    "using BenchmarkTools"
   ]
  },
  {
   "cell_type": "code",
   "execution_count": 11,
   "metadata": {},
   "outputs": [],
   "source": [
    "cd(\"/Users/nbaker/Documents/GitHub/FLowFarm.jl/test\")"
   ]
  },
  {
   "cell_type": "markdown",
   "metadata": {
    "heading_collapsed": true
   },
   "source": [
    "# splined_boundary() setup"
   ]
  },
  {
   "cell_type": "code",
   "execution_count": 12,
   "metadata": {
    "code_folding": [
     10,
     23,
     36,
     55
    ],
    "hidden": true
   },
   "outputs": [
    {
     "data": {
      "text/plain": [
       "wind_farm_opt (generic function with 1 method)"
      ]
     },
     "execution_count": 12,
     "metadata": {},
     "output_type": "execute_result"
    }
   ],
   "source": [
    "using FlowFarm; const ff = FlowFarm\n",
    "using Snopt\n",
    "using DelimitedFiles \n",
    "using PyPlot\n",
    "import ForwardDiff\n",
    "import YAML\n",
    "using CSV\n",
    "include(\"iea37_specific_functions.jl\")\n",
    "\n",
    "# set up boundary constraint wrapper function\n",
    "function boundary_wrapper(x, params)\n",
    "    # get number of turbines\n",
    "    nturbines = Int(length(x)/2)\n",
    "\n",
    "    # extract x and y locations of turbines from design variables vector\n",
    "    turbine_x = x[1:nturbines]\n",
    "    turbine_y = x[nturbines+1:end]\n",
    "\n",
    "    # get and return boundary distances\n",
    "    return ff.splined_boundary_discreet_regions(turbine_x, turbine_y, params.bndry_x_clsd, params.bndry_y_clsd, params.num_bndry_verts, params.bndry_corner_indcies, params.turbs_per_region)\n",
    "end\n",
    "\n",
    "# set up spacing constraint wrapper function\n",
    "function spacing_wrapper(x, params)\n",
    "    # get number of turbines\n",
    "    nturbines = Int(length(x)/2)\n",
    "\n",
    "    # extract x and y locations of turbines from design variables vector\n",
    "    turbine_x = x[1:nturbines]\n",
    "    turbine_y = x[nturbines+1:end]\n",
    "\n",
    "    # get and return spacing distances\n",
    "    return 2.0*params.rotor_diameter[1] .- ff.turbine_spacing(turbine_x,turbine_y)\n",
    "end\n",
    "\n",
    "# set up objective wrapper function\n",
    "function aep_wrapper(x, params)\n",
    "    # get number of turbines\n",
    "    nturbines = Int(length(x)/2)\n",
    "\n",
    "    # extract x and y locations of turbines from design variables vector\n",
    "    turbine_x = x[1:nturbines] \n",
    "    turbine_y = x[nturbines+1:end]\n",
    "\n",
    "    # calculate AEP\n",
    "    AEP = obj_scale*ff.calculate_aep(turbine_x, turbine_y, params.turbine_z, params.rotor_diameter,\n",
    "                params.hub_height, params.turbine_yaw, params.ct_models, params.generator_efficiency, params.cut_in_speed,\n",
    "                params.cut_out_speed, params.rated_speed, params.rated_power, params.windresource, params.power_models, params.model_set,\n",
    "                rotor_sample_points_y=params.rotor_points_y,rotor_sample_points_z=params.rotor_points_z, hours_per_year=365.0*24.0)\n",
    "    \n",
    "    # return the objective as an array\n",
    "    return [AEP]\n",
    "end\n",
    "\n",
    "# set up optimization problem wrapper function\n",
    "function wind_farm_opt(x)\n",
    "\n",
    "    # calculate spacing constraint value and jacobian\n",
    "    spacing_con = spacing_wrapper(x)\n",
    "    ds_dx = ForwardDiff.jacobian(spacing_wrapper, x)\n",
    "    \n",
    "    # calculate boundary constraint and jacobian\n",
    "    boundary_con = boundary_wrapper(x)\n",
    "    db_dx = ForwardDiff.jacobian(boundary_wrapper, x)\n",
    "\n",
    "    # combine constaint values and jacobians into overall constaint value and jacobian arrays\n",
    "    c = [spacing_con; boundary_con]\n",
    "    dcdx = [ds_dx; db_dx]\n",
    "\n",
    "    # calculate the objective function and jacobian (negative sign in order to maximize AEP)\n",
    "    AEP = -aep_wrapper(x)[1]\n",
    "    dAEP_dx = -ForwardDiff.jacobian(aep_wrapper,x)\n",
    "\n",
    "    # set fail flag to false\n",
    "    fail = false\n",
    "\n",
    "    # return objective, constraint, and jacobian values\n",
    "    return AEP, c, dAEP_dx, dcdx, fail\n",
    "end"
   ]
  },
  {
   "cell_type": "code",
   "execution_count": 13,
   "metadata": {
    "code_folding": [],
    "hidden": true
   },
   "outputs": [],
   "source": [
    "# import model set with wind farm and related details\n",
    "include(\"./model_sets/model_set_7_ieacs4.jl\")\n",
    "\n",
    "# scale objective to be between 0 and 1\n",
    "obj_scale = 1E-11\n",
    "\n",
    "# set globals for use in wrapper functions\n",
    "struct params_struct_sb{}\n",
    "    model_set\n",
    "    rotor_points_y\n",
    "    rotor_points_z\n",
    "    turbine_z\n",
    "    ambient_ti\n",
    "    rotor_diameter\n",
    "    bndry_x_clsd\n",
    "    bndry_y_clsd\n",
    "    num_bndry_verts\n",
    "    bndry_corner_indcies\n",
    "    turbs_per_region\n",
    "    obj_scale\n",
    "    hub_height\n",
    "    turbine_yaw\n",
    "    ct_models\n",
    "    generator_efficiency\n",
    "    cut_in_speed\n",
    "    cut_out_speed\n",
    "    rated_speed\n",
    "    rated_power\n",
    "    windresource\n",
    "    power_models\n",
    "end"
   ]
  },
  {
   "cell_type": "code",
   "execution_count": 14,
   "metadata": {
    "code_folding": [],
    "hidden": true
   },
   "outputs": [
    {
     "name": "stdout",
     "output_type": "stream",
     "text": [
      "Number of turbines: 81\n",
      "Rotor diameter: 198.0\n",
      "Starting AEP value (GWh): 2851.096412523507\n"
     ]
    },
    {
     "data": {
      "text/plain": [
       "boundary_wrapper (generic function with 2 methods)"
      ]
     },
     "execution_count": 14,
     "metadata": {},
     "output_type": "execute_result"
    }
   ],
   "source": [
    "#--- Read in windfarm boundary data ---#\n",
    "# Which case study we're doing. 'cs3' or 'cs4'\n",
    "str_case = \"4\"\n",
    "#- Rip the boundary coordinates from the .yaml file -#\n",
    "file_dir = \"./inputfiles/\"\n",
    "bnry_file_name_orig = \"iea37-boundary-cs\" * str_case * \".yaml\"\n",
    "bnry_file_name = string(file_dir,bnry_file_name_orig)\n",
    "bndry_x, bndry_y = getBndryCs4YAML(bnry_file_name)\n",
    "bndry_x_clsd, bndry_y_clsd = ff.closeBndryLists(bndry_x, bndry_y)\n",
    "\n",
    "#--- Read in random turbine locations ---#\n",
    "# Make an array of the number of turbines in each region\n",
    "nNumRegions = 5     # Number of reigons we're using (cs4 = 5, cs3 = 1)\n",
    "turbs_per_region = zeros(Int8, nNumRegions)  # Preallocated turbines in each region\n",
    "num_bndry_verts = zeros(Int8, nNumRegions)\n",
    "for cntr in 1:nNumRegions\n",
    "    num_bndry_verts[cntr] = length(getCs34VertList(getCs34Name(cntr)))\n",
    "    turbs_per_region[cntr] = floor(getCs34NumTurbs(getCs34Name(cntr)))\n",
    "end\n",
    "bndry_corner_indcies = getCs34VertList(\"All\")\n",
    "num_tot_turbs = sum(turbs_per_region)\n",
    "\n",
    "params = params_struct_sb(model_set, rotor_points_y, rotor_points_z, turbine_z, ambient_ti, \n",
    "    rotor_diameter, bndry_x_clsd, bndry_y_clsd, num_bndry_verts, bndry_corner_indcies, turbs_per_region, obj_scale, hub_height, turbine_yaw, \n",
    "    ct_models, generator_efficiency, cut_in_speed, cut_out_speed, rated_speed, rated_power, \n",
    "    windresource, power_models)\n",
    "\n",
    "# initialize design variable array\n",
    "x = [copy(turbine_x);copy(turbine_y)]\n",
    "xinit = deepcopy(x)\n",
    "\n",
    "# report initial objective value\n",
    "println(\"Number of turbines: \", num_tot_turbs)\n",
    "println(\"Rotor diameter: \", rotor_diameter[1])\n",
    "println(\"Starting AEP value (GWh): \", aep_wrapper(x, params)[1]*1e-9/obj_scale)\n",
    "\n",
    "\n",
    "# set general lower and upper bounds for design variables\n",
    "lb = zeros(length(x))\n",
    "ub = zeros(length(x)) .+ Inf\n",
    "\n",
    "# set up options for SNOPT\n",
    "options = Dict{String, Any}()\n",
    "options[\"Derivative option\"] = 1\n",
    "options[\"Verify level\"] = 3\n",
    "options[\"Major optimality tolerance\"] = 1e-5\n",
    "options[\"Major iteration limit\"] = 1e6\n",
    "options[\"Summary file\"] = \"summary.out\"\n",
    "options[\"Print file\"] = \"print.out\"\n",
    "\n",
    "# generate wrapper function surrogates\n",
    "spacing_wrapper(x) = spacing_wrapper(x, params)\n",
    "aep_wrapper(x) = aep_wrapper(x, params)\n",
    "boundary_wrapper(x) = boundary_wrapper(x, params)\n",
    "\n",
    "# run and time optimization\n",
    "# println\n",
    "# t1 = time()\n",
    "# xopt, fopt, info = snopt(wind_farm_opt, x, lb, ub, options)\n",
    "# t2 = time()\n",
    "# clkt = t2-t2\n",
    "\n",
    "# print optimization results\n",
    "# println(\"Finished in : \", clkt, \" (s)\")\n",
    "# println(\"info: \", info)\n",
    "# println(\"end objective value: \", aep_wrapper(xopt))"
   ]
  },
  {
   "cell_type": "markdown",
   "metadata": {},
   "source": [
    "# Splined_Boundary Jacobian Benchmark"
   ]
  },
  {
   "cell_type": "code",
   "execution_count": 15,
   "metadata": {
    "scrolled": true
   },
   "outputs": [
    {
     "data": {
      "text/plain": [
       "BenchmarkTools.Trial: \n",
       "  memory estimate:  2.96 MiB\n",
       "  allocs estimate:  10323\n",
       "  --------------\n",
       "  minimum time:     976.653 μs (0.00% GC)\n",
       "  median time:      1.067 ms (0.00% GC)\n",
       "  mean time:        1.413 ms (20.26% GC)\n",
       "  maximum time:     7.982 ms (80.72% GC)\n",
       "  --------------\n",
       "  samples:          3528\n",
       "  evals/sample:     1"
      ]
     },
     "execution_count": 15,
     "metadata": {},
     "output_type": "execute_result"
    }
   ],
   "source": [
    "@benchmark ForwardDiff.jacobian(boundary_wrapper, x) setup=(x=xinit)"
   ]
  },
  {
   "cell_type": "markdown",
   "metadata": {
    "heading_collapsed": true
   },
   "source": [
    "# ray_trace() setup"
   ]
  },
  {
   "cell_type": "code",
   "execution_count": 16,
   "metadata": {
    "hidden": true
   },
   "outputs": [],
   "source": [
    "# import model set with wind farm and related details\n",
    "include(\"./model_sets/model_set_7_ieacs4.jl\")\n",
    "\n",
    "# scale objective to be between 0 and 1\n",
    "obj_scale = 1E-11\n",
    "\n",
    "# set globals for use in wrapper functions\n",
    "struct params_struct{}\n",
    "    model_set\n",
    "    rotor_points_y\n",
    "    rotor_points_z\n",
    "    turbine_z\n",
    "    ambient_ti\n",
    "    rotor_diameter\n",
    "    bndry_x_clsd\n",
    "    bndry_y_clsd\n",
    "    num_bndry_verts\n",
    "    bndry_corner_indcies\n",
    "    turbs_per_region\n",
    "    obj_scale\n",
    "    hub_height\n",
    "    turbine_yaw\n",
    "    ct_models\n",
    "    generator_efficiency\n",
    "    cut_in_speed\n",
    "    cut_out_speed\n",
    "    rated_speed\n",
    "    rated_power\n",
    "    windresource\n",
    "    power_models\n",
    "end"
   ]
  },
  {
   "cell_type": "code",
   "execution_count": 18,
   "metadata": {
    "code_folding": [
     39,
     58
    ],
    "hidden": true
   },
   "outputs": [
    {
     "data": {
      "text/plain": [
       "wind_farm_opt (generic function with 1 method)"
      ]
     },
     "execution_count": 18,
     "metadata": {},
     "output_type": "execute_result"
    }
   ],
   "source": [
    "using FlowFarm; const ff = FlowFarm\n",
    "using Snopt\n",
    "using DelimitedFiles \n",
    "using PyPlot\n",
    "import ForwardDiff\n",
    "using CSV\n",
    "using DataFrames\n",
    "\n",
    "# set up boundary constraint wrapper function\n",
    "function boundary_wrapper(x, params)\n",
    "    # get number of turbines\n",
    "    nturbines = Int(length(x)/2)\n",
    "\n",
    "    # extract x and y locations of turbines from design variables vector\n",
    "    turbine_x = x[1:nturbines]\n",
    "    turbine_y = x[nturbines+1:end]\n",
    "\n",
    "    # get and return boundary distances\n",
    "    boundcon_a = ff.ray_trace_boundary(params.boundary_vertices_a, params.boundary_normals_a, turbine_x[1:31], turbine_y[1:31])\n",
    "    boundcon_b = ff.ray_trace_boundary(params.boundary_vertices_b, params.boundary_normals_b, turbine_x[32:42], turbine_y[32:42])\n",
    "    boundcon_c = ff.ray_trace_boundary(params.boundary_vertices_c, params.boundary_normals_c, turbine_x[43:58], turbine_y[43:58])\n",
    "    boundcon_d = ff.ray_trace_boundary(params.boundary_vertices_d, params.boundary_normals_d, turbine_x[59:72], turbine_y[59:72])\n",
    "    boundcon_e = ff.ray_trace_boundary(params.boundary_vertices_e, params.boundary_normals_e, turbine_x[73:81], turbine_y[73:81])\n",
    "end\n",
    "\n",
    "# set up spacing constraint wrapper function\n",
    "function spacing_wrapper(x, params)\n",
    "    # get number of turbines\n",
    "    nturbines = Int(length(x)/2)\n",
    "\n",
    "    # extract x and y locations of turbines from design variables vector\n",
    "    turbine_x = x[1:nturbines]\n",
    "    turbine_y = x[nturbines+1:end]\n",
    "\n",
    "    # get and return spacing distances\n",
    "    return 2.0*params.rotor_diameter[1] .- ff.turbine_spacing(turbine_x,turbine_y)\n",
    "end\n",
    "\n",
    "# set up objective wrapper function\n",
    "function aep_wrapper(x, params)\n",
    "    # get number of turbines\n",
    "    nturbines = Int(length(x)/2)\n",
    "\n",
    "    # extract x and y locations of turbines from design variables vector\n",
    "    turbine_x = x[1:nturbines] \n",
    "    turbine_y = x[nturbines+1:end]\n",
    "\n",
    "    # calculate AEP\n",
    "    AEP = obj_scale*ff.calculate_aep(turbine_x, turbine_y, params.turbine_z, params.rotor_diameter,\n",
    "                params.hub_height, params.turbine_yaw, params.ct_models, params.generator_efficiency, params.cut_in_speed,\n",
    "                params.cut_out_speed, params.rated_speed, params.rated_power, params.windresource, params.power_models, params.model_set,\n",
    "                rotor_sample_points_y=params.rotor_points_y,rotor_sample_points_z=params.rotor_points_z, hours_per_year=365.0*24.0)\n",
    "    \n",
    "    # return the objective as an array\n",
    "    return [AEP]\n",
    "end\n",
    "\n",
    "# set up optimization problem wrapper function\n",
    "function wind_farm_opt(x)\n",
    "\n",
    "    # calculate spacing constraint value and jacobian\n",
    "    spacing_con = spacing_wrapper(x)\n",
    "    ds_dx = ForwardDiff.jacobian(spacing_wrapper, x)\n",
    "    \n",
    "    # calculate boundary constraint and jacobian\n",
    "    boundary_con = boundary_wrapper(x)\n",
    "    db_dx = ForwardDiff.jacobian(boundary_wrapper, x)\n",
    "\n",
    "    # combine constaint values and jacobians into overall constaint value and jacobian arrays\n",
    "    c = [spacing_con; boundary_con]\n",
    "    dcdx = [ds_dx; db_dx]\n",
    "\n",
    "    # calculate the objective function and jacobian (negative sign in order to maximize AEP)\n",
    "    AEP = -aep_wrapper(x)[1]\n",
    "    dAEP_dx = -ForwardDiff.jacobian(aep_wrapper,x)\n",
    "\n",
    "    # set fail flag to false\n",
    "    fail = false\n",
    "\n",
    "    # return objective, constraint, and jacobian values\n",
    "    return AEP, c, dAEP_dx, dcdx, fail\n",
    "end"
   ]
  },
  {
   "cell_type": "code",
   "execution_count": 19,
   "metadata": {
    "hidden": true
   },
   "outputs": [],
   "source": [
    "# import model set with wind farm and related details\n",
    "include(\"./model_sets/model_set_7_ieacs4.jl\")\n",
    "\n",
    "# scale objective to be between 0 and 1\n",
    "obj_scale = 1E-12\n",
    "\n",
    "# set globals for use in wrapper functions\n",
    "struct params_struct_rt{}\n",
    "    model_set\n",
    "    rotor_points_y\n",
    "    rotor_points_z\n",
    "    turbine_z\n",
    "    ambient_ti\n",
    "    rotor_diameter\n",
    "    boundary_vertices_a\n",
    "    boundary_normals_a\n",
    "    boundary_vertices_b\n",
    "    boundary_normals_b\n",
    "    boundary_vertices_c\n",
    "    boundary_normals_c\n",
    "    boundary_vertices_d\n",
    "    boundary_normals_d\n",
    "    boundary_vertices_e\n",
    "    boundary_normals_e\n",
    "    obj_scale\n",
    "    hub_height\n",
    "    turbine_yaw\n",
    "    ct_model\n",
    "    generator_efficiency\n",
    "    cut_in_speed\n",
    "    cut_out_speed\n",
    "    rated_speed\n",
    "    rated_power\n",
    "    windresource\n",
    "    power_models\n",
    "    iter_AEP\n",
    "    funcalls_AEP\n",
    "    it\n",
    "end"
   ]
  },
  {
   "cell_type": "code",
   "execution_count": 21,
   "metadata": {
    "hidden": true
   },
   "outputs": [
    {
     "data": {
      "text/plain": [
       "wind_farm_opt (generic function with 1 method)"
      ]
     },
     "execution_count": 21,
     "metadata": {},
     "output_type": "execute_result"
    }
   ],
   "source": [
    "# set globals for iteration history\n",
    "iter_AEP = zeros(Float64, 10000)\n",
    "funcalls_AEP = zeros(Float64, 10000)\n",
    "# set wind farm boundary parameters\n",
    "boundary_vertices_a = [10363.8 6490.3; 9449.7 1602.2; 9387.0 1056.6; 9365.1 625.5; 9360.8 360.2; 9361.5 126.9; 9361.3 137.1; 7997.6 1457.9; 6098.3 3297.5;\n",
    "    8450.3 6455.3; 8505.4 6422.3; 9133.0 6127.4; 9332.8 6072.6; 9544.2 6087.1; 9739.0 6171.2; 9894.9 6316.9; 10071.8 6552.5; 10106.9 6611.1]\n",
    "boundary_normals_a = [0.9829601758936983 -0.1838186405319916; 0.9934614633172962 -0.11416795042154541; 0.9987121579438882 -0.050734855622757584; \n",
    "    0.9998686751666075 -0.01620593781838486; 0.9999954987444023 0.0030004151269687495; -0.9998078216567232 -0.019604074934516894; -0.6957179389375846 -0.718315076718037; \n",
    "    -0.6957275377423737 -0.7183057797532565; -0.8019887481131871 0.5973391397688945; 0.5138086803485797 0.8579047965820281; 0.4252760929807897 0.905063668886888; \n",
    "    0.2645057513093967 0.9643841078762402; -0.0684295708121141 0.9976559496331737; -0.39636379138742883 0.9180935381958544; -0.6828023205475376 0.7306031693435896; \n",
    "    -0.7996740386176392 0.6004343694034798; -0.8578802011411015 0.5138497450520954; 0.42552559023380465 0.9049463918134445]\n",
    "boundary_vertices_b = [5588.4 3791.3; 4670.7 4680.2; 7274.9 7940.8; 7369.9 7896.2; 7455.1 7784.3; 7606.5 7713.0; 7638.9 7708.4; 8297.1 7398.9]\n",
    "boundary_normals_b = [-0.6957460043611584 -0.7182878931288504; -0.7813688797257963 0.6240694462926818; 0.4249708760634733 0.9052070230051488; 0.7956275395848184 0.6057861159305391; \n",
    "    0.4260560153872896 0.9046967844268629; 0.14056568619461773 0.9900713549359138; 0.4255255464063141 0.9049464124220882; 0.7996806883794807 -0.6004255129763556]\n",
    "boundary_vertices_c = [3267.1 10100.6; 4164.1 9586.6; 5749.8 9068.6; 6054.7 8925.3; 1468.5 7781.7; 107.4 9100.0]\n",
    "boundary_normals_c = [0.49718026396417986 0.8676472699919642; 0.31052117525343714 0.9505664625470563; 0.42535384615162936 0.9050271297392228; 0.24194817066179167 -0.9702891747893577; \n",
    "    -0.6957228969594285 -0.7183102746351193; -0.30189947425802094 0.9533397649540959]\n",
    "boundary_vertices_d = [6764.9 8399.7; 4176.8 5158.6; 2047.8 7220.7]\n",
    "boundary_normals_d = [0.7814306689309158 -0.6239920749930895; -0.6957310325444781 -0.7183023947855072; -0.24248239299288069 0.9701558066045093]\n",
    "boundary_vertices_e = [8953.7 11901.5; 7048.3 9531.5; 6127.7 9962.7; 4578.1 10464.9; 4524.1 10498.7]\n",
    "boundary_normals_e = [0.7793586677376737 -0.6265780613955122; -0.4241667101838764 -0.9055841219742026; -0.30829751674447764 -0.9512899879475178; -0.5305632140423848 -0.847645371546978; -0.3019099610801309 0.9533364439695956]\n",
    "\n",
    "params = params_struct_rt(model_set, rotor_points_y, rotor_points_z, turbine_z, ambient_ti, \n",
    "    rotor_diameter, boundary_vertices_a, boundary_normals_a, boundary_vertices_b, boundary_normals_b,\n",
    "    boundary_vertices_c, boundary_normals_c, boundary_vertices_d, boundary_normals_d, boundary_vertices_e,\n",
    "    boundary_normals_e, obj_scale, hub_height, turbine_yaw, ct_model, generator_efficiency, cut_in_speed, \n",
    "    cut_out_speed, rated_speed, rated_power, windresource, power_models, iter_AEP, funcalls_AEP, [0])\n",
    "\n",
    "# initialize design variable array\n",
    "x_initial = [copy(turbine_x);copy(turbine_y)]\n",
    "x = [copy(turbine_x);copy(turbine_y)]\n",
    "\n",
    "# get number of design variables\n",
    "n_designvariables = length(x_initial)\n",
    "\n",
    "# get number of constraints\n",
    "n_spacingconstraints = length(spacing_wrapper(x_initial, params))\n",
    "n_boundaryconstraints = length(boundary_wrapper(x_initial, params))\n",
    "n_constraints = n_spacingconstraints + n_boundaryconstraints\n",
    "\n",
    "# set general lower and upper bounds for design variables\n",
    "lb = ones(n_designvariables) * -Inf\n",
    "ub = ones(n_designvariables) * Inf\n",
    "\n",
    "# set lower and upper bounds for constraints\n",
    "lb_g = ones(n_constraints) * -Inf\n",
    "ub_g = zeros(n_constraints)\n",
    "\n",
    "# generate wrapper function surrogates\n",
    "spacing_wrapper(x) = spacing_wrapper(x, params)\n",
    "aep_wrapper(x) = aep_wrapper(x, params)\n",
    "boundary_wrapper(x) = boundary_wrapper(x, params)\n",
    "wind_farm_opt(x) = wind_farm_opt(x, params)"
   ]
  },
  {
   "cell_type": "markdown",
   "metadata": {},
   "source": [
    "# Ray_Trace Jacobian Benchmark"
   ]
  },
  {
   "cell_type": "code",
   "execution_count": 22,
   "metadata": {
    "scrolled": true
   },
   "outputs": [
    {
     "data": {
      "text/plain": [
       "BenchmarkTools.Trial: \n",
       "  memory estimate:  50.17 MiB\n",
       "  allocs estimate:  441284\n",
       "  --------------\n",
       "  minimum time:     65.201 ms (5.92% GC)\n",
       "  median time:      73.540 ms (5.72% GC)\n",
       "  mean time:        77.670 ms (6.49% GC)\n",
       "  maximum time:     138.953 ms (4.44% GC)\n",
       "  --------------\n",
       "  samples:          65\n",
       "  evals/sample:     1"
      ]
     },
     "execution_count": 22,
     "metadata": {},
     "output_type": "execute_result"
    }
   ],
   "source": [
    "@benchmark ForwardDiff.jacobian(boundary_wrapper, x) setup=(x=xinit)"
   ]
  }
 ],
 "metadata": {
  "kernelspec": {
   "display_name": "Julia 1.4.2",
   "language": "julia",
   "name": "julia-1.4"
  },
  "language_info": {
   "file_extension": ".jl",
   "mimetype": "application/julia",
   "name": "julia",
   "version": "1.4.2"
  }
 },
 "nbformat": 4,
 "nbformat_minor": 4
}
