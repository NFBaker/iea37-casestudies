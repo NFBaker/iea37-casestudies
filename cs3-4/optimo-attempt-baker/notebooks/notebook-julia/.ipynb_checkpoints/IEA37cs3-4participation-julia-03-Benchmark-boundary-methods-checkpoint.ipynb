{
 "cells": [
  {
   "cell_type": "code",
   "execution_count": 9,
   "metadata": {},
   "outputs": [],
   "source": [
    "using Profile, ProfileSVG\n",
    "using BenchmarkTools"
   ]
  },
  {
   "cell_type": "code",
   "execution_count": 2,
   "metadata": {},
   "outputs": [],
   "source": [
    "cd(\"/Users/nbaker/Documents/GitHub/FLowFarm.jl/test\")"
   ]
  },
  {
   "cell_type": "markdown",
   "metadata": {
    "heading_collapsed": true
   },
   "source": [
    "# splined_boundary() setup"
   ]
  },
  {
   "cell_type": "code",
   "execution_count": 3,
   "metadata": {
    "code_folding": [
     10,
     23,
     36,
     55
    ],
    "hidden": true
   },
   "outputs": [
    {
     "name": "stderr",
     "output_type": "stream",
     "text": [
      "┌ Info: Precompiling FlowFarm [eb2d4cfc-2064-11ea-0a1c-63d372e6a848]\n",
      "└ @ Base loading.jl:1260\n",
      "┌ Warning: Package FlowFarm does not have ForwardDiff in its dependencies:\n",
      "│ - If you have FlowFarm checked out for development and have\n",
      "│   added ForwardDiff as a dependency but haven't updated your primary\n",
      "│   environment's manifest file, try `Pkg.resolve()`.\n",
      "│ - Otherwise you may need to report an issue with FlowFarm\n",
      "└ Loading ForwardDiff into FlowFarm from project dependency, future warnings for FlowFarm are suppressed.\n",
      "┌ Info: Precompiling PyPlot [d330b81b-6aea-500a-939a-2ce795aea3ee]\n",
      "└ @ Base loading.jl:1260\n",
      "┌ Info: Precompiling CSV [336ed68f-0bac-5ca0-87d4-7b16caf5d00b]\n",
      "└ @ Base loading.jl:1260\n"
     ]
    },
    {
     "data": {
      "text/plain": [
       "wind_farm_opt (generic function with 1 method)"
      ]
     },
     "execution_count": 3,
     "metadata": {},
     "output_type": "execute_result"
    }
   ],
   "source": [
    "using FlowFarm; const ff = FlowFarm\n",
    "using Snopt\n",
    "using DelimitedFiles \n",
    "using PyPlot\n",
    "import ForwardDiff\n",
    "import YAML\n",
    "using CSV\n",
    "include(\"iea37_specific_functions.jl\")\n",
    "\n",
    "# set up boundary constraint wrapper function\n",
    "function boundary_wrapper(x, params)\n",
    "    # get number of turbines\n",
    "    nturbines = Int(length(x)/2)\n",
    "\n",
    "    # extract x and y locations of turbines from design variables vector\n",
    "    turbine_x = x[1:nturbines]\n",
    "    turbine_y = x[nturbines+1:end]\n",
    "\n",
    "    # get and return boundary distances\n",
    "    return ff.splined_boundary_discreet_regions(turbine_x, turbine_y, params.bndry_x_clsd, params.bndry_y_clsd, params.num_bndry_verts, params.bndry_corner_indcies, params.turbs_per_region)\n",
    "end\n",
    "\n",
    "# set up spacing constraint wrapper function\n",
    "function spacing_wrapper(x, params)\n",
    "    # get number of turbines\n",
    "    nturbines = Int(length(x)/2)\n",
    "\n",
    "    # extract x and y locations of turbines from design variables vector\n",
    "    turbine_x = x[1:nturbines]\n",
    "    turbine_y = x[nturbines+1:end]\n",
    "\n",
    "    # get and return spacing distances\n",
    "    return 2.0*params.rotor_diameter[1] .- ff.turbine_spacing(turbine_x,turbine_y)\n",
    "end\n",
    "\n",
    "# set up objective wrapper function\n",
    "function aep_wrapper(x, params)\n",
    "    # get number of turbines\n",
    "    nturbines = Int(length(x)/2)\n",
    "\n",
    "    # extract x and y locations of turbines from design variables vector\n",
    "    turbine_x = x[1:nturbines] \n",
    "    turbine_y = x[nturbines+1:end]\n",
    "\n",
    "    # calculate AEP\n",
    "    AEP = obj_scale*ff.calculate_aep(turbine_x, turbine_y, params.turbine_z, params.rotor_diameter,\n",
    "                params.hub_height, params.turbine_yaw, params.ct_models, params.generator_efficiency, params.cut_in_speed,\n",
    "                params.cut_out_speed, params.rated_speed, params.rated_power, params.windresource, params.power_models, params.model_set,\n",
    "                rotor_sample_points_y=params.rotor_points_y,rotor_sample_points_z=params.rotor_points_z, hours_per_year=365.0*24.0)\n",
    "    \n",
    "    # return the objective as an array\n",
    "    return [AEP]\n",
    "end\n",
    "\n",
    "# set up optimization problem wrapper function\n",
    "function wind_farm_opt(x)\n",
    "\n",
    "    # calculate spacing constraint value and jacobian\n",
    "    spacing_con = spacing_wrapper(x)\n",
    "    ds_dx = ForwardDiff.jacobian(spacing_wrapper, x)\n",
    "    \n",
    "    # calculate boundary constraint and jacobian\n",
    "    boundary_con = boundary_wrapper(x)\n",
    "    db_dx = ForwardDiff.jacobian(boundary_wrapper, x)\n",
    "\n",
    "    # combine constaint values and jacobians into overall constaint value and jacobian arrays\n",
    "    c = [spacing_con; boundary_con]\n",
    "    dcdx = [ds_dx; db_dx]\n",
    "\n",
    "    # calculate the objective function and jacobian (negative sign in order to maximize AEP)\n",
    "    AEP = -aep_wrapper(x)[1]\n",
    "    dAEP_dx = -ForwardDiff.jacobian(aep_wrapper,x)\n",
    "\n",
    "    # set fail flag to false\n",
    "    fail = false\n",
    "\n",
    "    # return objective, constraint, and jacobian values\n",
    "    return AEP, c, dAEP_dx, dcdx, fail\n",
    "end"
   ]
  },
  {
   "cell_type": "code",
   "execution_count": 4,
   "metadata": {
    "code_folding": [],
    "hidden": true
   },
   "outputs": [],
   "source": [
    "# import model set with wind farm and related details\n",
    "include(\"./model_sets/model_set_7_ieacs4.jl\")\n",
    "\n",
    "# scale objective to be between 0 and 1\n",
    "obj_scale = 1E-11\n",
    "\n",
    "# set globals for use in wrapper functions\n",
    "struct params_struct{}\n",
    "    model_set\n",
    "    rotor_points_y\n",
    "    rotor_points_z\n",
    "    turbine_z\n",
    "    ambient_ti\n",
    "    rotor_diameter\n",
    "    bndry_x_clsd\n",
    "    bndry_y_clsd\n",
    "    num_bndry_verts\n",
    "    bndry_corner_indcies\n",
    "    turbs_per_region\n",
    "    obj_scale\n",
    "    hub_height\n",
    "    turbine_yaw\n",
    "    ct_models\n",
    "    generator_efficiency\n",
    "    cut_in_speed\n",
    "    cut_out_speed\n",
    "    rated_speed\n",
    "    rated_power\n",
    "    windresource\n",
    "    power_models\n",
    "end"
   ]
  },
  {
   "cell_type": "code",
   "execution_count": 7,
   "metadata": {
    "code_folding": [],
    "hidden": true
   },
   "outputs": [
    {
     "name": "stdout",
     "output_type": "stream",
     "text": [
      "Number of turbines: 81\n",
      "Rotor diameter: 198.0\n",
      "Starting AEP value (GWh): 2851.096412523507\n"
     ]
    },
    {
     "data": {
      "text/plain": [
       "boundary_wrapper (generic function with 2 methods)"
      ]
     },
     "execution_count": 7,
     "metadata": {},
     "output_type": "execute_result"
    }
   ],
   "source": [
    "#--- Read in windfarm boundary data ---#\n",
    "# Which case study we're doing. 'cs3' or 'cs4'\n",
    "str_case = \"4\"\n",
    "#- Rip the boundary coordinates from the .yaml file -#\n",
    "file_dir = \"./inputfiles/\"\n",
    "bnry_file_name_orig = \"iea37-boundary-cs\" * str_case * \".yaml\"\n",
    "bnry_file_name = string(file_dir,bnry_file_name_orig)\n",
    "bndry_x, bndry_y = getBndryCs4YAML(bnry_file_name)\n",
    "bndry_x_clsd, bndry_y_clsd = ff.closeBndryLists(bndry_x, bndry_y)\n",
    "\n",
    "#--- Read in random turbine locations ---#\n",
    "# Make an array of the number of turbines in each region\n",
    "nNumRegions = 5     # Number of reigons we're using (cs4 = 5, cs3 = 1)\n",
    "turbs_per_region = zeros(Int8, nNumRegions)  # Preallocated turbines in each region\n",
    "num_bndry_verts = zeros(Int8, nNumRegions)\n",
    "for cntr in 1:nNumRegions\n",
    "    num_bndry_verts[cntr] = length(getCs34VertList(getCs34Name(cntr)))\n",
    "    turbs_per_region[cntr] = floor(getCs34NumTurbs(getCs34Name(cntr)))\n",
    "end\n",
    "bndry_corner_indcies = getCs34VertList(\"All\")\n",
    "num_tot_turbs = sum(turbs_per_region)\n",
    "\n",
    "params = params_struct(model_set, rotor_points_y, rotor_points_z, turbine_z, ambient_ti, \n",
    "    rotor_diameter, bndry_x_clsd, bndry_y_clsd, num_bndry_verts, bndry_corner_indcies, turbs_per_region, obj_scale, hub_height, turbine_yaw, \n",
    "    ct_models, generator_efficiency, cut_in_speed, cut_out_speed, rated_speed, rated_power, \n",
    "    windresource, power_models)\n",
    "\n",
    "# initialize design variable array\n",
    "x = [copy(turbine_x);copy(turbine_y)]\n",
    "xinit = deepcopy(x)\n",
    "\n",
    "# report initial objective value\n",
    "println(\"Number of turbines: \", num_tot_turbs)\n",
    "println(\"Rotor diameter: \", rotor_diameter[1])\n",
    "println(\"Starting AEP value (GWh): \", aep_wrapper(x, params)[1]*1e-9/obj_scale)\n",
    "\n",
    "\n",
    "# set general lower and upper bounds for design variables\n",
    "lb = zeros(length(x))\n",
    "ub = zeros(length(x)) .+ Inf\n",
    "\n",
    "# set up options for SNOPT\n",
    "options = Dict{String, Any}()\n",
    "options[\"Derivative option\"] = 1\n",
    "options[\"Verify level\"] = 3\n",
    "options[\"Major optimality tolerance\"] = 1e-5\n",
    "options[\"Major iteration limit\"] = 1e6\n",
    "options[\"Summary file\"] = \"summary.out\"\n",
    "options[\"Print file\"] = \"print.out\"\n",
    "\n",
    "# generate wrapper function surrogates\n",
    "spacing_wrapper(x) = spacing_wrapper(x, params)\n",
    "aep_wrapper(x) = aep_wrapper(x, params)\n",
    "boundary_wrapper(x) = boundary_wrapper(x, params)\n",
    "\n",
    "# run and time optimization\n",
    "# println\n",
    "# t1 = time()\n",
    "# xopt, fopt, info = snopt(wind_farm_opt, x, lb, ub, options)\n",
    "# t2 = time()\n",
    "# clkt = t2-t2\n",
    "\n",
    "# print optimization results\n",
    "# println(\"Finished in : \", clkt, \" (s)\")\n",
    "# println(\"info: \", info)\n",
    "# println(\"end objective value: \", aep_wrapper(xopt))"
   ]
  },
  {
   "cell_type": "markdown",
   "metadata": {},
   "source": [
    "# Splined_Boundary Jacobian Benchmark"
   ]
  },
  {
   "cell_type": "code",
   "execution_count": 8,
   "metadata": {
    "scrolled": true
   },
   "outputs": [
    {
     "data": {
      "text/plain": [
       "BenchmarkTools.Trial: \n",
       "  memory estimate:  2.96 MiB\n",
       "  allocs estimate:  10323\n",
       "  --------------\n",
       "  minimum time:     969.845 μs (0.00% GC)\n",
       "  median time:      1.095 ms (0.00% GC)\n",
       "  mean time:        1.457 ms (18.84% GC)\n",
       "  maximum time:     11.371 ms (84.17% GC)\n",
       "  --------------\n",
       "  samples:          3421\n",
       "  evals/sample:     1"
      ]
     },
     "execution_count": 8,
     "metadata": {},
     "output_type": "execute_result"
    }
   ],
   "source": [
    "@benchmark ForwardDiff.jacobian(boundary_wrapper, x) setup=(x=xinit)"
   ]
  },
  {
   "cell_type": "markdown",
   "metadata": {},
   "source": [
    "# ray_trace() setup"
   ]
  },
  {
   "cell_type": "code",
   "execution_count": 3,
   "metadata": {},
   "outputs": [
    {
     "name": "stderr",
     "output_type": "stream",
     "text": [
      "┌ Info: Precompiling FlowFarm [eb2d4cfc-2064-11ea-0a1c-63d372e6a848]\n",
      "└ @ Base loading.jl:1260\n",
      "┌ Warning: Package FlowFarm does not have ForwardDiff in its dependencies:\n",
      "│ - If you have FlowFarm checked out for development and have\n",
      "│   added ForwardDiff as a dependency but haven't updated your primary\n",
      "│   environment's manifest file, try `Pkg.resolve()`.\n",
      "│ - Otherwise you may need to report an issue with FlowFarm\n",
      "└ Loading ForwardDiff into FlowFarm from project dependency, future warnings for FlowFarm are suppressed.\n",
      "┌ Info: Precompiling PyPlot [d330b81b-6aea-500a-939a-2ce795aea3ee]\n",
      "└ @ Base loading.jl:1260\n",
      "┌ Info: Precompiling CSV [336ed68f-0bac-5ca0-87d4-7b16caf5d00b]\n",
      "└ @ Base loading.jl:1260\n"
     ]
    },
    {
     "data": {
      "text/plain": [
       "wind_farm_opt (generic function with 1 method)"
      ]
     },
     "execution_count": 3,
     "metadata": {},
     "output_type": "execute_result"
    }
   ],
   "source": [
    "using FlowFarm; const ff = FlowFarm\n",
    "using Snopt\n",
    "using DelimitedFiles \n",
    "using PyPlot\n",
    "import ForwardDiff\n",
    "import YAML\n",
    "using CSV\n",
    "include(\"iea37_specific_functions.jl\")\n",
    "\n",
    "# set up boundary constraint wrapper function\n",
    "function boundary_wrapper(x, params)\n",
    "    # get number of turbines\n",
    "    nturbines = Int(length(x)/2)\n",
    "\n",
    "    # extract x and y locations of turbines from design variables vector\n",
    "    turbine_x = x[1:nturbines]\n",
    "    turbine_y = x[nturbines+1:end]\n",
    "\n",
    "    # get and return boundary distances\n",
    "    return ff.splined_boundary_discreet_regions(turbine_x, turbine_y, params.bndry_x_clsd, params.bndry_y_clsd, params.num_bndry_verts, params.bndry_corner_indcies, params.turbs_per_region)\n",
    "end\n",
    "\n",
    "# set up spacing constraint wrapper function\n",
    "function spacing_wrapper(x, params)\n",
    "    # get number of turbines\n",
    "    nturbines = Int(length(x)/2)\n",
    "\n",
    "    # extract x and y locations of turbines from design variables vector\n",
    "    turbine_x = x[1:nturbines]\n",
    "    turbine_y = x[nturbines+1:end]\n",
    "\n",
    "    # get and return spacing distances\n",
    "    return 2.0*params.rotor_diameter[1] .- ff.turbine_spacing(turbine_x,turbine_y)\n",
    "end\n",
    "\n",
    "# set up objective wrapper function\n",
    "function aep_wrapper(x, params)\n",
    "    # get number of turbines\n",
    "    nturbines = Int(length(x)/2)\n",
    "\n",
    "    # extract x and y locations of turbines from design variables vector\n",
    "    turbine_x = x[1:nturbines] \n",
    "    turbine_y = x[nturbines+1:end]\n",
    "\n",
    "    # calculate AEP\n",
    "    AEP = obj_scale*ff.calculate_aep(turbine_x, turbine_y, params.turbine_z, params.rotor_diameter,\n",
    "                params.hub_height, params.turbine_yaw, params.ct_models, params.generator_efficiency, params.cut_in_speed,\n",
    "                params.cut_out_speed, params.rated_speed, params.rated_power, params.windresource, params.power_models, params.model_set,\n",
    "                rotor_sample_points_y=params.rotor_points_y,rotor_sample_points_z=params.rotor_points_z, hours_per_year=365.0*24.0)\n",
    "    \n",
    "    # return the objective as an array\n",
    "    return [AEP]\n",
    "end\n",
    "\n",
    "# set up optimization problem wrapper function\n",
    "function wind_farm_opt(x)\n",
    "\n",
    "    # calculate spacing constraint value and jacobian\n",
    "    spacing_con = spacing_wrapper(x)\n",
    "    ds_dx = ForwardDiff.jacobian(spacing_wrapper, x)\n",
    "    \n",
    "    # calculate boundary constraint and jacobian\n",
    "    boundary_con = boundary_wrapper(x)\n",
    "    db_dx = ForwardDiff.jacobian(boundary_wrapper, x)\n",
    "\n",
    "    # combine constaint values and jacobians into overall constaint value and jacobian arrays\n",
    "    c = [spacing_con; boundary_con]\n",
    "    dcdx = [ds_dx; db_dx]\n",
    "\n",
    "    # calculate the objective function and jacobian (negative sign in order to maximize AEP)\n",
    "    AEP = -aep_wrapper(x)[1]\n",
    "    dAEP_dx = -ForwardDiff.jacobian(aep_wrapper,x)\n",
    "\n",
    "    # set fail flag to false\n",
    "    fail = false\n",
    "\n",
    "    # return objective, constraint, and jacobian values\n",
    "    return AEP, c, dAEP_dx, dcdx, fail\n",
    "end"
   ]
  },
  {
   "cell_type": "code",
   "execution_count": 4,
   "metadata": {},
   "outputs": [],
   "source": [
    "# import model set with wind farm and related details\n",
    "include(\"./model_sets/model_set_7_ieacs4.jl\")\n",
    "\n",
    "# scale objective to be between 0 and 1\n",
    "obj_scale = 1E-11\n",
    "\n",
    "# set globals for use in wrapper functions\n",
    "struct params_struct{}\n",
    "    model_set\n",
    "    rotor_points_y\n",
    "    rotor_points_z\n",
    "    turbine_z\n",
    "    ambient_ti\n",
    "    rotor_diameter\n",
    "    bndry_x_clsd\n",
    "    bndry_y_clsd\n",
    "    num_bndry_verts\n",
    "    bndry_corner_indcies\n",
    "    turbs_per_region\n",
    "    obj_scale\n",
    "    hub_height\n",
    "    turbine_yaw\n",
    "    ct_models\n",
    "    generator_efficiency\n",
    "    cut_in_speed\n",
    "    cut_out_speed\n",
    "    rated_speed\n",
    "    rated_power\n",
    "    windresource\n",
    "    power_models\n",
    "end"
   ]
  },
  {
   "cell_type": "code",
   "execution_count": 3,
   "metadata": {
    "code_folding": [
     40
    ]
   },
   "outputs": [
    {
     "name": "stderr",
     "output_type": "stream",
     "text": [
      "┌ Info: Precompiling FlowFarm [eb2d4cfc-2064-11ea-0a1c-63d372e6a848]\n",
      "└ @ Base loading.jl:1260\n",
      "┌ Warning: Package FlowFarm does not have ForwardDiff in its dependencies:\n",
      "│ - If you have FlowFarm checked out for development and have\n",
      "│   added ForwardDiff as a dependency but haven't updated your primary\n",
      "│   environment's manifest file, try `Pkg.resolve()`.\n",
      "│ - Otherwise you may need to report an issue with FlowFarm\n",
      "└ Loading ForwardDiff into FlowFarm from project dependency, future warnings for FlowFarm are suppressed.\n",
      "┌ Info: Precompiling PyPlot [d330b81b-6aea-500a-939a-2ce795aea3ee]\n",
      "└ @ Base loading.jl:1260\n",
      "┌ Info: Precompiling CSV [336ed68f-0bac-5ca0-87d4-7b16caf5d00b]\n",
      "└ @ Base loading.jl:1260\n"
     ]
    },
    {
     "data": {
      "text/plain": [
       "wind_farm_opt (generic function with 1 method)"
      ]
     },
     "execution_count": 3,
     "metadata": {},
     "output_type": "execute_result"
    }
   ],
   "source": [
    "using FlowFarm; const ff = FlowFarm\n",
    "using Snopt\n",
    "using DelimitedFiles \n",
    "using PyPlot\n",
    "import ForwardDiff\n",
    "using CSV\n",
    "using DataFrames\n",
    "\n",
    "# set up boundary constraint wrapper function\n",
    "function boundary_wrapper(x, params)\n",
    "    # get number of turbines\n",
    "    nturbines = Int(length(x)/2)\n",
    "\n",
    "    # extract x and y locations of turbines from design variables vector\n",
    "    turbine_x = x[1:nturbines]\n",
    "    turbine_y = x[nturbines+1:end]\n",
    "\n",
    "    # get and return boundary distances\n",
    "    boundcon_a = ff.ray_trace_boundary(params.boundary_vertices_a, params.boundary_normals_a, turbine_x[1:31], turbine_y[1:31])\n",
    "    boundcon_b = ff.ray_trace_boundary(params.boundary_vertices_b, params.boundary_normals_b, turbine_x[32:42], turbine_y[32:42])\n",
    "    boundcon_c = ff.ray_trace_boundary(params.boundary_vertices_c, params.boundary_normals_c, turbine_x[43:58], turbine_y[43:58])\n",
    "    boundcon_d = ff.ray_trace_boundary(params.boundary_vertices_d, params.boundary_normals_d, turbine_x[59:72], turbine_y[59:72])\n",
    "    boundcon_e = ff.ray_trace_boundary(params.boundary_vertices_e, params.boundary_normals_e, turbine_x[73:81], turbine_y[73:81])\n",
    "end\n",
    "\n",
    "# set up spacing constraint wrapper function\n",
    "function spacing_wrapper(x, params)\n",
    "    # get number of turbines\n",
    "    nturbines = Int(length(x)/2)\n",
    "\n",
    "    # extract x and y locations of turbines from design variables vector\n",
    "    turbine_x = x[1:nturbines]\n",
    "    turbine_y = x[nturbines+1:end]\n",
    "\n",
    "    # get and return spacing distances\n",
    "    return 2.0*params.rotor_diameter[1] .- ff.turbine_spacing(turbine_x,turbine_y)\n",
    "end\n",
    "\n",
    "# set up objective wrapper function\n",
    "function aep_wrapper(x, params)\n",
    "    # get number of turbines\n",
    "    nturbines = Int(length(x)/2)\n",
    "\n",
    "    # extract x and y locations of turbines from design variables vector\n",
    "    turbine_x = x[1:nturbines] \n",
    "    turbine_y = x[nturbines+1:end]\n",
    "\n",
    "    # calculate AEP\n",
    "    AEP = obj_scale*ff.calculate_aep(turbine_x, turbine_y, params.turbine_z, params.rotor_diameter,\n",
    "                params.hub_height, params.turbine_yaw, params.ct_models, params.generator_efficiency, params.cut_in_speed,\n",
    "                params.cut_out_speed, params.rated_speed, params.rated_power, params.windresource, params.power_models, params.model_set,\n",
    "                rotor_sample_points_y=params.rotor_points_y,rotor_sample_points_z=params.rotor_points_z, hours_per_year=365.0*24.0)\n",
    "    \n",
    "    # return the objective as an array\n",
    "    return [AEP]\n",
    "end\n",
    "\n",
    "# set up optimization problem wrapper function\n",
    "function wind_farm_opt(x)\n",
    "\n",
    "    # calculate spacing constraint value and jacobian\n",
    "    spacing_con = spacing_wrapper(x)\n",
    "    ds_dx = ForwardDiff.jacobian(spacing_wrapper, x)\n",
    "    \n",
    "    # calculate boundary constraint and jacobian\n",
    "    boundary_con = boundary_wrapper(x)\n",
    "    db_dx = ForwardDiff.jacobian(boundary_wrapper, x)\n",
    "\n",
    "    # combine constaint values and jacobians into overall constaint value and jacobian arrays\n",
    "    c = [spacing_con; boundary_con]\n",
    "    dcdx = [ds_dx; db_dx]\n",
    "\n",
    "    # calculate the objective function and jacobian (negative sign in order to maximize AEP)\n",
    "    AEP = -aep_wrapper(x)[1]\n",
    "    dAEP_dx = -ForwardDiff.jacobian(aep_wrapper,x)\n",
    "\n",
    "    # set fail flag to false\n",
    "    fail = false\n",
    "\n",
    "    # return objective, constraint, and jacobian values\n",
    "    return AEP, c, dAEP_dx, dcdx, fail\n",
    "end"
   ]
  },
  {
   "cell_type": "markdown",
   "metadata": {},
   "source": [
    "# Ray_Trace Jacobian Benchmark"
   ]
  },
  {
   "cell_type": "code",
   "execution_count": 8,
   "metadata": {
    "scrolled": true
   },
   "outputs": [
    {
     "data": {
      "text/plain": [
       "BenchmarkTools.Trial: \n",
       "  memory estimate:  2.96 MiB\n",
       "  allocs estimate:  10323\n",
       "  --------------\n",
       "  minimum time:     969.845 μs (0.00% GC)\n",
       "  median time:      1.095 ms (0.00% GC)\n",
       "  mean time:        1.457 ms (18.84% GC)\n",
       "  maximum time:     11.371 ms (84.17% GC)\n",
       "  --------------\n",
       "  samples:          3421\n",
       "  evals/sample:     1"
      ]
     },
     "execution_count": 8,
     "metadata": {},
     "output_type": "execute_result"
    }
   ],
   "source": [
    "@benchmark ForwardDiff.jacobian(boundary_wrapper, x) setup=(x=xinit)"
   ]
  }
 ],
 "metadata": {
  "kernelspec": {
   "display_name": "Julia 1.4.2",
   "language": "julia",
   "name": "julia-1.4"
  },
  "language_info": {
   "file_extension": ".jl",
   "mimetype": "application/julia",
   "name": "julia",
   "version": "1.4.2"
  }
 },
 "nbformat": 4,
 "nbformat_minor": 4
}
