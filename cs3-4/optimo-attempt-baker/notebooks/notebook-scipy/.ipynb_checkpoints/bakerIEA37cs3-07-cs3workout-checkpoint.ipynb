{
 "cells": [
  {
   "cell_type": "markdown",
   "metadata": {},
   "source": [
    "# Optimization of IEA case\n",
    "`1000.26.Feb.20`"
   ]
  },
  {
   "cell_type": "markdown",
   "metadata": {
    "heading_collapsed": true
   },
   "source": [
    "## Explanation"
   ]
  },
  {
   "cell_type": "markdown",
   "metadata": {
    "hidden": true
   },
   "source": [
    "Having not yet completed the mapping algorithm, I need to move ahead with a simpler optimization. I'll divide the space into vertical slices, and make a switch statement to see what zone we''re in, and if it's valid. Below will be the code for that."
   ]
  },
  {
   "cell_type": "markdown",
   "metadata": {},
   "source": [
    "## Load area and split"
   ]
  },
  {
   "cell_type": "code",
   "execution_count": 30,
   "metadata": {
    "code_folding": []
   },
   "outputs": [],
   "source": [
    "#- Rip the boundary coordinates from the .yaml file and print -#\n",
    "from scipy.optimize import minimize\n",
    "import scipy.spatial.distance as ssd\n",
    "import random\n",
    "\n",
    "%run \"../baker_cs34_functions.py\"\n",
    "%run \"../iea37_aepcalc.py\"\n",
    "fn = \"../../startup-files/iea37-boundary-cs3.yaml\"\n",
    "bndryPts = getTurbAtrbtCs3YAML(fn)\n",
    "coordList = closeBndryList(bndryPts)    # Duplicate the first coordinate for a closed boundary\n",
    "fname_turb = \"../../startup-files/iea37-10mw.yaml\"\n",
    "fname_wr = \"../../startup-files/iea37-windrose-cs3.yaml\"\n",
    "wind_dir, wind_dir_freq, wind_speeds, wind_speed_probs, num_speed_bins, min_speed, max_speed = iea37aepC.getWindRoseYAML(\n",
    "    fname_wr)\n",
    "turb_ci, turb_co, rated_ws, rated_pwr, turb_diam = iea37aepC.getTurbAtrbtYAML(\n",
    "    fname_turb)\n",
    "\n",
    "numTurbs = 25\n",
    "scaledAEP = 1e5\n",
    "scaledTC = 1e3\n",
    "Args = dict([('wind_dir_freq', wind_dir_freq), \\\n",
    "                ('wind_speeds', wind_speeds), \\\n",
    "                ('wind_speed_probs', wind_speed_probs), \\\n",
    "                ('wind_dir', wind_dir), \\\n",
    "                ('turb_diam', turb_diam), \\\n",
    "                ('turb_ci', turb_ci), \\\n",
    "                ('turb_co', turb_co), \\\n",
    "                ('rated_ws', rated_ws), \\\n",
    "                ('rated_pwr', rated_pwr), \\\n",
    "                ('fAEPscale', scaledAEP), \\\n",
    "                ('fTCscale', scaledTC)])#,\n",
    "                #('fMinTurbDist', fMinTurbDist)])"
   ]
  },
  {
   "cell_type": "code",
   "execution_count": 5,
   "metadata": {
    "code_folding": []
   },
   "outputs": [
    {
     "name": "stdout",
     "output_type": "stream",
     "text": [
      "The splined boundary and the defining coordinates:\n"
     ]
    },
    {
     "data": {
      "image/png": "[encoded data removed]",
      "text/plain": [
       "<Figure size 432x288 with 1 Axes>"
      ]
     },
     "metadata": {
      "needs_background": "light"
     },
     "output_type": "display_data"
    }
   ],
   "source": [
    "#-- Plot the boundary (modelled with splines) --#\n",
    "displaySize = np.recarray(1, coordinate)\n",
    "displaySize.x = 10\n",
    "displaySize.y = 10\n",
    "numLinspace = 10\n",
    "numGridLines = 10                   # How many gridlines we'll use for the visualization\n",
    "printOffset = (5, 5)\n",
    "clsdBP = closeBndryList(bndryPts)\n",
    "vertexList = [0, 6, 8, 9, 18]       # Hard code the vertices (though this could be done algorithmically)\n",
    "numSides = len(vertexList) - 1      # The number of sides for our original coordinate system. Usually (4) to Euclidean, but could be any number)\n",
    "\n",
    "scaleAEP = 1e5\n",
    "scaleTurbCoord = 1e3\n",
    "\n",
    "#-- Spline the boundary --#\n",
    "splineList = np.empty(numSides, interp1d)                  # Init. array IOT save the Splines for each \"side\"\n",
    "buf = np.zeros((numSides, numGridLines, 2))                # Used to initalize the recarray to zeros\n",
    "segCoordList = np.recarray([numSides, numGridLines], dtype=coordinate, buf=buf)\n",
    "\n",
    "#- Create the splines for each side (<numSides> many)-#\n",
    "for i in range(numSides):\n",
    "    BndPts = clsdBP[vertexList[i]:(vertexList[i+1]+1)]      # Extract the points for the \"edge\" we want\n",
    "    segCoordList[i] = sliceBoundary(BndPts, numGridLines)    # Reparameterize the boundry to be defined by <numGridLines> many points\n",
    "    splineList[i] = interp1d(segCoordList[i].x, segCoordList[i].y, kind='linear')   # Make the spline using NumPy's <interp1d>\n",
    "    \n",
    "print(\"The splined boundary and the defining coordinates:\")\n",
    "for i in range(numSides):\n",
    "    plt.hold = True\n",
    "    printBoundaryArray(segCoordList[i].x, splineList[i](segCoordList[i].x), 1)\n",
    "\n",
    "#for i in vertexList:                         # Number the vertices\n",
    "for i in range(len(clsdBP)):                         # Number the vertices\n",
    "    plt.plot(clsdBP[i].x, clsdBP[i].y, 'o', color=(getPltClrs().getColor(5)))\n",
    "    plt.annotate(i, (clsdBP[i].x, clsdBP[i].y), xytext=printOffset, textcoords='offset points')\n"
   ]
  },
  {
   "cell_type": "code",
   "execution_count": 6,
   "metadata": {
    "code_folding": [
     0
    ]
   },
   "outputs": [],
   "source": [
    "#-- Split into vertical sections\n",
    "def getVertSectionLines(bndryPts, splineList, vertexList):\n",
    "    #-- Print the windfarm boundary, sliced at coordinates.\n",
    "    #-- bndryPts must be <np.ndarray> of type <coordinate>\n",
    "    \n",
    "    #- Make array of lines -#\n",
    "    buf = np.zeros((len(bndryPts)-1, 2, 2), dtype=coordinate)                # Start and end point for each coordinate's verticale line\n",
    "    regionLines = np.recarray((len(bndryPts)-1, 2), dtype=coordinate, buf=buf)  # Initialize some blank lines\n",
    "    # Outside vertecies are themselves\n",
    "    regionLines[0,0].x = bndryPts[0].x\n",
    "    regionLines[0,0].y = splineList[0](bndryPts[0].x)\n",
    "    regionLines[0,1] = regionLines[vertexList[0],0]\n",
    "\n",
    "    # points 1-6\n",
    "    for i in range(vertexList[0]+1, vertexList[1]+1):\n",
    "        # Start point\n",
    "        regionLines[i,0].x = bndryPts[i].x\n",
    "        regionLines[i,0].y = bndryPts[i].y\n",
    "        # End point\n",
    "        regionLines[i,1].x = regionLines[i,0].x\n",
    "        regionLines[i,1].y = splineList[3](bndryPts[i].x)\n",
    "\n",
    "    # point 7\n",
    "    for i in range(vertexList[1]+1, vertexList[2]):\n",
    "        # Start point\n",
    "        regionLines[i,0].x = bndryPts[i].x\n",
    "        regionLines[i,0].y = bndryPts[i].y\n",
    "        # End point\n",
    "        regionLines[i,1].x = regionLines[i,0].x\n",
    "        regionLines[i,1].y = splineList[2](bndryPts[i].x)\n",
    "        \n",
    "    # Outside vertex is itself\n",
    "    regionLines[vertexList[2],0].x = bndryPts[8].x\n",
    "    regionLines[vertexList[2],0].y = bndryPts[8].y\n",
    "    regionLines[vertexList[2],1] = regionLines[vertexList[2],0]\n",
    "\n",
    "    # points 8-12\n",
    "    for i in range(vertexList[2]+1, 13):\n",
    "        # Start point\n",
    "        regionLines[i,0].x = bndryPts[i].x\n",
    "        regionLines[i,0].y = bndryPts[i].y\n",
    "        # End point\n",
    "        regionLines[i,1].x = regionLines[i,0].x\n",
    "        regionLines[i,1].y = splineList[1](bndryPts[i].x)\n",
    "    \n",
    "    # points 13-17\n",
    "    for i in range(13, vertexList[4]):\n",
    "        # Start point\n",
    "        regionLines[i,0].x = bndryPts[i].x\n",
    "        regionLines[i,0].y = bndryPts[i].y\n",
    "        # End point\n",
    "        regionLines[i,1].x = regionLines[i,0].x\n",
    "        regionLines[i,1].y = splineList[0](bndryPts[i].x)\n",
    "    \n",
    "    # Sort so it's from left to right instead of clockwise around the boundary\n",
    "    regionLines.sort(axis=0)\n",
    "    \n",
    "    return regionLines\n"
   ]
  },
  {
   "cell_type": "code",
   "execution_count": 8,
   "metadata": {
    "code_folding": [
     0
    ]
   },
   "outputs": [
    {
     "data": {
      "image/png": "[encoded data removed]",
      "text/plain": [
       "<Figure size 432x288 with 1 Axes>"
      ]
     },
     "metadata": {
      "needs_background": "light"
     },
     "output_type": "display_data"
    }
   ],
   "source": [
    "#-- Print the new splits --#\n",
    "# Reprint Boundary\n",
    "for i in range(numSides):\n",
    "    plt.hold = True\n",
    "    printBoundaryArray(segCoordList[i].x, splineList[i](segCoordList[i].x), 1)\n",
    "\n",
    "# Calculate and split into sections (the new thing)\n",
    "regionLines = getVertSectionLines(coordList, splineList, vertexList)\n",
    "for i in range(len(regionLines)):\n",
    "    plt.plot([regionLines[i,0].x, regionLines[i,1].x], [regionLines[i,0].y, regionLines[i,1].y])\n",
    "    #plt.annotate(i, xy=(regionLines[i,0].x, regionLines[i,0].y), xytext=printOffset, textcoords='offset points')\n",
    "#plt.savefig(\"./figures/cs3slices.pdf\")"
   ]
  },
  {
   "cell_type": "markdown",
   "metadata": {},
   "source": [
    "`1308.26.Feb.20`\n",
    "\n",
    "Well that took much longer than expected, but now I've sectioned it off into segments.\n",
    "\n",
    "`1332.26.Feb.20`\n",
    "\n",
    "I next ordered them from left to right instead of in clockwise order of originating vertex, and will use those for the optimization."
   ]
  },
  {
   "cell_type": "markdown",
   "metadata": {},
   "source": [
    "## Setup optimization and constraints\n",
    "`1412.26.Feb.20`"
   ]
  },
  {
   "cell_type": "markdown",
   "metadata": {},
   "source": [
    "Now I'll have to learn pyoptsparse or some Python optimizer to find some good turbine locaitons."
   ]
  },
  {
   "cell_type": "markdown",
   "metadata": {},
   "source": [
    "### Coordinate Formatting\n",
    "`1412.26.Feb.20`"
   ]
  },
  {
   "cell_type": "markdown",
   "metadata": {},
   "source": [
    "Listing the constraints, we have:\n",
    "\n",
    "1. Turbines can't be within two diametes of each other\n",
    "2. Stepping between each of the 17 x-regions, must be above or below bounding lines.\n",
    "\n",
    "I'll have to write some quick fuctions that strip the coordinate values from <coord> types to a list of numbers for the optimizer to modify."
   ]
  },
  {
   "cell_type": "code",
   "execution_count": 9,
   "metadata": {
    "code_folding": []
   },
   "outputs": [],
   "source": [
    "def makeCoordArray(turb_coords):\n",
    "    # Takes coordinates in form turb_coords.x and .y and flattens them into a\n",
    "    # single array. For optimizer to use.\n",
    "    x0 = np.dstack((turb_coords.x, turb_coords.y)).flatten()\n",
    "    return x0\n",
    "\n",
    "def makeCoordStruct(x0):\n",
    "    # Takes coordinates in an [x1,y1,x2,y2...] line and puts them into the form turb_coords.x and .y\n",
    "    # For optimzer use.\n",
    "    nNumRtrs = int(len(x0)/2)\n",
    "    coordList = np.recarray(nNumRtrs, coordinate)\n",
    "    \n",
    "    coordMat = x0.reshape((nNumRtrs, 2))\n",
    "    coordList.x = coordMat[:,0]\n",
    "    coordList.y = coordMat[:,1]\n",
    "    \n",
    "    return coordList\n",
    "\n",
    "def makeCoordMatrix(x0):\n",
    "    # Makes an Mx2 matrix where [0,1] = [x,y]\n",
    "    # For scipy.spatial.distance.pdist() function\n",
    "    nNumRtrs = int(len(x0)/2)\n",
    "    coordMat = x0.reshape((nNumRtrs, 2))\n",
    "    return coordMat\n",
    "\n",
    "def makeFirstCoordStruct(turb_coords):\n",
    "    # Takes ripped .yaml coordinates and puts them into our struct format.\n",
    "    # Only needs to be done once at the beginning.\n",
    "    nNumRtrs = len(turb_coords)\n",
    "    coordList = np.recarray(nNumRtrs, coordinate)\n",
    "    \n",
    "    coordList.x = turb_coords[:, 0]\n",
    "    coordList.y = turb_coords[:, 1]\n",
    "\n",
    "    return coordList"
   ]
  },
  {
   "cell_type": "markdown",
   "metadata": {},
   "source": [
    "### Target Function Format\n",
    "`2002.26.Feb.20`"
   ]
  },
  {
   "cell_type": "markdown",
   "metadata": {},
   "source": [
    "Now that both of those work, I need to figure out how to get the target function in the correct format."
   ]
  },
  {
   "cell_type": "code",
   "execution_count": 31,
   "metadata": {
    "code_folding": [
     9,
     46
    ]
   },
   "outputs": [
    {
     "name": "stdout",
     "output_type": "stream",
     "text": [
      "-10.650408654097157\n"
     ]
    }
   ],
   "source": [
    "def optimoFun(x0, args):\n",
    "    newCoords = makeArrayMatrix(x0) * scaleTurbCoord\n",
    "    \n",
    "    dirAEP = iea37aepC.calcAEPcs3(newCoords, args['wind_dir_freq'], args['wind_speeds'], args['wind_speed_probs'], args['wind_dir'], args['turb_diam'], args['turb_ci'], args['turb_co'], args['rated_ws'], args['rated_pwr'])\n",
    "    scaledAEP = dirAEP / args['fAEPscale']\n",
    "    return -np.sum(scaledAEP)\n",
    "    #return np.sum(dirAEP)\n",
    "    \n",
    "def optimoStripArgTuples(args):\n",
    "    # Takes the passed array and strips items into their proper variables.\n",
    "    cntr = 0\n",
    "    wind_dir_freq_len = int(args[0])\n",
    "    cntr = cntr + 1\n",
    "    wind_dir_freq = args[cntr:(wind_dir_freq_len + cntr)]\n",
    "    cntr = cntr + wind_dir_freq_len    \n",
    "    wind_speeds_len = int(args[cntr])\n",
    "    cntr = cntr + 1\n",
    "    wind_speeds = args[cntr:(wind_speeds_len + cntr)]\n",
    "    cntr = cntr + wind_speeds_len\n",
    "    wind_speed_prob_len = int(args[cntr])\n",
    "    cntr = cntr + 1\n",
    "    wind_speed_prob_wid = int(args[cntr])\n",
    "    cntr = cntr + 1\n",
    "    wind_speed_prob_size = wind_speed_prob_len * wind_speed_prob_wid\n",
    "    wind_speed_probs = args[cntr:(wind_speed_prob_size + cntr)]\n",
    "    wind_speed_probs = wind_speed_probs.reshape(wind_speed_prob_len, wind_speed_prob_wid)\n",
    "    cntr = cntr + wind_speed_prob_size\n",
    "    wind_dir_len = int(args[cntr])\n",
    "    cntr = cntr + 1\n",
    "    wind_dir = args[cntr:(wind_dir_len + cntr)]\n",
    "    cntr = cntr + wind_dir_len\n",
    "    turb_diam = float(args[cntr])\n",
    "    cntr = cntr + 1\n",
    "    turb_ci = float(args[cntr])\n",
    "    cntr = cntr + 1\n",
    "    turb_co = float(args[cntr])\n",
    "    cntr = cntr + 1\n",
    "    rated_ws = float(args[cntr])\n",
    "    cntr = cntr + 1\n",
    "    rated_pwr = float(args[cntr])\n",
    "    cntr = cntr + 1\n",
    "        \n",
    "    return [wind_dir_freq, wind_speeds, wind_speed_probs, wind_dir,\n",
    "            turb_diam, turb_ci, turb_co, rated_ws, rated_pwr]\n",
    "\n",
    "def optimoMakeArgTuples(wind_dir_freq, wind_speeds, wind_speed_probs, wind_dir, turb_diam, turb_ci, turb_co, rated_ws, rated_pwr):\n",
    "    # Takes the list of passed variables and concatenates them into one long array with size markers for matricies\n",
    "    wind_speed_probs_size = len(wind_speed_probs) * len(wind_speed_probs[0])\n",
    "    argLen = len(wind_dir_freq) \\\n",
    "                + len(wind_speeds) \\\n",
    "                + wind_speed_probs_size \\\n",
    "                + len(wind_dir) \\\n",
    "                + 4 \\\n",
    "                + 6 # 4 For lengths of first four entries\n",
    "                # 5 For single element items <turb_diam, turb_ci, turb_co, rated_ws, rated_pwr>\n",
    "    \n",
    "    args = np.zeros(argLen)\n",
    "    cntr = 0  # Where we are right now.\n",
    "\n",
    "    args[0] = len(wind_dir_freq)\n",
    "    cntr = cntr + 1\n",
    "    args[cntr:(len(wind_dir_freq)+cntr)] = wind_dir_freq\n",
    "    cntr = cntr + len(wind_dir_freq)\n",
    "    args[cntr] = len(wind_speeds)\n",
    "    cntr = cntr + 1\n",
    "    args[cntr:len(wind_speeds)+cntr] = wind_speeds\n",
    "    cntr = cntr + len(wind_speeds)\n",
    "    args[cntr] = len(wind_speed_probs)\n",
    "    cntr = cntr + 1\n",
    "    args[cntr] = len(wind_speed_probs[0])\n",
    "    cntr = cntr + 1\n",
    "    args[cntr:wind_speed_probs_size+cntr] = np.asarray(wind_speed_probs).reshape(-1)\n",
    "    cntr = cntr + wind_speed_probs_size\n",
    "    args[cntr] = len(wind_dir)\n",
    "    cntr = cntr + 1\n",
    "    args[cntr:len(wind_dir)+cntr] = wind_dir\n",
    "    cntr = cntr + len(wind_dir)\n",
    "    args[cntr] = turb_diam\n",
    "    cntr = cntr + 1\n",
    "    args[cntr] = turb_ci\n",
    "    cntr = cntr + 1\n",
    "    args[cntr] = turb_co\n",
    "    cntr = cntr + 1\n",
    "    args[cntr] = rated_ws\n",
    "    cntr = cntr + 1\n",
    "    args[cntr] = rated_pwr\n",
    "    \n",
    "    return args\n",
    "\n",
    "#-- Verify --#\n",
    "#testArgs = optimoMakeArgTuples(wind_dir_freq, wind_speeds, wind_speed_probs, wind_dir, turb_diam, turb_ci, turb_co, rated_ws, rated_pwr)\n",
    "#testx1 = makeFirstCoordStruct(turb_coords)\n",
    "testx0 = makeCoordArray(turbRandoList)\n",
    "#print(turb_coords)\n",
    "#testx0 = makeCoordMatrix(turb_coords)\n",
    "testAEP = optimoFun(testx0, Args)\n",
    "print(testAEP)\n"
   ]
  },
  {
   "cell_type": "markdown",
   "metadata": {},
   "source": [
    "It took some work, but those functions to smash all the arguments together and pull them back again now work. They need to be in a single tupled list for `scipy.optimize()` to work.\n",
    "\n",
    "Now to figure out how to setup the constraints."
   ]
  },
  {
   "cell_type": "markdown",
   "metadata": {},
   "source": [
    "### Random Turbine Starts\n",
    "`2340.26.Feb.20`"
   ]
  },
  {
   "cell_type": "markdown",
   "metadata": {},
   "source": [
    "Ok I figured out how to calculate the spacing constraints (that no turbine is within two diameters of another):"
   ]
  },
  {
   "cell_type": "code",
   "execution_count": 39,
   "metadata": {
    "code_folding": [
     30
    ]
   },
   "outputs": [],
   "source": [
    "def iea37cs3randomstarts(numTurbs, splineList, vertexList, bndryPts, turb_diam):\n",
    "    #-- Initialize our array --#\n",
    "    buf = np.zeros((numTurbs,2))\n",
    "    turbRandoList = np.recarray((numTurbs), dtype=coordinate, buf=buf)\n",
    "    minTurbDist = 2*turb_diam\n",
    "\n",
    "    #-- Get the x-values --#\n",
    "    xmin = bndryPts[vertexList[2]].x   # Our minimum x-value\n",
    "    xmax = bndryPts[vertexList[0]].x   # our maximum x-value\n",
    "    for i in range(numTurbs):\n",
    "        turbRandoList[i].x = random.uniform(xmin, xmax)\n",
    "\n",
    "    #-- Get the y-values --#\n",
    "    #- Determine the upper and lower splines to use for the given x -#\n",
    "    # Fake for-loop here for proximity checking.\n",
    "    i = 0\n",
    "    while i<numTurbs:\n",
    "        ymin,ymax = getUpDwnYvals(turbRandoList[i].x, splineList, vertexList, bndryPts)\n",
    "        turbRandoList[i].y = random.uniform(ymin, ymax) # Get a random number in our bounds\n",
    "        # Check it doesn't conflict with nearby turbines\n",
    "        #for j in range(i): # Check only the ones we've place so far\n",
    "        #    # If this turbine has a proximity conflict\n",
    "        #    if (coordDist(turbRandoList[i], turbRandoList[j]) < minTurbDist):\n",
    "        #        turbRandoList[i].x = random.uniform(xmin, xmax) # Give it a new x-val\n",
    "        #        i = i-1 # Redo the y-val too\n",
    "        #        break # Stop checking for conflicts and redo the y-values\n",
    "        i = i+1\n",
    "\n",
    "    return turbRandoList\n",
    "\n",
    "def getUpDwnYvals(xCoord, splineList, vertexList, bndryPts):\n",
    "    # Given there are 4 splines (with 0&1 below, 2&3 above),\n",
    "    # returns the indecies of splines the given x-coord falls between\n",
    "    \n",
    "    #-- Upper. If it's out of bounds\n",
    "    if (xCoord < bndryPts[vertexList[2]].x):\n",
    "        ymax = bndryPts[vertexList[2]].y # Give it the y-value of our leftmost point\n",
    "    # If it's to the left of the right upper spline\n",
    "    elif (xCoord < bndryPts[vertexList[3]].x):\n",
    "        ymax = splineList[2](xCoord)  # Make it the left upper spline\n",
    "    # If it's to the left of the rightmost point\n",
    "    elif (xCoord < bndryPts[vertexList[0]].x):\n",
    "        ymax = splineList[3](xCoord)  # Make it the left upper spline\n",
    "    else:\n",
    "        ymax = bndryPts[vertexList[0]].y # Give it the y-value of our rightmost point\n",
    "\n",
    "    #-- Lower. If it's to the left of the right lower spline\n",
    "    if (xCoord < bndryPts[vertexList[2]].x):\n",
    "        ymin = bndryPts[vertexList[2]].y # Give it the y-value of our leftmost point\n",
    "    elif (xCoord < bndryPts[vertexList[1]].x):\n",
    "        ymin = splineList[1](xCoord) # Make it the left upper spline\n",
    "    elif (xCoord < bndryPts[vertexList[0]].x):\n",
    "        ymin = splineList[0](xCoord)\n",
    "    else:\n",
    "        ymin = bndryPts[vertexList[0]].y # Give it the y-value of our rightmost point\n",
    "    \n",
    "    return ymin,ymax\n",
    "\n",
    "#-- Testing --#\n",
    "numTurbs = 25\n",
    "turbRandoList = iea37cs3randomstarts(numTurbs, splineList, vertexList, bndryPts, turb_diam)"
   ]
  },
  {
   "cell_type": "code",
   "execution_count": 44,
   "metadata": {},
   "outputs": [
    {
     "ename": "TypeError",
     "evalue": "printBoundaryArray() takes 3 positional arguments but 4 were given",
     "output_type": "error",
     "traceback": [
      "\u001b[1;31m---------------------------------------------------------------------------\u001b[0m",
      "\u001b[1;31mTypeError\u001b[0m                                 Traceback (most recent call last)",
      "\u001b[1;32m<ipython-input-44-f8f92858ed17>\u001b[0m in \u001b[0;36m<module>\u001b[1;34m\u001b[0m\n\u001b[0;32m      2\u001b[0m \u001b[1;32mfor\u001b[0m \u001b[0mi\u001b[0m \u001b[1;32min\u001b[0m \u001b[0mrange\u001b[0m\u001b[1;33m(\u001b[0m\u001b[0mnumSides\u001b[0m\u001b[1;33m)\u001b[0m\u001b[1;33m:\u001b[0m\u001b[1;33m\u001b[0m\u001b[1;33m\u001b[0m\u001b[0m\n\u001b[0;32m      3\u001b[0m     \u001b[0mplt\u001b[0m\u001b[1;33m.\u001b[0m\u001b[0mhold\u001b[0m \u001b[1;33m=\u001b[0m \u001b[1;32mTrue\u001b[0m\u001b[1;33m\u001b[0m\u001b[1;33m\u001b[0m\u001b[0m\n\u001b[1;32m----> 4\u001b[1;33m     \u001b[0mprintBoundaryArray\u001b[0m\u001b[1;33m(\u001b[0m\u001b[0msegCoordList\u001b[0m\u001b[1;33m[\u001b[0m\u001b[0mi\u001b[0m\u001b[1;33m]\u001b[0m\u001b[1;33m.\u001b[0m\u001b[0mx\u001b[0m\u001b[1;33m,\u001b[0m \u001b[0msplineList\u001b[0m\u001b[1;33m[\u001b[0m\u001b[0mi\u001b[0m\u001b[1;33m]\u001b[0m\u001b[1;33m(\u001b[0m\u001b[0msegCoordList\u001b[0m\u001b[1;33m[\u001b[0m\u001b[0mi\u001b[0m\u001b[1;33m]\u001b[0m\u001b[1;33m.\u001b[0m\u001b[0mx\u001b[0m\u001b[1;33m)\u001b[0m\u001b[1;33m,\u001b[0m \u001b[1;36m5\u001b[0m\u001b[1;33m,\u001b[0m\u001b[1;32mTrue\u001b[0m\u001b[1;33m)\u001b[0m\u001b[1;33m\u001b[0m\u001b[1;33m\u001b[0m\u001b[0m\n\u001b[0m\u001b[0;32m      5\u001b[0m \u001b[1;33m\u001b[0m\u001b[0m\n\u001b[0;32m      6\u001b[0m \u001b[1;31m#-- Plot the turbine locations --#\u001b[0m\u001b[1;33m\u001b[0m\u001b[1;33m\u001b[0m\u001b[1;33m\u001b[0m\u001b[0m\n",
      "\u001b[1;31mTypeError\u001b[0m: printBoundaryArray() takes 3 positional arguments but 4 were given"
     ]
    }
   ],
   "source": [
    "#-- Plot the boundary --#\n",
    "for i in range(numSides):\n",
    "    plt.hold = True\n",
    "    printBoundaryArray(segCoordList[i].x, splineList[i](segCoordList[i].x), 5)\n",
    "\n",
    "#-- Plot the turbine locations --#\n",
    "printTurbines(turbRandoList, getPltClrs().getColor(1), turb_diam/3)\n",
    "x0 = makeCoordArray(turbRandoList)/scaleTurbCoord\n",
    "startAEP = optimoFun(x0, Args)\n",
    "print(startAEP)"
   ]
  },
  {
   "cell_type": "markdown",
   "metadata": {},
   "source": [
    "### Spacing Constraint\n",
    "`2255.26.Feb.20`"
   ]
  },
  {
   "cell_type": "code",
   "execution_count": 43,
   "metadata": {},
   "outputs": [
    {
     "name": "stdout",
     "output_type": "stream",
     "text": [
      "[1. 1. 1. 1. 1. 1. 1. 1. 1. 1. 1. 1. 1. 1. 1. 1. 1. 1. 1. 1. 1. 1. 0. 1.\n",
      " 1. 1. 1. 1. 1. 1. 1. 1. 1. 1. 1. 1. 1. 1. 1. 1. 1. 1. 1. 1. 1. 1. 1. 1.\n",
      " 1. 1. 1. 1. 1. 1. 1. 1. 1. 1. 1. 1. 1. 1. 1. 1. 1. 1. 1. 1. 1. 1. 1. 1.\n",
      " 1. 1. 1. 1. 1. 1. 1. 1. 1. 1. 1. 1. 1. 1. 1. 1. 1. 1. 1. 1. 1. 1. 1. 1.\n",
      " 1. 1. 1. 1. 1. 1. 1. 1. 1. 1. 1. 1. 1. 1. 1. 1. 1. 1. 1. 0. 1. 1. 0. 1.\n",
      " 1. 1. 1. 1. 1. 1. 1. 1. 1. 1. 1. 1. 1. 1. 1. 1. 1. 1. 1. 1. 1. 1. 1. 1.\n",
      " 1. 0. 1. 1. 1. 1. 1. 1. 1. 1. 1. 1. 1. 1. 1. 1. 1. 1. 1. 0. 1. 1. 0. 1.\n",
      " 0. 1. 1. 1. 1. 1. 1. 1. 1. 0. 1. 1. 1. 1. 1. 1. 1. 1. 1. 1. 1. 1. 1. 1.\n",
      " 1. 1. 1. 1. 1. 1. 1. 1. 1. 1. 1. 1. 1. 1. 1. 1. 1. 1. 1. 1. 1. 1. 1. 0.\n",
      " 1. 1. 1. 1. 1. 1. 1. 1. 1. 1. 1. 1. 1. 1. 1. 1. 1. 1. 1. 1. 1. 1. 1. 1.\n",
      " 1. 1. 1. 1. 1. 1. 1. 1. 1. 1. 1. 1. 1. 1. 1. 1. 1. 1. 1. 1. 1. 1. 1. 1.\n",
      " 1. 1. 1. 1. 1. 1. 1. 1. 1. 1. 1. 1. 1. 1. 1. 1. 1. 1. 0. 1. 1. 1. 1. 1.\n",
      " 1. 1. 1. 1. 1. 1. 1. 1. 1. 1. 1. 1.]\n"
     ]
    }
   ],
   "source": [
    "def checkTurbSpacing(x0, fMinTurbDist):\n",
    "    #-- Returns an array of the distance between every pair of coordinates\n",
    "    x0s = makeArrayCoord(x0)\n",
    "    #-- turbCoords should be of <coordinate> type.\n",
    "    nNumTurbs = len(x0s)         # Our number of turbines\n",
    "    # Number of unique turbine pairs > C(numTurbs, 2) = numTurbs! / (2*(numTurbs-2)!).\n",
    "    nNumPairs = int(binom(nNumTurbs, 2))\n",
    "    # Array holding the dist. between each pair\n",
    "    fTurbSpace = np.zeros(nNumPairs)\n",
    "    bSpacing = np.ones(nNumPairs)  # False means pair is too close, True means they're ok\n",
    "\n",
    "    nCntr = 0  # Logs where on the list we are\n",
    "    for i in range(nNumTurbs):          # For every turbine\n",
    "        for j in range(i):              # Check the space between pairs we haven't calculated\n",
    "            fTurbSpace[nCntr] = coordDist(x0s[i], x0s[j])\n",
    "            if ((fTurbSpace[nCntr] - fMinTurbDist) < 0):\n",
    "                bSpacing[nCntr] = False\n",
    "            nCntr = nCntr + 1\n",
    "\n",
    "    # Constrain that the turbines are less than 2 diams apart\n",
    "    fSpaceConst = fTurbSpace - fMinTurbDist\n",
    "    return fSpaceConst, bSpacing  # Negative if ok, positive if too close\n",
    "\n",
    "#-- Validation --#\n",
    "x0 = makeCoordArray(turbRandoList)                # get it into a long array of [x1,y1,x2,y2,...]\n",
    "consTurbSpacing, bSpace = checkTurbSpacing(x0, turb_diam)\n",
    "#print(consTurbSpacing)\n",
    "print(bSpace)\n"
   ]
  },
  {
   "cell_type": "markdown",
   "metadata": {},
   "source": [
    "I figured out how to randomize the starting coordinates of the turbines:"
   ]
  },
  {
   "cell_type": "markdown",
   "metadata": {},
   "source": [
    "`0050.27.Feb.20`\n",
    "\n",
    "Actually had to rework that since it was having a spacing issue and generating turbines which violated the spacing constraint. I also made the check of `getUpDownYvals()` a seperate function for use elsewhere. Though it took an hour, I finally got that sorted out."
   ]
  },
  {
   "cell_type": "markdown",
   "metadata": {},
   "source": [
    "### Boundary Constraints\n",
    "`2340.26.Feb.20`"
   ]
  },
  {
   "cell_type": "markdown",
   "metadata": {},
   "source": [
    "Now I have to do the boundary constraints.\n",
    "\n",
    "Though it might be the sleep deprevation talking but I think that, like the random start function, I may only need to figure out which spline the turbine's x-coord falls under and over, and then it'll be easy to determine if it's in or out. I don't see how a gradient based optimizer will have difficulty with this, unless the boundary involves non-injective functions, which cs3 scenario does not."
   ]
  },
  {
   "cell_type": "code",
   "execution_count": 163,
   "metadata": {},
   "outputs": [
    {
     "name": "stdout",
     "output_type": "stream",
     "text": [
      "[1.46790111e+03 2.79759889e+03 2.24299494e+02 5.42665055e+03\n",
      " 1.17149458e+03 3.09400542e+03 2.26766473e+03 3.54698436e+03\n",
      " 1.85290454e+03 2.41259546e+03 5.03242612e+03 4.31718372e+02\n",
      " 2.52724059e+03 1.73825941e+03 2.70027104e+03 1.31714093e+03\n",
      " 7.04775444e+02 3.56072456e+03 4.00311285e+02 3.02414785e+03\n",
      " 8.34247793e+02 3.43125221e+03 3.28064686e+03 7.99153659e+02\n",
      " 2.48457769e+03 1.78092231e+03 3.92396251e+03 1.92050639e+02\n",
      " 3.55322686e+03 7.12273140e+02 1.48948026e+03 1.56703631e+02\n",
      " 2.12470382e+03 2.14079618e+03 2.40991114e+03 2.53782503e+03\n",
      " 3.63556278e+03 6.29937221e+02 9.86675447e+02 4.69216187e+02\n",
      " 1.54280494e+02 4.11121951e+03 1.67036612e+02 7.30515994e+02\n",
      " 2.63072346e+03 1.63477654e+03 2.09665703e+03 1.68158850e+03\n",
      " 3.79316459e+03 4.72335405e+02 4.03726711e+02 6.87920428e+02\n",
      " 3.38311352e+03 8.82386480e+02 6.98198997e+02 1.34114564e+03\n",
      " 4.12847804e+03 1.37021961e+02 3.15858856e+02 8.22108045e-01\n",
      " 4.03528744e+02 3.86197126e+03 1.04978963e+03 1.02590529e+03\n",
      " 1.13998611e+03 3.12551389e+03 1.79585254e+03 4.04203867e+03\n",
      " 1.91359534e+03 2.35190466e+03 2.23303548e+03 3.20260289e+03\n",
      " 1.46390690e+03 2.80159310e+03 4.27970797e+03 1.37323382e+03\n",
      " 1.40787815e+03 2.85762185e+03 4.93796690e+03 7.42913974e+02\n",
      " 1.81293090e+03 2.45256910e+03 3.20466625e+03 2.27813782e+03\n",
      " 2.87930024e+03 1.38619976e+03 3.73036951e+02 2.83070553e+03\n",
      " 1.33325965e+02 4.13217403e+03 5.87070583e+02 1.88575546e+02\n",
      " 2.93977029e+03 1.32572971e+03 2.13134832e+03 9.32637624e+02\n",
      " 2.48301630e+03 1.78248370e+03 4.90650729e+02 3.62897108e+03]\n"
     ]
    }
   ],
   "source": [
    "def checkBndryCons(x0, splineList, vertexList, bndryPts):\n",
    "    turbList = makeCoordStruct(x0)\n",
    "\n",
    "    # Check to make sure our poits are in\n",
    "    bndryCons = np.zeros(numTurbs*4)   # four values (two x and two y) for every turbine\n",
    "    xmin = bndryPts[vertexList[2]].x   # Our minimum x-value\n",
    "    xmax = bndryPts[vertexList[0]].x   # our maximum x-value\n",
    "    \n",
    "    # For every turbine\n",
    "    for i in range(numTurbs):\n",
    "        #- Check x-vals\n",
    "        bndryCons[4*i] = (xmax - turbList[i].x)   # Positive good, neg bad\n",
    "        bndryCons[4*i+1] = (turbList[i].x - xmin) # pos good, neg bad\n",
    "        \n",
    "        #- Check y-vals\n",
    "        ymin,ymax = getUpDwnYvals(turbList[i].x, splineList, vertexList, bndryPts)\n",
    "        bndryCons[4*i+2] = (ymax - turbList[i].y)\n",
    "        bndryCons[4*i+3] = (turbList[i].y - ymin)\n",
    "            \n",
    "    return bndryCons\n",
    "\n",
    "#- Test check -#\n",
    "x0 = makeCoordArray(turbRandoList)\n",
    "#x0 = res.x\n",
    "bBndryCons = checkBndryCons(x0, splineList, vertexList, bndryPts)\n",
    "print(bBndryCons) # Should all be positive"
   ]
  },
  {
   "cell_type": "markdown",
   "metadata": {},
   "source": [
    "`0122.26.Feb.20`\n",
    "\n",
    "It seems both the boundary and spacing constraints are complete, being `<=0` if they are valid, and `>0` if they are invalid. Now I need to code up the actual optimization."
   ]
  },
  {
   "cell_type": "markdown",
   "metadata": {},
   "source": [
    "### Optimization Code"
   ]
  },
  {
   "cell_type": "markdown",
   "metadata": {},
   "source": [
    "\"Main\" function:\n",
    "\n",
    "`1130.27.Feb.20`\n",
    "\n",
    "After discussion at lab meeting, the boundary constraints need to be non-binary. It's not giving the optimizer any gradients to work with."
   ]
  },
  {
   "cell_type": "code",
   "execution_count": 205,
   "metadata": {},
   "outputs": [
    {
     "name": "stdout",
     "output_type": "stream",
     "text": [
      "-9.73917812734508\n",
      "Optimization terminated successfully.    (Exit mode 0)\n",
      "            Current function value: -10.216052284892044\n",
      "            Iterations: 52\n",
      "            Function evaluations: 2761\n",
      "            Gradient evaluations: 52\n"
     ]
    }
   ],
   "source": [
    "fn = \"iea37-ex-opt3.yaml\"\n",
    "turb_coords, fname_turb, fname_wr = getTurbLocYAML(fn)\n",
    "wind_dir, wind_dir_freq, wind_speeds, wind_speed_probs, num_speed_bins, min_speed, max_speed = getWindRoseYAML(fname_wr)\n",
    "turb_ci, turb_co, rated_ws, rated_pwr, turb_diam = getTurbAtrbtYAML(fname_turb)\n",
    "#test = makeFirstCoordStruct(turb_coords)     # Strip it from the .yaml\n",
    "#x0 = makeCoordArray(test)                    # get it into a long array of [x1,y1,x2,y2,...]\n",
    "#testCoordMat = makeCoordMatrix(x0)           # make [[x1,y1],[x2,y2],...]\n",
    "x0 = makeCoordArray(turbRandoList)/scaleTurbCoord\n",
    "startAEP = optimoFun(x0, Args)\n",
    "print(startAEP)\n",
    "\n",
    "#-- Setup the optimization --#\n",
    "#- args in the correct format -#\n",
    "Args = optimoMakeArgTuples(wind_dir_freq, wind_speeds, wind_speed_probs, wind_dir, turb_diam, turb_ci, turb_co, rated_ws, rated_pwr)\n",
    "#- Constraints in the correct format -#\n",
    "#bBndryCons = checkBndryCons(x0, splineList, vertexList, bndryPts)\n",
    "#consTurbSpacing = checkTurbSpacing(x0, turb_diam)\n",
    "cons = ({'type': 'ineq', 'fun': lambda x:  checkBndryCons(x*scaleTurbCoord, splineList, vertexList, bndryPts)},{'type': 'ineq', 'fun': lambda x: checkTurbSpacing(x*scaleTurbCoord, turb_diam)})\n",
    "res = minimize(optimoFun, x0, args=Args, method='SLSQP', constraints=cons, options={'disp': True,'maxiter':1000})\n"
   ]
  },
  {
   "cell_type": "code",
   "execution_count": 206,
   "metadata": {},
   "outputs": [
    {
     "name": "stdout",
     "output_type": "stream",
     "text": [
      "[ 6117.00606815 10363.8         7069.18999838  7475.24942745\n",
      "  6602.43514728  6565.538907    7722.27317691  8947.68648022\n",
      "  9983.89648741  8592.48067542  9414.11859132  9993.75786795\n",
      "  8974.3964913   9106.21797188  8607.78965868  9893.04597135\n",
      "  6908.59319501  8847.73415213  9625.01683116  7818.05005635\n",
      "  8319.42393156  7634.51695318  7370.60100717  9733.84878879\n",
      "  9361.26606671  3322.61480527  6490.3         3644.71932966\n",
      "  5146.19511141  3040.81618141  3799.48930596  3748.73744801\n",
      "  2390.7174995   4458.78664276   881.73707724  1238.79167421\n",
      "  4951.03965396  4334.41847433   649.16653528  6303.20192542\n",
      "  4038.22312224  2512.67645367  4745.08359597  5596.36188254\n",
      "  1885.9243547   1398.16860483  3559.4489361   5005.69392874\n",
      "  3121.67018322   137.19294606]\n",
      "-10.650413978710757\n"
     ]
    },
    {
     "data": {
      "image/png": "[encoded data removed]",
      "text/plain": [
       "<Figure size 720x720 with 1 Axes>"
      ]
     },
     "metadata": {
      "needs_background": "light"
     },
     "output_type": "display_data"
    }
   ],
   "source": [
    "finalTurbLoc = makeCoordStruct(res.x*scaleTurbCoord)\n",
    "\n",
    "#-- Plot the boundary --#\n",
    "for i in range(numSides):\n",
    "    plt.hold = True\n",
    "    printBoundaryArray(segCoordList[i].x, splineList[i](segCoordList[i].x), displaySize, 5)\n",
    "\n",
    "#-- Plot the turbine locations --#\n",
    "printTurbines(finalTurbLoc, getPltClrs().getColor(1), turb_diam/2)\n",
    "#plt.plot(finalTurbLoc.x, finalTurbLoc.y, 'o', color=(getPltClrs().getColor(1)))\n",
    "\n",
    "print(res.x)\n",
    "print(optimoFun(res.x, Args))"
   ]
  },
  {
   "cell_type": "markdown",
   "metadata": {},
   "source": [
    "Another try:"
   ]
  },
  {
   "cell_type": "code",
   "execution_count": 207,
   "metadata": {
    "code_folding": [
     0
    ]
   },
   "outputs": [
    {
     "data": {
      "image/png": "[encoded data removed]",
      "text/plain": [
       "<Figure size 720x720 with 1 Axes>"
      ]
     },
     "metadata": {
      "needs_background": "light"
     },
     "output_type": "display_data"
    }
   ],
   "source": [
    "#- Test check -#\n",
    "#-- Plot the boundary --#\n",
    "for i in range(numSides):\n",
    "    plt.hold = True\n",
    "    printBoundaryArray(segCoordList[i].x, splineList[i](segCoordList[i].x), displaySize, 5)\n",
    "\n",
    "#-- Plot the turbine locations --#\n",
    "printTurbines(turbRandoList, getPltClrs().getColor(1), turb_diam/2)"
   ]
  },
  {
   "cell_type": "code",
   "execution_count": 212,
   "metadata": {
    "code_folding": [
     0
    ]
   },
   "outputs": [
    {
     "name": "stdout",
     "output_type": "stream",
     "text": [
      "-10.650319260075621\n"
     ]
    },
    {
     "data": {
      "image/png": "[encoded data removed]",
      "text/plain": [
       "<Figure size 720x720 with 1 Axes>"
      ]
     },
     "metadata": {
      "needs_background": "light"
     },
     "output_type": "display_data"
    }
   ],
   "source": [
    "#- Test check -#\n",
    "#-- Plot the boundary --#\n",
    "for i in range(numSides):\n",
    "    plt.hold = True\n",
    "    printBoundaryArray(segCoordList[i].x, splineList[i](segCoordList[i].x), displaySize, 5)\n",
    "\n",
    "#-- Plot the turbine locations --#\n",
    "test = makeFirstCoordStruct(turb_coords)     # Strip it from the .yaml\n",
    "test1 = makeCoordArray(test)\n",
    "printTurbines(test, getPltClrs().getColor(1), turb_diam/2)\n",
    "print(optimoFun(test1, Args))"
   ]
  },
  {
   "cell_type": "markdown",
   "metadata": {},
   "source": [
    "`1000.02.Mar.201`\n",
    "\n",
    "I've gotten it working well enough, I'm going to close this notebook, move everything over to a standalone python file, and try and optimize it from there."
   ]
  },
  {
   "cell_type": "markdown",
   "metadata": {},
   "source": []
  }
 ],
 "metadata": {
  "kernelspec": {
   "display_name": "Python 3",
   "language": "python",
   "name": "python3"
  },
  "language_info": {
   "codemirror_mode": {
    "name": "ipython",
    "version": 3
   },
   "file_extension": ".py",
   "mimetype": "text/x-python",
   "name": "python",
   "nbconvert_exporter": "python",
   "pygments_lexer": "ipython3",
   "version": "3.7.4"
  }
 },
 "nbformat": 4,
 "nbformat_minor": 2
}
