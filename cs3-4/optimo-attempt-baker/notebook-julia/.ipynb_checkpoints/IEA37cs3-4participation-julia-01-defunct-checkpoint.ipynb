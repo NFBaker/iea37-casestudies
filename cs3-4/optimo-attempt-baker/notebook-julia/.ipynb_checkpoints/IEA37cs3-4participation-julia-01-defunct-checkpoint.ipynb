{
 "cells": [
  {
   "cell_type": "markdown",
   "metadata": {},
   "source": [
    "A catologue of my participation in cs 3 and 4. Straight coding in VS code was giving strange errors, so the piecewise apporach of a jupyter notebook might be more helpful.\n",
    "\n",
    "Directly below are file reading functions, with execution:"
   ]
  },
  {
   "cell_type": "code",
   "execution_count": 7,
   "metadata": {
    "collapsed": true
   },
   "outputs": [],
   "source": [
    "import YAML\n",
    "using Printf\n",
    "using Parameters"
   ]
  },
  {
   "cell_type": "code",
   "execution_count": 28,
   "metadata": {
    "collapsed": true
   },
   "outputs": [],
   "source": [
    "# Define our coordinate structure\n",
    "struct Coordinate\n",
    "    xCoord::Float16\n",
    "    yCoord::Float16\n",
    "    Base.zero(::Type{Coordinate}) = Coordinate\n",
    "end"
   ]
  },
  {
   "cell_type": "markdown",
   "metadata": {
    "heading_collapsed": true
   },
   "source": [
    "# File reading functions"
   ]
  },
  {
   "cell_type": "code",
   "execution_count": 14,
   "metadata": {
    "code_folding": [
     1
    ],
    "hidden": true
   },
   "outputs": [
    {
     "data": {
      "text/plain": [
       "getTurbLocYAML (generic function with 1 method)"
      ]
     },
     "execution_count": 14,
     "metadata": {},
     "output_type": "execute_result"
    }
   ],
   "source": [
    "### Complete and functional ###\n",
    "function getTurbLocYAML(file_name)\n",
    "    ### Retrieve turbine locations and auxiliary file names from <.yaml> file.\n",
    "    ### Auxiliary (reference) files supply wind rose and turbine attributes.\n",
    "\n",
    "    # Read in the .yaml file\n",
    "    f = YAML.load(open(file_name))\n",
    "    defs = f[\"definitions\"]\n",
    "\n",
    "    # Rip the (x,y) coordinates (Convert from <list> to <ndarray>)\n",
    "    turb_coords = defs[\"position\"][\"items\"]\n",
    "\n",
    "    # Rip the expected AEP, used for comparison\n",
    "    AEP = defs[\"plant_energy\"][\"properties\"][\"annual_energy_production\"][\"default\"]\n",
    "\n",
    "    # Read the auxiliary filenames for the windrose and the turbine attributes (first one)\n",
    "    fname_turb = string.(values(defs[\"wind_plant\"][\"properties\"][\"turbine\"][\"items\"][1]))[1]\n",
    "    fname_wr = string.(values(defs[\"plant_energy\"][\"properties\"][\"wind_resource\"][\"properties\"][\"items\"][1]))[1]\n",
    "\n",
    "    # Return turbine (x,y) locations, and the filenames for the others .yamls\n",
    "    return turb_coords, fname_turb, fname_wr\n",
    "end"
   ]
  },
  {
   "cell_type": "code",
   "execution_count": 15,
   "metadata": {
    "code_folding": [
     1
    ],
    "hidden": true
   },
   "outputs": [
    {
     "data": {
      "text/plain": [
       "getTurbAtrbtYAML (generic function with 1 method)"
      ]
     },
     "execution_count": 15,
     "metadata": {},
     "output_type": "execute_result"
    }
   ],
   "source": [
    "### Complete and functional ###\n",
    "function getTurbAtrbtYAML(file_name)\n",
    "    ###Retreive turbine attributes from the <.yaml> file###\n",
    "\n",
    "    # Read in the .yaml file\n",
    "    f = YAML.load(open(file_name))\n",
    "    defs = f[\"definitions\"]\n",
    "    ops = defs[\"operating_mode\"]\n",
    "    turb = defs[\"wind_turbine\"]\n",
    "    rotor = defs[\"rotor\"]\n",
    "\n",
    "    # Rip the turbine attributes\n",
    "    # (Convert from <list> to <float>)\n",
    "    turb_ci = float(ops[\"cut_in_wind_speed\"][\"default\"])\n",
    "    turb_co = float(ops[\"cut_out_wind_speed\"][\"default\"])\n",
    "    rated_ws = float(ops[\"rated_wind_speed\"][\"default\"])\n",
    "    rated_pwr = float(turb[\"rated_power\"][\"maximum\"])\n",
    "    turb_diam = float(rotor[\"diameter\"][\"default\"])\n",
    "\n",
    "    return turb_ci, turb_co, rated_ws, rated_pwr, turb_diam\n",
    "end"
   ]
  },
  {
   "cell_type": "code",
   "execution_count": 16,
   "metadata": {
    "code_folding": [
     1
    ],
    "hidden": true
   },
   "outputs": [
    {
     "data": {
      "text/plain": [
       "getWindRoseYAML (generic function with 1 method)"
      ]
     },
     "execution_count": 16,
     "metadata": {},
     "output_type": "execute_result"
    }
   ],
   "source": [
    "### Complete and functional ###\n",
    "function getWindRoseYAML(file_name)\n",
    "    ### Retrieve wind rose data (bins, freqs, speeds) from <.yaml> file.\n",
    "\n",
    "    # Read in the .yaml file\n",
    "    f = YAML.load(open(file_name))\n",
    "    props = f[\"definitions\"][\"wind_inflow\"][\"properties\"]\n",
    "\n",
    "    # Rip wind directional bins, their frequency, and the windspeed parameters for each bin\n",
    "    # (Convert from <list> to <ndarray>)\n",
    "    wind_dir = props[\"direction\"][\"bins\"]\n",
    "    wind_dir_freq = props[\"direction\"][\"frequency\"]\n",
    "    # (Convert from <list> to <float>)\n",
    "    wind_speeds = props[\"speed\"][\"bins\"]\n",
    "    wind_speed_probs = props[\"speed\"][\"frequency\"]\n",
    "    # Get default number of windspeed bins per direction\n",
    "    num_speed_bins = length(wind_speeds)\n",
    "    min_speed = props[\"speed\"][\"minimum\"]\n",
    "    max_speed = props[\"speed\"][\"maximum\"]\n",
    "\n",
    "    return wind_dir, wind_dir_freq, wind_speeds, wind_speed_probs, num_speed_bins, min_speed, max_speed\n",
    "end"
   ]
  },
  {
   "cell_type": "markdown",
   "metadata": {},
   "source": [
    "# Helper functions"
   ]
  },
  {
   "cell_type": "code",
   "execution_count": 21,
   "metadata": {
    "code_folding": [
     1
    ]
   },
   "outputs": [
    {
     "data": {
      "text/plain": [
       "DirPower (generic function with 1 method)"
      ]
     },
     "execution_count": 21,
     "metadata": {},
     "output_type": "execute_result"
    }
   ],
   "source": [
    "### Complete, un-tested ###\n",
    "function DirPower(frame_coords, dir_loss, wind_speed, turb_ci, turb_co, rated_ws, rated_pwr)\n",
    "    num_turb = length(frame_coords)\n",
    "    # Effective windspeed is freestream multiplied by wake deficits\n",
    "    ws_eff = wind_speed*(1.0-dir_loss)\n",
    "    # By default, the turbine's power output is zero\n",
    "    turb_pwr = Array(zeros, num_turb) ##### ? Is this right syntax?\n",
    "\n",
    "    # Check to see if turbine produces power for experienced wind speed\n",
    "    for n  = 1:num_turb\n",
    "        if ws_eff[n] > turb_co\n",
    "            continue\n",
    "        elseif ws_eff[n] > rated_ws\n",
    "            turb_pwr[n] = rated_pwr\n",
    "        elseif ws_eff[n] > turb_ci\n",
    "            turb_pwr[n] = rated_pwr * ((ws_eff[n]-turb_ci)/ (rated_ws-turb_ci))^3\n",
    "        end\n",
    "    end\n",
    "    # Sum the power from all turbines for this direction\n",
    "    return sum(turb_pwr)\n",
    "end"
   ]
  },
  {
   "cell_type": "markdown",
   "metadata": {},
   "source": [
    "There was a problem with DirPower in that the \"if\" and \"for\" statements didn't have a corresponding \"end\", but it is now corrected."
   ]
  },
  {
   "cell_type": "code",
   "execution_count": 25,
   "metadata": {
    "code_folding": []
   },
   "outputs": [
    {
     "data": {
      "text/plain": [
       "WindFrame (generic function with 1 method)"
      ]
     },
     "execution_count": 25,
     "metadata": {},
     "output_type": "execute_result"
    }
   ],
   "source": [
    "### Inomplete, non-functional ### (In-Process)\n",
    "function WindFrame(turb_coords, wind_dir_deg)\n",
    "    ###Convert map coordinates to downwind/crosswind coordinates.\n",
    "    nNumTurbs = length(turb_coords)\n",
    "    frame_coords = Array{Coordinate}(zeros, nNumTurbs)\n",
    "    # Convert from meteorological polar system (CW, 0 deg.=N)\n",
    "    # to standard polar system (CCW, 0 deg.=W)\n",
    "    # Shift so North comes \"along\" x-axis, from left to right.\n",
    "    wind_dir_deg = 270.0 - wind_dir_deg\n",
    "    # Convert inflow wind direction from degrees to radians\n",
    "    wind_dir_rad = deg2rad(wind_dir_deg)\n",
    "\n",
    "    # Constants to use below\n",
    "    cos_dir = cos(-wind_dir_rad)\n",
    "    sin_dir = sin(-wind_dir_rad)\n",
    "    # Convert to downwind(x) & crosswind(y) coordinates\n",
    "    println(frame_coords)\n",
    "    #frame_coords.xCoord = (turb_coords[1:nNumTurbs, 1] * cos_dir) - (turb_coords[1:nNumTurbs, 2] * sin_dir)\n",
    "    #frame_coords.yCoord = (turb_coords[1:nNumTurbs, 1] * sin_dir) + (turb_coords[1:nNumTurbs, 2] * cos_dir)\n",
    "\n",
    "    println(frame_coords)\n",
    "end"
   ]
  },
  {
   "cell_type": "markdown",
   "metadata": {
    "heading_collapsed": true
   },
   "source": [
    "# Read Files\n",
    "\n",
    "This portion reads in the necessary inputs"
   ]
  },
  {
   "cell_type": "code",
   "execution_count": 26,
   "metadata": {
    "hidden": true
   },
   "outputs": [
    {
     "data": {
      "text/plain": [
       "25.0"
      ]
     },
     "execution_count": 26,
     "metadata": {},
     "output_type": "execute_result"
    }
   ],
   "source": [
    "file_name = \"iea37-ex-opt3.yaml\"\n",
    "# Get turbine locations\n",
    "turb_locs = getTurbLocYAML(file_name)\n",
    "turb_coords = turb_locs[1]\n",
    "fname_turb = turb_locs[2]\n",
    "fname_wr = turb_locs[3]\n",
    "\n",
    "# Get turbine attributes\n",
    "turb_data = getTurbAtrbtYAML(fname_turb)\n",
    "turb_ci = turb_data[1]\n",
    "turb_co = turb_data[2]\n",
    "rated_ws = turb_data[3]\n",
    "rated_pwr = turb_data[4]\n",
    "turb_diam = turb_data[5]\n",
    "\n",
    "# Get windrose info\n",
    "wr_data = getWindRoseYAML(fname_wr)\n",
    "wind_dir = wr_data[1]\n",
    "wind_dir_freq = wr_data[2]\n",
    "wind_speeds = wr_data[3]\n",
    "wind_speed_probs = wr_data[4]\n",
    "num_speed_bins = wr_data[5]\n",
    "min_speed = wr_data[6]\n",
    "max_speed = wr_data[7]"
   ]
  },
  {
   "cell_type": "markdown",
   "metadata": {},
   "source": [
    "# Execution"
   ]
  },
  {
   "cell_type": "code",
   "execution_count": 27,
   "metadata": {},
   "outputs": [
    {
     "ename": "MethodError",
     "evalue": "MethodError: no method matching Array{Coordinate,N} where N(::typeof(zeros), ::Int64)\nClosest candidates are:\n  Array{Coordinate,N} where N(!Matched::UndefInitializer, ::Int64) where T at boot.jl:416\n  Array{Coordinate,N} where N(!Matched::UndefInitializer, ::Int64, !Matched::Int64) where T at boot.jl:417\n  Array{Coordinate,N} where N(!Matched::UndefInitializer, ::Int64, !Matched::Int64, !Matched::Int64) where T at boot.jl:418\n  ...",
     "output_type": "error",
     "traceback": [
      "MethodError: no method matching Array{Coordinate,N} where N(::typeof(zeros), ::Int64)\nClosest candidates are:\n  Array{Coordinate,N} where N(!Matched::UndefInitializer, ::Int64) where T at boot.jl:416\n  Array{Coordinate,N} where N(!Matched::UndefInitializer, ::Int64, !Matched::Int64) where T at boot.jl:417\n  Array{Coordinate,N} where N(!Matched::UndefInitializer, ::Int64, !Matched::Int64, !Matched::Int64) where T at boot.jl:418\n  ...",
      "",
      "Stacktrace:",
      " [1] WindFrame(::Array{Array{Float64,1},1}, ::Int64) at ./In[25]:5",
      " [2] top-level scope at In[27]:1"
     ]
    }
   ],
   "source": [
    "WindFrame(turb_coords, 1)"
   ]
  },
  {
   "cell_type": "code",
   "execution_count": null,
   "metadata": {
    "collapsed": true
   },
   "outputs": [],
   "source": []
  }
 ],
 "metadata": {
  "kernelspec": {
   "display_name": "Julia 1.4.2",
   "language": "julia",
   "name": "julia-1.4"
  },
  "language_info": {
   "file_extension": ".jl",
   "mimetype": "application/julia",
   "name": "julia",
   "version": "1.4.2"
  }
 },
 "nbformat": 4,
 "nbformat_minor": 2
}
