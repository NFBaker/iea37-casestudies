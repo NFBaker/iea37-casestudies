{
 "cells": [
  {
   "cell_type": "markdown",
   "metadata": {},
   "source": [
    "# Set up"
   ]
  },
  {
   "cell_type": "code",
   "execution_count": 1,
   "metadata": {},
   "outputs": [],
   "source": [
    "using Profile, ProfileSVG"
   ]
  },
  {
   "cell_type": "code",
   "execution_count": 2,
   "metadata": {},
   "outputs": [],
   "source": [
    "cd(\"/Users/nbaker/Documents/GitHub/FLowFarm.jl/test\")"
   ]
  },
  {
   "cell_type": "code",
   "execution_count": 24,
   "metadata": {},
   "outputs": [
    {
     "data": {
      "text/plain": [
       "wind_farm_opt (generic function with 2 methods)"
      ]
     },
     "execution_count": 24,
     "metadata": {},
     "output_type": "execute_result"
    }
   ],
   "source": [
    "using Snopt\n",
    "using DelimitedFiles \n",
    "using PyPlot\n",
    "import ForwardDiff\n",
    "\n",
    "# set up boundary constraint wrapper function\n",
    "function boundary_wrapper(x, params)\n",
    "    # include relevant globals\n",
    "    params.boundary_center\n",
    "    params.boundary_radius\n",
    "\n",
    "    # get number of turbines\n",
    "    nturbines = Int(length(x)/2)\n",
    "    \n",
    "    # extract x and y locations of turbines from design variables vector\n",
    "    turbine_x = x[1:nturbines]\n",
    "    turbine_y = x[nturbines+1:end]\n",
    "\n",
    "    # get and return boundary distances\n",
    "    return ff.circle_boundary(boundary_center, boundary_radius, turbine_x, turbine_y)\n",
    "end\n",
    "\n",
    "# set up spacing constraint wrapper function\n",
    "function spacing_wrapper(x, params)\n",
    "    \n",
    "    # get number of turbines\n",
    "    nturbines = Int(length(x)/2)\n",
    "\n",
    "    # extract x and y locations of turbines from design variables vector\n",
    "    turbine_x = x[1:nturbines]\n",
    "    turbine_y = x[nturbines+1:end]\n",
    "\n",
    "    # get and return spacing distances\n",
    "    return 2.0*params.rotor_diameter[1] .- ff.turbine_spacing(turbine_x,turbine_y)\n",
    "end\n",
    "\n",
    "# set up objective wrapper function\n",
    "function aep_wrapper(x, params)\n",
    "    # include relevant globals\n",
    "    params.turbine_z\n",
    "    params.rotor_diameter\n",
    "    params.hub_height\n",
    "    params.turbine_yaw\n",
    "    params.ct_models\n",
    "    params.generator_efficiency\n",
    "    params.cut_in_speed\n",
    "    params.cut_out_speed\n",
    "    params.rated_speed\n",
    "    params.rated_power\n",
    "    params.windresource\n",
    "    params.power_models\n",
    "    params.model_set\n",
    "    params.rotor_points_y\n",
    "    params.rotor_points_z\n",
    "    params.obj_scale\n",
    "\n",
    "    # get number of turbines\n",
    "    nturbines = Int(length(x)/2)\n",
    "\n",
    "    # extract x and y locations of turbines from design variables vector\n",
    "    turbine_x = x[1:nturbines] \n",
    "    turbine_y = x[nturbines+1:end]\n",
    "\n",
    "    # calculate AEP\n",
    "    AEP = obj_scale*ff.calculate_aep(turbine_x, turbine_y, turbine_z, rotor_diameter,\n",
    "                hub_height, turbine_yaw, ct_models, generator_efficiency, cut_in_speed,\n",
    "                cut_out_speed, rated_speed, rated_power, windresource, power_models, model_set,\n",
    "                rotor_sample_points_y=rotor_points_y,rotor_sample_points_z=rotor_points_z)\n",
    "    \n",
    "    # return the objective as an array\n",
    "    return [AEP]\n",
    "end\n",
    "\n",
    "# set up optimization problem wrapper function\n",
    "function wind_farm_opt(x)\n",
    "\n",
    "    # calculate spacing constraint value and jacobian\n",
    "    spacing_con = spacing_wrapper(x)\n",
    "    ds_dx = ForwardDiff.jacobian(spacing_wrapper, x)\n",
    "    println(length(ds_dx))\n",
    "    # calculate boundary constraint and jacobian\n",
    "    boundary_con = boundary_wrapper(x)\n",
    "    db_dx = ForwardDiff.jacobian(boundary_wrapper, x)\n",
    "\n",
    "    # combine constaint values and jacobians into overall constaint value and jacobian arrays\n",
    "    c = [spacing_con; boundary_con]\n",
    "    dcdx = [ds_dx; db_dx]\n",
    "\n",
    "    # calculate the objective function and jacobian (negative sign in order to maximize AEP)\n",
    "    AEP = -aep_wrapper(x)[1]\n",
    "    dAEP_dx = -ForwardDiff.jacobian(aep_wrapper,x)\n",
    "\n",
    "    # set fail flag to false\n",
    "    fail = false\n",
    "\n",
    "    # return objective, constraint, and jacobian values\n",
    "    return AEP, c, dAEP_dx, dcdx, fail\n",
    "end\n",
    "\n"
   ]
  },
  {
   "cell_type": "code",
   "execution_count": null,
   "metadata": {},
   "outputs": [],
   "source": [
    "# set globals for use in wrapper functions\n",
    "struct params_struct{MS, AF, F, ACTM, WR, APM}\n",
    "    model_set::MS\n",
    "    rotor_points_y::AF\n",
    "    rotor_points_z::AF\n",
    "    turbine_z::AF\n",
    "    rotor_diameter::AF\n",
    "    boundary_center::AF\n",
    "    boundary_radius::F\n",
    "    obj_scale::F\n",
    "    hub_height::AF\n",
    "    turbine_yaw::AF\n",
    "    ct_models::ACTM\n",
    "    generator_efficiency::AF\n",
    "    cut_in_speed::AF\n",
    "    cut_out_speed::AF\n",
    "    rated_speed::AF\n",
    "    rated_power::AF\n",
    "    windresource::WR\n",
    "    power_models::APM\n",
    "end"
   ]
  },
  {
   "cell_type": "code",
   "execution_count": null,
   "metadata": {},
   "outputs": [],
   "source": [
    "# import model set with wind farm and related details\n",
    "revise()\n",
    "include(\"./model_sets/model_set_9_38turb_round_farm.jl\")"
   ]
  },
  {
   "cell_type": "code",
   "execution_count": null,
   "metadata": {
    "scrolled": false
   },
   "outputs": [],
   "source": [
    "# scale objective to be between 0 and 1\n",
    "obj_scale = 1E-11\n",
    "# set wind farm boundary parameters\n",
    "boundary_center = [0.0,0.0]\n",
    "boundary_radius = 1225.8227848101264\n",
    "params = params_struct(model_set, rotor_points_y, rotor_points_z, turbine_z, \n",
    "    rotor_diameter, boundary_center, boundary_radius, obj_scale, hub_height, turbine_yaw, \n",
    "    ct_models, generator_efficiency, cut_in_speed, cut_out_speed, rated_speed, rated_power, \n",
    "    windresource, power_models)\n",
    "\n",
    "# initialize design variable array\n",
    "x = [copy(turbine_x);copy(turbine_y)]\n",
    "xinit = deepcopy(x)\n",
    "# report initial objective value\n",
    "println(\"starting objective value: \", aep_wrapper(x, params)[1])\n",
    "\n",
    "plot(0,0)\n",
    "# add initial turbine location to plot\n",
    "for i = 1:length(turbine_x)\n",
    "    plt.gcf().gca().add_artist(plt.Circle((turbine_x[i],turbine_y[i]), rotor_diameter[1]/2.0, fill=false,color=\"C0\"))\n",
    "end\n",
    "\n",
    "# set general lower and upper bounds for design variables\n",
    "lb = zeros(length(x)) .- boundary_radius\n",
    "ub = zeros(length(x)) .+ boundary_radius\n",
    "\n",
    "# set up options for SNOPT\n",
    "options = Dict{String, Any}()\n",
    "options[\"Derivative option\"] = 1\n",
    "options[\"Verify level\"] = 0\n",
    "options[\"Major optimality tolerance\"] = 1e-6\n",
    "options[\"Major iteration limit\"] = 1e6\n",
    "options[\"Summary file\"] = \"snopt_summary_ex6.out\"\n",
    "options[\"Print file\"] = \"snopt_print_ex6.out\"\n",
    "\n",
    "# generate wrapper function surrogates\n",
    "spacing_wrapper(x) = spacing_wrapper(x, params)\n",
    "aep_wrapper(x) = aep_wrapper(x, params)\n",
    "boundary_wrapper(x) = boundary_wrapper(x, params)\n",
    "obj_func(x) = wind_farm_opt(x)\n",
    "\n",
    "# set up for WEC optimization\n",
    "wec_steps = 2\n",
    "wec_max = 3.0\n",
    "wec_end = 1.0\n",
    "wec_values = collect(LinRange(wec_max, wec_end, wec_steps))\n",
    "println(wec_values)\n",
    "info = fill(\"\",wec_steps)\n",
    "# run and time optimization\n",
    "t1 = time()\n",
    "xopt, fopt, info = snopt(obj_func, x, lb, ub, options)\n",
    "t2 = time()\n",
    "clk = t2-t1\n",
    "# print optimization results\n",
    "println(\"Finished in : \", clk, \" (s)\")\n",
    "println(\"info: \", info)\n",
    "println(\"end objective value: \", -fopt)\n",
    "\n",
    "# extract final turbine locations\n",
    "turbine_x = copy(xopt[1:nturbines])\n",
    "turbine_y = copy(xopt[nturbines+1:end])\n",
    "\n",
    "# add final turbine locations to plot\n",
    "for i = 1:length(turbine_x)\n",
    "    plt.gcf().gca().add_artist(plt.Circle((turbine_x[i],turbine_y[i]), rotor_diameter[1]/2.0, fill=false,color=\"C1\", linestyle=\"--\")) \n",
    "end\n",
    "\n",
    "# add wind farm boundary to plot\n",
    "plt.gcf().gca().add_artist(plt.Circle((boundary_center[1],boundary_center[2]), boundary_radius, fill=false,color=\"C2\"))\n",
    "\n",
    "# set up and show plot\n",
    "axis(\"square\")\n",
    "xlim(-boundary_radius-200,boundary_radius+200)\n",
    "ylim(-boundary_radius-200,boundary_radius+200)\n",
    "plt.show()"
   ]
  },
  {
   "cell_type": "markdown",
   "metadata": {},
   "source": [
    "# AEP Call"
   ]
  },
  {
   "cell_type": "markdown",
   "metadata": {},
   "source": [
    "## Previous FlowFarm"
   ]
  },
  {
   "cell_type": "code",
   "execution_count": null,
   "metadata": {},
   "outputs": [],
   "source": [
    "revise()"
   ]
  },
  {
   "cell_type": "code",
   "execution_count": null,
   "metadata": {},
   "outputs": [],
   "source": [
    "@time ff.calculate_aep(turbine_x, turbine_y, params.turbine_z, params.rotor_diameter,\n",
    "    params.hub_height, params.turbine_yaw, params.ct_models, params.generator_efficiency, params.cut_in_speed,\n",
    "    params.cut_out_speed, params.rated_speed, params.rated_power, params.windresource, params.power_models, params.model_set,\n",
    "                rotor_sample_points_y=params.rotor_points_y,rotor_sample_points_z=params.rotor_points_z)"
   ]
  },
  {
   "cell_type": "code",
   "execution_count": null,
   "metadata": {},
   "outputs": [],
   "source": [
    "@time for i in 1:1000 ff.calculate_aep(turbine_x, turbine_y, params.turbine_z, params.rotor_diameter,\n",
    "    params.hub_height, params.turbine_yaw, params.ct_models, params.generator_efficiency, params.cut_in_speed,\n",
    "    params.cut_out_speed, params.rated_speed, params.rated_power, params.windresource, params.power_models, params.model_set,\n",
    "                rotor_sample_points_y=params.rotor_points_y,rotor_sample_points_z=params.rotor_points_z); end"
   ]
  },
  {
   "cell_type": "code",
   "execution_count": null,
   "metadata": {
    "scrolled": true
   },
   "outputs": [],
   "source": [
    "@profview for i in 1:1000; ff.calculate_aep(turbine_x, turbine_y, params.turbine_z, params.rotor_diameter,\n",
    "    params.hub_height, params.turbine_yaw, params.ct_models, params.generator_efficiency, params.cut_in_speed,\n",
    "    params.cut_out_speed, params.rated_speed, params.rated_power, params.windresource, params.power_models, params.model_set,\n",
    "                rotor_sample_points_y=params.rotor_points_y,rotor_sample_points_z=params.rotor_points_z); end"
   ]
  },
  {
   "cell_type": "code",
   "execution_count": null,
   "metadata": {},
   "outputs": [],
   "source": [
    "# Using fastmath\n",
    "@time for i in 1:1000 @fastmath ff.calculate_aep(turbine_x, turbine_y, params.turbine_z, params.rotor_diameter,\n",
    "    params.hub_height, params.turbine_yaw, params.ct_models, params.generator_efficiency, params.cut_in_speed,\n",
    "    params.cut_out_speed, params.rated_speed, params.rated_power, params.windresource, params.power_models, params.model_set,\n",
    "                rotor_sample_points_y=params.rotor_points_y,rotor_sample_points_z=params.rotor_points_z); end"
   ]
  },
  {
   "cell_type": "markdown",
   "metadata": {},
   "source": []
  },
  {
   "cell_type": "code",
   "execution_count": null,
   "metadata": {},
   "outputs": [],
   "source": [
    "@profview for i in 1:1000; @fastmath ff.calculate_aep(turbine_x, turbine_y, params.turbine_z, params.rotor_diameter,\n",
    "    params.hub_height, params.turbine_yaw, params.ct_models, params.generator_efficiency, params.cut_in_speed,\n",
    "    params.cut_out_speed, params.rated_speed, params.rated_power, params.windresource, params.power_models, params.model_set,\n",
    "                rotor_sample_points_y=params.rotor_points_y,rotor_sample_points_z=params.rotor_points_z); end"
   ]
  },
  {
   "cell_type": "markdown",
   "metadata": {},
   "source": [
    "Removed non-concrete type array and now\n",
    "AEP calc did take 3.626610 (s)\n",
    "Now AEP takes: 2.875312 (s)\n",
    "\n",
    "Optimization with 38 turbines 12 directions was about 93 sec. now about 13 sec.\n"
   ]
  },
  {
   "cell_type": "markdown",
   "metadata": {},
   "source": [
    "## Removing non-concrete type array in wake models"
   ]
  },
  {
   "cell_type": "code",
   "execution_count": null,
   "metadata": {},
   "outputs": [],
   "source": [
    "revise()"
   ]
  },
  {
   "cell_type": "code",
   "execution_count": null,
   "metadata": {},
   "outputs": [],
   "source": [
    "@time ff.calculate_aep(turbine_x, turbine_y, params.turbine_z, params.rotor_diameter,\n",
    "    params.hub_height, params.turbine_yaw, params.ct_models, params.generator_efficiency, params.cut_in_speed,\n",
    "    params.cut_out_speed, params.rated_speed, params.rated_power, params.windresource, params.power_models, params.model_set,\n",
    "                rotor_sample_points_y=params.rotor_points_y,rotor_sample_points_z=params.rotor_points_z)"
   ]
  },
  {
   "cell_type": "code",
   "execution_count": null,
   "metadata": {},
   "outputs": [],
   "source": [
    "@time for i in 1:1000 ff.calculate_aep(turbine_x, turbine_y, params.turbine_z, params.rotor_diameter,\n",
    "    params.hub_height, params.turbine_yaw, params.ct_models, params.generator_efficiency, params.cut_in_speed,\n",
    "    params.cut_out_speed, params.rated_speed, params.rated_power, params.windresource, params.power_models, params.model_set,\n",
    "                rotor_sample_points_y=params.rotor_points_y,rotor_sample_points_z=params.rotor_points_z); end"
   ]
  },
  {
   "cell_type": "code",
   "execution_count": null,
   "metadata": {},
   "outputs": [],
   "source": [
    "@profview for i in 1:1000; ff.calculate_aep(turbine_x, turbine_y, params.turbine_z, params.rotor_diameter,\n",
    "    params.hub_height, params.turbine_yaw, params.ct_models, params.generator_efficiency, params.cut_in_speed,\n",
    "    params.cut_out_speed, params.rated_speed, params.rated_power, params.windresource, params.power_models, params.model_set,\n",
    "                rotor_sample_points_y=params.rotor_points_y,rotor_sample_points_z=params.rotor_points_z); end"
   ]
  },
  {
   "cell_type": "markdown",
   "metadata": {},
   "source": [
    "## Remove loc array"
   ]
  },
  {
   "cell_type": "code",
   "execution_count": null,
   "metadata": {},
   "outputs": [],
   "source": [
    "revise()"
   ]
  },
  {
   "cell_type": "code",
   "execution_count": null,
   "metadata": {},
   "outputs": [],
   "source": [
    "@time ff.calculate_aep(turbine_x, turbine_y, params.turbine_z, params.rotor_diameter,\n",
    "    params.hub_height, params.turbine_yaw, params.ct_models, params.generator_efficiency, params.cut_in_speed,\n",
    "    params.cut_out_speed, params.rated_speed, params.rated_power, params.windresource, params.power_models, params.model_set,\n",
    "                rotor_sample_points_y=params.rotor_points_y,rotor_sample_points_z=params.rotor_points_z)"
   ]
  },
  {
   "cell_type": "code",
   "execution_count": null,
   "metadata": {},
   "outputs": [],
   "source": [
    "@time for i in 1:1000 ff.calculate_aep(turbine_x, turbine_y, params.turbine_z, params.rotor_diameter,\n",
    "    params.hub_height, params.turbine_yaw, params.ct_models, params.generator_efficiency, params.cut_in_speed,\n",
    "    params.cut_out_speed, params.rated_speed, params.rated_power, params.windresource, params.power_models, params.model_set,\n",
    "                rotor_sample_points_y=params.rotor_points_y,rotor_sample_points_z=params.rotor_points_z); end"
   ]
  },
  {
   "cell_type": "code",
   "execution_count": null,
   "metadata": {},
   "outputs": [],
   "source": [
    "@profview for i in 1:1000; ff.calculate_aep(turbine_x, turbine_y, params.turbine_z, params.rotor_diameter,\n",
    "    params.hub_height, params.turbine_yaw, params.ct_models, params.generator_efficiency, params.cut_in_speed,\n",
    "    params.cut_out_speed, params.rated_speed, params.rated_power, params.windresource, params.power_models, params.model_set,\n",
    "                rotor_sample_points_y=params.rotor_points_y,rotor_sample_points_z=params.rotor_points_z); end"
   ]
  },
  {
   "cell_type": "markdown",
   "metadata": {},
   "source": [
    "# SNOPT call"
   ]
  },
  {
   "cell_type": "code",
   "execution_count": null,
   "metadata": {},
   "outputs": [],
   "source": [
    "revise()"
   ]
  },
  {
   "cell_type": "code",
   "execution_count": null,
   "metadata": {},
   "outputs": [],
   "source": [
    "\n",
    "# import model set with wind farm and related details\n",
    "include(\"./model_sets/model_set_6.jl\")\n",
    "\n",
    "# scale objective to be between 0 and 1\n",
    "obj_scale = 1E-11\n",
    "\n",
    "# set wind farm boundary parameters\n",
    "boundary_center = [0.0,0.0]\n",
    "boundary_radius = 300.0\n",
    "\n",
    "# initialize struct for opt params\n",
    "params2 = params_struct(model_set, rotor_points_y, rotor_points_z, turbine_z, \n",
    "    rotor_diameter, boundary_center, boundary_radius, obj_scale, hub_height, turbine_yaw, \n",
    "    ct_models, generator_efficiency, cut_in_speed, cut_out_speed, rated_speed, rated_power, \n",
    "    windresource, power_models)\n",
    "\n",
    "# initialize design variable array\n",
    "x = [copy(turbine_x);copy(turbine_y)]\n",
    "xinit = deepcopy(x)\n",
    "# report initial objective value\n",
    "println(\"starting objective value: \", aep_wrapper(x, params)[1])\n",
    "\n",
    "# add initial turbine location to plot\n",
    "for i = 1:length(turbine_x)\n",
    "    plt.gcf().gca().add_artist(plt.Circle((turbine_x[i],turbine_y[i]), rotor_diameter[1]/2.0, fill=false,color=\"C0\"))\n",
    "end\n",
    "\n",
    "# set general lower and upper bounds for design variables\n",
    "lb = zeros(length(x)) .- boundary_radius\n",
    "ub = zeros(length(x)) .+ boundary_radius\n",
    "\n",
    "# set up options for SNOPT\n",
    "options = Dict{String, Any}()\n",
    "options[\"Derivative option\"] = 1\n",
    "options[\"Verify level\"] = 3\n",
    "options[\"Major optimality tolerance\"] = 1e-5\n",
    "options[\"Major iteration limit\"] = 1e6\n",
    "options[\"Summary file\"] = \"./snopt-opt2-summary.out\"\n",
    "options[\"Print file\"] = \"./snopt-opt2-print.out\"\n",
    "\n",
    "# generate wrapper function surrogates\n",
    "spacing_wrapper(x) = spacing_wrapper(x, params2)\n",
    "aep_wrapper(x) = aep_wrapper(x, params2)\n",
    "boundary_wrapper(x) = boundary_wrapper(x, params2)\n",
    "obj_func(x) = wind_farm_opt(x)\n",
    "\n",
    "# run and time optimization\n",
    "t1 = time()\n",
    "xopt, fopt, info = snopt(obj_func, x, lb, ub, options)\n",
    "t2 = time()\n",
    "clkt = t2-t1\n",
    "\n",
    "# print optimization results\n",
    "println(\"Finished in : \", clkt, \" (s)\")\n",
    "println(\"info: \", info)\n",
    "println(\"end objective value: \", aep_wrapper(xopt))\n",
    "\n",
    "# extract final turbine locations\n",
    "turbine_x = copy(xopt[1:nturbines])\n",
    "turbine_y = copy(xopt[nturbines+1:end])\n",
    "\n",
    "# add final turbine locations to plot\n",
    "for i = 1:length(turbine_x)\n",
    "    plt.gcf().gca().add_artist(plt.Circle((turbine_x[i],turbine_y[i]), rotor_diameter[1]/2.0, fill=false,color=\"C1\", linestyle=\"--\")) \n",
    "end\n",
    "\n",
    "# add wind farm boundary to plot\n",
    "plt.gcf().gca().add_artist(plt.Circle((boundary_center[1],boundary_center[2]), boundary_radius, fill=false,color=\"C2\"))\n",
    "\n",
    "# set up and show plot\n",
    "axis(\"square\")\n",
    "xlim(-boundary_radius-200,boundary_radius+200)\n",
    "ylim(-boundary_radius-200,boundary_radius+200)\n",
    "plt.show()\n"
   ]
  },
  {
   "cell_type": "code",
   "execution_count": null,
   "metadata": {},
   "outputs": [],
   "source": [
    "@time for i in 1:10 snopt(obj_func, deepcopy(xinit), lb, ub, options) end"
   ]
  },
  {
   "cell_type": "code",
   "execution_count": null,
   "metadata": {},
   "outputs": [],
   "source": [
    "@profview snopt(obj_func, deepcopy(xinit), lb, ub, options)"
   ]
  },
  {
   "cell_type": "markdown",
   "metadata": {},
   "source": [
    "# Getting all results with a single call"
   ]
  },
  {
   "cell_type": "code",
   "execution_count": 4,
   "metadata": {},
   "outputs": [],
   "source": [
    "using DiffResults"
   ]
  },
  {
   "cell_type": "code",
   "execution_count": 5,
   "metadata": {},
   "outputs": [
    {
     "data": {
      "text/plain": [
       "wind_farm_opt (generic function with 1 method)"
      ]
     },
     "execution_count": 5,
     "metadata": {},
     "output_type": "execute_result"
    }
   ],
   "source": [
    "# set up optimization problem wrapper function using DiffResult\n",
    "function wind_farm_opt(x)\n",
    "\n",
    "    # calculate spacing constraint value and jacobian\n",
    "    spacing_result = DiffResults.JacobianResult(zeros(length(x)*2),x)\n",
    "    spacing_result = ForwardDiff.jacobian!(spacing_result, spacing_wrapper, x)\n",
    "    spacing_con = DiffResults.value(spacing_result)\n",
    "    ds_dx = DiffResults.jacobian(spacing_result)\n",
    "\n",
    "    # calculate boundary constraint and jacobian\n",
    "    boundary_result = DiffResults.JacobianResult(zeros(Int(length(x)/2)),x)\n",
    "    boundary_result = ForwardDiff.jacobian!(boundary_result, boundary_wrapper, x)\n",
    "    boundary_con = DiffResults.value(boundary_result)\n",
    "    db_dx = DiffResults.jacobian(boundary_result)\n",
    "\n",
    "    # combine constaint values and jacobians into overall constaint value and jacobian arrays\n",
    "    c = [spacing_con; boundary_con]\n",
    "    dcdx = [ds_dx; db_dx]\n",
    "\n",
    "    # calculate the objective function and jacobian (negative sign in order to maximize AEP)\n",
    "    obj_result = DiffResults.JacobianResult(zeros(1),x)\n",
    "    obj_result = ForwardDiff.jacobian!(obj_result, aep_wrapper, x)\n",
    "    AEP = -DiffResults.value(obj_result)\n",
    "    dAEP_dx = -DiffResults.jacobian(obj_result)\n",
    "\n",
    "    # set fail flag to false\n",
    "    fail = false\n",
    "\n",
    "    # return objective, constraint, and jacobian values\n",
    "    return AEP[1], c, dAEP_dx, dcdx, fail\n",
    "end"
   ]
  },
  {
   "cell_type": "code",
   "execution_count": 6,
   "metadata": {},
   "outputs": [],
   "source": [
    "# set globals for use in wrapper functions\n",
    "struct params_struct6{MS, AF, F, ACTM, WR, APM, AC,AR}\n",
    "    model_set::MS\n",
    "    rotor_points_y::AF\n",
    "    rotor_points_z::AF\n",
    "    turbine_z::AF\n",
    "    rotor_diameter::AF\n",
    "    boundary_center::AF\n",
    "    boundary_radius::F\n",
    "    obj_scale::F\n",
    "    hub_height::AF\n",
    "    turbine_yaw::AF\n",
    "    ct_models::ACTM\n",
    "    generator_efficiency::AF\n",
    "    cut_in_speed::AF\n",
    "    cut_out_speed::AF\n",
    "    rated_speed::AF\n",
    "    rated_power::AF\n",
    "    windresource::WR\n",
    "    power_models::APM\n",
    "    cfgs::AC\n",
    "    results::AR\n",
    "end"
   ]
  },
  {
   "cell_type": "code",
   "execution_count": 7,
   "metadata": {},
   "outputs": [
    {
     "name": "stderr",
     "output_type": "stream",
     "text": [
      "┌ Info: Precompiling FlowFarm [eb2d4cfc-2064-11ea-0a1c-63d372e6a848]\n",
      "└ @ Base loading.jl:1260\n",
      "┌ Warning: Package FlowFarm does not have ForwardDiff in its dependencies:\n",
      "│ - If you have FlowFarm checked out for development and have\n",
      "│   added ForwardDiff as a dependency but haven't updated your primary\n",
      "│   environment's manifest file, try `Pkg.resolve()`.\n",
      "│ - Otherwise you may need to report an issue with FlowFarm\n",
      "└ Loading ForwardDiff into FlowFarm from project dependency, future warnings for FlowFarm are suppressed.\n"
     ]
    },
    {
     "name": "stdout",
     "output_type": "stream",
     "text": [
      "starting objective value: 0.33658078796656277\n",
      "Finished in : 0.0 (s)\n",
      "info: Finished successfully: optimality conditions satisfied\n",
      "end objective value: "
     ]
    },
    {
     "data": {
      "image/png": "[encoded data removed]",
      "text/plain": [
       "Figure(PyObject <Figure size 640x480 with 1 Axes>)"
      ]
     },
     "metadata": {},
     "output_type": "display_data"
    },
    {
     "name": "stdout",
     "output_type": "stream",
     "text": [
      "[0.5146096855017176]\n"
     ]
    }
   ],
   "source": [
    "# import model set with wind farm and related details\n",
    "include(\"./model_sets/model_set_6.jl\")\n",
    "\n",
    "# scale objective to be between 0 and 1\n",
    "obj_scale = 1E-11\n",
    "\n",
    "# set wind farm boundary parameters\n",
    "boundary_center = [0.0,0.0]\n",
    "boundary_radius = 300.0\n",
    "\n",
    "# initialize struct for opt params\n",
    "params6 = params_struct6(model_set, rotor_points_y, rotor_points_z, turbine_z, \n",
    "    rotor_diameter, boundary_center, boundary_radius, obj_scale, hub_height, turbine_yaw, \n",
    "    ct_models, generator_efficiency, cut_in_speed, cut_out_speed, rated_speed, rated_power, \n",
    "    windresource, power_models, [1,1,1],[1])\n",
    "\n",
    "# initialize design variable array\n",
    "x = [copy(turbine_x);copy(turbine_y)]\n",
    "xinit = deepcopy(x)\n",
    "# report initial objective value\n",
    "println(\"starting objective value: \", aep_wrapper(x, params6)[1])\n",
    "\n",
    "# add initial turbine location to plot\n",
    "for i = 1:length(turbine_x)\n",
    "    plt.gcf().gca().add_artist(plt.Circle((turbine_x[i],turbine_y[i]), rotor_diameter[1]/2.0, fill=false,color=\"C0\"))\n",
    "end\n",
    "\n",
    "# set general lower and upper bounds for design variables\n",
    "lb = zeros(length(x)) .- boundary_radius\n",
    "ub = zeros(length(x)) .+ boundary_radius\n",
    "\n",
    "# set up options for SNOPT\n",
    "options = Dict{String, Any}()\n",
    "options[\"Derivative option\"] = 1\n",
    "options[\"Verify level\"] = 3\n",
    "options[\"Major optimality tolerance\"] = 1e-5\n",
    "options[\"Major iteration limit\"] = 1e6\n",
    "options[\"Summary file\"] = \"./snopt-opt2-summary.out\"\n",
    "options[\"Print file\"] = \"./snopt-opt2-print.out\"\n",
    "\n",
    "# generate wrapper function surrogates\n",
    "spacing_wrapper(x) = spacing_wrapper(x, params6)\n",
    "aep_wrapper(x) = aep_wrapper(x, params6)\n",
    "boundary_wrapper(x) = boundary_wrapper(x, params6)\n",
    "obj_func(x) = wind_farm_opt(x)\n",
    "\n",
    "# run and time optimization\n",
    "t1 = time()\n",
    "xopt, fopt, info = snopt(obj_func, x, lb, ub, options)\n",
    "t2 = time()\n",
    "clkt = t2-t1\n",
    "\n",
    "# print optimization results\n",
    "println(\"Finished in : \", clkt, \" (s)\")\n",
    "println(\"info: \", info)\n",
    "println(\"end objective value: \", aep_wrapper(xopt))\n",
    "\n",
    "# extract final turbine locations\n",
    "turbine_x = copy(xopt[1:nturbines])\n",
    "turbine_y = copy(xopt[nturbines+1:end])\n",
    "\n",
    "# add final turbine locations to plot\n",
    "for i = 1:length(turbine_x)\n",
    "    plt.gcf().gca().add_artist(plt.Circle((turbine_x[i],turbine_y[i]), rotor_diameter[1]/2.0, fill=false,color=\"C1\", linestyle=\"--\")) \n",
    "end\n",
    "\n",
    "# add wind farm boundary to plot\n",
    "plt.gcf().gca().add_artist(plt.Circle((boundary_center[1],boundary_center[2]), boundary_radius, fill=false,color=\"C2\"))\n",
    "\n",
    "# set up and show plot\n",
    "axis(\"square\")\n",
    "xlim(-boundary_radius-200,boundary_radius+200)\n",
    "ylim(-boundary_radius-200,boundary_radius+200)\n",
    "plt.show()\n",
    "\n"
   ]
  },
  {
   "cell_type": "code",
   "execution_count": 8,
   "metadata": {},
   "outputs": [
    {
     "name": "stdout",
     "output_type": "stream",
     "text": [
      "  7.083151 seconds (11.67 M allocations: 1.361 GiB, 2.25% gc time)\n"
     ]
    }
   ],
   "source": [
    "@time for i in 1:10 snopt(obj_func, deepcopy(xinit), lb, ub, options) end"
   ]
  },
  {
   "cell_type": "code",
   "execution_count": null,
   "metadata": {},
   "outputs": [],
   "source": [
    "@profview snopt(obj_func, deepcopy(xinit), lb, ub, options)"
   ]
  },
  {
   "cell_type": "markdown",
   "metadata": {},
   "source": [
    "# Defining Chunk Size and Pre-allocating jacobian config"
   ]
  },
  {
   "cell_type": "code",
   "execution_count": 9,
   "metadata": {},
   "outputs": [
    {
     "data": {
      "text/plain": [
       "wind_farm_opt (generic function with 2 methods)"
      ]
     },
     "execution_count": 9,
     "metadata": {},
     "output_type": "execute_result"
    }
   ],
   "source": [
    "# set up optimization problem wrapper function using DiffResult\n",
    "function wind_farm_opt(x, params)\n",
    "    \n",
    "    # calculate spacing constraint value and jacobian\n",
    "    spacing_result = params.results[1]\n",
    "    spacing_result = ForwardDiff.jacobian!(spacing_result, spacing_wrapper, x, params.cfgs[1])\n",
    "    spacing_con = DiffResults.value(spacing_result)\n",
    "    ds_dx = DiffResults.jacobian(spacing_result)\n",
    "\n",
    "    # calculate boundary constraint and jacobian\n",
    "    boundary_result = params.results[2]\n",
    "    boundary_result = ForwardDiff.jacobian!(boundary_result, boundary_wrapper, x, params.cfgs[2])\n",
    "    boundary_con = DiffResults.value(boundary_result)\n",
    "    db_dx = DiffResults.jacobian(boundary_result)\n",
    "\n",
    "    # combine constaint values and jacobians into overall constaint value and jacobian arrays\n",
    "    c = [spacing_con; boundary_con]\n",
    "    dcdx = [ds_dx; db_dx]\n",
    "\n",
    "    # calculate the objective function and jacobian (negative sign in order to maximize AEP)\n",
    "    obj_result = params.results[3]\n",
    "    obj_result = ForwardDiff.jacobian!(obj_result, aep_wrapper, x, params.cfgs[3])\n",
    "    AEP = -DiffResults.value(obj_result)\n",
    "    dAEP_dx = -DiffResults.jacobian(obj_result)\n",
    "\n",
    "    # set fail flag to false\n",
    "    fail = false\n",
    "\n",
    "    # return objective, constraint, and jacobian values\n",
    "    return AEP[1], c, dAEP_dx, dcdx, fail\n",
    "end"
   ]
  },
  {
   "cell_type": "code",
   "execution_count": 10,
   "metadata": {},
   "outputs": [
    {
     "name": "stdout",
     "output_type": "stream",
     "text": [
      "starting objective value: 0.33658078796656277\n",
      "Finished in : "
     ]
    },
    {
     "data": {
      "image/png": "[encoded data removed]",
      "text/plain": [
       "Figure(PyObject <Figure size 640x480 with 1 Axes>)"
      ]
     },
     "metadata": {},
     "output_type": "display_data"
    },
    {
     "name": "stdout",
     "output_type": "stream",
     "text": [
      "0.0 (s)\n",
      "info: Finished successfully: optimality conditions satisfied\n",
      "end objective value: [0.5146096855017176]\n"
     ]
    }
   ],
   "source": [
    "# import model set with wind farm and related details\n",
    "include(\"./model_sets/model_set_6.jl\")\n",
    "\n",
    "# scale objective to be between 0 and 1\n",
    "obj_scale = 1E-11\n",
    "\n",
    "# set wind farm boundary parameters\n",
    "boundary_center = [0.0,0.0]\n",
    "boundary_radius = 300.0\n",
    "\n",
    "# initialize struct for opt params\n",
    "spacing_chunk_size = 18\n",
    "# spacing_cfg = ForwardDiff.JacobianConfig(spacing_wrapper, x, ForwardDiff.Chunk{spacing_chunk_size}())\n",
    "spacing_cfg = ForwardDiff.JacobianConfig(spacing_wrapper, x)\n",
    "spacing_result = DiffResults.JacobianResult(zeros(length(x)*2),x)\n",
    "\n",
    "boundary_chunk_size = 18\n",
    "# boundary_cfg = ForwardDiff.JacobianConfig(boundary_wrapper, x, ForwardDiff.Chunk{boundary_chunk_size}())\n",
    "boundary_cfg = ForwardDiff.JacobianConfig(boundary_wrapper, x)\n",
    "boundary_result = DiffResults.JacobianResult(zeros(Int(length(x)/2)),x)\n",
    "\n",
    "obj_chunk_size = 18\n",
    "# obj_cfg = ForwardDiff.JacobianConfig(aep_wrapper, x, ForwardDiff.Chunk{obj_chunk_size}())\n",
    "obj_cfg = ForwardDiff.JacobianConfig(aep_wrapper, x)\n",
    "obj_result = DiffResults.JacobianResult(zeros(1), x)\n",
    "\n",
    "params6 = params_struct6(model_set, rotor_points_y, rotor_points_z, turbine_z, \n",
    "    rotor_diameter, boundary_center, boundary_radius, obj_scale, hub_height, turbine_yaw, \n",
    "    ct_models, generator_efficiency, cut_in_speed, cut_out_speed, rated_speed, rated_power, \n",
    "    windresource, power_models, [spacing_cfg, boundary_cfg, obj_cfg], [spacing_result, boundary_result, obj_result])\n",
    "\n",
    "# initialize design variable array\n",
    "x = [copy(turbine_x);copy(turbine_y)]\n",
    "xinit = deepcopy(x)\n",
    "# report initial objective value\n",
    "println(\"starting objective value: \", aep_wrapper(x, params6)[1])\n",
    "\n",
    "# add initial turbine location to plot\n",
    "for i = 1:length(turbine_x)\n",
    "    plt.gcf().gca().add_artist(plt.Circle((turbine_x[i],turbine_y[i]), rotor_diameter[1]/2.0, fill=false,color=\"C0\"))\n",
    "end\n",
    "\n",
    "# set general lower and upper bounds for design variables\n",
    "lb = zeros(length(x)) .- boundary_radius\n",
    "ub = zeros(length(x)) .+ boundary_radius\n",
    "\n",
    "# set up options for SNOPT\n",
    "options = Dict{String, Any}()\n",
    "options[\"Derivative option\"] = 1\n",
    "options[\"Verify level\"] = 3\n",
    "options[\"Major optimality tolerance\"] = 1e-5\n",
    "options[\"Major iteration limit\"] = 1e6\n",
    "options[\"Summary file\"] = \"./snopt-opt2-summary.out\"\n",
    "options[\"Print file\"] = \"./snopt-opt2-print.out\"\n",
    "\n",
    "# generate wrapper function surrogates\n",
    "spacing_wrapper(x) = spacing_wrapper(x, params6)\n",
    "aep_wrapper(x) = aep_wrapper(x, params6)\n",
    "boundary_wrapper(x) = boundary_wrapper(x, params6)\n",
    "obj_func(x) = wind_farm_opt(x, params6)\n",
    "\n",
    "# run and time optimization\n",
    "t1 = time()\n",
    "xopt, fopt, info = snopt(obj_func, x, lb, ub, options)\n",
    "t2 = time()\n",
    "clkt = t2-t1\n",
    "\n",
    "# print optimization results\n",
    "println(\"Finished in : \", clkt, \" (s)\")\n",
    "println(\"info: \", info)\n",
    "println(\"end objective value: \", aep_wrapper(xopt))\n",
    "\n",
    "# extract final turbine locations\n",
    "turbine_x = copy(xopt[1:nturbines])\n",
    "turbine_y = copy(xopt[nturbines+1:end])\n",
    "\n",
    "# add final turbine locations to plot\n",
    "for i = 1:length(turbine_x)\n",
    "    plt.gcf().gca().add_artist(plt.Circle((turbine_x[i],turbine_y[i]), rotor_diameter[1]/2.0, fill=false,color=\"C1\", linestyle=\"--\")) \n",
    "end\n",
    "\n",
    "# add wind farm boundary to plot\n",
    "plt.gcf().gca().add_artist(plt.Circle((boundary_center[1],boundary_center[2]), boundary_radius, fill=false,color=\"C2\"))\n",
    "\n",
    "# set up and show plot\n",
    "axis(\"square\")\n",
    "xlim(-boundary_radius-200,boundary_radius+200)\n",
    "ylim(-boundary_radius-200,boundary_radius+200)\n",
    "plt.show()\n",
    "\n",
    "\n"
   ]
  },
  {
   "cell_type": "code",
   "execution_count": 11,
   "metadata": {},
   "outputs": [
    {
     "name": "stdout",
     "output_type": "stream",
     "text": [
      "  7.730446 seconds (33.41 M allocations: 1.579 GiB, 2.60% gc time)\n"
     ]
    }
   ],
   "source": [
    "@time for i in 1:10 snopt(obj_func, deepcopy(xinit), lb, ub, options) end"
   ]
  },
  {
   "cell_type": "code",
   "execution_count": 12,
   "metadata": {},
   "outputs": [
    {
     "data": {
      "text/plain": [
       "obj_func (generic function with 1 method)"
      ]
     },
     "execution_count": 12,
     "metadata": {},
     "output_type": "execute_result"
    }
   ],
   "source": [
    "spacing_chunk_size = 18\n",
    "spacing_cfg = ForwardDiff.JacobianConfig(spacing_wrapper, x, ForwardDiff.Chunk{spacing_chunk_size}())\n",
    "\n",
    "boundary_chunk_size = 18\n",
    "boundary_cfg = ForwardDiff.JacobianConfig(boundary_wrapper, x, ForwardDiff.Chunk{boundary_chunk_size}())\n",
    "\n",
    "obj_chunk_size = 18\n",
    "obj_cfg = ForwardDiff.JacobianConfig(aep_wrapper, x, ForwardDiff.Chunk{obj_chunk_size}())\n",
    "\n",
    "params7 = params_struct6(model_set, rotor_points_y, rotor_points_z, turbine_z, \n",
    "    rotor_diameter, boundary_center, boundary_radius, obj_scale, hub_height, turbine_yaw, \n",
    "    ct_models, generator_efficiency, cut_in_speed, cut_out_speed, rated_speed, rated_power, \n",
    "    windresource, power_models, [spacing_cfg, boundary_cfg, obj_cfg], [spacing_result, boundary_result, obj_result])\n",
    "\n",
    "# params6.cfgs[1] = spacing_cfg\n",
    "# params6.cfgs[2] = boundary_cfg\n",
    "# params6.cfgs[3] = obj_cfg\n",
    "\n",
    "obj_func(x) = wind_farm_opt(x, params7)"
   ]
  },
  {
   "cell_type": "code",
   "execution_count": 13,
   "metadata": {},
   "outputs": [
    {
     "name": "stdout",
     "output_type": "stream",
     "text": [
      " 11.466235 seconds (36.49 M allocations: 1.788 GiB, 3.53% gc time)\n"
     ]
    }
   ],
   "source": [
    "@time for i in 1:10 snopt(obj_func, deepcopy(xinit), lb, ub, options) end"
   ]
  },
  {
   "cell_type": "code",
   "execution_count": 25,
   "metadata": {},
   "outputs": [
    {
     "data": {
      "text/plain": [
       "obj_func (generic function with 1 method)"
      ]
     },
     "execution_count": 25,
     "metadata": {},
     "output_type": "execute_result"
    }
   ],
   "source": [
    "spacing_chunk_size = 9\n",
    "spacing_cfg = ForwardDiff.JacobianConfig(spacing_wrapper, x, ForwardDiff.Chunk{spacing_chunk_size}())\n",
    "\n",
    "boundary_chunk_size = 9\n",
    "boundary_cfg = ForwardDiff.JacobianConfig(boundary_wrapper, x, ForwardDiff.Chunk{boundary_chunk_size}())\n",
    "\n",
    "obj_chunk_size = 9\n",
    "obj_cfg = ForwardDiff.JacobianConfig(aep_wrapper, x, ForwardDiff.Chunk{obj_chunk_size}())\n",
    "\n",
    "params7 = params_struct6(model_set, rotor_points_y, rotor_points_z, turbine_z, \n",
    "    rotor_diameter, boundary_center, boundary_radius, obj_scale, hub_height, turbine_yaw, \n",
    "    ct_models, generator_efficiency, cut_in_speed, cut_out_speed, rated_speed, rated_power, \n",
    "    windresource, power_models, [spacing_cfg, boundary_cfg, obj_cfg], [spacing_result, boundary_result, obj_result])\n",
    "# generate wrapper function surrogates\n",
    "spacing_wrapper(x) = spacing_wrapper(x, params7)\n",
    "aep_wrapper(x) = aep_wrapper(x, params7)\n",
    "boundary_wrapper(x) = boundary_wrapper(x, params7)\n",
    "obj_func(x) = wind_farm_opt(x, params7)"
   ]
  },
  {
   "cell_type": "code",
   "execution_count": 26,
   "metadata": {},
   "outputs": [
    {
     "name": "stdout",
     "output_type": "stream",
     "text": [
      "  8.198858 seconds (34.27 M allocations: 1.623 GiB, 3.00% gc time)\n"
     ]
    }
   ],
   "source": [
    "@time for i in 1:10 snopt(obj_func, deepcopy(xinit), lb, ub, options) end"
   ]
  },
  {
   "cell_type": "markdown",
   "metadata": {},
   "source": [
    "It looks like the main benefit here is pre-configuring the jacobian call"
   ]
  },
  {
   "cell_type": "code",
   "execution_count": null,
   "metadata": {},
   "outputs": [],
   "source": [
    "@profview snopt(obj_func, deepcopy(xinit), lb, ub, options)"
   ]
  },
  {
   "cell_type": "markdown",
   "metadata": {},
   "source": [
    "# Making use of sparsity for constraint calculations"
   ]
  },
  {
   "cell_type": "code",
   "execution_count": 50,
   "metadata": {},
   "outputs": [],
   "source": [
    "using SparseDiffTools, SparsityDetection, SparseArrays, Cassette"
   ]
  },
  {
   "cell_type": "code",
   "execution_count": 207,
   "metadata": {},
   "outputs": [],
   "source": [
    "# set globals for use in wrapper functions\n",
    "struct params_struct_cache{MS, AF, F, ACTM, WR, APM, AJC}\n",
    "    model_set::MS\n",
    "    rotor_points_y::AF\n",
    "    rotor_points_z::AF\n",
    "    turbine_z::AF\n",
    "    rotor_diameter::AF\n",
    "    boundary_center::AF\n",
    "    boundary_radius::F\n",
    "    obj_scale::F\n",
    "    hub_height::AF\n",
    "    turbine_yaw::AF\n",
    "    ct_models::ACTM\n",
    "    generator_efficiency::AF\n",
    "    cut_in_speed::AF\n",
    "    cut_out_speed::AF\n",
    "    rated_speed::AF\n",
    "    rated_power::AF\n",
    "    windresource::WR\n",
    "    power_models::APM\n",
    "    jac_cache::AJC\n",
    "end"
   ]
  },
  {
   "cell_type": "code",
   "execution_count": 295,
   "metadata": {},
   "outputs": [
    {
     "data": {
      "text/plain": [
       "wind_farm_opt (generic function with 2 methods)"
      ]
     },
     "execution_count": 295,
     "metadata": {},
     "output_type": "execute_result"
    }
   ],
   "source": [
    "using Snopt\n",
    "using DelimitedFiles \n",
    "using PyPlot\n",
    "import ForwardDiff\n",
    "\n",
    "# set up boundary constraint wrapper function\n",
    "function boundary_wrapper(x, params)\n",
    "    \n",
    "    # get number of turbines\n",
    "    nturbines = Int(length(x)/2)\n",
    "    \n",
    "    # extract x and y locations of turbines from design variables vector\n",
    "    turbine_x = x[1:nturbines]\n",
    "    turbine_y = x[nturbines+1:end]\n",
    "\n",
    "    # get and return boundary distances\n",
    "    return ff.circle_boundary(params.boundary_center, params.boundary_radius, turbine_x, turbine_y)\n",
    "end\n",
    "\n",
    "# set up spacing constraint wrapper function\n",
    "function spacing_wrapper(x, params)\n",
    "    \n",
    "    # get number of turbines\n",
    "    nturbines = Int(length(x)/2)\n",
    "\n",
    "    # extract x and y locations of turbines from design variables vector\n",
    "    turbine_x = x[1:nturbines]\n",
    "    turbine_y = x[nturbines+1:end]\n",
    "\n",
    "    # get and return spacing distances\n",
    "    return 2.0*params.rotor_diameter[1] .- ff.turbine_spacing(turbine_x,turbine_y)\n",
    "end\n",
    "\n",
    "# set up objective wrapper function\n",
    "function aep_wrapper(x, params)\n",
    "\n",
    "    # get number of turbines\n",
    "    nturbines = Int(length(x)/2)\n",
    "\n",
    "    # extract x and y locations of turbines from design variables vector\n",
    "    turbine_x = x[1:nturbines] \n",
    "    turbine_y = x[nturbines+1:end]\n",
    "\n",
    "    # calculate AEP\n",
    "    AEP = obj_scale*ff.calculate_aep(turbine_x, turbine_y, params.turbine_z, params.rotor_diameter,\n",
    "                params.hub_height, params.turbine_yaw, params.ct_models, params.generator_efficiency, params.cut_in_speed,\n",
    "                params.cut_out_speed, params.rated_speed, params.rated_power, params.windresource, params.power_models, params.model_set,\n",
    "                rotor_sample_points_y=params.rotor_points_y,rotor_sample_points_z=params.rotor_points_z)\n",
    "    \n",
    "    # return the objective as an array\n",
    "    return [AEP]\n",
    "end\n",
    "\n",
    "# set up optimization problem wrapper function\n",
    "function wind_farm_opt(x, params)\n",
    "\n",
    "    # calculate spacing constraint value and jacobian\n",
    "    \n",
    "    spacing_con = spacing_wrapper(x)\n",
    "#     xrand = rand(Int(length(x)))\n",
    "#     spacing_sparcity = sparse(ForwardDiff.jacobian(spacing_wrapper, xrand))\n",
    "#     for i in 1:size(spacing_sparcity)[1]\n",
    "#         for j in 1:size(spacing_sparcity)[2]\n",
    "#             if spacing_sparcity[i,j] != 0\n",
    "#                 spacing_sparcity[i,j] = 1.0\n",
    "#             end\n",
    "#         end\n",
    "#     end\n",
    "\n",
    "#     spacing_colors = matrix_colors(spacing_sparcity)\n",
    "    \n",
    "#     ds_dx = forwarddiff_color_jacobian(spacing_wrapper, x,\n",
    "#                                     dx = spacing_con,\n",
    "#                                     colorvec = params.jac_cache[2],\n",
    "#                                     sparsity = params.jac_cache[3])\n",
    "    \n",
    "    ds_dx = forwarddiff_color_jacobian(spacing_wrapper, x, spacing_jac_cache)\n",
    "    \n",
    "    # calculate boundary constraint and jacobian\n",
    "    boundary_con = boundary_wrapper(x)\n",
    "    db_dx = ForwardDiff.jacobian(boundary_wrapper, x)\n",
    "\n",
    "    # combine constaint values and jacobians into overall constaint value and jacobian arrays\n",
    "    c = [spacing_con; boundary_con]\n",
    "    dcdx = [ds_dx; db_dx]\n",
    "\n",
    "    # calculate the objective function and jacobian (negative sign in order to maximize AEP)\n",
    "    AEP = -aep_wrapper(x)[1]\n",
    "    dAEP_dx = -ForwardDiff.jacobian(aep_wrapper,x)\n",
    "\n",
    "    # set fail flag to false\n",
    "    fail = false\n",
    "\n",
    "    # return objective, constraint, and jacobian values\n",
    "    return AEP, c, dAEP_dx, dcdx, fail\n",
    "end\n",
    "\n"
   ]
  },
  {
   "cell_type": "code",
   "execution_count": 302,
   "metadata": {},
   "outputs": [
    {
     "name": "stdout",
     "output_type": "stream",
     "text": [
      "starting objective value: 0.33658078796656277\n",
      "Finished in : "
     ]
    },
    {
     "data": {
      "image/png": "[encoded data removed]",
      "text/plain": [
       "Figure(PyObject <Figure size 640x480 with 1 Axes>)"
      ]
     },
     "metadata": {},
     "output_type": "display_data"
    },
    {
     "name": "stdout",
     "output_type": "stream",
     "text": [
      "5.001971006393433 (s)\n",
      "info: Finished successfully: optimality conditions satisfied\n",
      "end objective value: [0.5146096855017176]\n"
     ]
    }
   ],
   "source": [
    "# import model set with wind farm and related details\n",
    "include(\"./model_sets/model_set_6.jl\")\n",
    "\n",
    "# initialize design variable array\n",
    "x = [copy(turbine_x);copy(turbine_y)]\n",
    "xinit = deepcopy(x)\n",
    "\n",
    "# scale objective to be between 0 and 1\n",
    "obj_scale = 1E-11\n",
    "\n",
    "# set wind farm boundary parameters\n",
    "boundary_center = [0.0,0.0]\n",
    "boundary_radius = 300.0\n",
    "\n",
    "# initialize struct for opt params\n",
    "# use rand x values so that the inherent structure does not cloud the true sparsity pattern\n",
    "xrand = rand(Int(length(x)))\n",
    "spacing_output = spacing_wrapper(xrand)\n",
    "spacing_sparcity = sparse(ForwardDiff.jacobian(spacing_wrapper, xrand))\n",
    "for i in 1:size(spacing_sparcity)[1]\n",
    "    for j in 1:size(spacing_sparcity)[2]\n",
    "        if spacing_sparcity[i,j] != 0\n",
    "            spacing_sparcity[i,j] = 1.0\n",
    "        end\n",
    "    end\n",
    "end\n",
    "# get color vector\n",
    "spacing_colors = matrix_colors(spacing_sparcity)\n",
    "# cache jacobian config\n",
    "spacing_jac_cache = ForwardColorJacCache(spacing_wrapper, xinit,\n",
    "                              dx=spacing_output,\n",
    "                              colorvec=spacing_colors,\n",
    "                              sparsity=spacing_sparcity)\n",
    "spacing_chunk_size = 18\n",
    "# spacing_cfg = ForwardDiff.JacobianConfig(spacing_wrapper, x, ForwardDiff.Chunk{spacing_chunk_size}())\n",
    "spacing_cfg = ForwardDiff.JacobianConfig(spacing_wrapper, x)\n",
    "spacing_result = DiffResults.JacobianResult(zeros(length(x)*2),x)\n",
    "\n",
    "boundary_chunk_size = 18\n",
    "# boundary_cfg = ForwardDiff.JacobianConfig(boundary_wrapper, x, ForwardDiff.Chunk{boundary_chunk_size}())\n",
    "boundary_cfg = ForwardDiff.JacobianConfig(boundary_wrapper, x)\n",
    "boundary_result = DiffResults.JacobianResult(zeros(Int(length(x)/2)),x)\n",
    "\n",
    "obj_chunk_size = 18\n",
    "# obj_cfg = ForwardDiff.JacobianConfig(aep_wrapper, x, ForwardDiff.Chunk{obj_chunk_size}())\n",
    "obj_cfg = ForwardDiff.JacobianConfig(aep_wrapper, x)\n",
    "obj_result = DiffResults.JacobianResult(zeros(1), x)\n",
    "\n",
    "params6 = params_struct_cache(model_set, rotor_points_y, rotor_points_z, turbine_z, \n",
    "    rotor_diameter, boundary_center, boundary_radius, obj_scale, hub_height, turbine_yaw, \n",
    "    ct_models, generator_efficiency, cut_in_speed, cut_out_speed, rated_speed, rated_power, \n",
    "    windresource, power_models, [spacing_jac_cache])\n",
    "\n",
    "# report initial objective value\n",
    "println(\"starting objective value: \", aep_wrapper(x, params6)[1])\n",
    "\n",
    "# add initial turbine location to plot\n",
    "for i = 1:length(turbine_x)\n",
    "    plt.gcf().gca().add_artist(plt.Circle((turbine_x[i],turbine_y[i]), rotor_diameter[1]/2.0, fill=false,color=\"C0\"))\n",
    "end\n",
    "\n",
    "# set general lower and upper bounds for design variables\n",
    "lb = zeros(length(x)) .- boundary_radius\n",
    "ub = zeros(length(x)) .+ boundary_radius\n",
    "\n",
    "# set up options for SNOPT\n",
    "options = Dict{String, Any}()\n",
    "options[\"Derivative option\"] = 1\n",
    "options[\"Verify level\"] = 3\n",
    "options[\"Major optimality tolerance\"] = 1e-5\n",
    "options[\"Major iteration limit\"] = 1e6\n",
    "options[\"Summary file\"] = \"./snopt-opt2-summary.out\"\n",
    "options[\"Print file\"] = \"./snopt-opt2-print.out\"\n",
    "\n",
    "# generate wrapper function surrogates\n",
    "spacing_wrapper(x) = spacing_wrapper(x, params6)\n",
    "aep_wrapper(x) = aep_wrapper(x, params6)\n",
    "boundary_wrapper(x) = boundary_wrapper(x, params6)\n",
    "obj_func(x) = wind_farm_opt(x, params6)\n",
    "\n",
    "# run and time optimization\n",
    "t1 = time()\n",
    "xopt, fopt, info = snopt(obj_func, x, lb, ub, options)\n",
    "t2 = time()\n",
    "clkt = t2-t1\n",
    "\n",
    "# print optimization results\n",
    "println(\"Finished in : \", clkt, \" (s)\")\n",
    "println(\"info: \", info)\n",
    "println(\"end objective value: \", aep_wrapper(xopt))\n",
    "\n",
    "# extract final turbine locations\n",
    "turbine_x = copy(xopt[1:nturbines])\n",
    "turbine_y = copy(xopt[nturbines+1:end])\n",
    "\n",
    "# add final turbine locations to plot\n",
    "for i = 1:length(turbine_x)\n",
    "    plt.gcf().gca().add_artist(plt.Circle((turbine_x[i],turbine_y[i]), rotor_diameter[1]/2.0, fill=false,color=\"C1\", linestyle=\"--\")) \n",
    "end\n",
    "\n",
    "# add wind farm boundary to plot\n",
    "plt.gcf().gca().add_artist(plt.Circle((boundary_center[1],boundary_center[2]), boundary_radius, fill=false,color=\"C2\"))\n",
    "\n",
    "# set up and show plot\n",
    "axis(\"square\")\n",
    "xlim(-boundary_radius-200,boundary_radius+200)\n",
    "ylim(-boundary_radius-200,boundary_radius+200)\n",
    "plt.show()"
   ]
  },
  {
   "cell_type": "code",
   "execution_count": 299,
   "metadata": {},
   "outputs": [
    {
     "name": "stdout",
     "output_type": "stream",
     "text": [
      "1031.327787 seconds (9.97 G allocations: 229.960 GiB, 3.13% gc time)\n"
     ]
    }
   ],
   "source": [
    "@time for i in 1:10 snopt(obj_func, deepcopy(xinit), lb, ub, options) end"
   ]
  },
  {
   "cell_type": "code",
   "execution_count": 194,
   "metadata": {},
   "outputs": [
    {
     "data": {
      "text/plain": [
       "36×18 Array{Float64,2}:\n",
       "  0.707107  -0.707107  -0.0       …  -0.0       -0.0       -0.0\n",
       "  1.0       -0.0       -1.0          -0.0       -0.0       -0.0\n",
       "  0.707107  -0.0       -0.0          -0.0       -0.0       -0.0\n",
       "  1.0       -0.0       -0.0          -0.0       -0.0       -0.0\n",
       "  1.0       -0.0       -0.0          -0.0       -0.0       -0.0\n",
       "  0.894427  -0.0       -0.0       …  -0.447214  -0.0       -0.0\n",
       "  1.0       -0.0       -0.0          -0.0       -0.0       -0.0\n",
       "  0.894427  -0.0       -0.0          -0.0       -0.0        0.447214\n",
       " -0.0        0.707107  -0.707107     -0.0       -0.0       -0.0\n",
       " -0.0        0.0       -0.0          -0.0       -0.0       -0.0\n",
       " -0.0        0.0       -0.0       …  -0.0       -0.0       -0.0\n",
       "  0.0       -0.447214   0.0           0.0        0.0        0.0\n",
       " -0.0        0.0       -0.0           1.0       -0.0       -0.0\n",
       "  ⋮                               ⋱   ⋮                    \n",
       " -0.0       -0.0       -0.0          -0.0       -0.894427  -0.0\n",
       " -0.0       -0.0       -0.0       …  -0.0       -0.0       -1.0\n",
       " -0.0       -0.0       -0.0          -0.0       -0.0       -0.0\n",
       " -0.0       -0.0       -0.0          -1.0       -0.0       -0.0\n",
       " -0.0       -0.0       -0.0          -0.0       -0.0       -0.0\n",
       " -0.0       -0.0       -0.0          -0.0       -0.0        1.0\n",
       " -0.0       -0.0       -0.0       …  -0.707107  -0.0       -0.0\n",
       " -0.0       -0.0       -0.0          -0.0       -0.0       -0.0\n",
       " -0.0       -0.0       -0.0          -0.0       -0.0        0.707107\n",
       " -0.0       -0.0       -0.0          -0.707107   0.707107  -0.0\n",
       " -0.0       -0.0       -0.0          -1.0       -0.0        1.0\n",
       "  0.0        0.0        0.0       …   0.0       -0.707107   0.707107"
      ]
     },
     "execution_count": 194,
     "metadata": {},
     "output_type": "execute_result"
    }
   ],
   "source": [
    "# get sparsity pattern for spacing wrapper\n",
    "input = xinit\n",
    "output = spacing_sparsity_wrapper(xinit)"
   ]
  },
  {
   "cell_type": "code",
   "execution_count": 195,
   "metadata": {},
   "outputs": [
    {
     "data": {
      "text/plain": [
       "36×18 Array{Float64,2}:\n",
       "  0.707107  -0.707107  -0.0       …  -0.0       -0.0       -0.0\n",
       "  1.0       -0.0       -1.0          -0.0       -0.0       -0.0\n",
       "  0.707107  -0.0       -0.0          -0.0       -0.0       -0.0\n",
       "  1.0       -0.0       -0.0          -0.0       -0.0       -0.0\n",
       "  1.0       -0.0       -0.0          -0.0       -0.0       -0.0\n",
       "  0.894427  -0.0       -0.0       …  -0.447214  -0.0       -0.0\n",
       "  1.0       -0.0       -0.0          -0.0       -0.0       -0.0\n",
       "  0.894427  -0.0       -0.0          -0.0       -0.0        0.447214\n",
       " -0.0        0.707107  -0.707107     -0.0       -0.0       -0.0\n",
       " -0.0        0.0       -0.0          -0.0       -0.0       -0.0\n",
       " -0.0        0.0       -0.0       …  -0.0       -0.0       -0.0\n",
       "  0.0       -0.447214   0.0           0.0        0.0        0.0\n",
       " -0.0        0.0       -0.0           1.0       -0.0       -0.0\n",
       "  ⋮                               ⋱   ⋮                    \n",
       " -0.0       -0.0       -0.0          -0.0       -0.894427  -0.0\n",
       " -0.0       -0.0       -0.0       …  -0.0       -0.0       -1.0\n",
       " -0.0       -0.0       -0.0          -0.0       -0.0       -0.0\n",
       " -0.0       -0.0       -0.0          -1.0       -0.0       -0.0\n",
       " -0.0       -0.0       -0.0          -0.0       -0.0       -0.0\n",
       " -0.0       -0.0       -0.0          -0.0       -0.0        1.0\n",
       " -0.0       -0.0       -0.0       …  -0.707107  -0.0       -0.0\n",
       " -0.0       -0.0       -0.0          -0.0       -0.0       -0.0\n",
       " -0.0       -0.0       -0.0          -0.0       -0.0        0.707107\n",
       " -0.0       -0.0       -0.0          -0.707107   0.707107  -0.0\n",
       " -0.0       -0.0       -0.0          -1.0       -0.0        1.0\n",
       "  0.0        0.0        0.0       …   0.0       -0.707107   0.707107"
      ]
     },
     "execution_count": 195,
     "metadata": {},
     "output_type": "execute_result"
    }
   ],
   "source": [
    "ForwardDiff.jacobian(spacing_wrapper, xinit)"
   ]
  },
  {
   "cell_type": "code",
   "execution_count": 196,
   "metadata": {},
   "outputs": [
    {
     "data": {
      "text/plain": [
       "36×18 SparseMatrixCSC{Float64,Int64} with 104 stored entries:\n",
       "  [1 ,  1]  =  0.707107\n",
       "  [2 ,  1]  =  1.0\n",
       "  [3 ,  1]  =  0.707107\n",
       "  [4 ,  1]  =  1.0\n",
       "  [5 ,  1]  =  1.0\n",
       "  [6 ,  1]  =  0.894427\n",
       "  [7 ,  1]  =  1.0\n",
       "  [8 ,  1]  =  0.894427\n",
       "  [1 ,  2]  =  -0.707107\n",
       "  [9 ,  2]  =  0.707107\n",
       "  [12,  2]  =  -0.447214\n",
       "  [14,  2]  =  0.447214\n",
       "  ⋮\n",
       "  [35, 16]  =  -1.0\n",
       "  [14, 17]  =  0.894427\n",
       "  [25, 17]  =  -0.894427\n",
       "  [34, 17]  =  0.707107\n",
       "  [36, 17]  =  -0.707107\n",
       "  [8 , 18]  =  0.447214\n",
       "  [15, 18]  =  1.0\n",
       "  [21, 18]  =  0.447214\n",
       "  [26, 18]  =  -1.0\n",
       "  [30, 18]  =  1.0\n",
       "  [33, 18]  =  0.707107\n",
       "  [35, 18]  =  1.0\n",
       "  [36, 18]  =  0.707107"
      ]
     },
     "execution_count": 196,
     "metadata": {},
     "output_type": "execute_result"
    }
   ],
   "source": [
    "jac = sparse(output)"
   ]
  },
  {
   "cell_type": "code",
   "execution_count": 197,
   "metadata": {},
   "outputs": [
    {
     "data": {
      "text/plain": [
       "36×18 SparseMatrixCSC{Float64,Int64} with 104 stored entries:\n",
       "  [1 ,  1]  =  1.0\n",
       "  [2 ,  1]  =  1.0\n",
       "  [3 ,  1]  =  1.0\n",
       "  [4 ,  1]  =  1.0\n",
       "  [5 ,  1]  =  1.0\n",
       "  [6 ,  1]  =  1.0\n",
       "  [7 ,  1]  =  1.0\n",
       "  [8 ,  1]  =  1.0\n",
       "  [1 ,  2]  =  1.0\n",
       "  [9 ,  2]  =  1.0\n",
       "  [12,  2]  =  1.0\n",
       "  [14,  2]  =  1.0\n",
       "  ⋮\n",
       "  [35, 16]  =  1.0\n",
       "  [14, 17]  =  1.0\n",
       "  [25, 17]  =  1.0\n",
       "  [34, 17]  =  1.0\n",
       "  [36, 17]  =  1.0\n",
       "  [8 , 18]  =  1.0\n",
       "  [15, 18]  =  1.0\n",
       "  [21, 18]  =  1.0\n",
       "  [26, 18]  =  1.0\n",
       "  [30, 18]  =  1.0\n",
       "  [33, 18]  =  1.0\n",
       "  [35, 18]  =  1.0\n",
       "  [36, 18]  =  1.0"
      ]
     },
     "execution_count": 197,
     "metadata": {},
     "output_type": "execute_result"
    }
   ],
   "source": [
    "for i in 1:size(jac)[1]\n",
    "    for j in 1:size(jac)[2]\n",
    "        if jac[i,j] != 0\n",
    "            jac[i,j] = 1.0\n",
    "        end\n",
    "    end\n",
    "end\n",
    "jac"
   ]
  },
  {
   "cell_type": "code",
   "execution_count": 198,
   "metadata": {},
   "outputs": [
    {
     "data": {
      "text/plain": [
       "18-element Array{Int64,1}:\n",
       " 1\n",
       " 2\n",
       " 3\n",
       " 2\n",
       " 2\n",
       " 4\n",
       " 2\n",
       " 5\n",
       " 2\n",
       " 3\n",
       " 6\n",
       " 1\n",
       " 7\n",
       " 1\n",
       " 1\n",
       " 8\n",
       " 1\n",
       " 9"
      ]
     },
     "execution_count": 198,
     "metadata": {},
     "output_type": "execute_result"
    }
   ],
   "source": [
    "colors = matrix_colors(jac)"
   ]
  },
  {
   "cell_type": "code",
   "execution_count": 199,
   "metadata": {},
   "outputs": [
    {
     "data": {
      "text/plain": [
       "36×18 SparseMatrixCSC{Float64,Int64} with 104 stored entries:\n",
       "  [1 ,  1]  =  0.707107\n",
       "  [2 ,  1]  =  1.0\n",
       "  [3 ,  1]  =  0.707107\n",
       "  [4 ,  1]  =  1.0\n",
       "  [5 ,  1]  =  1.0\n",
       "  [6 ,  1]  =  0.894427\n",
       "  [7 ,  1]  =  1.0\n",
       "  [8 ,  1]  =  0.894427\n",
       "  [1 ,  2]  =  -0.707107\n",
       "  [9 ,  2]  =  0.707107\n",
       "  [12,  2]  =  -0.447214\n",
       "  [14,  2]  =  0.447214\n",
       "  ⋮\n",
       "  [35, 16]  =  -1.0\n",
       "  [14, 17]  =  0.894427\n",
       "  [25, 17]  =  -0.894427\n",
       "  [34, 17]  =  0.707107\n",
       "  [36, 17]  =  -0.707107\n",
       "  [8 , 18]  =  0.447214\n",
       "  [15, 18]  =  1.0\n",
       "  [21, 18]  =  0.447214\n",
       "  [26, 18]  =  -1.0\n",
       "  [30, 18]  =  1.0\n",
       "  [33, 18]  =  0.707107\n",
       "  [35, 18]  =  1.0\n",
       "  [36, 18]  =  0.707107"
      ]
     },
     "execution_count": 199,
     "metadata": {},
     "output_type": "execute_result"
    }
   ],
   "source": [
    "jacout = forwarddiff_color_jacobian(spacing_wrapper, input,\n",
    "                                    dx = output,\n",
    "                                    colorvec = colors,\n",
    "                                    sparsity = jac,\n",
    "                                    jac_prototype = jac)"
   ]
  },
  {
   "cell_type": "code",
   "execution_count": 222,
   "metadata": {},
   "outputs": [
    {
     "data": {
      "text/plain": [
       "true"
      ]
     },
     "execution_count": 222,
     "metadata": {},
     "output_type": "execute_result"
    }
   ],
   "source": [
    "spacing_output = spacing_wrapper(xinit)\n",
    "spacing_sparcity = sparse(ForwardDiff.jacobian(spacing_wrapper, xinit))\n",
    "for i in 1:size(jac)[1]\n",
    "    for j in 1:size(jac)[2]\n",
    "        if spacing_sparcity[i,j] != 0\n",
    "            spacing_sparcity[i,j] = 1.0\n",
    "        end\n",
    "    end\n",
    "end\n",
    "spacing_colors = matrix_colors(spacing_sparcity)\n",
    "spacing_jac_cache = ForwardColorJacCache(spacing_wrapper,x,\n",
    "                              dx = spacing_output,\n",
    "                              colorvec=spacing_colors,\n",
    "                              sparsity = spacing_sparcity)\n",
    "\n",
    "jacout == forwarddiff_color_jacobian(spacing_wrapper, xinit, spacing_jac_cache)"
   ]
  },
  {
   "cell_type": "code",
   "execution_count": 171,
   "metadata": {},
   "outputs": [
    {
     "data": {
      "text/plain": [
       "g (generic function with 1 method)"
      ]
     },
     "execution_count": 171,
     "metadata": {},
     "output_type": "execute_result"
    }
   ],
   "source": [
    "function g(x) # out-of-place\n",
    "  global fcalls += 1\n",
    "  dx = zero(x)\n",
    "  for i in 2:length(x)-1\n",
    "    dx[i] = (x[i-1] - 2x[i] + x[i+1])^2\n",
    "  end\n",
    "  dx[1] = -2x[1] + x[2]\n",
    "  dx[end] = x[end-1] - 2x[end]\n",
    "  dx\n",
    "end"
   ]
  },
  {
   "cell_type": "code",
   "execution_count": 186,
   "metadata": {},
   "outputs": [
    {
     "name": "stdout",
     "output_type": "stream",
     "text": [
      "Explored path: SparsityDetection.Path(Bool[], 1)\n"
     ]
    },
    {
     "data": {
      "text/plain": [
       "30×30 SparseMatrixCSC{Float64,Int64} with 88 stored entries:\n",
       "  [1 ,  1]  =  1.0\n",
       "  [2 ,  1]  =  1.0\n",
       "  [1 ,  2]  =  1.0\n",
       "  [2 ,  2]  =  1.0\n",
       "  [3 ,  2]  =  1.0\n",
       "  [2 ,  3]  =  1.0\n",
       "  [3 ,  3]  =  1.0\n",
       "  [4 ,  3]  =  1.0\n",
       "  [3 ,  4]  =  1.0\n",
       "  [4 ,  4]  =  1.0\n",
       "  [5 ,  4]  =  1.0\n",
       "  [4 ,  5]  =  1.0\n",
       "  ⋮\n",
       "  [26, 26]  =  1.0\n",
       "  [27, 26]  =  1.0\n",
       "  [26, 27]  =  1.0\n",
       "  [27, 27]  =  1.0\n",
       "  [28, 27]  =  1.0\n",
       "  [27, 28]  =  1.0\n",
       "  [28, 28]  =  1.0\n",
       "  [29, 28]  =  1.0\n",
       "  [28, 29]  =  1.0\n",
       "  [29, 29]  =  1.0\n",
       "  [30, 29]  =  1.0\n",
       "  [29, 30]  =  1.0\n",
       "  [30, 30]  =  1.0"
      ]
     },
     "execution_count": 186,
     "metadata": {},
     "output_type": "execute_result"
    }
   ],
   "source": [
    "using Random\n",
    "Random.seed!(10)\n",
    "input = rand(30)\n",
    "output = similar(input)\n",
    "sparsity_pattern = jacobian_sparsity(f,output,input)\n",
    "jac = Float64.(sparse(sparsity_pattern))\n",
    "for i in 1:size(jac)[1]\n",
    "    for j in 1:size(jac)[2]\n",
    "        if jac[i,j] != 0\n",
    "            jac[i,j] = 1.0\n",
    "        end\n",
    "    end\n",
    "end\n",
    "jac"
   ]
  },
  {
   "cell_type": "code",
   "execution_count": 187,
   "metadata": {},
   "outputs": [
    {
     "data": {
      "text/plain": [
       "30-element Array{Int64,1}:\n",
       " 1\n",
       " 2\n",
       " 3\n",
       " 1\n",
       " 2\n",
       " 3\n",
       " 1\n",
       " 2\n",
       " 3\n",
       " 1\n",
       " 2\n",
       " 3\n",
       " 1\n",
       " ⋮\n",
       " 1\n",
       " 2\n",
       " 3\n",
       " 1\n",
       " 2\n",
       " 3\n",
       " 1\n",
       " 2\n",
       " 3\n",
       " 1\n",
       " 2\n",
       " 3"
      ]
     },
     "execution_count": 187,
     "metadata": {},
     "output_type": "execute_result"
    }
   ],
   "source": [
    "colors = matrix_colors(jac)"
   ]
  },
  {
   "cell_type": "code",
   "execution_count": 188,
   "metadata": {},
   "outputs": [
    {
     "data": {
      "text/plain": [
       "30×30 Array{Float64,2}:\n",
       " -2.0        1.0        0.0       …  0.0        0.0        0.0\n",
       " -0.559183   1.11837   -0.559183     0.0        0.0        0.0\n",
       "  0.0       -0.527897   1.05579      0.0        0.0        0.0\n",
       "  0.0        0.0        0.703887     0.0        0.0        0.0\n",
       "  0.0        0.0        0.0          0.0        0.0        0.0\n",
       "  0.0        0.0        0.0       …  0.0        0.0        0.0\n",
       "  0.0        0.0        0.0          0.0        0.0        0.0\n",
       "  0.0        0.0        0.0          0.0        0.0        0.0\n",
       "  0.0        0.0        0.0          0.0        0.0        0.0\n",
       "  0.0        0.0        0.0          0.0        0.0        0.0\n",
       "  0.0        0.0        0.0       …  0.0        0.0        0.0\n",
       "  0.0        0.0        0.0          0.0        0.0        0.0\n",
       "  0.0        0.0        0.0          0.0        0.0        0.0\n",
       "  ⋮                               ⋱                       \n",
       "  0.0        0.0        0.0          0.0        0.0        0.0\n",
       "  0.0        0.0        0.0          0.0        0.0        0.0\n",
       "  0.0        0.0        0.0       …  0.0        0.0        0.0\n",
       "  0.0        0.0        0.0          0.0        0.0        0.0\n",
       "  0.0        0.0        0.0          0.0        0.0        0.0\n",
       "  0.0        0.0        0.0          0.0        0.0        0.0\n",
       "  0.0        0.0        0.0          0.0        0.0        0.0\n",
       "  0.0        0.0        0.0       …  0.0        0.0        0.0\n",
       "  0.0        0.0        0.0          0.921003   0.0        0.0\n",
       "  0.0        0.0        0.0          0.249686  -0.124843   0.0\n",
       "  0.0        0.0        0.0          0.338252  -0.676503   0.338252\n",
       "  0.0        0.0        0.0          0.0        1.0       -2.0"
      ]
     },
     "execution_count": 188,
     "metadata": {},
     "output_type": "execute_result"
    }
   ],
   "source": [
    "jacout = forwarddiff_color_jacobian(g, input,\n",
    "                                    dx = similar(input),\n",
    "                                    colorvec = 1:length(input),\n",
    "                                    sparsity = nothing,\n",
    "                                    jac_prototype = nothing)"
   ]
  },
  {
   "cell_type": "code",
   "execution_count": 189,
   "metadata": {},
   "outputs": [
    {
     "data": {
      "text/plain": [
       "30×30 Array{Float64,2}:\n",
       " -2.0        1.0        0.0       …   0.0        0.0        0.0\n",
       " -0.559183   1.11837   -0.559183     -0.0       -0.0       -0.0\n",
       " -0.0       -0.527897   1.05579      -0.0       -0.0       -0.0\n",
       "  0.0        0.0        0.703887      0.0        0.0        0.0\n",
       " -0.0       -0.0       -0.0          -0.0       -0.0       -0.0\n",
       "  0.0        0.0        0.0       …   0.0        0.0        0.0\n",
       "  0.0        0.0        0.0           0.0        0.0        0.0\n",
       " -0.0       -0.0       -0.0          -0.0       -0.0       -0.0\n",
       "  0.0        0.0        0.0           0.0        0.0        0.0\n",
       " -0.0       -0.0       -0.0          -0.0       -0.0       -0.0\n",
       " -0.0       -0.0       -0.0       …  -0.0       -0.0       -0.0\n",
       "  0.0        0.0        0.0           0.0        0.0        0.0\n",
       " -0.0       -0.0       -0.0          -0.0       -0.0       -0.0\n",
       "  ⋮                               ⋱                        \n",
       "  0.0        0.0        0.0           0.0        0.0        0.0\n",
       " -0.0       -0.0       -0.0          -0.0       -0.0       -0.0\n",
       " -0.0       -0.0       -0.0       …  -0.0       -0.0       -0.0\n",
       " -0.0       -0.0       -0.0          -0.0       -0.0       -0.0\n",
       "  0.0        0.0        0.0           0.0        0.0        0.0\n",
       " -0.0       -0.0       -0.0          -0.0       -0.0       -0.0\n",
       "  0.0        0.0        0.0           0.0        0.0        0.0\n",
       " -0.0       -0.0       -0.0       …  -0.0       -0.0       -0.0\n",
       "  0.0        0.0        0.0           0.921003   0.0        0.0\n",
       " -0.0       -0.0       -0.0           0.249686  -0.124843  -0.0\n",
       "  0.0        0.0        0.0           0.338252  -0.676503   0.338252\n",
       "  0.0        0.0        0.0           0.0        1.0       -2.0"
      ]
     },
     "execution_count": 189,
     "metadata": {},
     "output_type": "execute_result"
    }
   ],
   "source": [
    "jacout = ForwardDiff.jacobian(g, input)"
   ]
  },
  {
   "cell_type": "code",
   "execution_count": 190,
   "metadata": {},
   "outputs": [
    {
     "data": {
      "text/plain": [
       "30×30 SparseMatrixCSC{Float64,Int64} with 88 stored entries:\n",
       "  [1 ,  1]  =  -2.0\n",
       "  [2 ,  1]  =  -0.559183\n",
       "  [1 ,  2]  =  1.0\n",
       "  [2 ,  2]  =  1.11837\n",
       "  [3 ,  2]  =  -0.527897\n",
       "  [2 ,  3]  =  -0.559183\n",
       "  [3 ,  3]  =  1.05579\n",
       "  [4 ,  3]  =  0.703887\n",
       "  [3 ,  4]  =  -0.527897\n",
       "  [4 ,  4]  =  -1.40777\n",
       "  [5 ,  4]  =  -0.0106831\n",
       "  [4 ,  5]  =  0.703887\n",
       "  ⋮\n",
       "  [26, 26]  =  1.00851\n",
       "  [27, 26]  =  0.921003\n",
       "  [26, 27]  =  -0.504254\n",
       "  [27, 27]  =  -1.84201\n",
       "  [28, 27]  =  -0.124843\n",
       "  [27, 28]  =  0.921003\n",
       "  [28, 28]  =  0.249686\n",
       "  [29, 28]  =  0.338252\n",
       "  [28, 29]  =  -0.124843\n",
       "  [29, 29]  =  -0.676503\n",
       "  [30, 29]  =  1.0\n",
       "  [29, 30]  =  0.338252\n",
       "  [30, 30]  =  -2.0"
      ]
     },
     "execution_count": 190,
     "metadata": {},
     "output_type": "execute_result"
    }
   ],
   "source": [
    "jac = sparse(jacout)"
   ]
  },
  {
   "cell_type": "code",
   "execution_count": 191,
   "metadata": {},
   "outputs": [
    {
     "data": {
      "text/plain": [
       "30-element Array{Int64,1}:\n",
       " 1\n",
       " 2\n",
       " 3\n",
       " 1\n",
       " 2\n",
       " 3\n",
       " 1\n",
       " 2\n",
       " 3\n",
       " 1\n",
       " 2\n",
       " 3\n",
       " 1\n",
       " ⋮\n",
       " 1\n",
       " 2\n",
       " 3\n",
       " 1\n",
       " 2\n",
       " 3\n",
       " 1\n",
       " 2\n",
       " 3\n",
       " 1\n",
       " 2\n",
       " 3"
      ]
     },
     "execution_count": 191,
     "metadata": {},
     "output_type": "execute_result"
    }
   ],
   "source": [
    "colors = matrix_colors(jac)"
   ]
  },
  {
   "cell_type": "code",
   "execution_count": 192,
   "metadata": {},
   "outputs": [
    {
     "data": {
      "text/plain": [
       "30×30 SparseMatrixCSC{Float64,Int64} with 88 stored entries:\n",
       "  [1 ,  1]  =  -2.0\n",
       "  [2 ,  1]  =  -0.559183\n",
       "  [1 ,  2]  =  1.0\n",
       "  [2 ,  2]  =  1.11837\n",
       "  [3 ,  2]  =  -0.527897\n",
       "  [2 ,  3]  =  -0.559183\n",
       "  [3 ,  3]  =  1.05579\n",
       "  [4 ,  3]  =  0.703887\n",
       "  [3 ,  4]  =  -0.527897\n",
       "  [4 ,  4]  =  -1.40777\n",
       "  [5 ,  4]  =  -0.0106831\n",
       "  [4 ,  5]  =  0.703887\n",
       "  ⋮\n",
       "  [26, 26]  =  1.00851\n",
       "  [27, 26]  =  0.921003\n",
       "  [26, 27]  =  -0.504254\n",
       "  [27, 27]  =  -1.84201\n",
       "  [28, 27]  =  -0.124843\n",
       "  [27, 28]  =  0.921003\n",
       "  [28, 28]  =  0.249686\n",
       "  [29, 28]  =  0.338252\n",
       "  [28, 29]  =  -0.124843\n",
       "  [29, 29]  =  -0.676503\n",
       "  [30, 29]  =  1.0\n",
       "  [29, 30]  =  0.338252\n",
       "  [30, 30]  =  -2.0"
      ]
     },
     "execution_count": 192,
     "metadata": {},
     "output_type": "execute_result"
    }
   ],
   "source": [
    "jacout = forwarddiff_color_jacobian(g, input,\n",
    "                                    dx = similar(input),\n",
    "                                    colorvec = colors,\n",
    "                                    sparsity = jac,\n",
    "                                    jac_prototype = jac)"
   ]
  },
  {
   "cell_type": "markdown",
   "metadata": {},
   "source": [
    "# Timing Jacobian Calculations"
   ]
  },
  {
   "cell_type": "markdown",
   "metadata": {},
   "source": [
    "## Setup"
   ]
  },
  {
   "cell_type": "code",
   "execution_count": 319,
   "metadata": {},
   "outputs": [],
   "source": [
    "struct params_struct_cache3{MS, AF, F, ACTM, WR, APM, AJC,A}\n",
    "    model_set::MS\n",
    "    rotor_points_y::AF\n",
    "    rotor_points_z::AF\n",
    "    turbine_z::AF\n",
    "    rotor_diameter::AF\n",
    "    boundary_center::AF\n",
    "    boundary_radius::F\n",
    "    obj_scale::F\n",
    "    hub_height::AF\n",
    "    turbine_yaw::AF\n",
    "    ct_models::ACTM\n",
    "    generator_efficiency::AF\n",
    "    cut_in_speed::AF\n",
    "    cut_out_speed::AF\n",
    "    rated_speed::AF\n",
    "    rated_power::AF\n",
    "    windresource::WR\n",
    "    power_models::APM\n",
    "    jac_cache::AJC\n",
    "    in1::A\n",
    "    in2::A\n",
    "    in3::A\n",
    "    in4::A\n",
    "    in5::A\n",
    "    in6::A\n",
    "end"
   ]
  },
  {
   "cell_type": "code",
   "execution_count": 348,
   "metadata": {},
   "outputs": [
    {
     "name": "stdout",
     "output_type": "stream",
     "text": [
      "Setup complete\n"
     ]
    }
   ],
   "source": [
    "# import model set with wind farm and related details\n",
    "include(\"./model_sets/model_set_6.jl\")\n",
    "\n",
    "# initialize design variable array\n",
    "x = [copy(turbine_x);copy(turbine_y)]\n",
    "xinit = deepcopy(x)\n",
    "\n",
    "# scale objective to be between 0 and 1\n",
    "obj_scale = 1E-11\n",
    "\n",
    "# set wind farm boundary parameters\n",
    "boundary_center = [0.0,0.0]\n",
    "boundary_radius = 300.0\n",
    "\n",
    "\n",
    "paramstime = params_struct_cache3(model_set, rotor_points_y, rotor_points_z, turbine_z, \n",
    "    rotor_diameter, boundary_center, boundary_radius, obj_scale, hub_height, turbine_yaw, \n",
    "    ct_models, generator_efficiency, cut_in_speed, cut_out_speed, rated_speed, rated_power, \n",
    "    windresource, power_models, [spacing_jac_cache],[],[],[],[],[],[])\n",
    "println(\"Setup complete\")"
   ]
  },
  {
   "cell_type": "markdown",
   "metadata": {},
   "source": [
    "## Original Functions"
   ]
  },
  {
   "cell_type": "markdown",
   "metadata": {},
   "source": [
    "### Spacing"
   ]
  },
  {
   "cell_type": "code",
   "execution_count": 349,
   "metadata": {},
   "outputs": [
    {
     "data": {
      "text/plain": [
       "turbine_spacing (generic function with 1 method)"
      ]
     },
     "execution_count": 349,
     "metadata": {},
     "output_type": "execute_result"
    }
   ],
   "source": [
    "function turbine_spacing(turbine_x, turbine_y)\n",
    "    nturbines = length(turbine_x)\n",
    "    spacing_vec =\n",
    "        zeros(typeof(turbine_x[1]), Int((nturbines) * (nturbines - 1) / 2))\n",
    "    k = 1\n",
    "    for i in 1:nturbines\n",
    "        for j in i+1:nturbines\n",
    "            spacing_vec[k] = sqrt(\n",
    "                (turbine_x[j] - turbine_x[i])^2 +\n",
    "                (turbine_y[j] - turbine_y[i])^2,\n",
    "            )\n",
    "            k += 1\n",
    "        end\n",
    "    end\n",
    "    return spacing_vec\n",
    "end"
   ]
  },
  {
   "cell_type": "code",
   "execution_count": 350,
   "metadata": {},
   "outputs": [
    {
     "data": {
      "text/plain": [
       "spacing_wrapper (generic function with 2 methods)"
      ]
     },
     "execution_count": 350,
     "metadata": {},
     "output_type": "execute_result"
    }
   ],
   "source": [
    "\n",
    "# set up spacing constraint wrapper function\n",
    "function spacing_wrapper(x, params)\n",
    "    \n",
    "    # get number of turbines\n",
    "    nturbines = Int(length(x)/2)\n",
    "\n",
    "    # extract x and y locations of turbines from design variables vector\n",
    "    turbine_x = x[1:nturbines]\n",
    "    turbine_y = x[nturbines+1:end]\n",
    "\n",
    "    # get and return spacing distances\n",
    "    return 2.0*params.rotor_diameter[1] .- turbine_spacing(turbine_x,turbine_y)\n",
    "end\n",
    "spacing_wrapper(x) = spacing_wrapper(x, paramstime)\n"
   ]
  },
  {
   "cell_type": "markdown",
   "metadata": {},
   "source": [
    "### Boundary"
   ]
  },
  {
   "cell_type": "code",
   "execution_count": 351,
   "metadata": {},
   "outputs": [
    {
     "data": {
      "text/plain": [
       "circle_boundary (generic function with 1 method)"
      ]
     },
     "execution_count": 351,
     "metadata": {},
     "output_type": "execute_result"
    }
   ],
   "source": [
    "function circle_boundary(center, radius, turbine_x, turbine_y)\n",
    "    nturbines = length(turbine_x)\n",
    "    boundary_vec = zeros(typeof(turbine_x[1]), nturbines)\n",
    "    for i in 1:nturbines\n",
    "        boundary_vec[i] =\n",
    "            sqrt((center[1] - turbine_x[i])^2 + (center[2] - turbine_y[i])^2) -\n",
    "            radius\n",
    "    end\n",
    "    return boundary_vec\n",
    "end"
   ]
  },
  {
   "cell_type": "code",
   "execution_count": 352,
   "metadata": {},
   "outputs": [
    {
     "data": {
      "text/plain": [
       "boundary_wrapper (generic function with 2 methods)"
      ]
     },
     "execution_count": 352,
     "metadata": {},
     "output_type": "execute_result"
    }
   ],
   "source": [
    "# set up boundary constraint wrapper function\n",
    "function boundary_wrapper(x, params)\n",
    "    \n",
    "    # get number of turbines\n",
    "    nturbines = Int(length(x)/2)\n",
    "    \n",
    "    # extract x and y locations of turbines from design variables vector\n",
    "    turbine_x = x[1:nturbines]\n",
    "    turbine_y = x[nturbines+1:end]\n",
    "\n",
    "    # get and return boundary distances\n",
    "    return circle_boundary(params.boundary_center, params.boundary_radius, turbine_x, turbine_y)\n",
    "end\n",
    "\n"
   ]
  },
  {
   "cell_type": "markdown",
   "metadata": {},
   "source": [
    "### AEP"
   ]
  },
  {
   "cell_type": "code",
   "execution_count": 353,
   "metadata": {},
   "outputs": [
    {
     "data": {
      "text/plain": [
       "aep_wrapper (generic function with 2 methods)"
      ]
     },
     "execution_count": 353,
     "metadata": {},
     "output_type": "execute_result"
    }
   ],
   "source": [
    "# set up objective wrapper function\n",
    "function aep_wrapper(x, params)\n",
    "\n",
    "    # get number of turbines\n",
    "    nturbines = Int(length(x)/2)\n",
    "\n",
    "    # extract x and y locations of turbines from design variables vector\n",
    "    turbine_x = x[1:nturbines] \n",
    "    turbine_y = x[nturbines+1:end]\n",
    "\n",
    "    # calculate AEP\n",
    "    AEP = obj_scale*ff.calculate_state_aeps(turbine_x, turbine_y, params.turbine_z, params.rotor_diameter,\n",
    "    params.hub_height, params.turbine_yaw, params.ct_models, params.generator_efficiency, params.cut_in_speed,\n",
    "    params.cut_out_speed, params.rated_speed, params.rated_power, params.windresource, params.power_models, params.model_set,\n",
    "                rotor_sample_points_y=params.rotor_points_y,rotor_sample_points_z=params.rotor_points_z)\n",
    "    \n",
    "    # return the objective as an array\n",
    "    return AEP\n",
    "end\n",
    "aep_wrapper(x) = aep_wrapper(x,paramstime)"
   ]
  },
  {
   "cell_type": "markdown",
   "metadata": {},
   "source": [
    "# Timing Jacobian Calculations on AEP Function"
   ]
  },
  {
   "cell_type": "code",
   "execution_count": 354,
   "metadata": {},
   "outputs": [],
   "source": [
    "using BenchmarkTools"
   ]
  },
  {
   "cell_type": "markdown",
   "metadata": {},
   "source": [
    "## AEP Only"
   ]
  },
  {
   "cell_type": "code",
   "execution_count": 358,
   "metadata": {},
   "outputs": [
    {
     "data": {
      "text/plain": [
       "BenchmarkTools.Trial: \n",
       "  memory estimate:  6.44 KiB\n",
       "  allocs estimate:  52\n",
       "  --------------\n",
       "  minimum time:     24.989 μs (0.00% GC)\n",
       "  median time:      25.823 μs (0.00% GC)\n",
       "  mean time:        27.652 μs (2.91% GC)\n",
       "  maximum time:     8.081 ms (99.53% GC)\n",
       "  --------------\n",
       "  samples:          10000\n",
       "  evals/sample:     1"
      ]
     },
     "execution_count": 358,
     "metadata": {},
     "output_type": "execute_result"
    }
   ],
   "source": [
    "@benchmark aep_wrapper(x) setup=(x=xinit)"
   ]
  },
  {
   "cell_type": "markdown",
   "metadata": {},
   "source": [
    "## AEP Jacobian using ForwardDiff.jacobian()"
   ]
  },
  {
   "cell_type": "code",
   "execution_count": 359,
   "metadata": {},
   "outputs": [
    {
     "data": {
      "text/plain": [
       "BenchmarkTools.Trial: \n",
       "  memory estimate:  71.22 KiB\n",
       "  allocs estimate:  257\n",
       "  --------------\n",
       "  minimum time:     199.750 μs (0.00% GC)\n",
       "  median time:      204.831 μs (0.00% GC)\n",
       "  mean time:        220.158 μs (3.82% GC)\n",
       "  maximum time:     8.023 ms (96.86% GC)\n",
       "  --------------\n",
       "  samples:          10000\n",
       "  evals/sample:     1"
      ]
     },
     "execution_count": 359,
     "metadata": {},
     "output_type": "execute_result"
    }
   ],
   "source": [
    "@benchmark ForwardDiff.jacobian(aep_wrapper, x) setup=(x=xinit)"
   ]
  },
  {
   "cell_type": "markdown",
   "metadata": {},
   "source": [
    "## AEP Jacobian using ForwardDiff.jacobian() with cacheing"
   ]
  },
  {
   "cell_type": "code",
   "execution_count": 360,
   "metadata": {},
   "outputs": [
    {
     "data": {
      "text/plain": [
       "BenchmarkTools.Trial: \n",
       "  memory estimate:  70.69 KiB\n",
       "  allocs estimate:  256\n",
       "  --------------\n",
       "  minimum time:     199.521 μs (0.00% GC)\n",
       "  median time:      204.624 μs (0.00% GC)\n",
       "  mean time:        220.641 μs (4.05% GC)\n",
       "  maximum time:     9.785 ms (96.95% GC)\n",
       "  --------------\n",
       "  samples:          10000\n",
       "  evals/sample:     1"
      ]
     },
     "execution_count": 360,
     "metadata": {},
     "output_type": "execute_result"
    }
   ],
   "source": [
    "obj_result = DiffResults.JacobianResult(zeros(3),xinit)\n",
    "@benchmark ForwardDiff.jacobian!(obj_result, aep_wrapper, x) setup=(x=xinit)"
   ]
  },
  {
   "cell_type": "markdown",
   "metadata": {},
   "source": [
    "The above call calculates both the jacobian and the AEP output value in less time than the uncached call calculates the jacobian alone"
   ]
  },
  {
   "cell_type": "markdown",
   "metadata": {},
   "source": [
    "## AEP Jacobian using coloring and cacheing"
   ]
  },
  {
   "cell_type": "code",
   "execution_count": 347,
   "metadata": {},
   "outputs": [
    {
     "data": {
      "text/plain": [
       "ForwardColorJacCache{Array{ForwardDiff.Dual{ForwardDiff.Tag{typeof(aep_wrapper),Float64},Float64,4},1},Array{ForwardDiff.Dual{ForwardDiff.Tag{typeof(aep_wrapper),Float64},Float64,4},1},Array{Float64,1},Array{Array{NTuple{4,Bool},1},1},Array{Int64,1},SparseMatrixCSC{Float64,Int64}}(ForwardDiff.Dual{ForwardDiff.Tag{typeof(aep_wrapper),Float64},Float64,4}[Dual{ForwardDiff.Tag{typeof(aep_wrapper),Float64}}(-240.0,1.0,0.0,0.0,0.0), Dual{ForwardDiff.Tag{typeof(aep_wrapper),Float64}}(0.0,1.0,0.0,0.0,0.0), Dual{ForwardDiff.Tag{typeof(aep_wrapper),Float64}}(240.0,1.0,0.0,0.0,0.0), Dual{ForwardDiff.Tag{typeof(aep_wrapper),Float64}}(0.0,1.0,0.0,0.0,0.0), Dual{ForwardDiff.Tag{typeof(aep_wrapper),Float64}}(0.0,0.0,1.0,0.0,0.0), Dual{ForwardDiff.Tag{typeof(aep_wrapper),Float64}}(-120.0,1.0,0.0,0.0,0.0), Dual{ForwardDiff.Tag{typeof(aep_wrapper),Float64}}(0.0,1.0,0.0,0.0,0.0), Dual{ForwardDiff.Tag{typeof(aep_wrapper),Float64}}(120.0,0.0,1.0,0.0,0.0), Dual{ForwardDiff.Tag{typeof(aep_wrapper),Float64}}(0.0,0.0,1.0,0.0,0.0), Dual{ForwardDiff.Tag{typeof(aep_wrapper),Float64}}(0.0,1.0,0.0,0.0,0.0), Dual{ForwardDiff.Tag{typeof(aep_wrapper),Float64}}(240.0,0.0,0.0,1.0,0.0), Dual{ForwardDiff.Tag{typeof(aep_wrapper),Float64}}(0.0,0.0,0.0,1.0,0.0), Dual{ForwardDiff.Tag{typeof(aep_wrapper),Float64}}(-240.0,1.0,0.0,0.0,0.0), Dual{ForwardDiff.Tag{typeof(aep_wrapper),Float64}}(0.0,0.0,0.0,0.0,1.0), Dual{ForwardDiff.Tag{typeof(aep_wrapper),Float64}}(0.0,1.0,0.0,0.0,0.0), Dual{ForwardDiff.Tag{typeof(aep_wrapper),Float64}}(120.0,0.0,0.0,1.0,0.0), Dual{ForwardDiff.Tag{typeof(aep_wrapper),Float64}}(0.0,0.0,0.0,0.0,1.0), Dual{ForwardDiff.Tag{typeof(aep_wrapper),Float64}}(-120.0,0.0,0.0,0.0,1.0)], ForwardDiff.Dual{ForwardDiff.Tag{typeof(aep_wrapper),Float64},Float64,4}[Dual{ForwardDiff.Tag{typeof(aep_wrapper),Float64}}(0.036664299717657646,0.0,0.0,0.0,0.0), Dual{ForwardDiff.Tag{typeof(aep_wrapper),Float64}}(0.036664441418117456,0.0,0.0,0.0,0.0), Dual{ForwardDiff.Tag{typeof(aep_wrapper),Float64}}(0.03666389363649027,0.0,0.0,0.0,0.0)], [0.036664299717657646, 0.036664441418117456, 0.03666389363649027], Array{NTuple{4,Bool},1}[[(1, 0, 0, 0), (1, 0, 0, 0), (1, 0, 0, 0), (1, 0, 0, 0), (0, 1, 0, 0), (1, 0, 0, 0), (1, 0, 0, 0), (0, 1, 0, 0), (0, 1, 0, 0), (1, 0, 0, 0), (0, 0, 1, 0), (0, 0, 1, 0), (1, 0, 0, 0), (0, 0, 0, 1), (1, 0, 0, 0), (0, 0, 1, 0), (0, 0, 0, 1), (0, 0, 0, 1)]], [1, 1, 1, 1, 2, 1, 1, 2, 2, 1, 3, 3, 1, 4, 1, 3, 4, 4], \n",
       "  [2,  2]  =  1.0\n",
       "  [1,  3]  =  1.0\n",
       "  [1,  5]  =  1.0\n",
       "  [3,  7]  =  1.0\n",
       "  [2,  8]  =  1.0\n",
       "  [3,  9]  =  1.0\n",
       "  [2, 11]  =  1.0\n",
       "  [1, 12]  =  1.0\n",
       "  [1, 14]  =  1.0\n",
       "  [3, 16]  =  1.0\n",
       "  [2, 17]  =  1.0\n",
       "  [3, 18]  =  1.0, 4)"
      ]
     },
     "execution_count": 347,
     "metadata": {},
     "output_type": "execute_result"
    }
   ],
   "source": [
    "xrand = rand(Int(length(x)))\n",
    "aep_output = aep_wrapper(xrand)\n",
    "aep_sparcity = sparse(ForwardDiff.jacobian(aep_wrapper, xrand))\n",
    "for i in 1:size(aep_sparcity)[1]\n",
    "    for j in 1:size(aep_sparcity)[2]\n",
    "        if aep_sparcity[i,j] != 0\n",
    "            aep_sparcity[i,j] = 1.0\n",
    "        end\n",
    "    end\n",
    "end\n",
    "# get color vector\n",
    "aep_colors = matrix_colors(aep_sparcity)\n",
    "# cache jacobian config\n",
    "aep_jac_cache = ForwardColorJacCache(aep_wrapper, xinit,\n",
    "                              dx=aep_output,\n",
    "                              colorvec=aep_colors,\n",
    "                              sparsity=aep_sparcity)"
   ]
  },
  {
   "cell_type": "code",
   "execution_count": null,
   "metadata": {},
   "outputs": [],
   "source": []
  }
 ],
 "metadata": {
  "kernelspec": {
   "display_name": "Julia 1.1.1",
   "language": "julia",
   "name": "julia-1.1"
  },
  "language_info": {
   "file_extension": ".jl",
   "mimetype": "application/julia",
   "name": "julia",
   "version": "1.4.1"
  }
 },
 "nbformat": 4,
 "nbformat_minor": 4
}
