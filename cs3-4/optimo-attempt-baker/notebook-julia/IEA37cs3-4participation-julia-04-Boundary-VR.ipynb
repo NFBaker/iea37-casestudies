{
 "cells": [
  {
   "cell_type": "markdown",
   "metadata": {},
   "source": [
    "# PJ's Variable reduction method (Boundary)"
   ]
  },
  {
   "cell_type": "markdown",
   "metadata": {},
   "source": [
    "`1643.16.Jul.20`\n",
    "\n",
    "PJ and Dr. Ning wrote a paper on the [Variable Reduction](https://scholarsarchive.byu.edu/facpub/3567/) method that was very good. I'm applying it to BYU's IEA participation, and it comes in two parts:\n",
    "\n",
    "1) parameterize some turbines along the edge\n",
    "\n",
    "2) parameterize interior turbines in a specific way\n",
    "\n",
    "Though (2) will take some brain power, and could be fully automated, (1) should be relatively quick to code up. PJ wrote his original code in Python, so I'll need to translate that. It's not well commented, but we did a Video Call today and he explained each piece. I'll include it here below."
   ]
  },
  {
   "cell_type": "markdown",
   "metadata": {},
   "source": [
    "### PJ's Full Variable Reduction Code\n",
    "`1650.16.Jul.20`"
   ]
  },
  {
   "cell_type": "markdown",
   "metadata": {},
   "source": [
    "```python\n",
    "import numpy as np\n",
    "import matplotlib.pyplot as plt\n",
    "import math\n",
    "import random\n",
    "import warnings\n",
    "import grid_param_fortran\n",
    "warnings.simplefilter('ignore', np.RankWarning)\n",
    "import sys\n",
    "import grid_param_fortran\n",
    "sys.path.insert(0, '/home/flowlab/PJ/reduction')\n",
    "from position_constraints import *\n",
    "sys.dont_write_bytecode = True\n",
    "\n",
    "\n",
    "def startLoop(N,d,my,step,plus_minus,rotate,turbs_per_row,x_start,y0,boundaryVertices,boundaryNormals,t):\n",
    "    d = d+plus_minus*d*step\n",
    "    shear = np.tan(np.deg2rad(20.))*d\n",
    "    X,Y = grid_param_fortran.makegrid_fortran(N, d, d*my, shear, rotate, turbs_per_row, x_start, y0)\n",
    "    bounds = arbitraryBoundary(X, Y, boundaryVertices, boundaryNormals)\n",
    "    num_inside = 0\n",
    "\n",
    "    # plt.figure(1)\n",
    "    # plt.clf()\n",
    "    # for i in range(len(X)):\n",
    "    #     circ = plt.Circle((X[i],Y[i]),130./2.)\n",
    "    #     plt.gca().add_patch(circ)\n",
    "    # bx = boundaryVertices[:,0]\n",
    "    # by = boundaryVertices[:,1]\n",
    "    # bx = np.append(bx,bx[0])\n",
    "    # by = np.append(by,by[0])\n",
    "    # plt.plot(bx,by,'--k')\n",
    "    # plt.axis('equal')\n",
    "    # plt.pause(0.0001)\n",
    "\n",
    "    for i in range(t**2):\n",
    "        if min(bounds[i]) >= 0.:\n",
    "            num_inside += 1\n",
    "    return num_inside,d\n",
    "\n",
    "\n",
    "#fill an arbirary boundary with a baseline grid\n",
    "def startGrid(nTurbines,boundaryVertices,boundaryNormals,rotate=0.,my=1.):\n",
    "    xBounds = boundaryVertices[:, 0]\n",
    "    yBounds = boundaryVertices[:, 1]\n",
    "\n",
    "    t = 25\n",
    "    range_x = (max(xBounds)-min(xBounds))\n",
    "    range_y = (max(yBounds)-min(yBounds))\n",
    "    d = 1.5*max(np.array([range_x,range_y]))/float(t)\n",
    "    # rotate = 0.\n",
    "    nRows = t\n",
    "    turbs_per_row = np.ones(nRows,dtype=int)*t\n",
    "    N = np.sum(turbs_per_row)\n",
    "\n",
    "    # x_start = np.ones(t)*min(xBounds)-range_x*0.5\n",
    "    x_start = np.zeros(t)\n",
    "    y0 = min(yBounds)-0.05*range_y\n",
    "\n",
    "    shear = np.tan(np.deg2rad(20.))*d\n",
    "    X,Y = grid_param_fortran.makegrid_fortran(N, d, d*my, shear, rotate, turbs_per_row, x_start, y0)\n",
    "\n",
    "    bounds = arbitraryBoundary(X, Y, boundaryVertices, boundaryNormals)\n",
    "    num_inside = 0\n",
    "    for i in range(t**2):\n",
    "        if min(bounds[i]) >= 0.:\n",
    "            num_inside += 1\n",
    "\n",
    "    converged = False\n",
    "    step = 0.25\n",
    "    print 'setting up base grid'\n",
    "    # print nTurbines\n",
    "    while converged == False:\n",
    "        while num_inside < nTurbines:\n",
    "            num_inside,d = startLoop(N,d,my,step,-1.,rotate,turbs_per_row,x_start,y0,boundaryVertices,boundaryNormals,t)\n",
    "        while num_inside >= nTurbines:\n",
    "            num_inside,d = startLoop(N,d,my,step,1.,rotate,turbs_per_row,x_start,y0,boundaryVertices,boundaryNormals,t)\n",
    "\n",
    "        if step < 1.E-8:\n",
    "            converged = True\n",
    "        else:\n",
    "            step = step/2.\n",
    "        # print step\n",
    "\n",
    "    print 'final convergence'\n",
    "    num_inside,d = startLoop(N,d,my,step,-1.,rotate,turbs_per_row,x_start,y0,boundaryVertices,boundaryNormals,t)\n",
    "    small_step = step/100.\n",
    "    while num_inside >= nTurbines:\n",
    "        num_inside,d = startLoop(N,d,my,small_step,1.,rotate,turbs_per_row,x_start,y0,boundaryVertices,boundaryNormals,t)\n",
    "\n",
    "    while num_inside < nTurbines:\n",
    "        d = d-d*small_step\n",
    "        shear = np.tan(np.deg2rad(20.))*d\n",
    "        X,Y = grid_param_fortran.makegrid_fortran(N, d, d*my, shear, rotate, turbs_per_row, x_start, y0)\n",
    "        bounds = arbitraryBoundary(X, Y, boundaryVertices, boundaryNormals)\n",
    "        num_inside = 0\n",
    "        for i in range(t**2):\n",
    "            if min(bounds[i]) > 0.:\n",
    "                num_inside += 1\n",
    "\n",
    "    x = np.zeros(nTurbines)\n",
    "    y = np.zeros(nTurbines)\n",
    "    turb = 0\n",
    "    index = 0\n",
    "    while turb < nTurbines:\n",
    "        if min(bounds[index]) >= 0.:\n",
    "                x[turb] = X[index]\n",
    "                y[turb] = Y[index]\n",
    "                turb += 1\n",
    "        index += 1\n",
    "\n",
    "    dx = d\n",
    "    dy = d*my\n",
    "    turbineX = np.cos(-np.deg2rad(rotate))*x - np.sin(-np.deg2rad(rotate))*y\n",
    "    turbineY = np.sin(-np.deg2rad(rotate))*x + np.cos(-np.deg2rad(rotate))*y\n",
    "    y0 = np.min(turbineY)\n",
    "    turbs_per_row = np.array([1])\n",
    "    for i in range(nTurbines-1):\n",
    "        if turbineY[i+1] < turbineY[i]+1E-4 and turbineY[i+1] > turbineY[i]-1E-4:\n",
    "            turbs_per_row[-1] += 1\n",
    "        else:\n",
    "            turbs_per_row = np.append(turbs_per_row,1)\n",
    "\n",
    "    shear = dy*np.tan(np.deg2rad(20.))\n",
    "    nRows = len(turbs_per_row)\n",
    "    x_start = np.zeros(nRows)\n",
    "    x_start[0] = 0.0\n",
    "    index = 1\n",
    "    # for i in range(nTurbines-1):\n",
    "    #     if not (turbineY[i+1] < turbineY[i]+1.E-4 and turbineY[i+1] > turbineY[i]-1.E-4):\n",
    "    #         xs = turbineX[i+1]\n",
    "    #         x_start[index] = (xs-shear-turbineX[sum(turbs_per_row[0:index-1])])/dx\n",
    "    #         index += 1\n",
    "    for i in range(nRows-1):\n",
    "        x_start[i+1] = x_start[i] + (turbineX[sum(turbs_per_row[0:i+1])] - shear - turbineX[sum(turbs_per_row[0:i])])/dx\n",
    "\n",
    "    # plt.figure(1)\n",
    "    # for i in range(nTurbines):\n",
    "    #     circ = plt.Circle((turbineX[i],turbineY[i]),130./2.,alpha=0.5,color='blue')\n",
    "    #     plt.gca().add_patch(circ)\n",
    "    #     circ = plt.Circle((x[i],y[i]),130./2.,alpha=0.5,color='red')\n",
    "    #     plt.gca().add_patch(circ)\n",
    "    # bx = boundaryVertices[:,0]\n",
    "    # by = boundaryVertices[:,1]\n",
    "    # bx = np.append(bx,bx[0])\n",
    "    # by = np.append(by,by[0])\n",
    "    # plt.plot(bx,by,'--k')\n",
    "    # plt.axis('equal')\n",
    "    # plt.show()\n",
    "\n",
    "    return dx,dy,shear,rotate,turbs_per_row,x_start,y0\n",
    "\n",
    "\n",
    "#makes a grid of points/turbines\n",
    "def makeGrid(dx,dy,shearX,shearY,rotate,turbs_per_row,x_start,y0,col_start):\n",
    "    nRows = len(turbs_per_row)\n",
    "    nTurbs = sum(turbs_per_row)\n",
    "    x = np.zeros(nTurbs)\n",
    "    y = np.zeros(nTurbs)\n",
    "    index = 0\n",
    "    for i in range(nRows):\n",
    "        for j in range(turbs_per_row[i]):\n",
    "            x[index] = x_start[i] + dx*j + float(i)*dy*np.tan(np.deg2rad(shearX))\n",
    "            y[index] = y0 + dy*i + (float(j)+col_start[i])*dx*np.tan(np.deg2rad(shearY))\n",
    "            index += 1\n",
    "    xc = x - (max(x)+min(x))/2.\n",
    "    yc = y - (max(y)+min(y))/2.\n",
    "    xr = np.cos(np.deg2rad(rotate))*xc - np.sin(np.deg2rad(rotate))*yc\n",
    "    yr = np.sin(np.deg2rad(rotate))*xc + np.cos(np.deg2rad(rotate))*yc\n",
    "    return xr,yr\n",
    "\n",
    "\n",
    "def find_lengths(x,y,nPoints):\n",
    "    length = np.zeros(len(x)-1)\n",
    "    for i in range(nPoints):\n",
    "        length[i] = np.sqrt((x[i+1]-x[i])**2+(y[i+1]-y[i])**2)\n",
    "    return length\n",
    "\n",
    "\n",
    "#places turbines spaced equally around the boundray of a wind farm\n",
    "def makeBoundary(xBounds,yBounds,start,diameter,nTurbs,frac=0.5):\n",
    "\n",
    "    if xBounds[-1] != xBounds[0]:\n",
    "        xBounds = np.append(xBounds,xBounds[0])\n",
    "        yBounds = np.append(yBounds,yBounds[0])\n",
    "\n",
    "    nBounds = len(xBounds)\n",
    "    lenBound = find_lengths(xBounds,yBounds,len(xBounds)-1)\n",
    "    circumference = sum(lenBound)\n",
    "    spacing = 2.*np.sqrt(2.)\n",
    "    x = np.array([])\n",
    "    y = np.array([])\n",
    "\n",
    "    N = int(circumference/(spacing*diameter))\n",
    "    if N > nTurbs*frac:\n",
    "        N = int(nTurbs*frac)\n",
    "    bound_loc = np.linspace(start,start+circumference-circumference/float(N),N)\n",
    "    for i in range(N):\n",
    "        if bound_loc[i] > circumference:\n",
    "            bound_loc[i] = bound_loc[i]%circumference\n",
    "        while bound_loc[i] < 0.:\n",
    "            bound_loc[i] += circumference\n",
    "\n",
    "    for i in range(N):\n",
    "        done = False\n",
    "        for j in range(nBounds):\n",
    "            if done == False:\n",
    "                if bound_loc[i] < sum(lenBound[0:j+1]):\n",
    "                    point_x = xBounds[j]+(xBounds[j+1]-xBounds[j])*(bound_loc[i]-sum(lenBound[0:j]))/lenBound[j]\n",
    "                    point_y = yBounds[j]+(yBounds[j+1]-yBounds[j])*(bound_loc[i]-sum(lenBound[0:j]))/lenBound[j]\n",
    "                    done = True\n",
    "                    x = np.append(x,point_x)\n",
    "                    y = np.append(y,point_y)\n",
    "\n",
    "    return x,y\n",
    "\n",
    "\n",
    "#determines the starting grid variables\n",
    "def startTurbines(xBounds,yBounds,start,diameter,nTurbs,frac=0.5,my=2.):\n",
    "\n",
    "    boundX, boundY = makeBoundary(xBounds,yBounds,start,diameter,nTurbs,frac=frac)\n",
    "    turbsRemaining = nTurbs - len(boundX)\n",
    "\n",
    "    nBounds = len(xBounds)\n",
    "    locations = np.zeros((nBounds,2))\n",
    "    locations[:, 0] = xBounds*0.8\n",
    "    locations[:, 1] = yBounds*0.8\n",
    "    boundaryVertices, boundaryNormals = calculate_boundary(locations)\n",
    "    dx,dy,shearX,shearY,rotate,turbs_per_row,x_start,y0,col_start = startGrid(turbsRemaining,boundaryVertices,boundaryNormals,my=my)\n",
    "\n",
    "    return dx,dy,shearX,shearY,rotate,turbs_per_row,x_start,y0,col_start\n",
    "\n",
    "\n",
    "#defines the layout of every turbine in a wind farm with the boundary section and the grid section\n",
    "def turbineLocs(xBounds,yBounds,start,diameter,nTurbs,dx,dy,shearX,shearY,rotate,turbs_per_row,x_start,y0,col_start,frac=0.5):\n",
    "    boundX, boundY = makeBoundary(xBounds,yBounds,start,diameter,nTurbs,frac=frac)\n",
    "    gridX,gridY = makeGrid(dx,dy,shearX,shearY,rotate,turbs_per_row,x_start,y0,col_start)\n",
    "    turbineX = np.append(boundX,gridX)\n",
    "    turbineY = np.append(boundY,gridY)\n",
    "\n",
    "    return turbineX,turbineY\n",
    "\n",
    "\n",
    "\n",
    "if __name__==\"__main__\":\n",
    "    # locations = np.loadtxt('layout_amalia.txt')\n",
    "    # xBounds = locations[:, 0]\n",
    "    # yBounds = locations[:, 1]\n",
    "    # xBounds = xBounds - min(xBounds) - (max(xBounds)-min(xBounds))/2.\n",
    "    # yBounds = yBounds - min(yBounds) - (max(yBounds)-min(yBounds))/2.\n",
    "\n",
    "    circle_radius = 5000.\n",
    "    nBounds = 20\n",
    "    locations = np.zeros((nBounds,2))\n",
    "    xBounds = np.zeros(nBounds)\n",
    "    yBounds = np.zeros(nBounds)\n",
    "    theta = np.linspace(0.,2.*np.pi-2.*np.pi/float(nBounds),nBounds)\n",
    "    for i in range(nBounds):\n",
    "        xBounds[i] = circle_radius*np.cos(theta[i])\n",
    "        yBounds[i] = circle_radius*np.sin(theta[i])\n",
    "\n",
    "    locations[:, 0] = xBounds\n",
    "    locations[:, 1] = yBounds\n",
    "\n",
    "    boundaryVertices, boundaryNormals = calculate_boundary(locations)\n",
    "    xBounds = boundaryVertices[:, 0]\n",
    "    yBounds = boundaryVertices[:, 1]\n",
    "    start = 0.\n",
    "    diameter = 130.\n",
    "    nTurbs = 100\n",
    "\n",
    "    # dx,dy,shearX,shearY,rotate,turbs_per_row,x_start,y0,col_start = startGrid(50,boundaryVertices,boundaryNormals)\n",
    "    # print 'shearX: ', shearX\n",
    "    # print 'shearY: ', shearY\n",
    "    # print 'turbs_per_row: ', turbs_per_row\n",
    "    # print 'dy: ', dy\n",
    "    # # x_start = np.zeros(len(turbs_per_row))\n",
    "    # turbineX, turbineY = makeGrid(dx,dy,shearX,shearY,rotate,turbs_per_row,x_start,y0,col_start)\n",
    "    # nTurbs = len(turbineX)\n",
    "\n",
    "    dx,dy,shearX,shearY,rotate,turbs_per_row,x_start,y0,col_start = startTurbines(xBounds,yBounds,start,diameter,nTurbs,frac=0.5,my=1.)\n",
    "    turbineX, turbineY = turbineLocs(xBounds,yBounds,start,diameter,nTurbs,dx,dy,shearX,shearY,rotate,turbs_per_row,x_start,y0,col_start,frac=0.5)\n",
    "\n",
    "    xBounds = boundaryVertices[:,0]\n",
    "    yBounds = boundaryVertices[:,1]\n",
    "    xBounds = np.append(xBounds,xBounds[0])\n",
    "    yBounds = np.append(yBounds,yBounds[0])\n",
    "    plt.plot(xBounds,yBounds,'--k')\n",
    "    plt.plot(turbineX,turbineY,'o')\n",
    "    for i in range(nTurbs):\n",
    "        plt.text(turbineX[i],turbineY[i],'%s'%i)\n",
    "    plt.axis('equal')\n",
    "    plt.show()\n",
    "```"
   ]
  },
  {
   "cell_type": "markdown",
   "metadata": {},
   "source": [
    "### First Functions to Translate to Julia\n",
    "`1652.16.Jul.20`"
   ]
  },
  {
   "cell_type": "markdown",
   "metadata": {},
   "source": [
    "```python\n",
    "def find_lengths(x,y,nPoints):\n",
    "    length = np.zeros(len(x)-1)\n",
    "    for i in range(nPoints):\n",
    "        length[i] = np.sqrt((x[i+1]-x[i])**2+(y[i+1]-y[i])**2)\n",
    "    return length\n",
    "\n",
    "\n",
    "#places turbines spaced equally around the boundray of a wind farm\n",
    "def makeBoundary(xBounds,yBounds,start,diameter,nTurbs,frac=0.5):\n",
    "\n",
    "    if xBounds[-1] != xBounds[0]:\n",
    "        xBounds = np.append(xBounds,xBounds[0])\n",
    "        yBounds = np.append(yBounds,yBounds[0])\n",
    "\n",
    "    nBounds = len(xBounds)\n",
    "    lenBound = find_lengths(xBounds,yBounds,len(xBounds)-1)\n",
    "    circumference = sum(lenBound)\n",
    "    spacing = 2.*np.sqrt(2.)\n",
    "    x = np.array([])\n",
    "    y = np.array([])\n",
    "\n",
    "    N = int(circumference/(spacing*diameter))\n",
    "    if N > nTurbs*frac:\n",
    "        N = int(nTurbs*frac)\n",
    "    bound_loc = np.linspace(start,start+circumference-circumference/float(N),N)\n",
    "    for i in range(N):\n",
    "        if bound_loc[i] > circumference:\n",
    "            bound_loc[i] = bound_loc[i]%circumference\n",
    "        while bound_loc[i] < 0.:\n",
    "            bound_loc[i] += circumference\n",
    "\n",
    "    for i in range(N):\n",
    "        done = False\n",
    "        for j in range(nBounds):\n",
    "            if done == False:\n",
    "                if bound_loc[i] < sum(lenBound[0:j+1]):\n",
    "                    point_x = xBounds[j]+(xBounds[j+1]-xBounds[j])*(bound_loc[i]-sum(lenBound[0:j]))/lenBound[j]\n",
    "                    point_y = yBounds[j]+(yBounds[j+1]-yBounds[j])*(bound_loc[i]-sum(lenBound[0:j]))/lenBound[j]\n",
    "                    done = True\n",
    "                    x = np.append(x,point_x)\n",
    "                    y = np.append(y,point_y)\n",
    "\n",
    "    return x,y\n",
    "```"
   ]
  },
  {
   "cell_type": "markdown",
   "metadata": {
    "heading_collapsed": true
   },
   "source": [
    "## Final Code"
   ]
  },
  {
   "cell_type": "code",
   "execution_count": 647,
   "metadata": {
    "code_folding": [],
    "hidden": true
   },
   "outputs": [
    {
     "data": {
      "text/plain": [
       "396.0"
      ]
     },
     "execution_count": 647,
     "metadata": {},
     "output_type": "execute_result"
    }
   ],
   "source": [
    "#=== Set everything up for FlowFarm ===#\n",
    "cd(\"/Users/nbaker/Documents/GitHub/FlowFarm.jl/test/\")\n",
    "include(\"iea37_specific_functions.jl\")\n",
    "using FlowFarm; const ff = FlowFarm\n",
    "import YAML\n",
    "using PyPlot\n",
    "using CSV\n",
    "\n",
    "#--- Read in windfarm boundary data ---#\n",
    "# Which case study we're doing. 'cs3' or 'cs4'\n",
    "str_case = \"4\"\n",
    "#- Rip the boundary coordinates from the .yaml file -#\n",
    "file_dir = \"./inputfiles/\"\n",
    "bnry_file_name_orig = \"iea37-boundary-cs\" * str_case * \".yaml\"\n",
    "bnry_file_name = string(file_dir,bnry_file_name_orig)\n",
    "bndry_x, bndry_y = getBndryCs4YAML(bnry_file_name)\n",
    "bndry_x_clsd, bndry_y_clsd = ff.closeBndryLists(bndry_x, bndry_y)\n",
    "\n",
    "# Place the turbines in region IIIa\n",
    "layout_file_name = \"./inputfiles/iea37-ex-opt4.yaml\"\n",
    "~, ~, fname_turb, ~ = ff.get_turb_loc_YAML(layout_file_name)\n",
    "turbine_file_name = string(\"./inputfiles/\",fname_turb)\n",
    "~, ~, ~, ~, turb_diam, ~ = ff.get_turb_atrbt_YAML(turbine_file_name)\n",
    "turb_min_space = 2*turb_diam"
   ]
  },
  {
   "cell_type": "code",
   "execution_count": 529,
   "metadata": {
    "code_folding": [],
    "hidden": true
   },
   "outputs": [
    {
     "name": "stdout",
     "output_type": "stream",
     "text": [
      "Num region turbines:\n",
      "1: 31\n",
      "2: 11\n",
      "3: 16\n",
      "4: 14\n",
      "5: 9\n",
      "\n",
      "Num border turbines:\n",
      "1: 16, 18\n",
      "2: 11, 6\n",
      "3: 10, 9\n",
      "4: 9, 8\n",
      "5: 7, 5\n"
     ]
    }
   ],
   "source": [
    "#--- Determine the number of turbines in each region --- #\n",
    "nNumRegions = 5     # Number of reigons we're using (cs4 = 5, cs3 = 1)\n",
    "fFracBrdr = 0.6    # Fraction of turbines on the boundary (0.45 recommended by the paper)\n",
    "turbs_per_region = zeros(Int8, nNumRegions)  # Preallocated turbines in each region\n",
    "turbs_region_brdr = zeros(Int8, nNumRegions)  # Preallocated turbines for each region's boundary\n",
    "for cntr in 1:nNumRegions\n",
    "    turbs_per_region[cntr] = floor(getCs34NumTurbs(getCs34Name(cntr)))\n",
    "    # Determine the number of turbines on the border\n",
    "    ~, ~, num_leftover = VR_bounary_startup(bndry_x_clsd[cntr], bndry_y_clsd[cntr], start_dist, turb_min_space, turbs_per_region[cntr])\n",
    "    turbs_region_brdr[cntr] = turbs_per_region[cntr] - num_leftover\n",
    "end\n",
    "num_tot_turbs = sum(turbs_per_region)\n",
    "\n",
    "#-- Debug Print --#\n",
    "println(\"Num region turbines:\")\n",
    "for i in 1:nNumRegions\n",
    "    print(i, \": \")\n",
    "    println(turbs_per_region[i])\n",
    "end\n",
    "println()\n",
    "println(\"Num border turbines:\")\n",
    "for i in 1:nNumRegions\n",
    "    print(i, \": \")\n",
    "    println(turbs_region_brdr[i], \", \", floor(Int, turbs_per_region[i] * fFracBrdr))\n",
    "end"
   ]
  },
  {
   "cell_type": "code",
   "execution_count": 353,
   "metadata": {
    "code_folding": [],
    "hidden": true
   },
   "outputs": [
    {
     "name": "stdout",
     "output_type": "stream",
     "text": [
      "[283.8842193571172, 68.30790583819758, 294.62004344579145, 213.38533220444143, 212.17881609623433, 211.89669652923007, 207.17885992542682, 693.4318784134465, 64.2262407431732, 3937.461725528262, 2644.138545916231, 1898.470523869148, 223.10056028616333, 265.33484505432, 431.6559046277485, 549.190904877348, 4972.836255096281]\n"
     ]
    }
   ],
   "source": [
    "# For a set of closed boundary points, returns the length along the perimeter\n",
    "function getPerimeterLength(bndry_x_clsd, bndry_y_clsd)\n",
    "    num_bndry_pts = length(bndry_x_clsd)-1\n",
    "    nLength = zeros(num_bndry_pts)\n",
    "    for i in 1:num_bndry_pts\n",
    "        nLength[i] = sqrt(\n",
    "                 (bndry_x_clsd[i+1]-bndry_x_clsd[i])^2\n",
    "                +(bndry_y_clsd[i+1]-bndry_y_clsd[i])^2)\n",
    "    end\n",
    "    \n",
    "    return nLength\n",
    "end\n",
    "\n",
    "println(getPerimeterLength(bndry_x_clsd[1], bndry_y_clsd[1]))"
   ]
  },
  {
   "cell_type": "code",
   "execution_count": 561,
   "metadata": {
    "code_folding": [],
    "hidden": true
   },
   "outputs": [
    {
     "data": {
      "text/plain": [
       "VR_boundary_startup (generic function with 1 method)"
      ]
     },
     "execution_count": 561,
     "metadata": {},
     "output_type": "execute_result"
    }
   ],
   "source": [
    "#- Physically place the turbines -# \n",
    "function VR_boundary_startup(bndry_x_clsd, bndry_y_clsd, start_dist, turb_min_spacing, num_turbs)\n",
    "    #- Get arc-length -#\n",
    "    bndry_seg_length = getPerimeterLength(bndry_x_clsd,bndry_y_clsd)\n",
    "    bndry_tot_length = sum(bndry_seg_length)\n",
    "\n",
    "    #- Determine how much distance between turbs for worst case (shallow corner) -#\n",
    "    limiting_angle = calcSmallestAngle(bndry_x_clsd, bndry_y_clsd)  # The smallest angle in our boundary\n",
    "    turb_corner_spacing = turb_min_spacing/sind(limiting_angle/2.0) # Min spacing neeed for the smallest angle\n",
    "    if (turb_corner_spacing > turb_min_spacing)   # If the corners are tighter than our minimum distance\n",
    "        turb_min_spacing = turb_corner_spacing    # That dictates our new minimum distance\n",
    "    end\n",
    "\n",
    "    #- Determine how many turbines we can actually place with corner constraint -#\n",
    "    max_num_turbs = floor(Int, bndry_tot_length/turb_min_spacing) # Get max number of turbines that can fit the perimeter\n",
    "    num_leftover_turbs = 0\n",
    "    if (max_num_turbs < num_turbs)      # If the max is less than the number allocated\n",
    "        num_leftover_turbs = floor(Int, num_turbs - max_num_turbs) # Note how many turbines we aren't placing\n",
    "        num_turbs = floor(Int, max_num_turbs)       # Place as many as will fit\n",
    "    end\n",
    "\n",
    "    #- Evenly space the turbines we'll place -#\n",
    "    turb_min_spacing = bndry_tot_length / num_turbs\n",
    "    #- Make sure our start point is within the boundary length bounds\n",
    "    start_dist = mod(start_dist, bndry_tot_length)\n",
    "    #- Place the correct number of turbs along the boundary <start_dist> away from the first vertex -#\n",
    "    turbine_x, turbine_y = VR_boundary(bndry_x_clsd, bndry_y_clsd, start_dist, turb_min_spacing, num_turbs, bndry_seg_length)\n",
    "\n",
    "    # Return the x- and y- coordinates of every turbine, and how many weren't placed\n",
    "    return turbine_x,turbine_y, num_leftover_turbs         \n",
    "end"
   ]
  },
  {
   "cell_type": "code",
   "execution_count": 579,
   "metadata": {
    "hidden": true
   },
   "outputs": [
    {
     "data": {
      "text/plain": [
       "VR_boundary (generic function with 1 method)"
      ]
     },
     "execution_count": 579,
     "metadata": {},
     "output_type": "execute_result"
    }
   ],
   "source": [
    "# The constraint function (assumes properly place around the boundary)\n",
    "function VR_boundary(bndry_x_clsd, bndry_y_clsd, start_dist, turb_spacing, num_turbs, bndry_seg_length)\n",
    "    # Initialize necessary variables\n",
    "    num_segs = length(bndry_x_clsd)-1\n",
    "    # Initialize turbine locations\n",
    "    turbine_x = zeros(num_turbs)\n",
    "    turbine_y = zeros(num_turbs)\n",
    "    \n",
    "    #- Figure out where the starting point should be -#\n",
    "    # \"leg\" is distance until next placed turbine\n",
    "    # \"seg\" is distance between boundary verticies\n",
    "    leg_remaining = start_dist\n",
    "    curr_seg = 1\n",
    "    for i in 1:num_segs   # Looping through the segments till we get there\n",
    "        curr_seg = i\n",
    "        if (bndry_seg_length[i] < leg_remaining)  # If this segment length is less than the start length\n",
    "            leg_remaining -= bndry_seg_length[i]  # Clip the start length and move to the next one\n",
    "        else                                        # Otherwise the start point is on this segment\n",
    "            percent_to_start = leg_remaining / bndry_seg_length[i] # How far along our segment we are\n",
    "            # Translate how far along the segment we are to actual x- y-coords\n",
    "            if (num_turbs > 1)\n",
    "                turbine_x[1] = bndry_x_clsd[i] + ((bndry_x_clsd[i+1] - bndry_x_clsd[i]) * percent_to_start)\n",
    "                turbine_y[1] = bndry_y_clsd[i] + ((bndry_y_clsd[i+1] - bndry_y_clsd[i]) * percent_to_start)\n",
    "            else\n",
    "                turbine_x = bndry_x_clsd[i] + ((bndry_x_clsd[i+1] - bndry_x_clsd[i]) * percent_to_start)\n",
    "                turbine_y = bndry_y_clsd[i] + ((bndry_y_clsd[i+1] - bndry_y_clsd[i]) * percent_to_start)\n",
    "            end\n",
    "            \n",
    "            break\n",
    "        end\n",
    "    end\n",
    "    # Get how much distance is left on this leg after the starting point\n",
    "    percent_left_of_segment = 1 - abs((turbine_x[1] - bndry_x_clsd[curr_seg]) / (bndry_x_clsd[curr_seg+1] - bndry_x_clsd[curr_seg]))\n",
    "    seg_remaining = bndry_seg_length[curr_seg] * percent_left_of_segment\n",
    "    leg_remaining = turb_spacing\n",
    "    #- Place the rest of the turbines -#\n",
    "    if num_turbs > 1\n",
    "        for i in 2:num_turbs    # For every turbine we have to place\n",
    "            if(seg_remaining > leg_remaining)   #- If there's space on this leg to place the next turbine\n",
    "                percent_to_place = (bndry_seg_length[curr_seg] - seg_remaining + turb_spacing) / bndry_seg_length[curr_seg]\n",
    "                seg_remaining -= turb_spacing # Take out the distance we used\n",
    "            else                                #- If there isn't enough space on this boundary segment to place the next turbine\n",
    "                while(seg_remaining < leg_remaining)           # Keep checking boundary segments until we reach the next placement\n",
    "                    leg_remaining -= seg_remaining             # Subtract that much till our next placement\n",
    "                    curr_seg = mod(curr_seg, (num_segs))+1   # Increment what segment we're onspot\n",
    "                    seg_remaining = bndry_seg_length[curr_seg] # Reset how much segment length we have left\n",
    "                end\n",
    "                percent_to_place = leg_remaining / bndry_seg_length[curr_seg]\n",
    "                seg_remaining = bndry_seg_length[curr_seg] - leg_remaining\n",
    "            end\n",
    "            #- Place the turbines the appropriate distance from the segment start point -#\n",
    "            turbine_x[i] = bndry_x_clsd[curr_seg] + ((bndry_x_clsd[curr_seg+1] - bndry_x_clsd[curr_seg]) * percent_to_place)\n",
    "            turbine_y[i] = bndry_y_clsd[curr_seg] + ((bndry_y_clsd[curr_seg+1] - bndry_y_clsd[curr_seg]) * percent_to_place)\n",
    "            leg_remaining = turb_spacing  # Reset how much length till the next turbine is placed\n",
    "        end\n",
    "    end\n",
    "    \n",
    "    return turbine_x, turbine_y\n",
    "end"
   ]
  },
  {
   "cell_type": "markdown",
   "metadata": {
    "heading_collapsed": true
   },
   "source": [
    "## Journal of actions"
   ]
  },
  {
   "cell_type": "markdown",
   "metadata": {
    "hidden": true
   },
   "source": [
    "`0000.17.Jul.20`\n",
    "\n",
    "I'm getting a little tired. The only thing left to do is the allocation portion. PJ had it so that he looped through every turbine, placing them where they are supposed to be. The way I did it previously for my mapping method, was walking along the perimeter and placing them as I go. I think that's the more intuitive way, so I'm going to code it up that way.\n",
    "\n",
    "`1858.20.Jul.20`\n",
    "\n",
    "Back at it.\n",
    "\n",
    "`1637.21.Jul.20`\n",
    "\n",
    "I think I finished it. I'll need to test now."
   ]
  },
  {
   "cell_type": "markdown",
   "metadata": {
    "hidden": true
   },
   "source": [
    "`1749.21.Jul.20`\n",
    "\n",
    "Finished and tested.\n",
    "\n",
    "I now need to do three cleanup things:\n",
    "- [x] Boundary constraint method `1256.22.Jul.20`\n",
    "- [x] Write function determining min distance around corners `1841.22.Jul.20`\n",
    "- [ ] Figure out how to put leftovers back into main area\n",
    "- [x] put into FlowFarm.jl and test `1304.23.Jul.20`\n",
    "----------------------------------------\n",
    "- [ ] Run redued windrose optimzation again, save results, analyze with full\n",
    "- [ ] Do turb locs for your good one\n",
    "\n",
    "`2129.21.Jul.20`\n",
    "\n",
    "I have a problem with calculating the interior angles of three points. It seems to be undercalculating the angle. I'll need to revisit it in the morning.\n",
    "\n",
    "`1256.22.Jul.20`\n",
    "\n",
    "Fixed the bug, it was an error in how I was calculating the numerator in the `caclMinorAngle()` function. Now to put it into FlowFarm.jl"
   ]
  },
  {
   "cell_type": "markdown",
   "metadata": {
    "hidden": true
   },
   "source": [
    "`1256.22.Jul.20`\n",
    "\n",
    "I found a \"bug\" in the original boundary files. Between points 13 and 14, it gives a very weird angle. This is supplied in the original source material, but makes for a very slender and unnecessary point in the boundary. I have commented this stray point out, and the boundary keeps most of its original area, especially with the scaled-down version we give in the case studies. I'll just have to remeber to comment out that point in all the files we use in-house. Note: I'm only doing this because the incredibly sharp angle (0.95 deg) will knee-cap the variable reduction method with spacing around the corners."
   ]
  },
  {
   "cell_type": "markdown",
   "metadata": {
    "hidden": true
   },
   "source": [
    "`1420.22.Jul.20`\n",
    "\n",
    "Just did a Zoom call with Jared. The full windrose is taking an inordinate amount of time. My next step for lab meeting tomorrow is to get an optimization that:\n",
    "- uses BG method on the boundary\n",
    "- Splined Boundary in the interior\n",
    "- WEC turned on (use Jared's example)"
   ]
  },
  {
   "cell_type": "code",
   "execution_count": 387,
   "metadata": {
    "code_folding": [
     0
    ],
    "hidden": true
   },
   "outputs": [
    {
     "data": {
      "text/plain": [
       "calcSmallestAngle (generic function with 1 method)"
      ]
     },
     "execution_count": 387,
     "metadata": {},
     "output_type": "execute_result"
    }
   ],
   "source": [
    "# Helper functions for startup\n",
    "function calcMinorAngle(bndry_x, bndry_y, bndry_z=[0,0,0])\n",
    "    # <bndry_x> is a 3-element 1-D array that is the x- coordinates of three points.\n",
    "    # <bndry_y> is a 3-element 1-D array that is the y- coordinates of three points.\n",
    "    # Calculates the magnitude of the non-reflex angle formed at the center point\n",
    "    ABx = bndry_x[2]-bndry_x[1]\n",
    "    ABy = bndry_y[2]-bndry_y[1]\n",
    "    ABz = bndry_z[2]-bndry_z[1]\n",
    "    \n",
    "    BCx = bndry_x[2]-bndry_x[3]\n",
    "    BCy = bndry_y[2]-bndry_y[3]\n",
    "    BCz = bndry_z[2]-bndry_z[3]\n",
    "    \n",
    "    Num = (ABx*BCx) + (ABy*BCy) + (ABz*BCz) # Dot Product\n",
    "    \n",
    "    Denom = sqrt(ABx^2 + ABy^2 + ABz^2) * sqrt(BCx^2 + BCy^2 + BCz^2) # Multiplication of magnitudes\n",
    "    Theta = acosd(Num/Denom) # Get the angle formed\n",
    "\n",
    "    # If it's greater than 180, get the \n",
    "    if (Theta > 180.0)\n",
    "        Theta = 360.0 - Theta    # Get the explementary angle\n",
    "    end\n",
    "    \n",
    "    return Theta\n",
    "end\n",
    "\n",
    "function calcSmallestAngle(bndry_x_clsd, bndry_y_clsd)\n",
    "    num_angles = length(bndry_x_clsd)-1\n",
    "    # Loop the second point back on so we get the angle at the beginning\n",
    "    if !(((bndry_x_clsd[1] == bndry_x_clsd[end-1]) && (bndry_y_clsd[1] == bndry_y_clsd[end-1])) && ((bndry_x_clsd[2] == bndry_x_clsd[end]) && (bndry_y_clsd[2] == bndry_y_clsd[end])))\n",
    "        bndryPts_x_loopd = vcat(bndry_x_clsd, bndry_x_clsd[2])\n",
    "        bndryPts_y_loopd = vcat(bndry_y_clsd, bndry_y_clsd[2])\n",
    "    end\n",
    "    \n",
    "    #- Calculate the smallest angle -#\n",
    "    smallest_angle = 360\n",
    "    for i in 1:num_angles\n",
    "        temp_angle = calcMinorAngle(bndryPts_x_loopd[i:i+2], bndryPts_y_loopd[i:i+2])\n",
    "\n",
    "        if (temp_angle < smallest_angle)\n",
    "            smallest_angle = temp_angle\n",
    "        end\n",
    "    end\n",
    "    \n",
    "    return smallest_angle\n",
    "end"
   ]
  },
  {
   "cell_type": "code",
   "execution_count": 388,
   "metadata": {
    "hidden": true
   },
   "outputs": [
    {
     "data": {
      "text/plain": [
       "50.768479516407744"
      ]
     },
     "execution_count": 388,
     "metadata": {},
     "output_type": "execute_result"
    }
   ],
   "source": [
    "#Test\n",
    "calcAngle([1,3,1], [2,2,1], [3,1,1])"
   ]
  },
  {
   "cell_type": "markdown",
   "metadata": {
    "heading_collapsed": true
   },
   "source": [
    "# Results"
   ]
  },
  {
   "cell_type": "code",
   "execution_count": 389,
   "metadata": {
    "code_folding": [
     0
    ],
    "hidden": true
   },
   "outputs": [
    {
     "data": {
      "image/png": "[encoded data removed]",
      "text/plain": [
       "Figure(PyObject <Figure size 640x480 with 1 Axes>)"
      ]
     },
     "metadata": {},
     "output_type": "display_data"
    },
    {
     "name": "stdout",
     "output_type": "stream",
     "text": [
      "18\n"
     ]
    }
   ],
   "source": [
    "# Plot boundary IIIa\n",
    "bndry_x = bndry_x_clsd[region]\n",
    "bndry_y = bndry_y_clsd[region]\n",
    "\n",
    "plot(bndry_x, bndry_y)\n",
    "num_bndry_pts = length(bndry_x)\n",
    "println(num_bndry_pts)\n",
    "#scatter(bndry_x[20],bndry_y[20])#, turb_diam/2.0, fill=true,color=\"black\")\n",
    "# Plot boundary verticies\n",
    "for i = 1:num_bndry_pts\n",
    "     scatter(bndry_x[i],bndry_y[i])#, turb_diam/2.0, fill=true,color=\"black\")\n",
    "     plt.text(bndry_x[i]+turb_diam, bndry_y[i]+turb_diam, string(i))\n",
    "end\n",
    "\n",
    "# Formatting\n",
    "axis(\"square\")\n",
    "axis(\"off\")\n",
    "plt.show()"
   ]
  },
  {
   "cell_type": "code",
   "execution_count": 360,
   "metadata": {
    "code_folding": [
     0
    ],
    "hidden": true
   },
   "outputs": [
    {
     "name": "stdout",
     "output_type": "stream",
     "text": [
      "2: 95.73666520202987\n",
      "3: 174.01958789468605\n",
      "4: 169.96402967603632\n",
      "5: 160.28804114285896\n",
      "6: 160.57273451833328\n",
      "7: 160.7386215275396\n",
      "8: 170.1694460890394\n",
      "9: 174.2502817261309\n",
      "10: 95.76170560166011\n",
      "11: 97.40565662797147\n",
      "12: 179.99923435399694\n",
      "13: 45.78713661831358\n",
      "14: 178.94301943522277\n",
      "15: 178.02043087097732\n",
      "16: 176.35250557597874\n",
      "17: 175.96337167909368\n",
      "18: 104.59167173122069\n"
     ]
    },
    {
     "data": {
      "text/plain": [
       "45.78713661831358"
      ]
     },
     "execution_count": 360,
     "metadata": {},
     "output_type": "execute_result"
    }
   ],
   "source": [
    "# Show all the angles for region IIIa\n",
    "calcSmallestAngle(bndry_x_clsd[region], bndry_y_clsd[region])"
   ]
  },
  {
   "cell_type": "code",
   "execution_count": 557,
   "metadata": {
    "code_folding": [
     0
    ],
    "hidden": true
   },
   "outputs": [
    {
     "name": "stdout",
     "output_type": "stream",
     "text": [
      "Not Placed:0"
     ]
    }
   ],
   "source": [
    "# Test startup\n",
    "start_dist = 0\n",
    "test_num_turbs = 16\n",
    "region = 1  # Which region we're placing turbines for\n",
    "turbine_x, turbine_y, not_placed = VR_bounary_startup(bndry_x_clsd[region], bndry_y_clsd[region], start_dist, turb_min_space, test_num_turbs)#turbs_region_brdr[region])\n",
    "print(\"Not Placed:\", not_placed)"
   ]
  },
  {
   "cell_type": "code",
   "execution_count": 558,
   "metadata": {
    "code_folding": [
     0
    ],
    "hidden": true
   },
   "outputs": [
    {
     "data": {
      "image/png": "[encoded data removed]",
      "text/plain": [
       "Figure(PyObject <Figure size 640x480 with 1 Axes>)"
      ]
     },
     "metadata": {},
     "output_type": "display_data"
    },
    {
     "name": "stdout",
     "output_type": "stream",
     "text": [
      "Min allowed dist: 396.0\n",
      "Min actual  dist: 876.7473149112344\n"
     ]
    }
   ],
   "source": [
    "#- Visualize it all -#\n",
    "# Plot boundary\n",
    "for cntr in 1:nNumRegions\n",
    "    plot(bndry_x_clsd[region], bndry_y_clsd[region])\n",
    "end\n",
    "\n",
    "# Plot turbines\n",
    "for i = 1:length(turbine_x)\n",
    "     plt.gcf().gca().add_artist(plt.Circle((turbine_x[i],turbine_y[i]), turb_diam/2.0, fill=true,color=\"black\"))\n",
    "     plt.text(turbine_x[i]+turb_diam,turbine_y[i]+turb_diam, string(i))\n",
    "end\n",
    "\n",
    "println(\"Min allowed dist: \", 2*turb_diam)\n",
    "println(\"Min actual  dist: \", minimum(ff.turbine_spacing(turbine_x, turbine_y)))\n",
    "\n",
    "\n",
    "# Formatting\n",
    "axis(\"square\")\n",
    "axis(\"off\")\n",
    "plt.show()"
   ]
  },
  {
   "cell_type": "markdown",
   "metadata": {},
   "source": [
    "# Unit test cases in FlowFarm"
   ]
  },
  {
   "cell_type": "markdown",
   "metadata": {},
   "source": [
    "### One turbine"
   ]
  },
  {
   "cell_type": "code",
   "execution_count": 695,
   "metadata": {
    "code_folding": [
     0
    ]
   },
   "outputs": [
    {
     "name": "stdout",
     "output_type": "stream",
     "text": [
      "true\n",
      "true\n",
      "true\n"
     ]
    }
   ],
   "source": [
    "#-- One-turbine circular boundary, zero start distance  --#\n",
    "# A discretized 20-point circle\n",
    "bndry_x_clsd = [200.00, 195.11, 180.90, 158.78, 130.90, 100.00, 69.10, 41.22, 19.10, 4.89, 0.00, 4.89, 19.10, 41.22, 69.10, 100.00, 130.90, 158.78, 180.90, 195.11, 200.00]\n",
    "bndry_y_clsd = [100.00, 130.90, 158.78, 180.90, 195.11, 200.00, 195.11, 180.90, 158.78, 130.90, 100.00, 69.10, 41.22, 19.10, 4.89, 0.00, 4.89, 19.10, 41.22, 69.10, 100.00]\n",
    "# Give it one small turbine, at the start\n",
    "num_turbs = 1\n",
    "start_dist = 0\n",
    "turb_diam = 10.0\n",
    "turb_min_spacing = 2*turb_diam\n",
    "\n",
    "testing_x, testing_y, num_leftover = VR_boundary_startup(bndry_x_clsd, bndry_y_clsd, start_dist, turb_min_spacing, num_turbs)\n",
    "test_values = [200.00, 100.0, 0]\n",
    "#@test ff.VR_bounary_startup(bndry_x_clsd, bndry_y_clsd, start_dist, turb_min_spacing, num_turbs) == test_values\n",
    "println(test_values[1] == bndry_x_clsd[1])\n",
    "println(test_values[2] == bndry_y_clsd[1])\n",
    "println(test_values[3] == 0)"
   ]
  },
  {
   "cell_type": "code",
   "execution_count": 689,
   "metadata": {
    "code_folding": [
     0
    ]
   },
   "outputs": [
    {
     "name": "stdout",
     "output_type": "stream",
     "text": [
      "true\n",
      "true\n",
      "true\n"
     ]
    }
   ],
   "source": [
    "#-- One-turbine square boundary, zero start distance  --#\n",
    "# A discretized 20-point circle\n",
    "bndry_x_clsd = [100.0, 0.0, 0.0, 100.0, 100.0]\n",
    "bndry_y_clsd = [100.0, 100.0, 0.0, 0.0, 100.0]\n",
    "# Give it one small turbine, at the start\n",
    "num_turbs = 1\n",
    "start_dist = 0\n",
    "turb_diam = 10.0\n",
    "turb_min_spacing = 2*turb_diam\n",
    "\n",
    "testing_x, testing_y, num_leftover = VR_boundary_startup(bndry_x_clsd, bndry_y_clsd, start_dist, turb_min_spacing, num_turbs)\n",
    "test_values = [bndry_x_clsd[1], bndry_y_clsd[1], 0]\n",
    "#@test ff.VR_bounary_startup(bndry_x_clsd, bndry_y_clsd, start_dist, turb_min_spacing, num_turbs) == test_values\n",
    "println(testing_x == test_values[1])\n",
    "println(testing_y == test_values[2])\n",
    "println(num_leftover == test_values[3])"
   ]
  },
  {
   "cell_type": "code",
   "execution_count": 693,
   "metadata": {
    "code_folding": [
     0
    ]
   },
   "outputs": [
    {
     "name": "stdout",
     "output_type": "stream",
     "text": [
      "true\n",
      "true\n",
      "true\n"
     ]
    }
   ],
   "source": [
    "#-- One-turbine circular boundary, 90deg start distance  --#\n",
    "# A discretized 20-point circle\n",
    "bndry_x_clsd = [200.00, 195.11, 180.90, 158.78, 130.90, 100.00, 69.10, 41.22, 19.10, 4.89, 0.00, 4.89, 19.10, 41.22, 69.10, 100.00, 130.90, 158.78, 180.90, 195.11, 200.00]\n",
    "bndry_y_clsd = [100.00, 130.90, 158.78, 180.90, 195.11, 200.00, 195.11, 180.90, 158.78, 130.90, 100.00, 69.10, 41.22, 19.10, 4.89, 0.00, 4.89, 19.10, 41.22, 69.10, 100.00]\n",
    "# Give it one small turbine, perturb the start\n",
    "num_turbs = 1\n",
    "start_dist = (pi/2)*100 # Top of the circle\n",
    "turb_diam = 10.0\n",
    "turb_min_spacing = 2*turb_diam\n",
    "\n",
    "testing_x, testing_y, num_leftover = VR_boundary_startup(bndry_x_clsd, bndry_y_clsd, start_dist, turb_min_spacing, num_turbs)\n",
    "test_values = [100.00, 200.0, 0]\n",
    "#@test ff.VR_bounary_startup(bndry_x_clsd, bndry_y_clsd, start_dist, turb_min_spacing, num_turbs) == test_values\n",
    "println(test_values[1] == bndry_x_clsd[6])\n",
    "println(test_values[2] == bndry_y_clsd[6])\n",
    "println(test_values[3] == 0)\n"
   ]
  },
  {
   "cell_type": "code",
   "execution_count": 691,
   "metadata": {
    "code_folding": [
     0
    ]
   },
   "outputs": [
    {
     "name": "stdout",
     "output_type": "stream",
     "text": [
      "true\n",
      "true\n",
      "true\n"
     ]
    }
   ],
   "source": [
    "#-- One-turbine square boundary, 90deg start distance  --#\n",
    "# A discretized 20-point circle\n",
    "bndry_x_clsd = [100.0, 0.0, 0.0, 100.0, 100.0]\n",
    "bndry_y_clsd = [100.0, 100.0, 0.0, 0.0, 100.0]\n",
    "# Give it one small turbine, at the start\n",
    "num_turbs = 1\n",
    "start_dist = 100.0\n",
    "turb_diam = 10.0\n",
    "turb_min_spacing = 2*turb_diam\n",
    "\n",
    "testing_x, testing_y, num_leftover = VR_boundary_startup(bndry_x_clsd, bndry_y_clsd, start_dist, turb_min_spacing, num_turbs)\n",
    "test_values = [0.0, 100.0, 0]\n",
    "#@test ff.VR_bounary_startup(bndry_x_clsd, bndry_y_clsd, start_dist, turb_min_spacing, num_turbs) == test_values\n",
    "println(test_values[1] == bndry_x_clsd[2])\n",
    "println(test_values[2] == bndry_y_clsd[2])\n",
    "println(test_values[3] == 0)"
   ]
  },
  {
   "cell_type": "markdown",
   "metadata": {},
   "source": [
    "### Multi-turbine"
   ]
  },
  {
   "cell_type": "code",
   "execution_count": 687,
   "metadata": {
    "code_folding": [
     0
    ]
   },
   "outputs": [
    {
     "data": {
      "text/plain": [
       "0"
      ]
     },
     "execution_count": 687,
     "metadata": {},
     "output_type": "execute_result"
    }
   ],
   "source": [
    "# Multi-Turbine, Square Boundary, Zero Start Distance\n",
    "# A 4-point sqaure\n",
    "bndry_x_clsd = [100.0, 0.0, 0.0, 100.0, 100.0]\n",
    "bndry_y_clsd = [100.0, 100.0, 0.0, 0.0, 100.0]\n",
    "# Give it a few turbines, perturb the start\n",
    "num_turbs = 4\n",
    "start_dist = 0.0 # Top side mid-point\n",
    "turb_diam = 10.0\n",
    "turb_min_spacing = 2*turb_diam\n",
    "\n",
    "testing_x, testing_y, num_leftover = ff.VR_boundary_startup(bndry_x_clsd, bndry_y_clsd, start_dist, turb_min_spacing, num_turbs)\n",
    "test_values_x = [100.0, 0.0, 0.0, 100.0]\n",
    "test_values_y = [100.0, 100.0, 0.0, 0.0]\n",
    "test_num_leftover = 0\n",
    "#@test testing_x == test_values_x\n",
    "#@test testing_y == test_values_y\n",
    "#@test num_leftover == test_num_leftover"
   ]
  },
  {
   "cell_type": "code",
   "execution_count": 697,
   "metadata": {
    "code_folding": [
     0
    ]
   },
   "outputs": [
    {
     "data": {
      "text/plain": [
       "3-element Array{Any,1}:\n",
       "  [200.0]\n",
       "  [100.0]\n",
       " 0"
      ]
     },
     "execution_count": 697,
     "metadata": {},
     "output_type": "execute_result"
    }
   ],
   "source": [
    "#-- Multi-turbine, Circular Boundary, Zero Start Distance--#\n",
    "# A discretized 200-point circle\n",
    "num_pts = 400\n",
    "circ_radius = 100.0\n",
    "circ_center = [100.0, 100.0]\n",
    "bndry_x_clsd, bndry_y_clsd = ff.DiscreteCircum(circ_center[1], circ_center[2], circ_radius, num_pts)\n",
    "# Vertices that keep splines injective (4-corners)\n",
    "bndry_corner_indcies = [1, 51, 101, 151, 201]  # 200 pt circle, 4 corners\n",
    "# Give it a few turbines, don't perturb the start\n",
    "num_turbs = 8\n",
    "start_dist = 0 # Right of the circle\n",
    "turb_diam = 10.0\n",
    "turb_min_spacing = 2*turb_diam\n",
    "\n",
    "# Vertices that keep splines injective\n",
    "circ_corners = 1/sqrt(2)\n",
    "cc_r = circ_center[2] + (circ_corners * circ_radius) # ~170\n",
    "cc_l = circ_center[1] - (circ_corners * circ_radius) # ~ 30\n",
    "cc_d = cc_r - cc_l                # ~140\n",
    "cc_d2 = cc_d/2                    # ~ 70\n",
    "\n",
    "testing_x, testing_y, num_leftover = ff.VR_boundary_startup(bndry_x_clsd, bndry_y_clsd, start_dist, turb_min_spacing, num_turbs)\n",
    "test_values_x = [200.0, cc_r, 100.0, cc_l, 0.0, cc_l, 100.0, cc_r]\n",
    "test_values_y = [100.0, cc_r, 200.0, cc_r, 100.0, cc_l, 0.0, cc_l]\n",
    "test_values_numleftover = [ [200.00, ],\n",
    "                            [100.0, ],\n",
    "                            0]\n",
    "#@test test_values_x ≈ testing_x  atol=1E-10"
   ]
  },
  {
   "cell_type": "code",
   "execution_count": 700,
   "metadata": {},
   "outputs": [
    {
     "data": {
      "text/plain": [
       "3-element Array{Any,1}:\n",
       "  [200.0]\n",
       "  [100.0]\n",
       " 0"
      ]
     },
     "execution_count": 700,
     "metadata": {},
     "output_type": "execute_result"
    }
   ],
   "source": [
    "#-- Multi-turbine, Circular Boundary, With Start Distance --#\n",
    "# A discretized 200-point circle\n",
    "num_pts = 400\n",
    "circ_radius = 100.0\n",
    "circ_center = [100.0, 100.0]\n",
    "bndry_x_clsd, bndry_y_clsd = ff.DiscreteCircum(circ_center[1], circ_center[2], circ_radius, num_pts)\n",
    "# Vertices that keep splines injective (4-corners)\n",
    "bndry_corner_indcies = [1, 51, 101, 151, 201]  # 200 pt circle, 4 corners\n",
    "# Give it a few turbines, don't perturb the start\n",
    "num_turbs = 8\n",
    "start_dist = 100*pi/4 # Top Right of the circle\n",
    "turb_diam = 10.0\n",
    "turb_min_spacing = 2*turb_diam\n",
    "\n",
    "# Vertices that keep splines injective\n",
    "circ_corners = 1/sqrt(2)\n",
    "cc_r = circ_center[2] + (circ_corners * circ_radius) # ~170\n",
    "cc_l = circ_center[1] - (circ_corners * circ_radius) # ~ 30\n",
    "cc_d = cc_r - cc_l                # ~140\n",
    "cc_d2 = cc_d/2                    # ~ 70\n",
    "\n",
    "testing_x, testing_y, num_leftover = ff.VR_boundary_startup(bndry_x_clsd, bndry_y_clsd, start_dist, turb_min_spacing, num_turbs)\n",
    "test_values_x = [cc_r, 100.0, cc_l, 0.0, cc_l, 100.0, cc_r, 200.0]\n",
    "test_values_y = [cc_r, 200.0, cc_r, 100.0, cc_l, 0.0, cc_l, 100.0]\n",
    "test_values_numleftover = [ [200.00, ],\n",
    "                            [100.0, ],\n",
    "                            0]\n",
    "#@test test_values_x ≈ testing_x  atol=5E-3"
   ]
  },
  {
   "cell_type": "code",
   "execution_count": 684,
   "metadata": {
    "code_folding": [
     0
    ]
   },
   "outputs": [
    {
     "data": {
      "text/plain": [
       "0"
      ]
     },
     "execution_count": 684,
     "metadata": {},
     "output_type": "execute_result"
    }
   ],
   "source": [
    "# Multi-Turbine, Square Boundary, With Start Distance\n",
    "# A 4-point sqaure\n",
    "bndry_x_clsd = [100.0, 0.0, 0.0, 100.0, 100.0]\n",
    "bndry_y_clsd = [100.0, 100.0, 0.0, 0.0, 100.0]\n",
    "# Give it a few turbines, perturb the start\n",
    "num_turbs = 4\n",
    "start_dist = 50.0 # Top side mid-point\n",
    "turb_diam = 10.0\n",
    "turb_min_spacing = 2*turb_diam\n",
    "\n",
    "testing_x, testing_y, num_leftover = ff.VR_boundary_startup(bndry_x_clsd, bndry_y_clsd, start_dist, turb_min_spacing, num_turbs)\n",
    "test_values_x = [50.0, 0.0, 50.0, 100.0]\n",
    "test_values_y = [100.0, 50.0, 0.0, 50.0]\n",
    "test_num_leftover = 0\n",
    "#@test testing_x == test_values_x\n",
    "#@test testing_y == test_values_y\n",
    "#@test num_leftover == test_num_leftover"
   ]
  },
  {
   "cell_type": "code",
   "execution_count": 701,
   "metadata": {
    "code_folding": []
   },
   "outputs": [
    {
     "data": {
      "image/png": "[encoded data removed]",
      "text/plain": [
       "Figure(PyObject <Figure size 640x480 with 1 Axes>)"
      ]
     },
     "metadata": {},
     "output_type": "display_data"
    }
   ],
   "source": [
    "#- Visualize it all -#\n",
    "# Plot boundary\n",
    "plot(bndry_x_clsd, bndry_y_clsd)\n",
    "# Plot turbines\n",
    "for i = 1:length(testing_x)\n",
    "     plt.gcf().gca().add_artist(plt.Circle((testing_x[i],testing_y[i]), turb_diam/2.0, fill=true,color=\"black\"))\n",
    "#     plt.gcf().gca().add_artist(plt.Circle((test_values_x[i],test_values_y[i]), turb_diam/2.0, fill=true,color=\"red\"))\n",
    "     plt.text(testing_x[i]+turb_diam,testing_y[i]+turb_diam, string(i))\n",
    "end\n",
    "\n",
    "# Formatting\n",
    "axis(\"square\")\n",
    "axis(\"off\")\n",
    "plt.show()\n",
    "#savefig(\"MulitCircleOff.pdf\")"
   ]
  },
  {
   "cell_type": "markdown",
   "metadata": {},
   "source": [
    "# Making Random Starting points (Julia)"
   ]
  },
  {
   "cell_type": "markdown",
   "metadata": {},
   "source": [
    "`2026.22.July.20`\n",
    "\n",
    "I just realized that for this to be properly implemented, I'll need to make some new starting points where some turbines are placed along each boundary, and the rest are randomly started inside. I could randomize the boundary turbine starting points as well, but the practice of using the example turbine layout as a starting point won't work here. I'll be putting that in a new notebook."
   ]
  }
 ],
 "metadata": {
  "kernelspec": {
   "display_name": "Julia 1.4.2",
   "language": "julia",
   "name": "julia-1.4"
  },
  "language_info": {
   "file_extension": ".jl",
   "mimetype": "application/julia",
   "name": "julia",
   "version": "1.4.2"
  }
 },
 "nbformat": 4,
 "nbformat_minor": 4
}
