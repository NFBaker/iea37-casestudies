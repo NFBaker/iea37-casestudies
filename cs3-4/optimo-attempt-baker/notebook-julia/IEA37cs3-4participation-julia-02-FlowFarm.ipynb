{
 "cells": [
  {
   "cell_type": "markdown",
   "metadata": {},
   "source": [
    "# FlowFarm Translation\n",
    "\n",
    "`0952.21.May.20`"
   ]
  },
  {
   "cell_type": "markdown",
   "metadata": {},
   "source": [
    "Though the BYU's IEA participation is rudimentarily completed with `scipy.minimize` and `SNOPT`, to enable supplying gradients to `SNOPT`, it had been decided to convert everything over to Julia and plug it into Jared and PJ's `FlowFarm.jl`.\n",
    "This Notebook is the workspace where I will code and test the code translations to make sure everything is working."
   ]
  },
  {
   "cell_type": "markdown",
   "metadata": {},
   "source": [
    "## Read in the YAML Boundaries"
   ]
  },
  {
   "cell_type": "code",
   "execution_count": 5,
   "metadata": {
    "scrolled": false
   },
   "outputs": [
    {
     "ename": "ErrorException",
     "evalue": "syntax: invalid assignment location \"[plL3a, plL3b, plL4a, plL4b, plL4c]\"",
     "output_type": "error",
     "traceback": [
      "syntax: invalid assignment location \"[plL3a, plL3b, plL4a, plL4b, plL4c]\"",
      "",
      "Stacktrace:",
      " [1] top-level scope at C:\\Users\\Captain Baker\\.julia\\packages\\IJulia\\DrVMH\\src\\kernel.jl:52"
     ]
    }
   ],
   "source": [
    "import YAML\n",
    "using Printf\n",
    "using Parameters\n",
    "\n",
    "function getBoundaryCs4YAML(file_name)\n",
    "    ### Retrieve boundary inflection points for IEA37 case study 4 from the <.yaml> file.\n",
    "\n",
    "    # Read in the .yaml file\n",
    "    f = YAML.load(open(file_name))\n",
    "    bndrs = f[\"boundaries\"]\n",
    "\n",
    "    ptList3a = bndrs[\"IIIa\"]\n",
    "    ptList3b = bndrs[\"IIIb\"]\n",
    "    ptList4a = bndrs[\"IVa\"]\n",
    "    ptList4b = bndrs[\"IVb\"]\n",
    "    ptList4c = bndrs[\"IVc\"]\n",
    "    \n",
    "    return ptList3a, ptList3b, ptList4a, ptList4b, ptList4c\n",
    "end\n",
    "\n",
    "fn = \"../../startup-files/iea37-boundary-cs4.yaml\"\n",
    "\n",
    "[plL3a, plL3b, plL4a, plL4b, plL4c] = getBoundaryCs4YAML(fn)\n",
    "\n",
    "print(plL3a)"
   ]
  },
  {
   "cell_type": "markdown",
   "metadata": {},
   "source": [
    "## Spline the boundary "
   ]
  },
  {
   "cell_type": "code",
   "execution_count": null,
   "metadata": {},
   "outputs": [],
   "source": []
  },
  {
   "cell_type": "markdown",
   "metadata": {},
   "source": [
    "## `checkBoundaryCs4()` "
   ]
  },
  {
   "cell_type": "code",
   "execution_count": null,
   "metadata": {},
   "outputs": [],
   "source": []
  },
  {
   "cell_type": "markdown",
   "metadata": {},
   "source": [
    "## ToDo\n",
    "\n",
    "`1410.27.May.20`"
   ]
  },
  {
   "cell_type": "markdown",
   "metadata": {},
   "source": [
    "- [ ] Test what you altered with your boundary thing\n",
    "- [ ] Rewrite the farm things to be in the correct section\n",
    "- [ ] Rewrite all referencing tests\n",
    "- [ ] Make cool Figures\n",
    "- [ ] Clean up your figure code\n",
    "<!-- - [ ] -->"
   ]
  },
  {
   "cell_type": "markdown",
   "metadata": {},
   "source": [
    "`08.June.20`\n",
    "\n",
    "I've definitely been slacking, took a few days off of work. Still have much to do.\n",
    "\n",
    "- [x] Write Boundary YAML Reader `1513.09.Jun.20`\n",
    "- [x] Close the boundary list for splining `1614.09.Jun.20`\n",
    "- [x] Augment the points so they're CCW `1630.09.Jun.20`\n",
    "- [x] Boundary Splines `10.Jun.20`\n",
    "- [x] boundary verticies `10.Jun.20`\n",
    "- [x] Boundary function `1432.11.Jun.20`\n",
    "-------------\n",
    "- [x] Verify output is correct `1400.16.Jun.20`\n",
    "- [x] Fit boundary function into FLOWFarm `1700.17.Jun.20`\n",
    "- [x] Write and pass unit tests (2) `1700.17.Jun.20`\n",
    "- [x] Change from appended matrix to a 1-D array (For AD calculation) `1700.06.Jul.20`\n",
    "- [x] Change from appended bndry_pts to a 1-D array (For AD calculation) `1037.07.Jul.20`\n",
    "-------------\n",
    "- [x] Setup base optimization `1700.06.Jul.20`\n",
    "- [x] Start optimization runs `1700.06.Jul.20`\n",
    "-------------\n",
    "- [x] Get `splined_boundary()` optimization running on the super computer `22.Jul.20`\n",
    "    - [x] (SNOPT wrapper working on super computer) - use documentation, PJ, Dr. Ning\n",
    "-------------\n",
    "- [x] Benchmark `splined_boundary()` jacobian call `1329.09.Jul.20`\n",
    "- [x] Benchmark `ray_trace()` jacobian call `1554.09.Jul.20`\n",
    "-------------\n",
    "- [ ] Implement WEC (`done by Jared 11.June.20`)\n",
    "    - [ ] Number of steps is 6, max WEC should be 3x\n",
    "- [ ] Run optimization (both boundary methods) with WEC/multi-start\n",
    "-------------\n",
    "- [x] Implement 'variable reduction' `22.Jul.20`\n",
    "    - [x] partial with just some stuck on the boundary, interior turbs optimized normally `22.Jul.20`\n",
    "    - [ ] 2nd piece is getting interior turbines var reduced (Grid)\n",
    "    - [x] Write function to check boundary spacing around corners `22.Jul.20`\n",
    "- [ ] Do a reduced windrose, save the turbine locations, analyze in the full windrose\n",
    "-------------\n",
    "-------------\n",
    "- [ ] Finish variable reduction w/splined boundary optimization\n",
    "    - [x] variable reduction random starts `1153.02.Aug.20`\n",
    "    - [ ] write it to do all regions at once\n",
    "- [ ] Get some good initial layouts\n",
    "- [ ] optimize the ray tracing code\n",
    "- [ ] Clean up your \"extras\" code\n",
    "- [ ] Finish variable reduction w/ VarRed interior (call PJ)\n",
    "-------------\n",
    "-------------\n",
    "- [ ] 'variable reduction' with discrete regions and concave boundary (conference paper?)\n",
    "-------------\n",
    "-------------\n",
    "- [ ] Make boundary reader generalized\n",
    "- [ ] Change turbine apportionment to array with tags\n",
    "- [x] Correct AEP calculation code `done by Jared 11.June.20`\n",
    "-------------\n",
    "- [x] Write Turbine YAML Writer `Jared completed`\n",
    "- [ ] Promulgate your turbine locations\n",
    "- [x] Check FlowFarm against Erik's model - bad numbers `done by Jared 11.June.20`\n",
    "--------------"
   ]
  },
  {
   "cell_type": "markdown",
   "metadata": {},
   "source": [
    "`18.Jun.20`\n",
    "\n",
    "I just realized that my partition method is trash. It breaks down in some simple worst-case boundaries. This means the mapping method is also trash, since boundaries with more than 4 injective sides will break the algorithm. So I've gotta throw it all out. Which sucks.\n",
    "\n",
    "It sucks.\n",
    "\n",
    "Anyways, I've gotta find a new method. A freaking UNDERGRAD, researched the ray tracing method and got it working within a week. I am completely sub-par. Anyways I think that's the method to use.\n",
    "\n",
    "Maybe I should leave this place."
   ]
  },
  {
   "cell_type": "markdown",
   "metadata": {},
   "source": [
    "Apparently theres a better method. I'll need to do some research into this method.\n",
    "http://lin-ear-th-inking.blogspot.com/2019/02/better-and-faster-interior-point-for.html"
   ]
  },
  {
   "cell_type": "markdown",
   "metadata": {},
   "source": [
    "Variable Reduction:\n",
    "----------------------\n",
    "45% around outer boundary of entire farm\n",
    "\n",
    "The rest are in grid defined in the middle\n",
    "\n",
    "gird spacing variable, rotation variable, ..."
   ]
  }
 ],
 "metadata": {
  "kernelspec": {
   "display_name": "Julia 1.4.2",
   "language": "julia",
   "name": "julia-1.4"
  },
  "language_info": {
   "file_extension": ".jl",
   "mimetype": "application/julia",
   "name": "julia",
   "version": "1.4.2"
  }
 },
 "nbformat": 4,
 "nbformat_minor": 2
}
