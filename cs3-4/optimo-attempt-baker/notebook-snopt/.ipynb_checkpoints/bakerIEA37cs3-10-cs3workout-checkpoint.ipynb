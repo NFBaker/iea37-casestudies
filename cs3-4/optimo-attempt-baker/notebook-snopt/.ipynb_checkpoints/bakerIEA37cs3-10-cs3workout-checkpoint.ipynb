{
 "cells": [
  {
   "cell_type": "markdown",
   "metadata": {},
   "source": [
    "# SciPy Implementation 01\n",
    "`0900.25.Mar.20`"
   ]
  },
  {
   "cell_type": "markdown",
   "metadata": {},
   "source": [
    "### Explanation"
   ]
  },
  {
   "cell_type": "markdown",
   "metadata": {},
   "source": [
    "This is an implementation for the IEA case with Dr. Ning's reccommended SNOPT optimizer, as well as the \"normal\" method boundary that PJ supplied me the code for.\n",
    "\n",
    "First I'll need to figure out how to use SNOPT, then change the convex hull boundary so it's valid.`0930.25.Mar.20`\n",
    "\n",
    "Pj just mentioned I should get the convex hull first, then SNOPT. `0952.25.Mar.20`"
   ]
  },
  {
   "cell_type": "markdown",
   "metadata": {},
   "source": [
    "### Convex Hull Modification\n",
    "`1030.25.Mar.20`\n",
    "\n",
    "This is workout to modify the IEA cs3 boundary to be convex and use normals to determine location viability"
   ]
  },
  {
   "cell_type": "code",
   "execution_count": 4,
   "metadata": {},
   "outputs": [
    {
     "data": {
      "image/png": "[encoded data removed]",
      "text/plain": [
       "<Figure size 432x288 with 1 Axes>"
      ]
     },
     "metadata": {
      "needs_background": "light"
     },
     "output_type": "display_data"
    }
   ],
   "source": [
    "#-- Necessary Headers --#\n",
    "%run \"../baker_cs34_functions.py\"\n",
    "fn = \"../../startup-files/iea37-boundary-cs3.yaml\"\n",
    "bndryPts = getTurbAtrbtCs3YAML(fn)\n",
    "clsdBP = closeBndryList(bndryPts)\n",
    "coordList = closeBndryList(bndryPts)    # Duplicate the first coordinate for a closed boundary\n",
    "#-- End Headers --#\n",
    "\n",
    "colorNum = 1 # Make it Red\n",
    "\n",
    "printBoundaryClr(clsdBP, colorNum)\n",
    "printTurbines(clsdBP, 'green', 10)\n",
    "printTurbines(clsdBP[8], 'Blue', 10)\n",
    "\n",
    "#testArray = makeCoordArray(clsdBP)\n",
    "#print(type(testArray))\n",
    "#print(testArray)"
   ]
  },
  {
   "cell_type": "markdown",
   "metadata": {},
   "source": [
    "This is going to be a little harder than first expected. There is no algorithm or clear way for me to automate the making of a convex hull out of the boundary. If I use the `ConvexHull()` function, it'll make the area larger, not smaller. I'll have to create the points by hand."
   ]
  },
  {
   "cell_type": "code",
   "execution_count": 6,
   "metadata": {},
   "outputs": [
    {
     "data": {
      "image/png": "[encoded data removed]",
      "text/plain": [
       "<Figure size 432x288 with 1 Axes>"
      ]
     },
     "metadata": {
      "needs_background": "light"
     },
     "output_type": "display_data"
    }
   ],
   "source": [
    "def line(p1, p2):\n",
    "    # Makes a line from the given <coordinate> points\n",
    "    A = (p1.y - p2.y)\n",
    "    B = (p2.x - p1.x)\n",
    "    C = (p1.x*p2.y - p2.x*p1.y)\n",
    "    return A, B, -C\n",
    "\n",
    "def intersection(L1, L2):\n",
    "    # Finds intersection of the given lines\n",
    "    D  = L1[0] * L2[1] - L1[1] * L2[0]\n",
    "    Dx = L1[2] * L2[1] - L1[1] * L2[2]\n",
    "    Dy = L1[0] * L2[2] - L1[2] * L2[0]\n",
    "    if D != 0:\n",
    "        x = Dx / D\n",
    "        y = Dy / D\n",
    "        return x,y\n",
    "    else:\n",
    "        return False\n",
    "\n",
    "def makeSimpleCs3Bndry(clsdBP):\n",
    "    # Given the boundary points for cs3, this simplifies them into a non-concave shape\n",
    "    numVertices = 4 # Our new closed boundary. Will be made of only 4 values, to stay convex\n",
    "    newVertices = np.recarray(4, coordinate) # Our new closed boundary. Will be made of only 4 values, to stay convex\n",
    "\n",
    "    #-- Make our line equations --#\n",
    "    lineRgt = line(clsdBP[0], clsdBP[1])  #- Right side line equation -#\n",
    "    lineBtm =line(clsdBP[6], clsdBP[8])   #- Bottom side line equation -#\n",
    "    lineLft = line(clsdBP[8], clsdBP[9])  #- Left side line equation -#\n",
    "    #- Top side line equation -#\n",
    "    crdTemp =  np.recarray(1, coordinate)\n",
    "    crdTemp.x = 0\n",
    "    crdTemp.y = clsdBP[12].y\n",
    "    lineTop = line(crdTemp[0], clsdBP[12]) # point [12] is the min y-val of that curve\n",
    "\n",
    "    #-- Figure out intersection points --#\n",
    "    [newVertices[0].x, newVertices[0].y] = intersection(lineRgt, lineTop)\n",
    "    [newVertices[1].x, newVertices[1].y] = intersection(lineRgt, lineBtm)\n",
    "    newVertices[2] = clsdBP[8]\n",
    "    [newVertices[3].x, newVertices[3].y] = intersection(lineLft, lineTop)\n",
    "    newVertices = closeBndryList(newVertices) # Close up the loop for plotting\n",
    "    \n",
    "    return newVertices\n",
    "\n",
    "newVertices = makeSimpleCs3Bndry(clsdBP)\n",
    "colorNum = 5\n",
    "printBoundaryClr(clsdBP, colorNum)\n",
    "printBoundaryClr(newVertices, colorNum+1)\n",
    "#plt.savefig(\"./figures/ConcaveBoundary.pdf\", bbox_inches='tight')"
   ]
  },
  {
   "cell_type": "markdown",
   "metadata": {},
   "source": [
    "Well that took longer than it should have  `1434.25.Mar.20`"
   ]
  },
  {
   "cell_type": "markdown",
   "metadata": {},
   "source": [
    "### Finding Normals\n",
    "`1438.25.Mar.20`\n",
    "\n",
    "Now that I have a boundary, I'll get the \"normal\" code to find if a certain point is within the boundary working.\n",
    "Pj directed me to some code Jared wrote in his GitHub repository under `plantenergy/src/GeneralWindFarmComponents.py`. It seems like I'll have to shave this square peg to fit in my round hole."
   ]
  },
  {
   "cell_type": "code",
   "execution_count": 4,
   "metadata": {
    "code_folding": [
     0
    ]
   },
   "outputs": [],
   "source": [
    "def bndryNormals(bndryList):\n",
    "    # Rewritten and adapted from Jared Thomas' code on 25.Mar.20\n",
    "    nVerts = len(bndryList)-1             # Number of verticies in our boundary (minus the repeat for closure)\n",
    "    unit_normals = np.zeros([nVerts, 2])  # For our unit Normals\n",
    "    unit_normals_coords = np.recarray(nVerts, coordinate)\n",
    "    \n",
    "    # determine if point is inside or outside of each face, and distance from each face\n",
    "    for j in range(nVerts):\n",
    "        # calculate the unit normal vector of the current face (taking points CCW)\n",
    "        if j < nVerts:  # all but the set of point that close the shape\n",
    "            normal = np.array([bndryList[j+1].y -bndryList[j].y,\n",
    "                               -(bndryList[j+1].x-bndryList[j].x)])\n",
    "            unit_normals[j] = normal/np.linalg.norm(normal)\n",
    "        else:   # the set of points that close the shape\n",
    "            normal = np.array([bndryList[0].y-bndryList[j].y,\n",
    "                               -(bndryList[0].x-bndryList[j].x)])\n",
    "            unit_normals[j] = normal/np.linalg.norm(normal)\n",
    "    \n",
    "    #Convert to our <coordinate> data type\n",
    "    for i in range(nVerts):\n",
    "        unit_normals_coords[i].x = unit_normals[i][0]\n",
    "        unit_normals_coords[i].y = unit_normals[i][1]\n",
    "        \n",
    "    return unit_normals_coords"
   ]
  },
  {
   "cell_type": "code",
   "execution_count": 5,
   "metadata": {
    "code_folding": [
     0
    ]
   },
   "outputs": [],
   "source": [
    "def convertCoordToArray(Coords):\n",
    "    # Quick conversion froma list of <coordinate> to a list of vectors\n",
    "    numPts = Coords.shape[0]\n",
    "    Array = np.zeros([numPts,2])\n",
    "    for i in range(numPts):\n",
    "        Array[i][0] = Coords[i].x\n",
    "        Array[i][1] = Coords[i].y\n",
    "        \n",
    "    return Array"
   ]
  },
  {
   "cell_type": "code",
   "execution_count": 6,
   "metadata": {
    "code_folding": []
   },
   "outputs": [],
   "source": [
    "def calcDistNorms(points, vertices, unit_normals):\n",
    "    # Rewritten and adapted from Jared Thomas' code on 25.Mar.20\n",
    "    # print points.shape, vertices.shape, unit_normals.shape\n",
    "    nPoints = points.shape[0]\n",
    "    nVertices = vertices.shape[0] -1\n",
    "    face_distance = np.zeros([nPoints, nVertices]) # initialize array to hold distances from each point to each face\n",
    "    inside = np.zeros(nPoints)        # init bool array indicating whether a pt is in the hull or not\n",
    "    pa = np.zeros(2)                  # Temp vector from turbine to boundary face\n",
    "    d_vec = np.zeros(2)               # Temp vector\n",
    "    #-- Convert from <coordinate> --#\n",
    "    unit_norms = convertCoordToArray(unit_normals)\n",
    "    turbCoords = convertCoordToArray(points)\n",
    "    bndryCoords = convertCoordToArray(vertices) \n",
    "    \n",
    "    for i in range(nPoints):          # loop through pts and find dist to each face\n",
    "        for j in range(nVertices):    # determine if pt is in or out of each face, and dist from each face\n",
    "            # define the vector from the point of interest to the first point of the face\n",
    "            pa = [[bndryCoords[j, 0]-turbCoords[i, 0], bndryCoords[j, 1]-turbCoords[i, 1]]]\n",
    "            # find perpendicular distance from point to current surface (vector projection)\n",
    "            d_vec = np.vdot(pa, unit_norms[j])*unit_norms[j]\n",
    "            # calculate the sign of perpendicular distance from point to current face (- is inside, + is outside)\n",
    "            face_distance[i, j] = np.vdot(d_vec, unit_norms[j])\n",
    "        # check if the point is inside the convex hull by checking the sign of the distance\n",
    "        if np.all(face_distance[i] <= 0):\n",
    "            inside[i] = True\n",
    "    return face_distance, inside"
   ]
  },
  {
   "cell_type": "code",
   "execution_count": 7,
   "metadata": {},
   "outputs": [
    {
     "data": {
      "text/plain": [
       "(-1.0722076220940426,\n",
       " 0.8912361943135312,\n",
       " -1.0859154832602076,\n",
       " 0.8042251484643573)"
      ]
     },
     "execution_count": 7,
     "metadata": {},
     "output_type": "execute_result"
    },
    {
     "data": {
      "image/png": "[encoded data removed]",
      "text/plain": [
       "<Figure size 432x288 with 1 Axes>"
      ]
     },
     "metadata": {
      "needs_background": "light"
     },
     "output_type": "display_data"
    }
   ],
   "source": [
    "# Plot the Normals\n",
    "BndryNormals = bndryNormals(newVertices)\n",
    "for i in range(4):\n",
    "    plt.plot([0,BndryNormals[i][0]], [0,BndryNormals[i][1]])\n",
    "\n",
    "plt.axis('scaled')                      # Trim the white space\n",
    "plt.axis('off')                         # Turn off the framing\n",
    "#plt.savefig(\"./figures/FaceNormals.pdf\", bbox_inches='tight')"
   ]
  },
  {
   "cell_type": "markdown",
   "metadata": {},
   "source": [
    "Make some random turbines:"
   ]
  },
  {
   "cell_type": "code",
   "execution_count": 19,
   "metadata": {},
   "outputs": [],
   "source": [
    "#- Load the turbine and windrose atributes -#\n",
    "fname_turb = \"../../startup-files/iea37-10mw.yaml\"\n",
    "fname_wr = \"../../startup-files/iea37-windrose-cs3.yaml\"\n",
    "wind_dir, wind_dir_freq, wind_speeds, wind_speed_probs, num_speed_bins, min_speed, max_speed = iea37aepC.getWindRoseYAML(fname_wr)\n",
    "turb_ci, turb_co, rated_ws, rated_pwr, turb_diam = iea37aepC.getTurbAtrbtYAML(fname_turb)\n",
    "numGridLines = 10                   # How many gridlines we'll use for the visualization\n",
    "numTurbs = 25\n",
    "fMinDist = turb_diam*2\n",
    "vertexList = [0, 6, 8, 9, 18]       # Hard code the vertices (though this could be done algorithmically)\n",
    "numSides = len(vertexList) - 1      # The number of sides for our original coordinate system. Usually (4) to Euclidean, but could be any number)\n",
    "vertexPts = bndryPts[vertexList[0:4]]  # Make an array of just the four \"vertex\" points we're using\n",
    "\n",
    "#-- Spline the original boundary --#\n",
    "splineList = np.empty(numSides, interp1d)                  # Init. array IOT save the Splines for each \"side\"\n",
    "buf = np.zeros((numSides, numGridLines, 2))                # Used to initalize the recarray to zeros\n",
    "segCoordList = np.recarray([numSides, numGridLines], dtype=coordinate, buf=buf)\n",
    "\n",
    "#- Create the splines for each side (<numSides> many)-#\n",
    "for i in range(numSides):\n",
    "    BndPts = clsdBP[vertexList[i]:(vertexList[i+1]+1)]      # Extract the points for the \"edge\" we want\n",
    "    segCoordList[i] = sliceBoundary(BndPts, numGridLines)    # Reparameterize the boundry to be defined by <numGridLines> many points\n",
    "    splineList[i] = interp1d(segCoordList[i].x, segCoordList[i].y, kind='linear')   # Make the spline using NumPy's <interp1d>\n",
    "    \n",
    "turbRandoList = iea37cs3randomstarts(numTurbs, splineList, vertexPts, fMinDist)\n",
    "x0 = makeCoordArray(turbRandoList)"
   ]
  },
  {
   "cell_type": "code",
   "execution_count": 21,
   "metadata": {},
   "outputs": [
    {
     "name": "stdout",
     "output_type": "stream",
     "text": [
      "[-3513.58135359   -27.1961959    -95.4601995  -2820.07801787\n",
      " -2446.97467035 -1379.66469264  -650.61567094 -2115.77373541\n",
      " -1962.83275214 -3460.63214941  -129.02857504   -66.89144061\n",
      " -1185.13992622 -4018.79330573  -759.46938889   -57.78905816\n",
      " -1033.16553134 -1856.50949208 -2080.34090212 -2733.19284385\n",
      " -1261.07761512 -1277.97524668 -2114.38775604 -3224.95974447\n",
      " -1117.91104934   -74.04902258 -2919.44998754 -4763.42787803\n",
      "  -407.73951351 -4837.98668929 -1251.92185568   259.22824131\n",
      " -2056.8686038   -328.5941708  -1668.71417364 -3680.08319983\n",
      "   -37.48709558 -4164.56644506 -2047.27975988  -843.39321011\n",
      " -3226.08628398  -466.65415826  -205.59760137 -2541.94297903\n",
      " -2558.23438345  -881.25375282  -781.1255148  -2610.41821946\n",
      "  -249.92113802 -3081.18128655 -2365.93625988 -1943.12542944\n",
      " -2480.80241356  -558.03380824 -1043.63180807 -3055.98518414\n",
      "  -328.19478476  -416.07573199 -3678.15421274 -5019.10726481\n",
      " -2192.33989309 -2197.01544383  -522.41838101 -1364.8141265\n",
      " -1415.94589609 -2299.12172358 -1391.78959987 -1892.16661072\n",
      "  -477.87314034 -3880.37844818 -1673.46661254  -810.96772927\n",
      " -2320.57908717 -2731.85189685   -87.91310183  -627.43540754\n",
      " -1280.07662957 -2784.50920268 -1297.41019945 -1433.40287061\n",
      "  -702.17224735 -1467.56524818 -2679.01332302 -3467.75913739\n",
      "   -55.87842829 -4850.81028157 -1663.55857666   -19.19501633\n",
      "  -259.13287658 -1081.37285996 -3409.46886996 -4292.55569079\n",
      " -2866.30878376   -12.94671732  -872.64659807 -3376.85680283\n",
      " -1125.53922769  -579.55604558 -2643.82866218 -4161.23792415]\n"
     ]
    },
    {
     "ename": "NameError",
     "evalue": "name 'bInside' is not defined",
     "output_type": "error",
     "traceback": [
      "\u001b[1;31m---------------------------------------------------------------------------\u001b[0m",
      "\u001b[1;31mNameError\u001b[0m                                 Traceback (most recent call last)",
      "\u001b[1;32m<ipython-input-21-753c7109d32a>\u001b[0m in \u001b[0;36m<module>\u001b[1;34m\u001b[0m\n\u001b[0;32m      4\u001b[0m \u001b[0mnp\u001b[0m\u001b[1;33m.\u001b[0m\u001b[0mset_printoptions\u001b[0m\u001b[1;33m(\u001b[0m\u001b[0msuppress\u001b[0m\u001b[1;33m=\u001b[0m\u001b[1;32mTrue\u001b[0m\u001b[1;33m)\u001b[0m\u001b[1;33m\u001b[0m\u001b[1;33m\u001b[0m\u001b[0m\n\u001b[0;32m      5\u001b[0m \u001b[0mprint\u001b[0m\u001b[1;33m(\u001b[0m\u001b[0mfaceDist\u001b[0m\u001b[1;33m)\u001b[0m\u001b[1;33m\u001b[0m\u001b[1;33m\u001b[0m\u001b[0m\n\u001b[1;32m----> 6\u001b[1;33m \u001b[0mprint\u001b[0m\u001b[1;33m(\u001b[0m\u001b[0mbInside\u001b[0m\u001b[1;33m)\u001b[0m\u001b[1;33m\u001b[0m\u001b[1;33m\u001b[0m\u001b[0m\n\u001b[0m\u001b[0;32m      7\u001b[0m \u001b[1;33m\u001b[0m\u001b[0m\n\u001b[0;32m      8\u001b[0m \u001b[1;33m\u001b[0m\u001b[0m\n",
      "\u001b[1;31mNameError\u001b[0m: name 'bInside' is not defined"
     ]
    }
   ],
   "source": [
    "BndryNormals = bndryNormals(newVertices)\n",
    "#[faceDist, bInside] = calcDistNorms(x0s, newVertices, BndryNormals)\n",
    "faceDist = calcDistNorms(x0, newVertices, BndryNormals)\n",
    "np.set_printoptions(suppress=True)\n",
    "print(faceDist)\n",
    "#print(bInside)\n",
    "\n",
    "\n",
    "printBoundaryClr(clsdBP, colorNum)\n",
    "#printTurbines(clsdBP, getPltClrs().getColor(5), 10) # Print the boundary verticies\n",
    "printBoundaryClr(newVertices, colorNum+1)\n",
    "printTurbines(x0s, getPltClrs().getColor(1), 10, True)\n",
    "#plt.savefig(\"./figures/BoundaryNumberedTurbs.pdf\", bbox_inches='tight')"
   ]
  },
  {
   "cell_type": "markdown",
   "metadata": {},
   "source": [
    "It seems to be calculating and plotting correctly, but for some reason the turbines on the boundary are showing as just 'out'. This can be due two three possible reasons:\n",
    "1. The original turbine locations were't actually on the boundary\n",
    "2. The modified boundary isn't perfectly in line with the old one\n",
    "3. Error in the normal calculation that is giving a false negative\n",
    "As a quick-fix, I have given a bit of tolerance (0.09) to permit these on the boundary to be read as \"in\"\n",
    "\n",
    "`0904.26.Mar.20`"
   ]
  },
  {
   "cell_type": "markdown",
   "metadata": {},
   "source": [
    "#### 1) Were original turbines out of bounds?\n",
    "Let's graph it thin:"
   ]
  },
  {
   "cell_type": "code",
   "execution_count": null,
   "metadata": {},
   "outputs": [],
   "source": [
    "printTurbines(x0s, getPltClrs().getColor(2), 0.1, True)\n",
    "plt.plot(clsdBP.x, clsdBP.y, color=getPltClrs().getColor(colorNum), linewidth=.5)\n",
    "plt.axis('scaled')                      # Trim the white space\n",
    "plt.axis('off')                         # Turn off the framing\n",
    "#plt.savefig(\"./figures/TempThin.pdf\", bbox_inches='tight')"
   ]
  },
  {
   "cell_type": "markdown",
   "metadata": {},
   "source": [
    "Turbine #5 might actually be out of bounds. Let's take a look at that one."
   ]
  },
  {
   "cell_type": "code",
   "execution_count": null,
   "metadata": {},
   "outputs": [],
   "source": [
    "def getPtSlopeFromPts(pt1, pt2):\n",
    "    m = (pt1.y-pt2.y)/(pt1.x-pt2.x)\n",
    "    b = (pt1.x*pt2.y - pt2.x*pt1.y)/(pt1.x-pt2.x)\n",
    "    return m, b"
   ]
  },
  {
   "cell_type": "code",
   "execution_count": null,
   "metadata": {},
   "outputs": [],
   "source": [
    "TurbNum= 5\n",
    "\n",
    "print(\"Boundary endpoints:\")\n",
    "print(clsdBP[0])\n",
    "print(clsdBP[1])\n",
    "print()\n",
    "[m,b] = getPtSlopeFromPts(clsdBP[0], clsdBP[1])\n",
    "print(\"Right bndry eq: y = \" + str(m) + \"x + \" + str(b))\n",
    "\n",
    "x_vals = np.linspace(clsdBP[1].x,clsdBP[0].x)\n",
    "abline_values = [m * i + b for i in x_vals]\n",
    "\n",
    "print()\n",
    "print(turb_coords[TurbNum][0])\n",
    "print(\"Turbine coord is: \" + str(turb_coords[TurbNum]))\n",
    "newPt = [turb_coords[TurbNum][0],((turb_coords[TurbNum][0]*m) + b)]\n",
    "print(\"Turbine coord should be: \" + str(newPt))\n",
    "\n",
    "plt.hold = True\n",
    "plt.plot(x_vals, abline_values)\n",
    "plt.scatter(turb_coords[TurbNum][0], turb_coords[TurbNum][1], s=10, color=getPltClrs().getColor(2))\n",
    "plt.scatter(newPt[0], newPt[1], s=10, color=getPltClrs().getColor(1))\n",
    "plt.axis('scaled')                      # Trim the white space\n",
    "plt.axis('off')                         # Turn off the framing\n",
    "plt.savefig(\"./figures/TempZoom.pdf\", bbox_inches='tight')"
   ]
  },
  {
   "cell_type": "markdown",
   "metadata": {},
   "source": [
    "`1003.26.Mar.20`\n",
    "\n",
    "Well It's official.\n",
    "I gave example turbines that are out of bounds.\n",
    "What I think happepend is that when I generated them, they were in bounds, but when I scaled everything down (the boundary and locations) so that there was an increased turbine density, the rounding error pushed the turbines on the line just out of bounds, by a value of about ~0.05m. (about two inches). It's too late now since the example is already propogated, but I now know that the code for determining out of bounds is working and that as a starting point, some points are invalid and the optimizer needs to push stuff in.\n",
    "\n",
    "I'll try it again for pt 9 just to make sure:"
   ]
  },
  {
   "cell_type": "code",
   "execution_count": null,
   "metadata": {},
   "outputs": [],
   "source": [
    "TurbNum= 6\n",
    "\n",
    "print(\"Boundary endpoints:\")\n",
    "print(clsdBP[8])\n",
    "print(clsdBP[9])\n",
    "print()\n",
    "[m,b] = getPtSlopeFromPts(clsdBP[8], clsdBP[9])\n",
    "print(\"Right bndry eq: y = \" + str(m) + \"x + \" + str(b))\n",
    "\n",
    "x_vals = np.linspace(clsdBP[9].x,clsdBP[8].x)\n",
    "abline_values = [m * i + b for i in x_vals]\n",
    "\n",
    "print()\n",
    "print(turb_coords[TurbNum][0])\n",
    "print(\"Turbine coord is: \" + str(turb_coords[TurbNum]))\n",
    "newPt = [turb_coords[TurbNum][0],((turb_coords[TurbNum][0]*m) + b)]\n",
    "print(\"Turbine coord should be: \" + str(newPt))\n",
    "\n",
    "plt.hold = True\n",
    "plt.plot(x_vals, abline_values)\n",
    "plt.scatter(turb_coords[TurbNum][0], turb_coords[TurbNum][1], s=10, color=getPltClrs().getColor(2))\n",
    "plt.scatter(newPt[0], newPt[1], s=10, color=getPltClrs().getColor(1))\n",
    "plt.axis('scaled')                      # Trim the white space\n",
    "plt.axis('off')                         # Turn off the framing\n",
    "plt.savefig(\"./figures/TempZoom.pdf\", bbox_inches='tight')"
   ]
  },
  {
   "cell_type": "code",
   "execution_count": null,
   "metadata": {},
   "outputs": [],
   "source": []
  }
 ],
 "metadata": {
  "kernelspec": {
   "display_name": "Python 3",
   "language": "python",
   "name": "python3"
  },
  "language_info": {
   "codemirror_mode": {
    "name": "ipython",
    "version": 3
   },
   "file_extension": ".py",
   "mimetype": "text/x-python",
   "name": "python",
   "nbconvert_exporter": "python",
   "pygments_lexer": "ipython3",
   "version": "3.7.4"
  }
 },
 "nbformat": 4,
 "nbformat_minor": 2
}
