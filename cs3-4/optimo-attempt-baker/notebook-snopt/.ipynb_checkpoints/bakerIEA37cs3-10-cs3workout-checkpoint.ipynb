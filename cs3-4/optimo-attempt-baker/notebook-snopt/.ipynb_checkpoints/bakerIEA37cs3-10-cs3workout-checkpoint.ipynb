{
 "cells": [
  {
   "cell_type": "markdown",
   "metadata": {},
   "source": [
    "# SciPy Implementation 01\n",
    "`0900.25.Mar.20`"
   ]
  },
  {
   "cell_type": "markdown",
   "metadata": {},
   "source": [
    "### Explanation"
   ]
  },
  {
   "cell_type": "markdown",
   "metadata": {},
   "source": [
    "This is an implementation for the IEA case with Dr. Ning's reccommended SNOPT optimizer, as well as the \"normal\" method boundary that PJ supplied me the code for.\n",
    "\n",
    "First I'll need to figure out how to use SNOPT, then change the convex hull boundary so it's valid.`0930.25.Mar.20`\n",
    "\n",
    "Pj just mentioned I should get the convex hull first, then SNOPT. `0952.25.Mar.20`"
   ]
  },
  {
   "cell_type": "markdown",
   "metadata": {},
   "source": [
    "### Convex Hull Modification\n",
    "`1030.25.Mar.20`\n",
    "\n",
    "This is workout to modify the IEA cs3 boundary to be convex and use normals to determine location viability"
   ]
  },
  {
   "cell_type": "code",
   "execution_count": 1,
   "metadata": {},
   "outputs": [
    {
     "data": {
      "image/png": "[encoded data removed]",
      "text/plain": [
       "<Figure size 432x288 with 1 Axes>"
      ]
     },
     "metadata": {
      "needs_background": "light"
     },
     "output_type": "display_data"
    }
   ],
   "source": [
    "#-- Necessary Headers --#\n",
    "%run \"baker_cs34_functions_sandbox.py\"\n",
    "#-- End Headers --#\n",
    "\n",
    "colorNum = 1 # Make it Red\n",
    "\n",
    "printBoundaryClr(clsdBP, colorNum)\n",
    "printTurbines(clsdBP, 'green', 10)\n",
    "printTurbines(clsdBP[8], 'Blue', 10)\n",
    "\n",
    "#testArray = makeCoordArray(clsdBP)\n",
    "#print(type(testArray))\n",
    "#print(testArray)"
   ]
  },
  {
   "cell_type": "markdown",
   "metadata": {},
   "source": [
    "This is going to be a little harder than first expected. There is no algorithm or clear way for me to automate the making of a convex hull out of the boundary. If I use the `ConvexHull()` function, it'll make the area larger, not smaller. I'll have to create the points by hand."
   ]
  },
  {
   "cell_type": "code",
   "execution_count": 2,
   "metadata": {},
   "outputs": [
    {
     "ename": "SyntaxError",
     "evalue": "invalid syntax (<ipython-input-2-6c424b3cca79>, line 20)",
     "output_type": "error",
     "traceback": [
      "\u001b[0;36m  File \u001b[0;32m\"<ipython-input-2-6c424b3cca79>\"\u001b[0;36m, line \u001b[0;32m20\u001b[0m\n\u001b[0;31m    def makeSimpleCs3Bndry(clsdBP)\u001b[0m\n\u001b[0m                                  ^\u001b[0m\n\u001b[0;31mSyntaxError\u001b[0m\u001b[0;31m:\u001b[0m invalid syntax\n"
     ]
    }
   ],
   "source": [
    "def line(p1, p2):\n",
    "    # Makes a line from the given <coordinate> points\n",
    "    A = (p1.y - p2.y)\n",
    "    B = (p2.x - p1.x)\n",
    "    C = (p1.x*p2.y - p2.x*p1.y)\n",
    "    return A, B, -C\n",
    "\n",
    "def intersection(L1, L2):\n",
    "    # Finds intersection of the given lines\n",
    "    D  = L1[0] * L2[1] - L1[1] * L2[0]\n",
    "    Dx = L1[2] * L2[1] - L1[1] * L2[2]\n",
    "    Dy = L1[0] * L2[2] - L1[2] * L2[0]\n",
    "    if D != 0:\n",
    "        x = Dx / D\n",
    "        y = Dy / D\n",
    "        return x,y\n",
    "    else:\n",
    "        return False\n",
    "\n",
    "def makeSimpleCs3Bndry(clsdBP):\n",
    "    # Given the boundary points for cs3, this simplifies them into a non-concave shape\n",
    "    numVertices = 4 # Our new closed boundary. Will be made of only 4 values, to stay convex\n",
    "    newVertices = np.recarray(4, coordinate) # Our new closed boundary. Will be made of only 4 values, to stay convex\n",
    "\n",
    "    #-- Make our line equations --#\n",
    "    lineRgt = line(clsdBP[0], clsdBP[1])  #- Right side line equation -#\n",
    "    lineBtm =line(clsdBP[6], clsdBP[8])   #- Bottom side line equation -#\n",
    "    lineLft = line(clsdBP[8], clsdBP[9])  #- Left side line equation -#\n",
    "    #- Top side line equation -#\n",
    "    crdTemp =  np.recarray(1, coordinate)\n",
    "    crdTemp.x = 0\n",
    "    crdTemp.y = clsdBP[12].y\n",
    "    lineTop = line(crdTemp[0], clsdBP[12]) # point [12] is the min y-val of that curve\n",
    "\n",
    "    #-- Figure out intersection points --#\n",
    "    [newVertices[0].x, newVertices[0].y] = intersection(lineRgt, lineTop)\n",
    "    [newVertices[1].x, newVertices[1].y] = intersection(lineRgt, lineBtm)\n",
    "    newVertices[2] = clsdBP[8]\n",
    "    [newVertices[3].x, newVertices[3].y] = intersection(lineLft, lineTop)\n",
    "    newVertices = closeBndryList(newVertices) # Close up the loop for plotting\n",
    "    \n",
    "    return newVertices\n",
    "\n",
    "newVertices = makeSimpleCs3Bndry(clsdBP)\n",
    "colorNum = 5\n",
    "printBoundaryClr(clsdBP, colorNum)\n",
    "printBoundaryClr(newVertices, colorNum+1)\n",
    "plt.savefig(\"./figures/ConcaveBoundary.pdf\", bbox_inches='tight')"
   ]
  },
  {
   "cell_type": "markdown",
   "metadata": {},
   "source": [
    "Well that took longer than it should have  `1434.25.Mar.20`"
   ]
  },
  {
   "cell_type": "markdown",
   "metadata": {},
   "source": [
    "### Finding Normals\n",
    "`1438.25.Mar.20`\n",
    "\n",
    "Now that I have a boundary, I'll get the \"normal\" code to find if a certain point is within the boundary working.\n",
    "Pj directed me to some code Jared wrote in his GitHub repository under `plantenergy/src/GeneralWindFarmComponents.py`. It seems like I'll have to shave this square peg to fit in my round hole."
   ]
  },
  {
   "cell_type": "code",
   "execution_count": null,
   "metadata": {
    "code_folding": [
     0
    ]
   },
   "outputs": [],
   "source": [
    "def bndryNormals(bndryList):\n",
    "    # Rewritten and adapted from Jared Thomas' code on 25.Mar.20\n",
    "    nVerts = len(bndryList)-1             # Number of verticies in our boundary (minus the repeat for closure)\n",
    "    unit_normals = np.zeros([nVerts, 2])  # For our unit Normals\n",
    "    unit_normals_coords = np.recarray(nVerts, coordinate)\n",
    "    \n",
    "    # determine if point is inside or outside of each face, and distance from each face\n",
    "    for j in range(nVerts):\n",
    "        # calculate the unit normal vector of the current face (taking points CCW)\n",
    "        if j < nVerts:  # all but the set of point that close the shape\n",
    "            normal = np.array([bndryList[j+1].y -bndryList[j].y,\n",
    "                               -(bndryList[j+1].x-bndryList[j].x)])\n",
    "            unit_normals[j] = normal/np.linalg.norm(normal)\n",
    "        else:   # the set of points that close the shape\n",
    "            normal = np.array([bndryList[0].y-bndryList[j].y,\n",
    "                               -(bndryList[0].x-bndryList[j].x)])\n",
    "            unit_normals[j] = normal/np.linalg.norm(normal)\n",
    "    \n",
    "    #Convert to our <coordinate> data type\n",
    "    for i in range(nVerts):\n",
    "        unit_normals_coords[i].x = unit_normals[i][0]\n",
    "        unit_normals_coords[i].y = unit_normals[i][1]\n",
    "        \n",
    "    return unit_normals_coords"
   ]
  },
  {
   "cell_type": "code",
   "execution_count": null,
   "metadata": {
    "code_folding": [
     0
    ]
   },
   "outputs": [],
   "source": [
    "def convertCoordToArray(Coords):\n",
    "    # Quick conversion froma list of <coordinate> to a list of vectors\n",
    "    numPts = Coords.shape[0]\n",
    "    Array = np.zeros([numPts,2])\n",
    "    for i in range(numPts):\n",
    "        Array[i][0] = Coords[i].x\n",
    "        Array[i][1] = Coords[i].y\n",
    "        \n",
    "    return Array"
   ]
  },
  {
   "cell_type": "code",
   "execution_count": null,
   "metadata": {
    "code_folding": []
   },
   "outputs": [],
   "source": [
    "def calcDistNorms(points, vertices, unit_normals):\n",
    "    # Rewritten and adapted from Jared Thomas' code on 25.Mar.20\n",
    "    # print points.shape, vertices.shape, unit_normals.shape\n",
    "    nPoints = points.shape[0]\n",
    "    nVertices = vertices.shape[0] -1\n",
    "    face_distance = np.zeros([nPoints, nVertices]) # initialize array to hold distances from each point to each face\n",
    "    inside = np.zeros(nPoints)        # init bool array indicating whether a pt is in the hull or not\n",
    "    pa = np.zeros(2)                  # Temp vector from turbine to boundary face\n",
    "    d_vec = np.zeros(2)               # Temp vector\n",
    "    #-- Convert from <coordinate> --#\n",
    "    unit_norms = convertCoordToArray(unit_normals)\n",
    "    turbCoords = convertCoordToArray(points)\n",
    "    bndryCoords = convertCoordToArray(vertices) \n",
    "    \n",
    "    for i in range(nPoints):          # loop through pts and find dist to each face\n",
    "        for j in range(nVertices):    # determine if pt is in or out of each face, and dist from each face\n",
    "            # define the vector from the point of interest to the first point of the face\n",
    "            pa = [[bndryCoords[j, 0]-turbCoords[i, 0], bndryCoords[j, 1]-turbCoords[i, 1]]]\n",
    "            # find perpendicular distance from point to current surface (vector projection)\n",
    "            d_vec = np.vdot(pa, unit_norms[j])*unit_norms[j]\n",
    "            # calculate the sign of perpendicular distance from point to current face (- is inside, + is outside)\n",
    "            face_distance[i, j] = np.vdot(d_vec, unit_norms[j])\n",
    "        # check if the point is inside the convex hull by checking the sign of the distance\n",
    "        if np.all(face_distance[i] <= 0):\n",
    "            inside[i] = True\n",
    "    return face_distance, inside"
   ]
  },
  {
   "cell_type": "code",
   "execution_count": null,
   "metadata": {},
   "outputs": [],
   "source": [
    "# Plot the Normals\n",
    "BndryNormals = bndryNormals(newVertices)\n",
    "for i in range(4):\n",
    "    plt.plot([0,BndryNormals[i][0]], [0,BndryNormals[i][1]])\n",
    "\n",
    "plt.axis('scaled')                      # Trim the white space\n",
    "plt.axis('off')                         # Turn off the framing\n",
    "plt.savefig(\"./figures/FaceNormals.pdf\", bbox_inches='tight')"
   ]
  },
  {
   "cell_type": "code",
   "execution_count": null,
   "metadata": {},
   "outputs": [],
   "source": [
    "BndryNormals = bndryNormals(newVertices)\n",
    "[faceDist, bInside] = calcDistNorms(x0s, newVertices, BndryNormals)\n",
    "np.set_printoptions(suppress=True)\n",
    "print(faceDist)\n",
    "print(bInside)\n",
    "\n",
    "printBoundaryClr(clsdBP, colorNum)\n",
    "#printTurbines(clsdBP, getPltClrs().getColor(5), 10) # Print the boundary verticies\n",
    "printBoundaryClr(newVertices, colorNum+1)\n",
    "printTurbines(x0s, getPltClrs().getColor(1), 10, True)\n",
    "plt.savefig(\"./figures/BoundaryNumberedTurbs.pdf\", bbox_inches='tight')"
   ]
  },
  {
   "cell_type": "markdown",
   "metadata": {},
   "source": [
    "It seems to be calculating and plotting correctly, but for some reason the turbines on the boundary are showing as just 'out'. This can be due two three possible reasons:\n",
    "1. The original turbine locations were't actually on the boundary\n",
    "2. The modified boundary isn't perfectly in line with the old one\n",
    "3. Error in the normal calculation that is giving a false negative\n",
    "As a quick-fix, I have given a bit of tolerance (0.09) to permit these on the boundary to be read as \"in\"\n",
    "\n",
    "`0904.26.Mar.20`"
   ]
  },
  {
   "cell_type": "markdown",
   "metadata": {},
   "source": [
    "#### 1) Were original turbines out of bounds?\n",
    "Let's graph it thin:"
   ]
  },
  {
   "cell_type": "code",
   "execution_count": null,
   "metadata": {},
   "outputs": [],
   "source": [
    "printTurbines(x0s, getPltClrs().getColor(2), 0.1, True)\n",
    "plt.plot(clsdBP.x, clsdBP.y, color=getPltClrs().getColor(colorNum), linewidth=.5)\n",
    "plt.axis('scaled')                      # Trim the white space\n",
    "plt.axis('off')                         # Turn off the framing\n",
    "#plt.savefig(\"./figures/TempThin.pdf\", bbox_inches='tight')"
   ]
  },
  {
   "cell_type": "markdown",
   "metadata": {},
   "source": [
    "Turbine #5 might actually be out of bounds. Let's take a look at that one."
   ]
  },
  {
   "cell_type": "code",
   "execution_count": null,
   "metadata": {},
   "outputs": [],
   "source": [
    "def getPtSlopeFromPts(pt1, pt2):\n",
    "    m = (pt1.y-pt2.y)/(pt1.x-pt2.x)\n",
    "    b = (pt1.x*pt2.y - pt2.x*pt1.y)/(pt1.x-pt2.x)\n",
    "    return m, b"
   ]
  },
  {
   "cell_type": "code",
   "execution_count": null,
   "metadata": {},
   "outputs": [],
   "source": [
    "TurbNum= 5\n",
    "\n",
    "print(\"Boundary endpoints:\")\n",
    "print(clsdBP[0])\n",
    "print(clsdBP[1])\n",
    "print()\n",
    "[m,b] = getPtSlopeFromPts(clsdBP[0], clsdBP[1])\n",
    "print(\"Right bndry eq: y = \" + str(m) + \"x + \" + str(b))\n",
    "\n",
    "x_vals = np.linspace(clsdBP[1].x,clsdBP[0].x)\n",
    "abline_values = [m * i + b for i in x_vals]\n",
    "\n",
    "print()\n",
    "print(turb_coords[TurbNum][0])\n",
    "print(\"Turbine coord is: \" + str(turb_coords[TurbNum]))\n",
    "newPt = [turb_coords[TurbNum][0],((turb_coords[TurbNum][0]*m) + b)]\n",
    "print(\"Turbine coord should be: \" + str(newPt))\n",
    "\n",
    "plt.hold = True\n",
    "plt.plot(x_vals, abline_values)\n",
    "plt.scatter(turb_coords[TurbNum][0], turb_coords[TurbNum][1], s=10, color=getPltClrs().getColor(2))\n",
    "plt.scatter(newPt[0], newPt[1], s=10, color=getPltClrs().getColor(1))\n",
    "plt.axis('scaled')                      # Trim the white space\n",
    "plt.axis('off')                         # Turn off the framing\n",
    "plt.savefig(\"./figures/TempZoom.pdf\", bbox_inches='tight')"
   ]
  },
  {
   "cell_type": "markdown",
   "metadata": {},
   "source": [
    "`1003.26.Mar.20`\n",
    "\n",
    "Well It's official.\n",
    "I gave example turbines that are out of bounds.\n",
    "What I think happepend is that when I generated them, they were in bounds, but when I scaled everything down (the boundary and locations) so that there was an increased turbine density, the rounding error pushed the turbines on the line just out of bounds, by a value of about ~0.05m. (about two inches). It's too late now since the example is already propogated, but I now know that the code for determining out of bounds is working and that as a starting point, some points are invalid and the optimizer needs to push stuff in.\n",
    "\n",
    "I'll try it again for pt 9 just to make sure:"
   ]
  },
  {
   "cell_type": "code",
   "execution_count": null,
   "metadata": {},
   "outputs": [],
   "source": [
    "TurbNum= 6\n",
    "\n",
    "print(\"Boundary endpoints:\")\n",
    "print(clsdBP[8])\n",
    "print(clsdBP[9])\n",
    "print()\n",
    "[m,b] = getPtSlopeFromPts(clsdBP[8], clsdBP[9])\n",
    "print(\"Right bndry eq: y = \" + str(m) + \"x + \" + str(b))\n",
    "\n",
    "x_vals = np.linspace(clsdBP[9].x,clsdBP[8].x)\n",
    "abline_values = [m * i + b for i in x_vals]\n",
    "\n",
    "print()\n",
    "print(turb_coords[TurbNum][0])\n",
    "print(\"Turbine coord is: \" + str(turb_coords[TurbNum]))\n",
    "newPt = [turb_coords[TurbNum][0],((turb_coords[TurbNum][0]*m) + b)]\n",
    "print(\"Turbine coord should be: \" + str(newPt))\n",
    "\n",
    "plt.hold = True\n",
    "plt.plot(x_vals, abline_values)\n",
    "plt.scatter(turb_coords[TurbNum][0], turb_coords[TurbNum][1], s=10, color=getPltClrs().getColor(2))\n",
    "plt.scatter(newPt[0], newPt[1], s=10, color=getPltClrs().getColor(1))\n",
    "plt.axis('scaled')                      # Trim the white space\n",
    "plt.axis('off')                         # Turn off the framing\n",
    "plt.savefig(\"./figures/TempZoom.pdf\", bbox_inches='tight')"
   ]
  },
  {
   "cell_type": "code",
   "execution_count": null,
   "metadata": {},
   "outputs": [],
   "source": []
  }
 ],
 "metadata": {
  "kernelspec": {
   "display_name": "Python 3",
   "language": "python",
   "name": "python3"
  },
  "language_info": {
   "codemirror_mode": {
    "name": "ipython",
    "version": 3
   },
   "file_extension": ".py",
   "mimetype": "text/x-python",
   "name": "python",
   "nbconvert_exporter": "python",
   "pygments_lexer": "ipython3",
   "version": "3.8.2"
  }
 },
 "nbformat": 4,
 "nbformat_minor": 2
}
