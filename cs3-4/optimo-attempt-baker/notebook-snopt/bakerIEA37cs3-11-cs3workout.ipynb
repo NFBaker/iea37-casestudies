{
 "cells": [
  {
   "cell_type": "markdown",
   "metadata": {},
   "source": [
    "# Implementation 02 (SNOPT)\n",
    "`1011.30.Mar.20`"
   ]
  },
  {
   "cell_type": "markdown",
   "metadata": {},
   "source": [
    "Now that I have the constraints set up (Both the new boundary and the function determining if a turbine is \"in\"), I can try and feed that into [SNOPT](https://web.stanford.edu/group/SOL/snopt.htm) to actually get an optimization. I will also need to use  SNOPT for my old system as well."
   ]
  },
  {
   "cell_type": "markdown",
   "metadata": {},
   "source": [
    "### Setting up my desktop"
   ]
  },
  {
   "cell_type": "markdown",
   "metadata": {},
   "source": [
    "`1255.01.Apr.20`\n",
    "\n",
    "I had some trouble finding examples of implementation code.\n",
    "I today reached out to PJ and he gave some sample code.\n",
    "I'm going over it now."
   ]
  },
  {
   "cell_type": "markdown",
   "metadata": {
    "heading_collapsed": true
   },
   "source": [
    "#### PJ's code"
   ]
  },
  {
   "cell_type": "markdown",
   "metadata": {
    "hidden": true
   },
   "source": [
    "```python\n",
    "from pyoptsparse import Optimization, SNOPT, pyOpt_solution, NSGA2\n",
    "import numpy as np\n",
    "import matplotlib.pyplot as plt\n",
    "from position_constraints import *\n",
    "from windRoses import *\n",
    "from grid_param_test import *\n",
    "from aep_calc import *\n",
    "import scipy as sp\n",
    "import os\n",
    "import sys\n",
    "sys.dont_write_bytecode = True\n",
    "def obj_func_grid(xdict):\n",
    "    global rotorDiameter\n",
    "    global turbineZ\n",
    "    global windDirections\n",
    "    global windSpeeds\n",
    "    global windFrequencies\n",
    "    global shearExp\n",
    "    global minSpacing\n",
    "    global nTurbs\n",
    "    global boundaryVertices\n",
    "    global boundaryNormals\n",
    "    global circle_radius\n",
    "    global rf\n",
    "    global wakemodel\n",
    "    global nRows\n",
    "    global turbs_per_row\n",
    "    global x_start\n",
    "    global anchor_x\n",
    "    global anchor_y\n",
    "    global nCalls\n",
    "    nCalls += 1\n",
    "    dx = xdict['dx']\n",
    "    dy = xdict['dy']\n",
    "    offset = xdict['offset']\n",
    "    rotate = xdict['rotate']\n",
    "    # scale = xdict['scale']\n",
    "    scale = 1.0\n",
    "    turbineX,turbineY = makeGrid_centered(dx,dy,offset,rotate,turbs_per_row,x_start)\n",
    "    if nCalls == 1:\n",
    "        print turbineX\n",
    "        print turbineY\n",
    "    show = False\n",
    "    if show == True:\n",
    "        plt.figure(1)\n",
    "        plt.clf()\n",
    "        for i in range(nTurbs):\n",
    "            circ = plt.Circle((turbineX[i],turbineY[i]), rotorDiameter[i]/2.,facecolor=\"blue\",edgecolor=\"blue\",alpha=0.2)\n",
    "            plt.gca().add_patch(circ)\n",
    "        # circ = plt.Circle((0.,0.), circle_radius,facecolor=\"None\",edgecolor=\"black\",alpha=0.8)\n",
    "        # plt.plot(np.array([-1800.,-1800.,1800.,1800.,-1800]),np.array([-1800.,1800.,1800.,-1800.,-1800.]),'-k')\n",
    "        # plt.gca().add_patch(circ)\n",
    "        # plt.xlim(-2200.,2200.)\n",
    "        xb = boundaryVertices[:,0]\n",
    "        yb = boundaryVertices[:,1]\n",
    "        xb = np.append(xb,xb[0])\n",
    "        yb = np.append(yb,yb[0])\n",
    "        plt.plot(xb,yb,'--k')\n",
    "        plt.axis('equal')\n",
    "        plt.axis('off')\n",
    "        plt.draw()\n",
    "        plt.pause(0.001)\n",
    "    funcs = {}\n",
    "    AEP = fast_calc_AEP(turbineX, turbineY, turbineZ, rotorDiameter, windDirections,\n",
    "                windSpeeds, windFrequencies, wakemodel=wakemodel,relaxationFactor=rf)\n",
    "    print -AEP/1.E5\n",
    "    funcs['obj'] = -AEP/1.E5\n",
    "    funcs['sep'] = SpacingConstraint(turbineX, turbineY, rotorDiameter, minSpacing=minSpacing)/1.E5\n",
    "    bounds = arbitraryBoundary(turbineX, turbineY, boundaryVertices, boundaryNormals)/1.E3\n",
    "    b = np.zeros(np.shape(bounds)[0])\n",
    "    for i in range(len(b)):\n",
    "        b[i] = min(bounds[i])\n",
    "    funcs['bound'] = b\n",
    "    fail = False\n",
    "    return funcs, fail\n",
    "## Main\n",
    "if __name__ == \"__main__\":\n",
    "    global rotorDiameter\n",
    "    global turbineZ\n",
    "    global windDirections\n",
    "    global windSpeeds\n",
    "    global windFrequencies\n",
    "    global shearExp\n",
    "    global minSpacing\n",
    "    global nTurbs\n",
    "    global boundaryVertices\n",
    "    global boundaryNormals\n",
    "    global circle_radius\n",
    "    global rf\n",
    "    global wakemodel\n",
    "    global nRows\n",
    "    global turbs_per_row\n",
    "    global x_start\n",
    "    global anchor_x\n",
    "    global anchor_y\n",
    "    global nCalls\n",
    "    wakemodel = \"gaussian\"\n",
    "    nTurbs = 100\n",
    "    rose = 'ukiah'\n",
    "    windDirections, windFrequencies, windSpeeds = ukiahRose(30)\n",
    "    wind_angle = windDirections[np.argmax(windFrequencies)]\n",
    "    windDirections, windFrequencies, windSpeeds = ukiahRose(30,nSpeeds=8)\n",
    "    windDirections -= wind_angle\n",
    "    turbineZ = np.ones(nTurbs)*100.\n",
    "    rotorDiameter = np.ones(nTurbs)*130.\n",
    "    shearExp = 0.15\n",
    "    minSpacing = 2.0\n",
    "    maxAEP = 0.\n",
    "    spacing = 4.\n",
    "    side_length = (np.sqrt(nTurbs)-1.)*rotorDiameter[0]*spacing\n",
    "    a = side_length**2\n",
    "    circle_radius = np.sqrt(a/np.pi)\n",
    "    # folder = 'grid_square_%s_%s_%s_%s'%(nTurbs,spacing,rose,wakemodel)\n",
    "    # folder = 'grid4_square_%s_%s_%s_%s'%(nTurbs,spacing,rose,wakemodel)\n",
    "    #\n",
    "    # if not os.path.exists(folder):\n",
    "    #     os.makedirs(folder)\n",
    "    \"\"\"circle boundary\"\"\"\n",
    "    nBounds = 20\n",
    "    # circle_radius = 5280.\n",
    "    xBounds = np.zeros(nBounds)\n",
    "    yBounds = np.zeros(nBounds)\n",
    "    theta = np.linspace(0.,2.*np.pi-2.*np.pi/float(nBounds),nBounds)\n",
    "    for i in range(nBounds):\n",
    "        xBounds[i] = circle_radius*np.cos(theta[i])\n",
    "        yBounds[i] = circle_radius*np.sin(theta[i])\n",
    "    x = np.zeros_like(xBounds)\n",
    "    x[:] = xBounds[:]\n",
    "    y = np.zeros_like(yBounds)\n",
    "    y[:] = yBounds[:]\n",
    "    xBounds = x*np.cos(np.deg2rad(wind_angle)) - y*np.sin(np.deg2rad(wind_angle))\n",
    "    yBounds = x*np.sin(np.deg2rad(wind_angle)) + y*np.cos(np.deg2rad(wind_angle))\n",
    "    \"\"\"square boundary rotated 30 deg from dominant wind direction\"\"\"\n",
    "    # nBounds = 4\n",
    "    # x = np.array([-side_length/2.,side_length/2.,side_length/2.,-side_length/2.])\n",
    "    # y = np.array([-side_length/2.,-side_length/2.,side_length/2.,side_length/2.])\n",
    "    # xBounds = x*np.cos(np.deg2rad(30.)) - y*np.sin(np.deg2rad(30.))\n",
    "    # yBounds = x*np.sin(np.deg2rad(30.)) + y*np.cos(np.deg2rad(30.))\n",
    "    # locations = np.zeros((nBounds,2))\n",
    "    # locations[:, 0] = xBounds\n",
    "    # locations[:, 1] = yBounds\n",
    "    # boundaryVertices, boundaryNormals = calculate_boundary(locations)\n",
    "    \"\"\"amalia boundary\"\"\"\n",
    "    # locations = np.loadtxt('layout_amalia.txt')\n",
    "    # xBounds = locations[:, 0]\n",
    "    # yBounds = locations[:, 1]\n",
    "    # xBounds = xBounds - min(xBounds) - (max(xBounds)-min(xBounds))/2.\n",
    "    # yBounds = yBounds - min(yBounds) - (max(yBounds)-min(yBounds))/2.\n",
    "    # locations[:, 0] = xBounds\n",
    "    # locations[:, 1] = yBounds\n",
    "    # boundaryVertices, boundaryNormals = calculate_boundary(locations)\n",
    "    # xBounds = boundaryVertices[:, 0]\n",
    "    # yBounds = boundaryVertices[:, 1]\n",
    "    nBounds = len(xBounds)\n",
    "    points = np.zeros((nBounds,2))\n",
    "    points[:, 0] = xBounds\n",
    "    points[:, 1] = yBounds\n",
    "    # hull = sp.spatial.ConvexHull(points)\n",
    "    # area = hull.volume\n",
    "    # area_ratio = area/(np.pi*circle_radius**2)\n",
    "    # xBounds = xBounds/np.sqrt(area_ratio)\n",
    "    # yBounds = yBounds/np.sqrt(area_ratio)\n",
    "    # points[:, 0] = xBounds\n",
    "    # points[:, 1] = yBounds\n",
    "    # boundaryVertices, boundaryNormals = calculate_boundary(points)\n",
    "    xBounds = np.append(xBounds,xBounds[0])\n",
    "    yBounds = np.append(yBounds,yBounds[0])\n",
    "    dx_start,dy_start,offset_start,rotate_start,turbs_per_row,x_start = make_start_grid_test(nTurbs,boundaryVertices,boundaryNormals)\n",
    "    factors = np.array([3.0,2.75,2.5,2.25,2.0,1.75,1.5,1.25,1.0])\n",
    "    rf = 1.0\n",
    "    num = 1\n",
    "    nCalls = 0\n",
    "    for i in range(num):\n",
    "        print 'iterations: ', i\n",
    "        # dx = float(np.random.rand(1))*dx_start+200.\n",
    "        # dy = float(np.random.rand(1))*dy_start+200.\n",
    "        # offset = float(np.random.rand(1))*25.+10.\n",
    "        # rotate = float(np.random.rand(1))*30.-15.\n",
    "        dx = dx_start\n",
    "        dy = dy_start\n",
    "        offset = offset_start\n",
    "        rotate = rotate_start\n",
    "        input = {'dx':dx,'dy':dy,'offset':offset,'rotate':rotate}\n",
    "        funcs,_ = obj_func_grid(input)\n",
    "        AEPstart = funcs['obj']\n",
    "        print AEPstart\n",
    "        nCalls = 0\n",
    "        \"\"\"Optimization\"\"\"\n",
    "        optProb = Optimization('Wind_Farm_AEP', obj_func_grid)\n",
    "        optProb.addObj('obj')\n",
    "        optProb.addVar('dx', type='c', lower=0., upper=None, value=dx)\n",
    "        optProb.addVar('dy', type='c', lower=0., upper=None, value=dy)\n",
    "        optProb.addVar('offset', type='c', lower=None, upper=None, value=offset)\n",
    "        optProb.addVar('rotate', type='c', lower=None, upper=None, value=rotate)\n",
    "        num_cons_sep = (nTurbs-1)*nTurbs/2\n",
    "        optProb.addConGroup('sep', num_cons_sep, lower=0., upper=None)\n",
    "        optProb.addConGroup('bound', nTurbs, lower=0., upper=None)\n",
    "        opt = SNOPT()\n",
    "        opt.setOption('Scale option',0)\n",
    "        opt.setOption('Iterations limit',1000000)\n",
    "        opt.setOption('Summary file','summary_grid.out')\n",
    "        opt.setOption('Major optimality tolerance',1.e-5)\n",
    "        opt.setOption('Major feasibility tolerance',1.e-6)\n",
    "        res = opt(optProb)\n",
    "        dx_f = res.xStar['dx']\n",
    "        dy_f = res.xStar['dy']\n",
    "        o_f = res.xStar['offset']\n",
    "        r_f = res.xStar['rotate']\n",
    "        # print 'dx_f: ', dx_f\n",
    "        # print 'dy_f: ', dy_f\n",
    "        # print 'offset_f: ', o_f\n",
    "        # print 'rotate_f: ', r_f\n",
    "        print nCalls\n",
    "        input = {'dx':dx_f,'dy':dy_f,'offset':o_f,'rotate':r_f}\n",
    "        funcs,_ = obj_func_grid(input)\n",
    "        separation = min(funcs['sep'])\n",
    "        boundary = min(funcs['bound'])\n",
    "        if separation > -1.E-4 and boundary > -1.E-4 and -funcs['obj'] > maxAEP:\n",
    "            maxAEP = -funcs['obj']\n",
    "        if separation > -1.E-4 and boundary > -1.E-4:\n",
    "            print 'AEP opt: ', -funcs['obj']\n",
    "            # file = open('%s/AEP.txt'%folder, 'a')\n",
    "            # file.write('%s'%(-funcs['obj']) + '\\n')\n",
    "            # file.close()\n",
    "            #\n",
    "            # file = open('%s/funcCalls.txt'%folder, 'a')\n",
    "            # file.write('%s'%nCalls + '\\n')\n",
    "            # file.close()\n",
    "        print 'maxAEP: ', maxAEP\n",
    "    print 'final maxAEP: ', maxAEP\n",
    "    plt.show()\n",
    "```"
   ]
  },
  {
   "cell_type": "markdown",
   "metadata": {
    "heading_collapsed": true
   },
   "source": [
    "### More work"
   ]
  },
  {
   "cell_type": "markdown",
   "metadata": {
    "hidden": true
   },
   "source": [
    "`1357.01.Apr.20`\n",
    "\n",
    "I had an issue with installing pyOptSparse - I thought I had on monday, but apparently not.\n",
    "I think the issue was I installed Python 3 on this windows machine, but the FLOWLab only works in Python 2, so I needed to install that and change the environment with `activate py2` and `deactivate`.\n",
    "It's completing the installation now, we'll see if it worked."
   ]
  },
  {
   "cell_type": "markdown",
   "metadata": {
    "hidden": true
   },
   "source": [
    "`1307.03.Apr.20`\n",
    "\n",
    "I had to restart my system and apparently lost the last few days of logs, but it wasn't much. I've been trying to install SNOPT on my windows system and it just isn't working. I've got to call it at this point and move over to my laptop for working."
   ]
  },
  {
   "cell_type": "markdown",
   "metadata": {
    "hidden": true
   },
   "source": [
    "`1419.03.Apr.20`\n",
    "\n",
    "I prefer my keyboard, mouse, and monitor, and the laptop just can't connect to all those devices. Instead of buying yet another adapter, I opted to go with Chrome's remote desktop extension. It allows me to remote in to the macbook (there's a bit of lag), but I can code and run everything on here, while still using my main desktop for internet, background music, and everything else."
   ]
  },
  {
   "cell_type": "markdown",
   "metadata": {
    "heading_collapsed": true
   },
   "source": [
    "## Order of Events"
   ]
  },
  {
   "cell_type": "markdown",
   "metadata": {
    "hidden": true
   },
   "source": [
    "Ok I have the constraint functions set, I want to do 3 things from here out:\n",
    "\n",
    "1. Get SNOPT to optimize the smaller Dr. Ning area\n",
    "2. Get SNOPT to optimize my original full area\n",
    "3. Get my mapping algorithm working"
   ]
  },
  {
   "cell_type": "markdown",
   "metadata": {},
   "source": [
    "## SNOPT on Dr. Ning's area"
   ]
  },
  {
   "cell_type": "markdown",
   "metadata": {},
   "source": [
    "`0834.06.Apr.20`\n",
    "\n",
    "First I'll need to run the test files that wouldn't work on my desktop.\n",
    "\n",
    "`1259.08.Apr.2020`\n",
    "\n",
    "After conversing with Dr.~Ning, he told me since the lab has an old version of SNOPT, I need to retrograde and download an old version of [PyOptSparse](www.github.com/mdolab/pyoptsparse). After looking through the release history I installed [v1.2](https://github.com/mdolab/pyoptsparse/releases/tag/v1.2). The NLPQLP test failed, but at least the SNOPT test finally passed, so I'll keep moving forward. This took entirely too long to figure out.\n",
    "\n",
    "First thing to do is look at PJ's sample code that he gave me last week. (in markdowned code block below)."
   ]
  },
  {
   "cell_type": "markdown",
   "metadata": {},
   "source": [
    "`1756.08.Apr.20`\n",
    "\n",
    "I also am using a tutorial from [the pyOpt website](www.pyopt.org/tutorial).\n",
    "We'll see how it works.\n"
   ]
  },
  {
   "cell_type": "markdown",
   "metadata": {},
   "source": [
    "### Helper functions for formatting"
   ]
  },
  {
   "cell_type": "code",
   "execution_count": 70,
   "metadata": {},
   "outputs": [],
   "source": [
    "#- Rip the boundary coordinates from the .yaml file and print -#\n",
    "from scipy.optimize import minimize\n",
    "import random\n",
    "\n",
    "%run \"../baker_cs34_functions.py\"\n",
    "%run \"../iea37_aepcalc.py\"\n",
    "fn = \"../../startup-files/iea37-boundary-cs3.yaml\"\n",
    "bndryPts = getTurbAtrbtCs3YAML(fn)\n",
    "coordList = closeBndryList(bndryPts)    # Duplicate the first coordinate for a closed boundary"
   ]
  },
  {
   "cell_type": "code",
   "execution_count": 40,
   "metadata": {
    "code_folding": []
   },
   "outputs": [
    {
     "name": "stdout",
     "output_type": "stream",
     "text": [
      "The splined boundary and the defining coordinates:\n"
     ]
    }
   ],
   "source": [
    "#-- Plot the boundary (modelled with splines) --#\n",
    "numLinspace = 10\n",
    "numGridLines = 10                   # How many gridlines we'll use for the visualization\n",
    "printOffset = (5, 5)\n",
    "clsdBP = closeBndryList(bndryPts)\n",
    "fMinDist = 2*turb_diam\n",
    "vertexList = [0, 6, 8, 9, 18]       # Hard code the vertices (though this could be done algorithmically)\n",
    "numSides = len(vertexList) - 1      # The number of sides for our original coordinate system. Usually (4) to Euclidean, but could be any number)\n",
    "\n",
    "scaleAEP = 1e5\n",
    "scaleTurbCoord = 1e3\n",
    "\n",
    "#-- Spline the boundary --#\n",
    "splineList = np.empty(numSides, interp1d)                  # Init. array IOT save the Splines for each \"side\"\n",
    "buf = np.zeros((numSides, numGridLines, 2))                # Used to initalize the recarray to zeros\n",
    "segCoordList = np.recarray([numSides, numGridLines], dtype=coordinate, buf=buf)\n",
    "\n",
    "#- Create the splines for each side (<numSides> many)-#\n",
    "for i in range(numSides):\n",
    "    BndPts = clsdBP[vertexList[i]:(vertexList[i+1]+1)]      # Extract the points for the \"edge\" we want\n",
    "    segCoordList[i] = sliceBoundary(BndPts, numGridLines)    # Reparameterize the boundry to be defined by <numGridLines> many points\n",
    "    splineList[i] = interp1d(segCoordList[i].x, segCoordList[i].y, kind='linear')   # Make the spline using NumPy's <interp1d>\n",
    "    \n",
    "print(\"The splined boundary and the defining coordinates:\")\n",
    "##for i in range(numSides):\n",
    "#    plt.hold = True\n",
    "#    printBoundaryArray(segCoordList[i].x, splineList[i](segCoordList[i].x), displaySize, 1)\n",
    "\n",
    "##for i in vertexList:                         # Number the vertices\n",
    "#for i in range(len(clsdBP)):                         # Number the vertices\n",
    "#    plt.plot(clsdBP[i].x, clsdBP[i].y, 'o', color=(getPltClrs().getColor(5)))\n",
    "#    plt.annotate(i, (clsdBP[i].x, clsdBP[i].y), xytext=printOffset, textcoords='offset points')"
   ]
  },
  {
   "cell_type": "code",
   "execution_count": 8,
   "metadata": {},
   "outputs": [
    {
     "data": {
      "image/png": "[encoded data removed]",
      "text/plain": [
       "<Figure size 432x288 with 1 Axes>"
      ]
     },
     "metadata": {
      "needs_background": "light"
     },
     "output_type": "display_data"
    }
   ],
   "source": [
    "vertexPts = bndryPts[vertexList[0:4]]\n",
    "\n",
    "colorNum = 5\n",
    "printBoundaryClr(clsdBP, colorNum)\n",
    "printTurbines(vertexPts, getPltClrs().getColor(6), 10, True)"
   ]
  },
  {
   "cell_type": "code",
   "execution_count": 73,
   "metadata": {
    "code_folding": []
   },
   "outputs": [
    {
     "data": {
      "image/png": "[encoded data removed]",
      "text/plain": [
       "<Figure size 1440x720 with 1 Axes>"
      ]
     },
     "metadata": {
      "needs_background": "light"
     },
     "output_type": "display_data"
    }
   ],
   "source": [
    "#-- Testing --#\n",
    "numTurbs = 25\n",
    "turb_diam = 198.0\n",
    "vertexPts = bndryPts[vertexList[0:4]]  # Make an array of just the four \"vertex\" points we're using\n",
    "turbRandoList = iea37cs3randomstarts(numTurbs, splineList, vertexPts, fMinDist)\n",
    "\n",
    "#-- Print the random turbine locations (with numbers) --#\n",
    "#-- Plot the boundary --#\n",
    "plt.figure(figsize=(20,10))\n",
    "for i in range(numSides):\n",
    "    plt.hold = True\n",
    "    printBoundaryArray(segCoordList[i].x, splineList[i](segCoordList[i].x), 5)\n",
    "\n",
    "#-- Plot the turbine locations --#\n",
    "printTurbines(turbRandoList, getPltClrs().getColor(1), turb_diam/6, True)\n",
    "#-- End print of turbine locations--#"
   ]
  },
  {
   "cell_type": "markdown",
   "metadata": {
    "heading_collapsed": true
   },
   "source": [
    "### Retest of notebook `bakerIEA37cs3-10-cs3workout`\n",
    "\n",
    "`1601.14.Apr.20`"
   ]
  },
  {
   "cell_type": "markdown",
   "metadata": {
    "hidden": true
   },
   "source": [
    "The following is making sure the functions written in notebook `10` carried over when saved into the `sandbox` header file. I just call the functions and ensure they give the same output:"
   ]
  },
  {
   "cell_type": "code",
   "execution_count": 20,
   "metadata": {
    "hidden": true
   },
   "outputs": [
    {
     "data": {
      "image/png": "[encoded data removed]",
      "text/plain": [
       "<Figure size 432x288 with 1 Axes>"
      ]
     },
     "metadata": {
      "needs_background": "light"
     },
     "output_type": "display_data"
    }
   ],
   "source": [
    "newVertices = makeSimpleCs3Bndry(clsdBP)\n",
    "colorNum = 5\n",
    "printBoundaryClr(clsdBP, colorNum)\n",
    "printBoundaryClr(newVertices, colorNum+1)\n",
    "#plt.savefig(\"./figures/ConcaveBoundary.pdf\", bbox_inches='tight')"
   ]
  },
  {
   "cell_type": "code",
   "execution_count": 21,
   "metadata": {
    "code_folding": [
     0
    ],
    "hidden": true
   },
   "outputs": [
    {
     "data": {
      "text/plain": [
       "(-1.0722076220940426,\n",
       " 0.8912361943135312,\n",
       " -1.0859154832602076,\n",
       " 0.8042251484643573)"
      ]
     },
     "execution_count": 21,
     "metadata": {},
     "output_type": "execute_result"
    },
    {
     "data": {
      "image/png": "[encoded data removed]",
      "text/plain": [
       "<Figure size 432x288 with 1 Axes>"
      ]
     },
     "metadata": {
      "needs_background": "light"
     },
     "output_type": "display_data"
    }
   ],
   "source": [
    "# Plot the Normals\n",
    "BndryNormals = bndryNormals(newVertices)\n",
    "for i in range(4):\n",
    "    plt.plot([0,BndryNormals[i][0]], [0,BndryNormals[i][1]])\n",
    "\n",
    "plt.axis('scaled')                      # Trim the white space\n",
    "plt.axis('off')                         # Turn off the framing\n",
    "#plt.savefig(\"./figures/FaceNormals.pdf\", bbox_inches='tight')"
   ]
  },
  {
   "cell_type": "code",
   "execution_count": 39,
   "metadata": {
    "code_folding": [],
    "hidden": true
   },
   "outputs": [
    {
     "name": "stdout",
     "output_type": "stream",
     "text": [
      "[1928.62600199 2316.30228801  773.10174975 1444.21601523 3206.60273465\n",
      "   40.62666159  453.4071151  3060.34303747 1106.13305133 1072.78996833\n",
      " 2406.82545463 3596.06716278  633.95639885 1260.73085234 2869.19135136\n",
      " 3768.45739961  292.15659233 4896.87022997 1358.31275503 -232.20815659\n",
      " 1167.94814727 2097.71694916 1792.88353818 2336.44713467 3148.405453\n",
      "  491.61238856  284.80767207 2577.33022816   17.34599942 4683.10903739\n",
      " 1797.80534554  249.00497028 1806.34903099 1289.7660727  1459.78750749\n",
      " 2756.17276517  724.91277603 2723.28082817 1989.8416656  1968.71313561\n",
      "  761.48296407  258.58685148 3245.97350677 4843.26663196 2274.12468095\n",
      " 2514.50200102  257.75932449  922.37362327 2046.22294685  601.27112832\n",
      " 1537.59210902 3367.56800419  440.03124485 3795.46775873 1763.23733271\n",
      "  942.61882932  115.78034833 2526.85692157 2817.73498723 2708.39734591\n",
      " 1876.77435747 3563.32431126  177.21180955   17.64493496 2761.14516056\n",
      "  990.68613797  482.1410167  2312.15637481  948.48207215 2888.04246956\n",
      " 1637.11732703 1588.00208321 2291.23239119 1250.55431479  903.8881214\n",
      " 2397.87940578  208.04716108 1971.62395096 3000.79121259 3285.86099437\n",
      " 1394.15541503 2385.75650715 1372.0187201  1808.23133234 2335.08443164\n",
      " 1739.94746512  593.68969268 1784.46285295  932.71288243 3650.41421506\n",
      " 1253.87470626  702.57238811 2574.26433866    0.57540424 1226.44038052\n",
      " 3635.0748697  1358.28560797 3286.67395891  939.62349984  776.27072928]\n"
     ]
    },
    {
     "data": {
      "image/png": "[encoded data removed]",
      "text/plain": [
       "<Figure size 432x288 with 1 Axes>"
      ]
     },
     "metadata": {
      "needs_background": "light"
     },
     "output_type": "display_data"
    }
   ],
   "source": [
    "#-- Check turbines are in bounds --#\n",
    "BndryNormals = bndryNormals(newVertices)\n",
    "x0 = makeCoordArray(turbRandoList)\n",
    "faceDist = calcDistNorms(x0, newVertices, BndryNormals)\n",
    "#np.set_printoptions(suppress=True)\n",
    "print(faceDist)\n",
    "#print(faceDist.flatten())\n",
    "#print(bInside)\n",
    "\n",
    "printBoundaryClr(clsdBP, colorNum)\n",
    "#printTurbines(clsdBP, getPltClrs().getColor(5), 10) # Print the boundary verticies\n",
    "printBoundaryClr(newVertices, colorNum+1)\n",
    "printTurbines(turbRandoList, getPltClrs().getColor(1), 10, True)\n",
    "#plt.savefig(\"./figures/BoundaryNumberedTurbs.pdf\", bbox_inches='tight')"
   ]
  },
  {
   "cell_type": "markdown",
   "metadata": {},
   "source": [
    "### Spacing Constraint\n",
    "`0600.09.Apr.20` I think there is a problem with my `checkTurbSpacing` function last time. I'll redo and check it here.\n",
    "\n",
    "`1200.15.Apr.20` Fixed."
   ]
  },
  {
   "cell_type": "code",
   "execution_count": 51,
   "metadata": {
    "code_folding": [
     0
    ]
   },
   "outputs": [],
   "source": [
    "#-- Rewrite of checkTurbSpacing() --#\n",
    "from scipy.special import binom   # For calculating the number of combinations\n",
    "\n",
    "def checkTurbSpacingTEST(turbCoords, fMinTurbDist):\n",
    "    #-- Returns an array of the distance between every pair of coordinates\n",
    "    #-- turbCoords should be of <coordinate> type.\n",
    "    nNumTurbs = len(turbCoords)         # Our number of turbines\n",
    "    nNumPairs = int(binom(nNumTurbs, 2))# Number of unique turb pairs > C(nTurbs, 2) = nTurbs! / (2*(nTurbs-2)!).\n",
    "    cTurbSpace = np.zeros(nNumPairs)    # Array holding the dist. between each pair\n",
    "    \n",
    "    nCntr = 0  # Logs where on the list we are\n",
    "    for i in range(nNumTurbs):          # For every turbine\n",
    "        for j in range((i+1), numTurbs):# Check the pairs we haven't calculated\n",
    "            cTurbSpace[nCntr] = coordDist(turbCoords[i], turbCoords[j])\n",
    "            nCntr = nCntr + 1\n",
    "\n",
    "    constraints = cTurbSpace - fMinTurbDist    # Constrain that the turbines are less than 2 diams apart\n",
    "    return constraints  # Negative if ok, positive if too close\n"
   ]
  },
  {
   "cell_type": "code",
   "execution_count": 75,
   "metadata": {
    "code_folding": []
   },
   "outputs": [],
   "source": [
    "#-- Validation of new checkTurbineSpacing() --#\n",
    "def nameTurbPairs(numTurbs):\n",
    "    #- Make an array logging all pair numbers -#\n",
    "    nNumPairs = int(binom(numTurbs, 2))\n",
    "    sPairNames = [\"\" for x in range(nNumPairs)]\n",
    "    nCntr = 0   # Just a counter to iterate where we are\n",
    "    for i in range(numTurbs):\n",
    "        for j in range((i+1), numTurbs):\n",
    "            sPairNames[nCntr] =  str(i) + ', ' + str(j)\n",
    "            nCntr = nCntr + 1\n",
    "\n",
    "    #-- Print the pari names to check --#\n",
    "    #for i in range(nNumPairs):\n",
    "    #    print(sPairNames[i])\n",
    "    #print()\n",
    "    \n",
    "    return sPairNames, nNumPairs\n",
    "\n",
    "#-- Calculate spacing constraints --#\n",
    "Randox0 = makeCoordArray(turbRandoList)\n",
    "[fTurbSpacing, bSpace] = checkTurbSpacing(Randox0, fMinDist) # Get the turbine spacing constraints\n",
    "sPairNames, nNumPairs = nameTurbPairs(numTurbs)               # Get the pair name list"
   ]
  },
  {
   "cell_type": "code",
   "execution_count": 77,
   "metadata": {},
   "outputs": [
    {
     "name": "stdout",
     "output_type": "stream",
     "text": [
      "[2793.26129797  406.56754719 1841.65873703 1152.98282815 2017.89127981\n",
      " 3185.34774687 1855.35542737 2900.17443575 3826.68191282 1779.93411408\n",
      " 2345.03718022 2288.66179675 2250.23840926 1941.42740544 2311.0198944\n",
      "  998.2225758  1311.21572071 2533.83519231  291.66116635 1290.28146354\n",
      " 1605.14534145 3980.41621002  669.00520454  688.57162661 3202.96630499\n",
      " 2634.06317923 1294.95345334  941.77728234  375.57615011  655.38290268\n",
      "  114.96370498  647.38826655 2034.50181746  147.58566979 1368.30715738\n",
      " 1887.11779822 4428.88177259 2669.34198536 2251.83045443 3754.0457151\n",
      "  874.15689551 2249.575168   3403.51622904  794.96926701  885.95110021\n",
      " 1843.56942835 1894.08577227 1425.9624439  1513.92449641 2174.45401389\n",
      " 3708.35205169 2392.82498046 3202.97960726 4245.54515116 1580.82579987\n",
      " 2828.82058442 2284.34396618 2089.95404533 2473.08879608 1914.12682774\n",
      "  811.85342447 1933.70600856 2658.0045342   574.59581154 2007.40251689\n",
      " 2031.70036935 4454.77113119 1343.49872076  914.24476268 1443.9992929\n",
      " 1297.68860258 3355.63572284 2346.89725701 2377.1723437  3550.63892867\n",
      "  205.04481292 2528.07483077 1010.47155322  553.21090233 4172.81882186\n",
      "   92.37400056  503.79054691 3547.93887545 1553.06146943 1292.81280437\n",
      " 3484.43446766 1836.85805187 3881.41367554 2037.23675901 1123.98287258\n",
      "  559.4642443  1824.46980218  577.13376969 1352.5824715  2338.30877393\n",
      "  980.04590106  935.76085941 1000.26384291 1224.82169679 3161.61790998\n",
      " 1724.36247795  724.47759231 2465.70481889 1064.99960373  560.00858863\n",
      " 2225.94047691  129.7411112  2546.83058357  475.90035991  212.98675538\n",
      " 1679.89204656  931.61500033  717.16915784 1877.23180919  697.24356788\n",
      "  917.03655284  159.1052758   605.17845749 4116.45502673 1350.21203193\n",
      " 1046.9714381  3420.81846217  121.31259047 1348.23603804 3177.79295187\n",
      "  498.11486638 2191.98602262 1424.98651204  942.12551535  935.13283602\n",
      "  837.88495794  491.01948173 2761.98890443  493.24257783 2134.72340511\n",
      " 2649.20304517 4492.28925125 3422.51236904 2882.58766333 3856.40510368\n",
      " 1645.57604628 2737.81363538 3463.03811559 1299.01068378  442.5816612\n",
      " 2147.5795845  2431.90178686  982.82705892 1620.87032931 1810.39535984\n",
      "  126.58408378 1486.70934977 1894.1893127  3378.63530593 2548.0388119\n",
      " 1695.37666452 2702.66733646 1237.95474523 1424.13181603 2355.45889957\n",
      "  114.74249598 1734.38459413  833.85945243 1156.53372304  777.78221174\n",
      " 1779.20313001  556.74952561 1017.81262706 1543.24044426 4719.46559905\n",
      " 2341.92756159 2141.6133252  4031.61347128  476.077642   2292.41473391\n",
      " 3709.2355471   936.13525676 1127.60788195 2049.98346885 1904.20408046\n",
      " 2951.93905972 1101.97750416 2183.9057438  2706.69223455 5326.24463105\n",
      " 3506.55476161 3264.58493796 4673.12359871 1634.30068437 3292.88764323\n",
      " 4294.60377015 1835.32189405   21.71454819 2845.97737105 2935.9337978\n",
      " 1949.02233953  447.43179245  113.92744818 4101.64528193  351.12890698\n",
      "  402.69610467 3439.56805948  971.3991745  1129.73298225 3311.42893854\n",
      " 1300.96454989 3280.49869615 1706.216827    836.60125817 1440.19016995\n",
      " 1917.96054769 3889.8719022  2649.64146426 2000.69324738 3218.53282246\n",
      " 1056.07248547 1859.66316959 2862.83678591  410.06950674 1241.76680531\n",
      " 1348.05998294 1543.92467545  129.88664002 4502.16590708  928.15997285\n",
      " 1080.79698668 3812.72363173  155.83229418 1601.00690417 3605.50094199\n",
      " 1043.28471279 2541.32649368 1867.91619406 1212.42793907 4549.17443424\n",
      "  403.86290304  900.86489089 3875.61654897  676.39805534 1579.82482942\n",
      " 3717.82105881 1410.14864339 3066.84510323 2041.31453071 1242.11095523\n",
      " 4646.88651433 3333.32576707  300.57584536 4621.21093684 2577.44277504\n",
      "  635.64823558 3415.05895503 5326.66174646 2314.52894266 2918.04467957\n",
      "  938.28824666 4013.12765607 1476.26027265 1730.0990998  3931.68278615\n",
      " 2040.98897989 3865.30786044 2411.11717873 1509.74397506 2686.60718585\n",
      " 1491.40440723  396.94210923 2597.4533153  1215.95958457 3533.72850728\n",
      " 1159.12155466  254.20249809 3924.86712054 1914.1478898    39.61222034\n",
      " 2721.63552166 4694.24260374 1618.30479845 2239.31515823 1860.67496656\n",
      " 3669.20907996  902.44436757 1997.97005769 1918.43904338 1454.84771704\n",
      " 1806.21139098 1067.39703753 3489.66416492  491.54531362   10.1114094\n",
      " 2424.93461815 4298.68666326 1356.85977908 2084.60038082 2027.1846099\n",
      "  720.55765174  738.34556878 2961.57926598 3153.94597429  517.38127258]\n",
      "\n"
     ]
    },
    {
     "data": {
      "image/png": "[encoded data removed]",
      "text/plain": [
       "<Figure size 1440x720 with 1 Axes>"
      ]
     },
     "metadata": {
      "needs_background": "light"
     },
     "output_type": "display_data"
    }
   ],
   "source": [
    "#---- Validation ----#\n",
    "plt.figure(figsize=(20,10))\n",
    "#-- Plot the boundary --#\n",
    "for i in range(numSides):\n",
    "    plt.hold = True\n",
    "    printBoundaryArray(segCoordList[i].x, splineList[i](segCoordList[i].x), 5)\n",
    "#-- Print the Turbines --#\n",
    "printTurbines(turbRandoList, getPltClrs().getColor(1), turb_diam/2, True)\n",
    "#-- Manually check for negative values --#\n",
    "#bSpacing = np.ones(nNumPairs) # Boolean array counting how many are too close\n",
    "#nGood = 0   # Number of close pairs\n",
    "#- Check which were negative -#\n",
    "#for i in range(nNumPairs):\n",
    "#    if (fTurbSpacing[i] < 0):\n",
    "#        bSpacing[i] = False\n",
    "#        nGood = nGood + 1\n",
    "\n",
    "#-- Print if there are violations --#\n",
    "for i in range(nNumPairs):\n",
    "    if (bSpace[i] == False):\n",
    "        print(sPairNames[i])\n",
    "        print(fTurbSpacing[i])\n",
    "        print()\n",
    "\n",
    "print(fTurbSpacing)\n",
    "#print(bSpace)\n",
    "print()\n",
    "\n",
    "#plt.savefig(\"./figures/NumberedTurbs.pdf\", bbox_inches='tight')"
   ]
  },
  {
   "cell_type": "markdown",
   "metadata": {},
   "source": [
    "`0940.09.Apr.20`\n",
    "\n",
    "`checkTurbSpacing()` works. I commented out the part of `iea37cs3randomstarts()` that checks for spacing (the last `for` loop) and then ran the check, and it popped for the correct turbine pairs. Of note, it only checks each pair once. So if turb #1 and turb #5 are too close, it only logs one violation, not two.\n",
    "\n",
    "`1133.15.Apr.20`\n",
    "\n",
    "I was incorrect before. There definitely was a problem using the `ssd.pdist` function for checking spacing, it was giving false negatives. I hade to rewrite `checkTurbSpacing()` with a less efficient double for-loop to ensure it works correctly."
   ]
  },
  {
   "cell_type": "markdown",
   "metadata": {},
   "source": [
    "### Putting it all together\n",
    "\n",
    "`0946.09.Apr.20` I've really just got to get this done.\n",
    "\n",
    "Now that I'm sure the turbine spacing constraint works and the boundary constraint works, I've gotta code up the optimization.\n",
    "\n",
    "`1423.09.Apr.20`\n",
    "\n",
    "So after lab meeting, Dr.~Ning and PJ directed me to the [PyOptSparse Tutorial](https://github.com/mdolab/pyoptsparse/blob/master/doc/tutorial.rst) which instructs me how to setup the optimization. The previous ones I was looking at (with SNOPT v7 and PyOpt) were incorrect, which is why I was having problems.\n",
    "\n",
    "They did a really smart thing I didn't know about to pass all the variables: they used a [`dict`](https://www.w3schools.com/python/python_dictionaries.asp) instead of one long string of variables. I was packing and unpacking values previously with my `optimoMakeArgTuples()` and `optimoStripArgTuples()`, but I should've just been passing the values aldeary tagges as a dictionary. Live and learn.\n"
   ]
  },
  {
   "cell_type": "code",
   "execution_count": null,
   "metadata": {
    "code_folding": []
   },
   "outputs": [],
   "source": [
    "def makeParamsDict(wind_dir_freq, wind_speeds, wind_speed_probs, \\\n",
    "                     wind_dir, turb_diam, turb_ci, turb_co, rated_ws, \\\n",
    "                     rated_pwr, fAEPscale, fTCscale, cncvNorms, cncvVerts):\n",
    "    ieq37Dict = dict([('wind_dir_freq', wind_dir_freq), \\\n",
    "                      ('wind_speeds', wind_speeds), \\\n",
    "                      ('wind_speed_probs', wind_speed_probs), \\\n",
    "                      ('wind_dir', wind_dir), \\\n",
    "                      ('turb_diam', turb_diam), \\\n",
    "                      ('turb_ci', turb_ci), \\\n",
    "                      ('turb_co', turb_co), \\\n",
    "                      ('rated_ws', rated_ws), \\\n",
    "                      ('rated_pwr', rated_pwr), \\\n",
    "                      ('fAEPscale', fAEPscale), \\\n",
    "                      ('fTCscale', fTCscale), \\\n",
    "                      ('cncvNorms', cncvNorms), \\\n",
    "                      ('cncvVerts', cncvVerts)])\n",
    "\n",
    "    return ieq37Dict\n",
    "\n",
    "\n",
    "#--- Testing ---#\n",
    "#-- Load Everything --#\n",
    "fn = \"iea37-boundary-cs3.yaml\"\n",
    "bndryPts = getTurbAtrbtCs3YAML(fn)      # Pull the boundary vertices\n",
    "clsdBP = closeBndryList(bndryPts)       # repeat the first so it's 'closed'\n",
    "cncvVerts = makeSimpleCs3Bndry(clsdBP)  # Make the simplified Concave shape\n",
    "cncvNorms = bndryNormals(cncvVerts)   # Calculate the normals for the concave shape\n",
    "#- Load the turbine and windrose atributes -#\n",
    "fname_turb = \"iea37-10mw.yaml\"\n",
    "fname_wr = \"iea37-windrose-cs3.yaml\"\n",
    "wind_dir, wind_dir_freq, wind_speeds, wind_speed_probs, num_speed_bins, min_speed, max_speed = iea37aepC.getWindRoseYAML(fname_wr)\n",
    "turb_ci, turb_co, rated_ws, rated_pwr, turb_diam = iea37aepC.getTurbAtrbtYAML(fname_turb)\n",
    "turbCoords = turbRandoList    # Use the random locations calculated above\n",
    "numTurbs = len(turbCoords)\n",
    "\n",
    "fAEPscale = 1.0\n",
    "fTCscale = 1.0\n",
    "\n",
    "ParamsDict = makeParamsDict(wind_dir_freq, wind_speeds, wind_speed_probs, wind_dir, turb_diam, turb_ci, turb_co, rated_ws, rated_pwr, fAEPscale, fTCscale, cncvNorms, cncvVerts)\n",
    "print(\"Dictionary Values:\")\n",
    "print(\"wdf: \" + str(ParamsDict['wind_dir_freq']))\n",
    "print(\"td:  \" + str(ParamsDict['turb_diam']))\n",
    "print(\"tci: \" + str(ParamsDict['turb_ci']))\n",
    "print(\"tco: \" + str(ParamsDict['turb_co']))\n",
    "print(\"rws: \" + str(ParamsDict['rated_ws']))\n",
    "print(\"rpr: \" + str(ParamsDict['rated_pwr']))\n",
    "print(\"AEP: \" + str(ParamsDict['fAEPscale']))\n",
    "print(\"TCs: \" + str(ParamsDict['fTCscale']))\n",
    "print(\"Normals: \"+ str(ParamsDict['cncvNorms']))\n",
    "print(\"BndryVerts: \" + str(ParamsDict['cncvVerts']))\n",
    "\n"
   ]
  },
  {
   "cell_type": "markdown",
   "metadata": {},
   "source": [
    "`1519.09.Apr.20`\n",
    "\n",
    "Well the dictionary thing works. Might need some tweaks moving forward, but time to code up the optimization. "
   ]
  },
  {
   "cell_type": "markdown",
   "metadata": {},
   "source": [
    "Setup some of the bounds on the optimization variables:"
   ]
  },
  {
   "cell_type": "code",
   "execution_count": null,
   "metadata": {
    "code_folding": [
     0
    ]
   },
   "outputs": [],
   "source": [
    "#-- Get bounds on (x,y) TC design variables --#\n",
    "minTCx = min(xDict['cncvVerts'].x)\n",
    "maxTCx = max(xDict['cncvVerts'].x)\n",
    "minTCy = min(xDict['cncvVerts'].y)\n",
    "maxTCy = max(xDict['cncvVerts'].y)\n",
    "#- print values to check -#\n",
    "print(\"x-min: \" + str(minTCx))\n",
    "print(\"x-max: \" + str(maxTCx))\n",
    "print(\"y-min: \" + str(minTCy))\n",
    "print(\"y-max: \" + str(maxTCy))\n",
    "print(xDict['cncvVerts'][0:4])\n",
    "\n",
    "#-- print visual --#\n",
    "newVertices = makeSimpleCs3Bndry(clsdBP)\n",
    "colorNum = 5\n",
    "printBoundaryClr(newVertices, colorNum)\n",
    "printTurbines(newVertices[0:4], getPltClrs().getColor(6), 10, True)"
   ]
  },
  {
   "cell_type": "markdown",
   "metadata": {},
   "source": [
    "`1003.16.Apr.20`\n",
    "\n",
    "pyOptSparse is having problems with me passing a variable as a matrix, so I have to write a small function that'll append every row so it's a one-element array, then back again:"
   ]
  },
  {
   "cell_type": "code",
   "execution_count": null,
   "metadata": {
    "code_folding": [
     0
    ]
   },
   "outputs": [],
   "source": [
    "#-- Helper Functions for Opt setup --#\n",
    "def MatrixToArray(fMat):\n",
    "    # Converts the given matrix of (m,n) dimensions into an\n",
    "    # array of dimensions (1, m*n), as well as n for reassembly\n",
    "    nCol = len(fMat)           # Save the number of columns\n",
    "    fArray = fMat.flatten('F') # Append each row to the end of the previous\n",
    "    \n",
    "    return fArray, nCol\n",
    "\n",
    "def ArrayToMatrix(fArray, nCol):\n",
    "    # Converts the given array of dimensions (1, x) into a\n",
    "    # matrix of (nCol, mod(x, nCol)) dimensions.\n",
    "    fMat = fArray.reshape(nCol, -1).T\n",
    "    \n",
    "    return fMat\n",
    "\n",
    "#-- Validation --#\n",
    "[tempArray, tCol] = MatrixToArray(wind_speed_probs)\n",
    "tempMat =  ArrayToMatrix(tempArray, tCol)\n",
    "\n",
    "print(tempArray.shape)\n",
    "print(tempMat.shape)"
   ]
  },
  {
   "cell_type": "markdown",
   "metadata": {},
   "source": [
    "### Defunct Optimization setup\n",
    "`16.Apr.20`"
   ]
  },
  {
   "cell_type": "code",
   "execution_count": null,
   "metadata": {
    "code_folding": [
     0
    ]
   },
   "outputs": [],
   "source": [
    "#-- Setting up the dictionary function for the optimization --#\n",
    "\n",
    "# Inputs needed:\n",
    "# turbine coords, splines for walls (to check boundaries)\n",
    "def cs3posObjFun(posDict):\n",
    "    #- Target function (AEP calculation) -#\n",
    "    \n",
    "    Tx0m = np.zeros((len(posDict['xvals']),2))\n",
    "    Tx0m[:,0] = posDict['xvals']\n",
    "    Tx0m[:,1] = posDict['yvals']\n",
    "    tempTurbCoords = makeFirstCoordStruct(Tx0m)\n",
    "    fScaleFactorAEP = posDict['fAEPscale']\n",
    "    nTurbs = len(Tx0m) # get the number of turbines\n",
    "    nPairs = int(binom(nTurbs, 2)) # Number of unique turbine pairs\n",
    "    funcs = {}\n",
    "    wind_speed_probs = ArrayToMatrix(posDict['wsp_array'], posDict['nWspCols']) # Make it a matrix again\n",
    "    AEP = iea37aepC.calcAEPcs3(Tx0m, posDict['wind_dir_freq'], posDict['wind_speeds'], wind_speed_probs, posDict['wind_dir'], posDict['turb_diam'], posDict['turb_ci'], posDict['turb_co'], posDict['rated_ws'], posDict['rated_pwr'])\n",
    "    totAEP = np.sum(AEP)\n",
    "    funcs['obj'] = - (totAEP / fScaleFactorAEP) # Negative to minimize\n",
    "    \n",
    "    #- Prep data for constraints -#\n",
    "    fScaleFactorTurbLoc = posDict['fTCscale']\n",
    "    funcs['bndry'] = calcDistNorms(x0s, posDict['cncvVerts'], posDict['cncvNorms'])\n",
    "    funcs['spacing'] = checkTurbSpacing(x0s, 2*turb_diam)\n",
    "    \n",
    "    #- Constraints (Pairwise distance [C(numTurbs, 2)], and all boundary checks [4* numTurbs]) -#\n",
    "    #nBndryCnstr = nTurbs * 4 # each turbine (25) has one constraint for each boundary (4)\n",
    "    #nSpaceCnstr = nPairs\n",
    "    #conval = [0]*(nBndryCnstr + nSpaceCnstr)\n",
    "    # List all the boundary and spacing constraints\n",
    "    #conval = np.concatenate(cnstrSpacing, nBndryCnstr)\n",
    "    #funcs['con'] = conval\n",
    "    \n",
    "    fail = False\n",
    "\n",
    "    return funcs, fail"
   ]
  },
  {
   "cell_type": "markdown",
   "metadata": {},
   "source": [
    "Execute the optimization:"
   ]
  },
  {
   "cell_type": "code",
   "execution_count": null,
   "metadata": {
    "code_folding": []
   },
   "outputs": [],
   "source": [
    "#-- Testing it's set up right --#\n",
    "from pyoptsparse import Optimization, SNOPT, pyOpt_solution, NSGA2\n",
    "\n",
    "#- Necessary Constants -#\n",
    "numTurbs = len(turbRandoList) # get the number of turbines\n",
    "numPairs = int(binom(numTurbs, 2)) # Number of unique turbine pairs\n",
    "minTCx = min(ParamsDict['cncvVerts'].x)\n",
    "maxTCx = max(ParamsDict['cncvVerts'].x)\n",
    "minTCy = min(ParamsDict['cncvVerts'].y)\n",
    "maxTCy = max(ParamsDict['cncvVerts'].y)\n",
    "\n",
    "testAEP = iea37aepC.calcAEPcs3(makeCoordMatrix(makeCoordArray(turbRandoList)), wind_dir_freq, wind_speeds, wind_speed_probs, wind_dir, turb_diam, turb_ci, turb_co, rated_ws, rated_pwr)\n",
    "print(\"Straight AEP: \" + str(sum(testAEP)))\n",
    "[testFuncs,_]  = cs3posObjFun(xDict)\n",
    "print(\"ObjFun AEP:   \" + str(testFuncs['obj']))\n",
    "\n",
    "optProb = Optimization('CaseStudy3', cs3posObjFun)\n",
    "optProb.addObj('obj')\n",
    "#-- Strip x- and y- turbine coordinates and treat them separately --#\n",
    "optProb.addVarGroup('x-vals', numTurbs, type='c', lower=minTCx, upper=maxTCx, value =turbRandoList.x)\n",
    "optProb.addVarGroup('y-vals', numTurbs, type='c', lower=minTCy, upper=maxTCy, value =turbRandoList.y)\n",
    "#-- Add our constant variables --#\n",
    "optProb.addVarGroup('wind_dir_freq', len(wind_dir_freq), lower=wind_dir_freq, upper=wind_dir_freq, value=wind_dir_freq)\n",
    "optProb.addVarGroup('wind_speeds', len(wind_speeds), lower=wind_speeds, upper=wind_speeds, value=wind_speeds)\n",
    "[wsp_array, nWspCols] = MatrixToArray(wind_speed_probs) # Make an array for the optimizer\n",
    "optProb.addVarGroup('wsp_array', nWspCols, lower=wsp_array, upper=wsp_array, value=wsp_array)\n",
    "optProb.addVarGroup('wind_dir', len(wind_dir), lower=wind_dir, upper=wind_dir, value=wind_dir)\n",
    "optProb.addVar('turb_diam', lower=turb_diam, upper=turb_diam, value=turb_diam)\n",
    "optProb.addVar('turb_ci', lower=turb_ci, upper=turb_ci, value=turb_ci)\n",
    "optProb.addVar('turb_co', lower=turb_co, upper=turb_co, value=turb_co)\n",
    "optProb.addVar('rated_ws', lower=rated_ws, upper=rated_ws, value=rated_ws)\n",
    "optProb.addVar('rated_pwr', lower=rated_pwr, upper=rated_pwr, value=rated_pwr)\n",
    "\n",
    "#-- add our boundary constraint --#\n",
    "optProb.addConGroup('bndry', 4*numTurbs, lower=0.0, upper=None)\n",
    "#-- add our spacing constrain --#\n",
    "optProb.addConGroup('spacing', numPairs, lower=0.0, upper=None)\n",
    "opt = SNOPT()\n",
    "opt.setOption('Scale option',0)\n",
    "opt.setOption('Iterations limit',1000000)\n",
    "opt.setOption('Summary file','summary_grid.out')\n",
    "opt.setOption('Major optimality tolerance',1.e-5)\n",
    "opt.setOption('Major feasibility tolerance',1.e-6)\n",
    "\n",
    "print(optProb)"
   ]
  },
  {
   "cell_type": "code",
   "execution_count": null,
   "metadata": {},
   "outputs": [],
   "source": [
    "sol = opt(optProb)\n",
    "print(sol)"
   ]
  },
  {
   "cell_type": "markdown",
   "metadata": {},
   "source": [
    "`1224.15.Apr.20`\n",
    "\n",
    "So the optimizaiton is setup mostly correct. I've initialied the turbine x/y locations and setup a space for the constraints, but still need to figure out how to actually tell the optimizer to calculate the constraints for boundary and spacing.\n",
    "\n",
    "`1349.15.Apr.20`\n",
    "\n",
    "I've hit a bit of a wall. The problem is telling the optimizer the not-design variables neeeded to evaluate the Obj function without making them global or making them alterable variables. I'll need to figure out how to put them in the dicitonary as fixed numbers.\n",
    "\n",
    "`0943.16.Apr.20`\n",
    "\n",
    "Thinking about it, I think the method for giving the optimizer the varibales (even constant ones) is just the `addVar()` function, and constraining the values on both the high and low end. It seems inefficient because I think the optimizer will try to perturb it every iteration, but going through the documentation, that's all I can surmise to do since the three examples I've seen don't use functions with non-perturbed variables that aren't hard-coded into the objective function.\n",
    "\n",
    "[PyOptSparse Guide](https:/www.github.com/mdolab/pyoptsparse/blob/master/doc/guide.rst)\n",
    "\n",
    "[PyOptSparse Tutorial](https://www.github.com/mdolab/pyoptsparse/blob/master/doc/tutorial.rst)\n",
    "\n",
    "[PyOptSparse source code (well commented)](https://www.github.com/mdolab/pyoptsparse/blob/master/pyoptsparse/pyOpt_optimization.py)\n",
    "\n",
    "Though I'm running into a problem with the matrix variables for the windrose. PyOptSparse seems to only like scalars or single-dimension arrays."
   ]
  },
  {
   "cell_type": "markdown",
   "metadata": {},
   "source": [
    "### Explanations of Alternate ways:\n",
    "\n",
    "`1031.16.Apr.20`"
   ]
  },
  {
   "cell_type": "markdown",
   "metadata": {
    "heading_collapsed": true
   },
   "source": [
    "#### Example by Dr Ning"
   ]
  },
  {
   "cell_type": "markdown",
   "metadata": {
    "hidden": true
   },
   "source": [
    "`1031.16.Apr.20`\n",
    "\n",
    "Talking with Dr. Ning, he suggested doing a wrapper. The pseudocode he gave:\n",
    "```python\n",
    "def f(x, params):\n",
    "   ...\n",
    "end\n",
    "\n",
    "def runopt():\n",
    "    params = ...\n",
    "    function g(x) = f(x, params)\n",
    "    optimize(g, x0)\n",
    "end\n",
    "\n",
    "``` \n",
    "\"Anonymous\" `lambda` funcitons\n",
    "\n",
    "I'm going to start the code anew with this wrapper method:"
   ]
  },
  {
   "cell_type": "markdown",
   "metadata": {
    "heading_collapsed": true
   },
   "source": [
    "#### Example given by Eduardo\n",
    "\n",
    "`1848.16.Apr.20`"
   ]
  },
  {
   "cell_type": "code",
   "execution_count": null,
   "metadata": {
    "hidden": true
   },
   "outputs": [],
   "source": [
    "def generate_fun(params):\n",
    "\n",
    "    def fun(x):\n",
    "        return x*params[0] + params[1]\n",
    "    \n",
    "    return fun"
   ]
  },
  {
   "cell_type": "markdown",
   "metadata": {
    "hidden": true
   },
   "source": [
    "Fun = return x * 10 + 20"
   ]
  },
  {
   "cell_type": "code",
   "execution_count": null,
   "metadata": {
    "hidden": true
   },
   "outputs": [],
   "source": [
    "params = (10, 20, 30)\n",
    "myfun = generate_fun(params)"
   ]
  },
  {
   "cell_type": "code",
   "execution_count": null,
   "metadata": {
    "hidden": true
   },
   "outputs": [],
   "source": [
    "myfun(1)"
   ]
  },
  {
   "cell_type": "code",
   "execution_count": null,
   "metadata": {
    "hidden": true
   },
   "outputs": [],
   "source": [
    "myfun==generate_fun"
   ]
  },
  {
   "cell_type": "code",
   "execution_count": null,
   "metadata": {
    "hidden": true,
    "scrolled": true
   },
   "outputs": [],
   "source": [
    "(1,2,3)[0]"
   ]
  },
  {
   "cell_type": "code",
   "execution_count": null,
   "metadata": {
    "code_folding": [
     0
    ],
    "hidden": true
   },
   "outputs": [],
   "source": [
    "#-- My test attempt at Eduardo's Wrapper (incomplete) --#\n",
    "def aepWrapper(ParamsDict):\n",
    "    # ParamsDict is a dictionary of the necessary variables needed for AEP evaluation\n",
    "    def getAEP(x0):\n",
    "    # Makes the long function definition shorter for readability\n",
    "    # x0 should be an array of turbine locations [x1, y1, x2, y2, ...]\n",
    "        x0m = makeCoordMatrix(x)  # Make it a matrix for the target function to use\n",
    "        f = iea37aepC.calcAEPcs3(x0m, ParamsDict['wind_dir_freq'], \\\n",
    "                                 ParamsDict['wind_speeds'], \\\n",
    "                                 ParamsDict['wind_speed_probs'], \\\n",
    "                                 ParamsDict['wind_dir'], \\\n",
    "                                 ParamsDict['turb_diam'], \\\n",
    "                                 ParamsDict['turb_ci'], \\\n",
    "                                 ParamsDict['turb_co'], \\\n",
    "                                 ParamsDict['rated_ws'], \\\n",
    "                                 ParamsDict['rated_pwr'])\n",
    "\n",
    "        return f"
   ]
  },
  {
   "cell_type": "markdown",
   "metadata": {},
   "source": [
    "### Wrapper attempt\n",
    "\n",
    "`0823.20.Apr.20`\n",
    "\n",
    "I still don't fully understand it, but I'm going to try Dr. Ning's method of setup he told me about at lab meeting. If that doesn't work, I'll try Eduardo's method."
   ]
  },
  {
   "cell_type": "code",
   "execution_count": 36,
   "metadata": {
    "code_folding": []
   },
   "outputs": [],
   "source": [
    "# A helper function to make a dictionary of all the necessary constants for AEP calculation\n",
    "def makeParamsDict(wind_dir_freq, wind_speeds, wind_speed_probs, \\\n",
    "                     wind_dir, turb_diam, turb_ci, turb_co, rated_ws, \\\n",
    "                     rated_pwr, fAEPscale, fTCscale, cncvNorms, cncvVerts):\n",
    "    ieq37Dict = dict([('wind_dir_freq', wind_dir_freq), \\\n",
    "                      ('wind_speeds', wind_speeds), \\\n",
    "                      ('wind_speed_probs', wind_speed_probs), \\\n",
    "                      ('wind_dir', wind_dir), \\\n",
    "                      ('turb_diam', turb_diam), \\\n",
    "                      ('minTurbSpace', 2*turb_diam), \\\n",
    "                      ('turb_ci', turb_ci), \\\n",
    "                      ('turb_co', turb_co), \\\n",
    "                      ('rated_ws', rated_ws), \\\n",
    "                      ('rated_pwr', rated_pwr), \\\n",
    "                      ('fAEPscale', fAEPscale), \\\n",
    "                      ('fTCscale', fTCscale), \\\n",
    "                      ('cncvNorms', cncvNorms), \\\n",
    "                      ('cncvVerts', cncvVerts)])\n",
    "\n",
    "    return ieq37Dict"
   ]
  },
  {
   "cell_type": "code",
   "execution_count": 32,
   "metadata": {
    "code_folding": []
   },
   "outputs": [],
   "source": [
    "#--- Initialization of optimization ---#\n",
    "#-- Load the Boundary --#\n",
    "fn = \"iea37-boundary-cs3.yaml\"\n",
    "bndryPts = getTurbAtrbtCs3YAML(fn)      # Pull the boundary vertices\n",
    "clsdBP = closeBndryList(bndryPts)       # repeat the first so it's 'closed'\n",
    "cncvVerts = makeSimpleCs3Bndry(clsdBP)  # Make the simplified Concave shape\n",
    "cncvNorms = bndryNormals(cncvVerts)     # Calculate the normals for the concave shape\n",
    "#- Load the turbine and windrose atributes -#\n",
    "fname_turb = \"iea37-10mw.yaml\"\n",
    "fname_wr = \"iea37-windrose-cs3.yaml\"\n",
    "wind_dir, wind_dir_freq, wind_speeds, wind_speed_probs, num_speed_bins, min_speed, max_speed = iea37aepC.getWindRoseYAML(fname_wr)\n",
    "turb_ci, turb_co, rated_ws, rated_pwr, turb_diam = iea37aepC.getTurbAtrbtYAML(fname_turb)\n",
    "fAEPscale = 1.0\n",
    "fTCscale = 1.0\n",
    "#- Make a dictionary for variable passing -#\n",
    "#dictParams = makeParamsDict(wind_dir_freq, wind_speeds, wind_speed_probs, wind_dir, turb_diam, turb_ci, turb_co, rated_ws, rated_pwr, fAEPscale, fTCscale, cncvNorms, cncvVerts)\n",
    "\n",
    "turbCoords = makeCoordMatrix(turbRandoList)    # Use the random locations calculated previously\n"
   ]
  },
  {
   "cell_type": "code",
   "execution_count": 37,
   "metadata": {
    "code_folding": [
     5
    ]
   },
   "outputs": [
    {
     "name": "stdout",
     "output_type": "stream",
     "text": [
      "[20985.45233705 14057.18375538 13262.15318612 13671.25811308\n",
      " 17687.95364387 31672.96687597 46495.99141429 52013.35166082\n",
      " 41606.39719507 41433.71720334 55871.42649351 61876.41038591\n",
      " 69953.43824971 72505.65062041 66022.9912182  65518.7329799\n",
      " 65842.61845374 65935.37016229 53533.63134644 35134.34535391]\n"
     ]
    }
   ],
   "source": [
    "#-- Working the wrapper method --#\n",
    "from pyoptsparse import Optimization, SNOPT, pyOpt_solution, NSGA2\n",
    "\n",
    "def f(ParamsDict):\n",
    "    # To follow Dr. Ning's rubric\n",
    "    return lambda x0: iea37aepC.calcAEPcs3(x0, ParamsDict['wind_dir_freq'], \\\n",
    "                               ParamsDict['wind_speeds'], \\\n",
    "                               ParamsDict['wind_speed_probs'], \\\n",
    "                               ParamsDict['wind_dir'], \\\n",
    "                               ParamsDict['turb_diam'], \\\n",
    "                               ParamsDict['turb_ci'], \\\n",
    "                               ParamsDict['turb_co'], \\\n",
    "                               ParamsDict['rated_ws'], \\\n",
    "                               ParamsDict['rated_pwr'])\n",
    "\n",
    "\n",
    "#def objfunc(xdict):\n",
    "#    x0 = xdict['aTurbCoords']\n",
    "#    funcs = {}\n",
    "#    funcs['obj'] = getAEP(x0, params)\n",
    "#    funcs['con'] = getTurbSpacing(x0)\n",
    "#    fail = False\n",
    "\n",
    "#    return funcs, fail\n",
    "\n",
    "dictParams = makeParamsDict(wind_dir_freq, wind_speeds, wind_speed_probs, wind_dir, turb_diam, turb_ci, turb_co, rated_ws, rated_pwr, fAEPscale, fTCscale, cncvNorms, cncvVerts)\n",
    "g = f(dictParams)\n",
    "\n",
    "print(g(turbCoords))"
   ]
  },
  {
   "cell_type": "markdown",
   "metadata": {},
   "source": [
    "`0943.20.Apr.20`\n",
    "\n",
    "So I think I got Dr. Ning's `lambda` syntax functioning to calculate AEP given only the turbine locations. It doesn't really make sense to me, and I think it's still using global variables (which are dangerous), but I can't see another way to code it up in Python.\n",
    "\n",
    "Now to code up the rest of the PyOptSparse syntax so it actually optimizes:"
   ]
  },
  {
   "cell_type": "code",
   "execution_count": 38,
   "metadata": {
    "code_folding": []
   },
   "outputs": [],
   "source": [
    "#-- Setting up the dictionary function for the optimization --#\n",
    "\n",
    "# Inputs needed:\n",
    "# turbine coords, splines for walls (to check boundaries)\n",
    "def cs3posObjFun(coordDict):\n",
    "    #- Target function (AEP calculation) -#\n",
    "    \n",
    "    x0m = makeArrayMatrix(coordDict['coordArray'])  # Turn our array of turb coords into a matrix for manipulation\n",
    "    #fScaleFactorAEP = posDict['fAEPscale']\n",
    "    nTurbs = len(x0m) # get the number of turbines\n",
    "    nPairs = int(binom(nTurbs, 2)) # Number of unique turbine pairs\n",
    "    funcs = {}\n",
    "    AEP = g(x0m)\n",
    "    totAEP = np.sum(AEP)\n",
    "    funcs['obj'] = - (totAEP)# / fScaleFactorAEP) # Negative to minimize\n",
    "    \n",
    "    #- Prep data for constraints -#\n",
    "    #fScaleFactorTurbLoc = posDict['fTCscale']\n",
    "    x0s = makeMatrixCoord(x0m)\n",
    "    funcs['bndry'] = calcDistNorms(x0s, dictParams['cncvVerts'], dictParams['cncvNorms'])\n",
    "    funcs['spacing'] = checkTurbSpacing(x0s, dictParams['minTurbSpace'])\n",
    "    \n",
    "    #- Constraints (Pairwise distance [C(numTurbs, 2)], and all boundary checks [4* numTurbs]) -#\n",
    "    #nBndryCnstr = nTurbs * 4 # each turbine (25) has one constraint for each boundary (4)\n",
    "    #nSpaceCnstr = nPairs\n",
    "    #conval = [0]*(nBndryCnstr + nSpaceCnstr)\n",
    "    # List all the boundary and spacing constraints\n",
    "    #conval = np.concatenate(cnstrSpacing, nBndryCnstr)\n",
    "    #funcs['con'] = conval\n",
    "    \n",
    "    fail = False\n",
    "\n",
    "    return funcs, fail"
   ]
  },
  {
   "cell_type": "code",
   "execution_count": null,
   "metadata": {},
   "outputs": [],
   "source": [
    "%run 'baker_cs34_SNOPT_functions.py'"
   ]
  },
  {
   "cell_type": "markdown",
   "metadata": {},
   "source": [
    "`1015.20.Apr.20`\n",
    "\n",
    "This is getting a bit sloppy right now, so I'm going to break off into a different notebook."
   ]
  },
  {
   "cell_type": "markdown",
   "metadata": {},
   "source": [
    "# ToDo:\n",
    "\n",
    "Scale AEP for optimizer.\n",
    "Scale Turbine Coordinates for optimizer"
   ]
  },
  {
   "cell_type": "markdown",
   "metadata": {},
   "source": []
  }
 ],
 "metadata": {
  "kernelspec": {
   "display_name": "Python 3",
   "language": "python",
   "name": "python3"
  },
  "language_info": {
   "codemirror_mode": {
    "name": "ipython",
    "version": 3
   },
   "file_extension": ".py",
   "mimetype": "text/x-python",
   "name": "python",
   "nbconvert_exporter": "python",
   "pygments_lexer": "ipython3",
   "version": "3.7.4"
  }
 },
 "nbformat": 4,
 "nbformat_minor": 2
}
