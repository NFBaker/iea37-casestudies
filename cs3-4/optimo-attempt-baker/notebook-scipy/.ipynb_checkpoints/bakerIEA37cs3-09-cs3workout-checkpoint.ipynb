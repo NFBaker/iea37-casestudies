{
 "cells": [
  {
   "cell_type": "markdown",
   "metadata": {
    "heading_collapsed": true
   },
   "source": [
    "## `SciPy()`  variations\n",
    "\n",
    "`1610.04.May.20`"
   ]
  },
  {
   "cell_type": "markdown",
   "metadata": {
    "hidden": true
   },
   "source": [
    "Having not made progress on `SNOPT`, I am moving forward using `scipy.minimize()`. In this notebook I will accomplish 4 things:\n",
    "\n",
    "- cs3 optimization. with `scipy()` and BNM\n",
    "\n",
    "- cs4 opt. with `scipy()` and BNM\n",
    "\n",
    "- cs4 opt. with `scipy()` and BPM\n",
    "\n",
    "\n",
    "\"BNM\" is Dr. Ning's \"Boundary Normal Method\". \"BPM\" is my \"Boundary Partition Method\" that kind of exhaustively partitions the space into portions and uses the `getUpDwnYvals()` function."
   ]
  },
  {
   "cell_type": "markdown",
   "metadata": {
    "heading_collapsed": true,
    "hidden": true
   },
   "source": [
    "### Follow-On ToDo\n",
    "\n",
    "`1200.05.May.20`"
   ]
  },
  {
   "cell_type": "markdown",
   "metadata": {
    "hidden": true
   },
   "source": [
    "- Get SNOPT working\n",
    "\n",
    "- Mapping Method"
   ]
  },
  {
   "cell_type": "markdown",
   "metadata": {},
   "source": [
    "## cs3 BNM with `SciPy()`\n",
    "\n",
    "`1202.05.May.20`\n",
    "\n",
    "To get the BNM working with `SciPy()` I'll need to:\n",
    "\n",
    "- Load the proper boundary\n",
    "\n",
    "- Implement the normals into the code (I think already done?)\n",
    "\n",
    "- Run a single opt to test\n",
    "\n",
    "Done `1505.05.May.20`"
   ]
  },
  {
   "cell_type": "markdown",
   "metadata": {},
   "source": [
    "## Housekeeping\n",
    "\n",
    "`1303.05.May.20`"
   ]
  },
  {
   "cell_type": "markdown",
   "metadata": {},
   "source": [
    "In trying to transfer files to the workstation I realized everything is abit double-done and some things are defunct. I need to cleanup my file keeping and get more organized.\n",
    "\n",
    "- Startup files only in original folder (read from there) (Done `1505.05.May.20`) \n",
    "\n",
    "- Different header/helping files for all functions (no more sandboxes)  (Done `1505.05.May.20`)"
   ]
  },
  {
   "cell_type": "code",
   "execution_count": null,
   "metadata": {},
   "outputs": [],
   "source": []
  }
 ],
 "metadata": {
  "kernelspec": {
   "display_name": "Python 3",
   "language": "python",
   "name": "python3"
  },
  "language_info": {
   "codemirror_mode": {
    "name": "ipython",
    "version": 3
   },
   "file_extension": ".py",
   "mimetype": "text/x-python",
   "name": "python",
   "nbconvert_exporter": "python",
   "pygments_lexer": "ipython3",
   "version": "3.7.4"
  }
 },
 "nbformat": 4,
 "nbformat_minor": 2
}
