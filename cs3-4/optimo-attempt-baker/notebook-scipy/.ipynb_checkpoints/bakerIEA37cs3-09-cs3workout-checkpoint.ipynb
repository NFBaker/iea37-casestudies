{
 "cells": [
  {
   "cell_type": "markdown",
   "metadata": {},
   "source": [
    "## `SciPy()`  variations\n",
    "\n",
    "`1610.04.May.20`"
   ]
  },
  {
   "cell_type": "markdown",
   "metadata": {},
   "source": [
    "Having not made progress on `SNOPT`, I am moving forward using `scipy.minimize()`. In this notebook I will accomplish 4 things:\n",
    "\n",
    "- cs3 optimization. with `scipy()` and BNM\n",
    "\n",
    "- cs4 opt. with `scipy()` and BNM\n",
    "\n",
    "- cs4 opt. with `scipy()` and BPM\n",
    "\n",
    "\n",
    "\"BNM\" is Dr. Ning's \"Boundary Normal Method\". \"BPM\" is my \"Boundary Partition Method\" that kind of exhaustively partitions the space into portions and uses the `getUpDwnYvals()` function."
   ]
  },
  {
   "cell_type": "code",
   "execution_count": null,
   "metadata": {},
   "outputs": [],
   "source": []
  }
 ],
 "metadata": {
  "kernelspec": {
   "display_name": "Python 3",
   "language": "python",
   "name": "python3"
  },
  "language_info": {
   "codemirror_mode": {
    "name": "ipython",
    "version": 3
   },
   "file_extension": ".py",
   "mimetype": "text/x-python",
   "name": "python",
   "nbconvert_exporter": "python",
   "pygments_lexer": "ipython3",
   "version": "3.7.4"
  }
 },
 "nbformat": 4,
 "nbformat_minor": 2
}
