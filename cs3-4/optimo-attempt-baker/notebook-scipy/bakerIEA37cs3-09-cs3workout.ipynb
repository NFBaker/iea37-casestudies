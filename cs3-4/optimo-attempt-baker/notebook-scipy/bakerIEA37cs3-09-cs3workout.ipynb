{
 "cells": [
  {
   "cell_type": "markdown",
   "metadata": {},
   "source": [
    "## `SciPy()`  variations\n",
    "\n",
    "`1610.04.May.20`"
   ]
  },
  {
   "cell_type": "markdown",
   "metadata": {},
   "source": [
    "Having not made progress on `SNOPT`, I am moving forward using `scipy.minimize()`. In this notebook I will accomplish 4 things:\n",
    "\n",
    "- cs3 optimization. with `scipy()` and BNM (**Completed `1526.05.May.20`**)\n",
    "\n",
    "- cs4 opt. with `scipy()` and BNM\n",
    "\n",
    "- cs4 opt. with `scipy()` and BPM\n",
    "\n",
    "\n",
    "\"BNM\" is Dr. Ning's \"Boundary Normal Method\". \"BPM\" is my \"Boundary Partition Method\" that kind of exhaustively partitions the space into portions and uses the `getUpDwnYvals()` function."
   ]
  },
  {
   "cell_type": "markdown",
   "metadata": {
    "heading_collapsed": true
   },
   "source": [
    "### Follow-On ToDo\n",
    "\n",
    "`1200.05.May.20`"
   ]
  },
  {
   "cell_type": "markdown",
   "metadata": {
    "hidden": true
   },
   "source": [
    "- Get SNOPT working\n",
    "\n",
    "- Mapping Method"
   ]
  },
  {
   "cell_type": "markdown",
   "metadata": {
    "heading_collapsed": true
   },
   "source": [
    "## cs3 BNM with `SciPy()`\n",
    "\n",
    "`1202.05.May.20` **Completed `1526.05.May.20`**"
   ]
  },
  {
   "cell_type": "markdown",
   "metadata": {
    "hidden": true
   },
   "source": [
    "To get the BNM working with `SciPy()` I'll need to:\n",
    "\n",
    "- Load the proper boundary\n",
    "\n",
    "- Implement the normals into the code (I think already done?)\n",
    "\n",
    "- Run a single opt to test"
   ]
  },
  {
   "cell_type": "markdown",
   "metadata": {
    "heading_collapsed": true
   },
   "source": [
    "## Housekeeping\n",
    "\n",
    "`1303.05.May.20` **Completed `1526.05.May.20`**"
   ]
  },
  {
   "cell_type": "markdown",
   "metadata": {
    "hidden": true
   },
   "source": [
    "In trying to transfer files to the workstation I realized everything is abit double-done and some things are defunct. I need to cleanup my file keeping and get more organized.\n",
    "\n",
    "- Startup files only in original folder (read from there) (**Completed `1505.05.May.20`**) \n",
    "\n",
    "- Different header/helping files for all functions (no more sandboxes)  (**Completed `1505.05.May.20`**)"
   ]
  },
  {
   "cell_type": "markdown",
   "metadata": {},
   "source": [
    "# cs4 in `SciPy()`\n",
    "\n",
    "`1227.06.May.20`"
   ]
  },
  {
   "cell_type": "markdown",
   "metadata": {},
   "source": [
    "`1730.06.May.20` Ok I've been having some serious issues. The potimization isn't ... optimizing. It's perturbing the turbine coordinates by *very* small amounts and calling it \"optimized.\" An overlay of starting and ending locations look exactly the same. It might be the scaling? Perhaps the optimzer thinks it can't get any better. I'll have to look if there's a scaling option.\n",
    "\n",
    "Other options for the difficulty:\n",
    "\n",
    "- The optimizer isn't syntactically configured correctly\n",
    "\n",
    "- The constraint functions have a bug that gives bad information on return\n",
    "\n",
    "- There's something off with the scaling:\n",
    "   - AEP is on order of 1e6\n",
    "   - Turb Locations is like 1e3\n",
    "   - Spacing/boundary constraints are from order 1e3 to 1e-2. Lots of variability there depending how far away things are."
   ]
  },
  {
   "cell_type": "code",
   "execution_count": null,
   "metadata": {},
   "outputs": [],
   "source": []
  }
 ],
 "metadata": {
  "kernelspec": {
   "display_name": "Python 3",
   "language": "python",
   "name": "python3"
  },
  "language_info": {
   "codemirror_mode": {
    "name": "ipython",
    "version": 3
   },
   "file_extension": ".py",
   "mimetype": "text/x-python",
   "name": "python",
   "nbconvert_exporter": "python",
   "pygments_lexer": "ipython3",
   "version": "3.7.4"
  }
 },
 "nbformat": 4,
 "nbformat_minor": 2
}
