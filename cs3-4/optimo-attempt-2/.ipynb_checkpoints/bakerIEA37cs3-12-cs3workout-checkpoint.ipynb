{
 "cells": [
  {
   "cell_type": "markdown",
   "metadata": {},
   "source": [
    "# PyOptSparse\\SNOPT\n",
    "\n",
    "`1013.20.Apr`\n",
    "\n",
    "The previous notebook was getting a bit long/confuddled, so I broke off with a clean slate on this attempt."
   ]
  },
  {
   "cell_type": "markdown",
   "metadata": {},
   "source": [
    "### Load header files, plot a random array of turbines\n",
    "\n",
    "`1035.20.Apr.20`"
   ]
  },
  {
   "cell_type": "code",
   "execution_count": 41,
   "metadata": {
    "code_folding": [
     0
    ]
   },
   "outputs": [],
   "source": [
    "#- Load all previously written and tested functions -#\n",
    "import random\n",
    "\n",
    "%run 'baker_cs34_functions_sandbox.py'\n",
    "%run 'baker_cs34_SNOPT_functions.py'\n",
    "%run 'iea37_aepcalc.py'"
   ]
  },
  {
   "cell_type": "code",
   "execution_count": 42,
   "metadata": {
    "code_folding": [
     0
    ]
   },
   "outputs": [],
   "source": [
    "#--- Load boundary, turb attributes, and windrose data ---#\n",
    "#-- Load the Boundary --#\n",
    "fn = \"iea37-boundary-cs3.yaml\"\n",
    "bndryPts = getTurbAtrbtCs3YAML(fn)      # Pull the boundary vertices\n",
    "clsdBP = closeBndryList(bndryPts)       # repeat the first so it's 'closed'\n",
    "cncvVerts = makeSimpleCs3Bndry(clsdBP)  # Make the simplified Concave shape\n",
    "cncvNorms = bndryNormals(cncvVerts)     # Calculate the normals for the concave shape\n",
    "#- Load the turbine and windrose atributes -#\n",
    "fname_turb = \"iea37-10mw.yaml\"\n",
    "fname_wr = \"iea37-windrose-cs3.yaml\"\n",
    "wind_dir, wind_dir_freq, wind_speeds, wind_speed_probs, num_speed_bins, min_speed, max_speed = iea37aepC.getWindRoseYAML(fname_wr)\n",
    "turb_ci, turb_co, rated_ws, rated_pwr, turb_diam = iea37aepC.getTurbAtrbtYAML(fname_turb)\n",
    "fAEPscale = 1.0\n",
    "fTCscale = 1.0\n",
    "#- Make a dictionary for variable passing -#\n",
    "dictParams = makeParamsDict(wind_dir_freq, wind_speeds, wind_speed_probs, wind_dir, turb_diam, turb_ci, turb_co, rated_ws, rated_pwr, fAEPscale, fTCscale, cncvNorms, cncvVerts)"
   ]
  },
  {
   "cell_type": "code",
   "execution_count": 43,
   "metadata": {
    "code_folding": []
   },
   "outputs": [],
   "source": [
    "#-- Make boundary splines and random turbine locations--#\n",
    "#-- Spline the boundary --#\n",
    "vertexList = [0, 6, 8, 9, 18]       # Hard code the vertices (though this could be done algorithmically)\n",
    "numSides = len(vertexList) - 1      # The number of sides for our original coordinate system. Usually (4) to Euclidean, but could be any number)\n",
    "splineList = np.empty(numSides, interp1d)                  # Init. array IOT save the Splines for each \"side\"\n",
    "buf = np.zeros((numSides, numGridLines, 2))                # Used to initalize the recarray to zeros\n",
    "segCoordList = np.recarray([numSides, numGridLines], dtype=coordinate, buf=buf)\n",
    "\n",
    "#- Create the splines for each side (<numSides> many)-#\n",
    "for i in range(numSides):\n",
    "    BndPts = clsdBP[vertexList[i]:(vertexList[i+1]+1)]      # Extract the points for the \"edge\" we want\n",
    "    segCoordList[i] = sliceBoundary(BndPts, numGridLines)    # Reparameterize the boundry to be defined by <numGridLines> many points\n",
    "    splineList[i] = interp1d(segCoordList[i].x, segCoordList[i].y, kind='linear')   # Make the spline using NumPy's <interp1d>\n",
    "\n",
    "#-- Make random turbine locations --#\n",
    "vertexPts = bndryPts[vertexList[0:4]]  # Make an array of just the four \"vertex\" points we're using\n",
    "turbRandoList = iea37cs3randomstarts(numTurbs, splineList, vertexPts, turb_diam)\n",
    "randoMatrix = makeCoordMatrix(turbRandoList)    # Use the random locations calculated previously"
   ]
  },
  {
   "cell_type": "code",
   "execution_count": 44,
   "metadata": {
    "code_folding": [
     0
    ]
   },
   "outputs": [
    {
     "data": {
      "image/png": "[encoded data removed]",
      "text/plain": [
       "<Figure size 720x720 with 1 Axes>"
      ]
     },
     "metadata": {
      "needs_background": "light"
     },
     "output_type": "display_data"
    }
   ],
   "source": [
    "#-- Plot splined boundary and random (numbered) turbine locations --#\n",
    "#- Display data/constants -#\n",
    "displaySize = np.recarray(1, coordinate)\n",
    "displaySize.x = 10\n",
    "displaySize.y = 10\n",
    "numLinspace = 10\n",
    "numGridLines = 10                   # How many gridlines we'll use for the visualization\n",
    "printOffset = (5, 5)\n",
    "\n",
    "#- Plot the boundary -#\n",
    "for i in range(numSides):\n",
    "    plt.hold = True\n",
    "    printBoundaryArray(segCoordList[i].x, splineList[i](segCoordList[i].x), displaySize, 5)\n",
    "\n",
    "#- Plot the turbine locations -#\n",
    "printTurbines(turbRandoList, getPltClrs().getColor(1), turb_diam/2)\n",
    "for i in range(len(turbRandoList)):         # Number the turbines\n",
    "    plt.annotate(i, (turbRandoList[i].x, turbRandoList[i].y), xytext=printOffset, textcoords='offset points')\n"
   ]
  },
  {
   "cell_type": "markdown",
   "metadata": {},
   "source": [
    "### PyOptSparse/SNOPT setup (Dr. Ning's method)\n",
    "\n",
    "`1036.20.Apr.20`\n",
    "\n",
    "To be honest, this is a tricky way of still having all of the turbine attributes just global. It is not the solution I am looking for, but due to time constraints I just need to work with what I have and keep moving forward (meaning keep the values global)"
   ]
  },
  {
   "cell_type": "markdown",
   "metadata": {},
   "source": [
    "**Example by Dr. Ning**\n",
    "\n",
    "`1031.16.Apr.20`\n",
    "\n",
    "```python\n",
    "def f(x, params):\n",
    "   ...\n",
    "end\n",
    "\n",
    "def runopt():\n",
    "    params = ...\n",
    "    function g(x) = f(x, params)\n",
    "    optimize(g, x0)\n",
    "end```"
   ]
  },
  {
   "cell_type": "code",
   "execution_count": 45,
   "metadata": {
    "code_folding": [
     1,
     3
    ]
   },
   "outputs": [],
   "source": [
    "#-- Working the wrapper method --#\n",
    "def f(ParamsDict):\n",
    "    # To follow Dr. Ning's rubric\n",
    "    return lambda x0: iea37aepC.calcAEPcs3(x0, ParamsDict['wind_dir_freq'], \\\n",
    "                               ParamsDict['wind_speeds'], \\\n",
    "                               ParamsDict['wind_speed_probs'], \\\n",
    "                               ParamsDict['wind_dir'], \\\n",
    "                               ParamsDict['turb_diam'], \\\n",
    "                               ParamsDict['turb_ci'], \\\n",
    "                               ParamsDict['turb_co'], \\\n",
    "                               ParamsDict['rated_ws'], \\\n",
    "                               ParamsDict['rated_pwr'])\n",
    "\n",
    "g = f(dictParams)\n",
    "#print(g(turbCoords))"
   ]
  },
  {
   "cell_type": "code",
   "execution_count": 58,
   "metadata": {
    "code_folding": []
   },
   "outputs": [],
   "source": [
    "#- pseudocode for objfun() setup -#\n",
    "#def objfunc(xdict):A\n",
    "#    x0 = xdict['turbCoords']\n",
    "#    funcs = {}\n",
    "#    funcs['obj'] = getAEP(x0, params)\n",
    "#    funcs['con'] = getTurbSpacing(x0)\n",
    "#    fail = False\n",
    "\n",
    "#    return funcs, fail\n",
    "\n",
    "#-- Setting up objFun --#\n",
    "def cs3posObjFun(posDict):\n",
    "    #- Target function (AEP calculation) -#\n",
    "    \n",
    "    x0m = makeArrayMatrix(posDict['aTurbCoords'])  # Take our turbine array [x1 ... y1...] and make a matrix\n",
    "    nTurbs = len(x0m) # get the number of turbines\n",
    "    nPairs = int(binom(nTurbs, 2)) # Number of unique turbine pairs\n",
    "    funcs = {}\n",
    "    AEP = g(x0m)         # Our tricky global function\n",
    "    totAEP = np.sum(AEP)\n",
    "    funcs['obj'] = - (totAEP)# / fScaleFactorAEP) # Negative to minimize\n",
    "    \n",
    "    #- Prep data for constraints -#\n",
    "    #fScaleFactorTurbLoc = posDict['fTCscale']\n",
    "    x0s = makeArrayCoord(posDict['aTurbCoords'])\n",
    "    [fNormVals,__] = calcDistNorms(x0s, dictParams['cncvVerts'], dictParams['cncvNorms'])\n",
    "    funcs['bndry'] = fNormVals.flatten()\n",
    "    [funcs['spacing'],__] = checkTurbSpacing(x0s, dictParams['minTurbSpace'])\n",
    "    \n",
    "    #- Constraints (Pairwise distance [C(numTurbs, 2)], and all boundary checks [4* numTurbs]) -#\n",
    "    #nBndryCnstr = nTurbs * 4 # each turbine (25) has one constraint for each boundary (4)\n",
    "    #nSpaceCnstr = nPairs\n",
    "    #conval = [0]*(nBndryCnstr + nSpaceCnstr)\n",
    "    # List all the boundary and spacing constraints\n",
    "    #conval = np.concatenate(cnstrSpacing, nBndryCnstr)\n",
    "    #funcs['con'] = conval\n",
    "    \n",
    "    fail = False\n",
    "\n",
    "    return funcs, fail"
   ]
  },
  {
   "cell_type": "code",
   "execution_count": 63,
   "metadata": {},
   "outputs": [],
   "source": [
    "#--- Running the optimization ---#\n",
    "#- Constants --#\n",
    "nNumTurbs = len(turbRandoList)    # Number of turbines we're passed\n",
    "nNumPairs = int(binom(nNumTurbs, 2)) # Number of unique turbine pairs\n",
    "\n",
    "#-- Setup optimization --#\n",
    "optProb = Optimization('CaseStudy3', cs3posObjFun)\n",
    "optProb.addObj('obj')\n",
    "#-- Setup variables to alter (turbine locations) --#\n",
    "x0rando =makeCoordArray(turbRandoList)   # Make our coordinate list an array\n",
    "optProb.addVarGroup('aTurbCoords', 2*nNumTurbs, type='c', value= x0rando) # two (2) values for each turbine (x&y)\n",
    "\n",
    "#-- Boundary constraints (setup to stay positive) --#\n",
    "optProb.addConGroup('bndry', 4*nNumTurbs, lower=0.0, upper=None) # 4 boundaries to chek for each turbine\n",
    "#-- Spacing constraint (setup to stay positive) --#\n",
    "optProb.addConGroup('spacing', nNumPairs, lower=0.0, upper=None)\n",
    "\n",
    "#-- Run the actual optimization --#\n",
    "opt = SNOPT()\n",
    "opt.setOption('Scale option',0)\n",
    "opt.setOption('Iterations limit',1000000)\n",
    "opt.setOption('Major optimality tolerance',1.e-5)\n",
    "opt.setOption('Major feasibility tolerance',1.e-6)\n",
    "opt.setOption('Print file', 'print_grid.out')\n",
    "opt.setOption('Summary file','summary_grid.out')\n",
    "\n",
    "#print(optProb)"
   ]
  },
  {
   "cell_type": "code",
   "execution_count": 64,
   "metadata": {},
   "outputs": [
    {
     "name": "stdout",
     "output_type": "stream",
     "text": [
      "\n",
      "+------------------------------------------------------------------------------+\n",
      "| pyOptSparse Error: Failed to properly open summary_grid.out, ierror = 5002   |\n",
      "+------------------------------------------------------------------------------+\n",
      "\n"
     ]
    },
    {
     "ename": "Error",
     "evalue": "",
     "output_type": "error",
     "traceback": [
      "\u001b[0;31m---------------------------------------------------------------------------\u001b[0m",
      "\u001b[0;31mError\u001b[0m                                     Traceback (most recent call last)",
      "\u001b[0;32m<ipython-input-64-9144e13559c6>\u001b[0m in \u001b[0;36m<module>\u001b[0;34m\u001b[0m\n\u001b[0;32m----> 1\u001b[0;31m \u001b[0msol\u001b[0m \u001b[0;34m=\u001b[0m \u001b[0mopt\u001b[0m\u001b[0;34m(\u001b[0m\u001b[0moptProb\u001b[0m\u001b[0;34m)\u001b[0m\u001b[0;34m\u001b[0m\u001b[0;34m\u001b[0m\u001b[0m\n\u001b[0m\u001b[1;32m      2\u001b[0m \u001b[0mprint\u001b[0m\u001b[0;34m(\u001b[0m\u001b[0msol\u001b[0m\u001b[0;34m)\u001b[0m\u001b[0;34m\u001b[0m\u001b[0;34m\u001b[0m\u001b[0m\n",
      "\u001b[0;32m~/miniconda2/envs/py3/lib/python3.6/site-packages/pyoptsparse/pySNOPT/pySNOPT.py\u001b[0m in \u001b[0;36m__call__\u001b[0;34m(self, optProb, sens, sensStep, sensMode, storeHistory, hotStart, storeSens, timeLimit)\u001b[0m\n\u001b[1;32m    414\u001b[0m                 \u001b[0;32mif\u001b[0m \u001b[0mierror\u001b[0m \u001b[0;34m!=\u001b[0m \u001b[0;36m0\u001b[0m\u001b[0;34m:\u001b[0m\u001b[0;34m\u001b[0m\u001b[0;34m\u001b[0m\u001b[0m\n\u001b[1;32m    415\u001b[0m                     raise Error('Failed to properly open %s, ierror = %3d'%\n\u001b[0;32m--> 416\u001b[0;31m                                   (SummFile, ierror))\n\u001b[0m\u001b[1;32m    417\u001b[0m \u001b[0;34m\u001b[0m\u001b[0m\n\u001b[1;32m    418\u001b[0m             \u001b[0;31m# Calculate the length of the work arrays\u001b[0m\u001b[0;34m\u001b[0m\u001b[0;34m\u001b[0m\u001b[0;34m\u001b[0m\u001b[0m\n",
      "\u001b[0;31mError\u001b[0m: "
     ]
    }
   ],
   "source": [
    "sol = opt(optProb)\n",
    "print(sol)"
   ]
  },
  {
   "cell_type": "code",
   "execution_count": null,
   "metadata": {},
   "outputs": [],
   "source": []
  },
  {
   "cell_type": "markdown",
   "metadata": {
    "heading_collapsed": true
   },
   "source": [
    "### Variable Manipulation fixes\n",
    "\n",
    "`1211.20.Apr,20`\n",
    "\n",
    "I just realized my variable manipulation functions werte a bit messed up. Some concatenated [x1, x2, ... xn, y1, y1, ... yn] and others used [x1, y1, x2, y2, ...]. I changed everything to work in the former first method. Following are function tests."
   ]
  },
  {
   "cell_type": "code",
   "execution_count": 39,
   "metadata": {
    "hidden": true
   },
   "outputs": [
    {
     "name": "stdout",
     "output_type": "stream",
     "text": [
      "(9162.5409912, 5090.14498131)\n",
      "(9162.5409912, 5090.14498131)\n"
     ]
    }
   ],
   "source": [
    "print(turbRandoList[0])\n",
    "testA = makeCoordArray(turbRandoList)\n",
    "testB = makeArrayCoord(testA)\n",
    "print(testB[0])"
   ]
  },
  {
   "cell_type": "code",
   "execution_count": 33,
   "metadata": {
    "hidden": true
   },
   "outputs": [
    {
     "name": "stdout",
     "output_type": "stream",
     "text": [
      "(9162.5409912, 5090.14498131)\n",
      "[9162.5409912  5090.14498131]\n"
     ]
    }
   ],
   "source": [
    "print(turbRandoList[0])\n",
    "testA = makeCoordArray(turbRandoList)\n",
    "testC = makeArrayMatrix(testA)\n",
    "print(testC[0])"
   ]
  },
  {
   "cell_type": "code",
   "execution_count": 40,
   "metadata": {
    "hidden": true
   },
   "outputs": [
    {
     "name": "stdout",
     "output_type": "stream",
     "text": [
      "(9162.5409912, 5090.14498131)\n",
      "[9162.5409912  5090.14498131]\n",
      "(9162.5409912, 5090.14498131)\n"
     ]
    }
   ],
   "source": [
    "print(turbRandoList[0])\n",
    "testD = makeCoordMatrix(turbRandoList)\n",
    "print(testD[0])\n",
    "testE = makeMatrixCoord(testD)\n",
    "print(testE[0])"
   ]
  }
 ],
 "metadata": {
  "kernelspec": {
   "display_name": "Python 3",
   "language": "python",
   "name": "python3"
  },
  "language_info": {
   "codemirror_mode": {
    "name": "ipython",
    "version": 3
   },
   "file_extension": ".py",
   "mimetype": "text/x-python",
   "name": "python",
   "nbconvert_exporter": "python",
   "pygments_lexer": "ipython3",
   "version": "3.6.8"
  }
 },
 "nbformat": 4,
 "nbformat_minor": 2
}
