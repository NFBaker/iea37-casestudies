{
 "cells": [
  {
   "cell_type": "markdown",
   "metadata": {},
   "source": [
    "# Implementation 02 (SNOPT)\n",
    "`1011.30.Mar.20`"
   ]
  },
  {
   "cell_type": "markdown",
   "metadata": {},
   "source": [
    "Now that I have the constraints set up (Both the new boundary and the function determining if a turbine is \"in\"), I can try and feed that into [SNOPT](https://web.stanford.edu/group/SOL/snopt.htm) to actually get an optimization. I will also need to use  SNOPT for my old system as well."
   ]
  },
  {
   "cell_type": "markdown",
   "metadata": {},
   "source": [
    "### Setting up my desktop"
   ]
  },
  {
   "cell_type": "markdown",
   "metadata": {},
   "source": [
    "`1255.01.Apr.20`\n",
    "\n",
    "I had some trouble finding examples of implementation code.\n",
    "I today reached out to PJ and he gave some sample code.\n",
    "I'm going over it now."
   ]
  },
  {
   "cell_type": "markdown",
   "metadata": {
    "heading_collapsed": true
   },
   "source": [
    "#### PJ's code"
   ]
  },
  {
   "cell_type": "markdown",
   "metadata": {
    "hidden": true
   },
   "source": [
    "```python\n",
    "from pyoptsparse import Optimization, SNOPT, pyOpt_solution, NSGA2\n",
    "import numpy as np\n",
    "import matplotlib.pyplot as plt\n",
    "from position_constraints import *\n",
    "from windRoses import *\n",
    "from grid_param_test import *\n",
    "from aep_calc import *\n",
    "import scipy as sp\n",
    "import os\n",
    "import sys\n",
    "sys.dont_write_bytecode = True\n",
    "def obj_func_grid(xdict):\n",
    "    global rotorDiameter\n",
    "    global turbineZ\n",
    "    global windDirections\n",
    "    global windSpeeds\n",
    "    global windFrequencies\n",
    "    global shearExp\n",
    "    global minSpacing\n",
    "    global nTurbs\n",
    "    global boundaryVertices\n",
    "    global boundaryNormals\n",
    "    global circle_radius\n",
    "    global rf\n",
    "    global wakemodel\n",
    "    global nRows\n",
    "    global turbs_per_row\n",
    "    global x_start\n",
    "    global anchor_x\n",
    "    global anchor_y\n",
    "    global nCalls\n",
    "    nCalls += 1\n",
    "    dx = xdict['dx']\n",
    "    dy = xdict['dy']\n",
    "    offset = xdict['offset']\n",
    "    rotate = xdict['rotate']\n",
    "    # scale = xdict['scale']\n",
    "    scale = 1.0\n",
    "    turbineX,turbineY = makeGrid_centered(dx,dy,offset,rotate,turbs_per_row,x_start)\n",
    "    if nCalls == 1:\n",
    "        print turbineX\n",
    "        print turbineY\n",
    "    show = False\n",
    "    if show == True:\n",
    "        plt.figure(1)\n",
    "        plt.clf()\n",
    "        for i in range(nTurbs):\n",
    "            circ = plt.Circle((turbineX[i],turbineY[i]), rotorDiameter[i]/2.,facecolor=\"blue\",edgecolor=\"blue\",alpha=0.2)\n",
    "            plt.gca().add_patch(circ)\n",
    "        # circ = plt.Circle((0.,0.), circle_radius,facecolor=\"None\",edgecolor=\"black\",alpha=0.8)\n",
    "        # plt.plot(np.array([-1800.,-1800.,1800.,1800.,-1800]),np.array([-1800.,1800.,1800.,-1800.,-1800.]),'-k')\n",
    "        # plt.gca().add_patch(circ)\n",
    "        # plt.xlim(-2200.,2200.)\n",
    "        xb = boundaryVertices[:,0]\n",
    "        yb = boundaryVertices[:,1]\n",
    "        xb = np.append(xb,xb[0])\n",
    "        yb = np.append(yb,yb[0])\n",
    "        plt.plot(xb,yb,'--k')\n",
    "        plt.axis('equal')\n",
    "        plt.axis('off')\n",
    "        plt.draw()\n",
    "        plt.pause(0.001)\n",
    "    funcs = {}\n",
    "    AEP = fast_calc_AEP(turbineX, turbineY, turbineZ, rotorDiameter, windDirections,\n",
    "                windSpeeds, windFrequencies, wakemodel=wakemodel,relaxationFactor=rf)\n",
    "    print -AEP/1.E5\n",
    "    funcs['obj'] = -AEP/1.E5\n",
    "    funcs['sep'] = SpacingConstraint(turbineX, turbineY, rotorDiameter, minSpacing=minSpacing)/1.E5\n",
    "    bounds = arbitraryBoundary(turbineX, turbineY, boundaryVertices, boundaryNormals)/1.E3\n",
    "    b = np.zeros(np.shape(bounds)[0])\n",
    "    for i in range(len(b)):\n",
    "        b[i] = min(bounds[i])\n",
    "    funcs['bound'] = b\n",
    "    fail = False\n",
    "    return funcs, fail\n",
    "## Main\n",
    "if __name__ == \"__main__\":\n",
    "    global rotorDiameter\n",
    "    global turbineZ\n",
    "    global windDirections\n",
    "    global windSpeeds\n",
    "    global windFrequencies\n",
    "    global shearExp\n",
    "    global minSpacing\n",
    "    global nTurbs\n",
    "    global boundaryVertices\n",
    "    global boundaryNormals\n",
    "    global circle_radius\n",
    "    global rf\n",
    "    global wakemodel\n",
    "    global nRows\n",
    "    global turbs_per_row\n",
    "    global x_start\n",
    "    global anchor_x\n",
    "    global anchor_y\n",
    "    global nCalls\n",
    "    wakemodel = \"gaussian\"\n",
    "    nTurbs = 100\n",
    "    rose = 'ukiah'\n",
    "    windDirections, windFrequencies, windSpeeds = ukiahRose(30)\n",
    "    wind_angle = windDirections[np.argmax(windFrequencies)]\n",
    "    windDirections, windFrequencies, windSpeeds = ukiahRose(30,nSpeeds=8)\n",
    "    windDirections -= wind_angle\n",
    "    turbineZ = np.ones(nTurbs)*100.\n",
    "    rotorDiameter = np.ones(nTurbs)*130.\n",
    "    shearExp = 0.15\n",
    "    minSpacing = 2.0\n",
    "    maxAEP = 0.\n",
    "    spacing = 4.\n",
    "    side_length = (np.sqrt(nTurbs)-1.)*rotorDiameter[0]*spacing\n",
    "    a = side_length**2\n",
    "    circle_radius = np.sqrt(a/np.pi)\n",
    "    # folder = 'grid_square_%s_%s_%s_%s'%(nTurbs,spacing,rose,wakemodel)\n",
    "    # folder = 'grid4_square_%s_%s_%s_%s'%(nTurbs,spacing,rose,wakemodel)\n",
    "    #\n",
    "    # if not os.path.exists(folder):\n",
    "    #     os.makedirs(folder)\n",
    "    \"\"\"circle boundary\"\"\"\n",
    "    nBounds = 20\n",
    "    # circle_radius = 5280.\n",
    "    xBounds = np.zeros(nBounds)\n",
    "    yBounds = np.zeros(nBounds)\n",
    "    theta = np.linspace(0.,2.*np.pi-2.*np.pi/float(nBounds),nBounds)\n",
    "    for i in range(nBounds):\n",
    "        xBounds[i] = circle_radius*np.cos(theta[i])\n",
    "        yBounds[i] = circle_radius*np.sin(theta[i])\n",
    "    x = np.zeros_like(xBounds)\n",
    "    x[:] = xBounds[:]\n",
    "    y = np.zeros_like(yBounds)\n",
    "    y[:] = yBounds[:]\n",
    "    xBounds = x*np.cos(np.deg2rad(wind_angle)) - y*np.sin(np.deg2rad(wind_angle))\n",
    "    yBounds = x*np.sin(np.deg2rad(wind_angle)) + y*np.cos(np.deg2rad(wind_angle))\n",
    "    \"\"\"square boundary rotated 30 deg from dominant wind direction\"\"\"\n",
    "    # nBounds = 4\n",
    "    # x = np.array([-side_length/2.,side_length/2.,side_length/2.,-side_length/2.])\n",
    "    # y = np.array([-side_length/2.,-side_length/2.,side_length/2.,side_length/2.])\n",
    "    # xBounds = x*np.cos(np.deg2rad(30.)) - y*np.sin(np.deg2rad(30.))\n",
    "    # yBounds = x*np.sin(np.deg2rad(30.)) + y*np.cos(np.deg2rad(30.))\n",
    "    # locations = np.zeros((nBounds,2))\n",
    "    # locations[:, 0] = xBounds\n",
    "    # locations[:, 1] = yBounds\n",
    "    # boundaryVertices, boundaryNormals = calculate_boundary(locations)\n",
    "    \"\"\"amalia boundary\"\"\"\n",
    "    # locations = np.loadtxt('layout_amalia.txt')\n",
    "    # xBounds = locations[:, 0]\n",
    "    # yBounds = locations[:, 1]\n",
    "    # xBounds = xBounds - min(xBounds) - (max(xBounds)-min(xBounds))/2.\n",
    "    # yBounds = yBounds - min(yBounds) - (max(yBounds)-min(yBounds))/2.\n",
    "    # locations[:, 0] = xBounds\n",
    "    # locations[:, 1] = yBounds\n",
    "    # boundaryVertices, boundaryNormals = calculate_boundary(locations)\n",
    "    # xBounds = boundaryVertices[:, 0]\n",
    "    # yBounds = boundaryVertices[:, 1]\n",
    "    nBounds = len(xBounds)\n",
    "    points = np.zeros((nBounds,2))\n",
    "    points[:, 0] = xBounds\n",
    "    points[:, 1] = yBounds\n",
    "    # hull = sp.spatial.ConvexHull(points)\n",
    "    # area = hull.volume\n",
    "    # area_ratio = area/(np.pi*circle_radius**2)\n",
    "    # xBounds = xBounds/np.sqrt(area_ratio)\n",
    "    # yBounds = yBounds/np.sqrt(area_ratio)\n",
    "    # points[:, 0] = xBounds\n",
    "    # points[:, 1] = yBounds\n",
    "    # boundaryVertices, boundaryNormals = calculate_boundary(points)\n",
    "    xBounds = np.append(xBounds,xBounds[0])\n",
    "    yBounds = np.append(yBounds,yBounds[0])\n",
    "    dx_start,dy_start,offset_start,rotate_start,turbs_per_row,x_start = make_start_grid_test(nTurbs,boundaryVertices,boundaryNormals)\n",
    "    factors = np.array([3.0,2.75,2.5,2.25,2.0,1.75,1.5,1.25,1.0])\n",
    "    rf = 1.0\n",
    "    num = 1\n",
    "    nCalls = 0\n",
    "    for i in range(num):\n",
    "        print 'iterations: ', i\n",
    "        # dx = float(np.random.rand(1))*dx_start+200.\n",
    "        # dy = float(np.random.rand(1))*dy_start+200.\n",
    "        # offset = float(np.random.rand(1))*25.+10.\n",
    "        # rotate = float(np.random.rand(1))*30.-15.\n",
    "        dx = dx_start\n",
    "        dy = dy_start\n",
    "        offset = offset_start\n",
    "        rotate = rotate_start\n",
    "        input = {'dx':dx,'dy':dy,'offset':offset,'rotate':rotate}\n",
    "        funcs,_ = obj_func_grid(input)\n",
    "        AEPstart = funcs['obj']\n",
    "        print AEPstart\n",
    "        nCalls = 0\n",
    "        \"\"\"Optimization\"\"\"\n",
    "        optProb = Optimization('Wind_Farm_AEP', obj_func_grid)\n",
    "        optProb.addObj('obj')\n",
    "        optProb.addVar('dx', type='c', lower=0., upper=None, value=dx)\n",
    "        optProb.addVar('dy', type='c', lower=0., upper=None, value=dy)\n",
    "        optProb.addVar('offset', type='c', lower=None, upper=None, value=offset)\n",
    "        optProb.addVar('rotate', type='c', lower=None, upper=None, value=rotate)\n",
    "        num_cons_sep = (nTurbs-1)*nTurbs/2\n",
    "        optProb.addConGroup('sep', num_cons_sep, lower=0., upper=None)\n",
    "        optProb.addConGroup('bound', nTurbs, lower=0., upper=None)\n",
    "        opt = SNOPT()\n",
    "        opt.setOption('Scale option',0)\n",
    "        opt.setOption('Iterations limit',1000000)\n",
    "        opt.setOption('Summary file','summary_grid.out')\n",
    "        opt.setOption('Major optimality tolerance',1.e-5)\n",
    "        opt.setOption('Major feasibility tolerance',1.e-6)\n",
    "        res = opt(optProb)\n",
    "        dx_f = res.xStar['dx']\n",
    "        dy_f = res.xStar['dy']\n",
    "        o_f = res.xStar['offset']\n",
    "        r_f = res.xStar['rotate']\n",
    "        # print 'dx_f: ', dx_f\n",
    "        # print 'dy_f: ', dy_f\n",
    "        # print 'offset_f: ', o_f\n",
    "        # print 'rotate_f: ', r_f\n",
    "        print nCalls\n",
    "        input = {'dx':dx_f,'dy':dy_f,'offset':o_f,'rotate':r_f}\n",
    "        funcs,_ = obj_func_grid(input)\n",
    "        separation = min(funcs['sep'])\n",
    "        boundary = min(funcs['bound'])\n",
    "        if separation > -1.E-4 and boundary > -1.E-4 and -funcs['obj'] > maxAEP:\n",
    "            maxAEP = -funcs['obj']\n",
    "        if separation > -1.E-4 and boundary > -1.E-4:\n",
    "            print 'AEP opt: ', -funcs['obj']\n",
    "            # file = open('%s/AEP.txt'%folder, 'a')\n",
    "            # file.write('%s'%(-funcs['obj']) + '\\n')\n",
    "            # file.close()\n",
    "            #\n",
    "            # file = open('%s/funcCalls.txt'%folder, 'a')\n",
    "            # file.write('%s'%nCalls + '\\n')\n",
    "            # file.close()\n",
    "        print 'maxAEP: ', maxAEP\n",
    "    print 'final maxAEP: ', maxAEP\n",
    "    plt.show()\n",
    "```"
   ]
  },
  {
   "cell_type": "markdown",
   "metadata": {},
   "source": [
    "### More work"
   ]
  },
  {
   "cell_type": "markdown",
   "metadata": {},
   "source": [
    "`1357.01.Apr.20`\n",
    "\n",
    "I had an issue with installing pyOptSparse - I thought I had on monday, but apparently not.\n",
    "I think the issue was I installed Python 3 on this windows machine, but the FLOWLab only works in Python 2, so I needed to install that and change the environment with `activate py2` and `deactivate`.\n",
    "It's completing the installation now, we'll see if it worked."
   ]
  },
  {
   "cell_type": "markdown",
   "metadata": {},
   "source": [
    "`1307.03.Apr.20`\n",
    "\n",
    "I had to restart my system and apparently lost the last few days of logs, but it wasn't much. I've been trying to install SNOPT on my windows system and it just isn't working. I've got to call it at this point and move over to my laptop for working."
   ]
  },
  {
   "cell_type": "markdown",
   "metadata": {},
   "source": [
    "`1419.03.Apr.20`\n",
    "\n",
    "I prefer my keyboard, mouse, and monitor, and the laptop just can't connect to all those devices. Instead of buying yet another adapter, I opted to go with Chrome's remote desktop extension. It allows me to remote in to the macbook (there's a bit of lag), but I can code and run everything on here, while still using my main desktop for internet, background music, and everything else."
   ]
  },
  {
   "cell_type": "markdown",
   "metadata": {},
   "source": [
    "## Order of Events"
   ]
  },
  {
   "cell_type": "markdown",
   "metadata": {},
   "source": [
    "Ok I have the constraint functions set, I want to do 3 things from here out:\n",
    "\n",
    "1. Get SNOPT to optimize the smaller Dr. Ning area\n",
    "2. Get SNOPT to optimize my original full area\n",
    "3. Get my mapping algorithm working"
   ]
  },
  {
   "cell_type": "markdown",
   "metadata": {},
   "source": [
    "## SNOPT on Dr. Ning's area"
   ]
  },
  {
   "cell_type": "markdown",
   "metadata": {},
   "source": [
    "`0834.06.Apr.20`\n",
    "\n",
    "First I'll need to run the test files that wouldn't work on my desktop.\n",
    "\n",
    "`1259.08.Apr.2020`\n",
    "\n",
    "After conversing with Dr.~Ning, he told me since the lab has an old version of SNOPT, I need to retrograde and download an old version of [PyOptSparse](www.github.com/mdolab/pyoptsparse). After looking through the release history I installed [v1.2](https://github.com/mdolab/pyoptsparse/releases/tag/v1.2). The NLPQLP test failed, but at least the SNOPT test finally passed, so I'll keep moving forward. This took entirely too long to figure out.\n",
    "\n",
    "First thing to do is look at PJ's sample code that he gave me last week. (in markdowned code block below)."
   ]
  },
  {
   "cell_type": "markdown",
   "metadata": {},
   "source": [
    "`1756.08.Apr.20`\n",
    "\n",
    "I also am using a tutorial from [the pyOpt website](www.pyopt.org/tutorial).\n",
    "We'll see how it works.\n"
   ]
  },
  {
   "cell_type": "markdown",
   "metadata": {},
   "source": [
    "### Helper functions for formatting"
   ]
  },
  {
   "cell_type": "code",
   "execution_count": 206,
   "metadata": {},
   "outputs": [],
   "source": [
    "#- Rip the boundary coordinates from the .yaml file and print -#\n",
    "from scipy.optimize import minimize\n",
    "import scipy.spatial.distance as ssd\n",
    "import random\n",
    "\n",
    "%run 'baker_cs34_functions_sandbox.py'\n",
    "%run 'iea37_aepcalc.py'\n",
    "fn = \"iea37-boundary-cs3.yaml\"\n",
    "bndryPts = getTurbAtrbtCs3YAML(fn)\n",
    "coordList = closeBndryList(bndryPts)    # Duplicate the first coordinate for a closed boundary"
   ]
  },
  {
   "cell_type": "code",
   "execution_count": 68,
   "metadata": {
    "code_folding": []
   },
   "outputs": [
    {
     "name": "stdout",
     "output_type": "stream",
     "text": [
      "The splined boundary and the defining coordinates:\n"
     ]
    },
    {
     "data": {
      "image/png": "[encoded data removed]",
      "text/plain": [
       "<Figure size 720x720 with 1 Axes>"
      ]
     },
     "metadata": {
      "needs_background": "light"
     },
     "output_type": "display_data"
    }
   ],
   "source": [
    "#-- Plot the boundary (modelled with splines) --#\n",
    "displaySize = np.recarray(1, coordinate)\n",
    "displaySize.x = 10\n",
    "displaySize.y = 10\n",
    "numLinspace = 10\n",
    "numGridLines = 10                   # How many gridlines we'll use for the visualization\n",
    "printOffset = (5, 5)\n",
    "clsdBP = closeBndryList(bndryPts)\n",
    "vertexList = [0, 6, 8, 9, 18]       # Hard code the vertices (though this could be done algorithmically)\n",
    "numSides = len(vertexList) - 1      # The number of sides for our original coordinate system. Usually (4) to Euclidean, but could be any number)\n",
    "\n",
    "scaleAEP = 1e5\n",
    "scaleTurbCoord = 1e3\n",
    "\n",
    "#-- Spline the boundary --#\n",
    "splineList = np.empty(numSides, interp1d)                  # Init. array IOT save the Splines for each \"side\"\n",
    "buf = np.zeros((numSides, numGridLines, 2))                # Used to initalize the recarray to zeros\n",
    "segCoordList = np.recarray([numSides, numGridLines], dtype=coordinate, buf=buf)\n",
    "\n",
    "#- Create the splines for each side (<numSides> many)-#\n",
    "for i in range(numSides):\n",
    "    BndPts = clsdBP[vertexList[i]:(vertexList[i+1]+1)]      # Extract the points for the \"edge\" we want\n",
    "    segCoordList[i] = sliceBoundary(BndPts, numGridLines)    # Reparameterize the boundry to be defined by <numGridLines> many points\n",
    "    splineList[i] = interp1d(segCoordList[i].x, segCoordList[i].y, kind='linear')   # Make the spline using NumPy's <interp1d>\n",
    "    \n",
    "print(\"The splined boundary and the defining coordinates:\")\n",
    "for i in range(numSides):\n",
    "    plt.hold = True\n",
    "    printBoundaryArray(segCoordList[i].x, splineList[i](segCoordList[i].x), displaySize, 1)\n",
    "\n",
    "#for i in vertexList:                         # Number the vertices\n",
    "for i in range(len(clsdBP)):                         # Number the vertices\n",
    "    plt.plot(clsdBP[i].x, clsdBP[i].y, 'o', color=(getPltClrs().getColor(5)))\n",
    "    plt.annotate(i, (clsdBP[i].x, clsdBP[i].y), xytext=printOffset, textcoords='offset points')"
   ]
  },
  {
   "cell_type": "code",
   "execution_count": 164,
   "metadata": {},
   "outputs": [
    {
     "data": {
      "image/png": "[encoded data removed]",
      "text/plain": [
       "<Figure size 432x288 with 1 Axes>"
      ]
     },
     "metadata": {
      "needs_background": "light"
     },
     "output_type": "display_data"
    }
   ],
   "source": [
    "vertexPts = bndryPts[vertexList[0:4]]\n",
    "\n",
    "colorNum = 5\n",
    "printBoundaryClr(clsdBP, colorNum)\n",
    "printTurbines(vertexPts, getPltClrs().getColor(6), 10, True)"
   ]
  },
  {
   "cell_type": "code",
   "execution_count": 204,
   "metadata": {
    "code_folding": []
   },
   "outputs": [
    {
     "data": {
      "image/png": "[encoded data removed]",
      "text/plain": [
       "<Figure size 720x720 with 1 Axes>"
      ]
     },
     "metadata": {
      "needs_background": "light"
     },
     "output_type": "display_data"
    }
   ],
   "source": [
    "#-- Testing --#\n",
    "numTurbs = 25\n",
    "vertexPts = bndryPts[vertexList[0:4]]  # Make an array of just the four \"vertex\" points we're using\n",
    "turbRandoList = iea37cs3randomstarts(numTurbs, splineList, vertexPts, turb_diam)\n",
    "\n",
    "#-- Print the random turbine locations (with numbers) --#\n",
    "#-- Plot the boundary --#\n",
    "for i in range(numSides):\n",
    "    plt.hold = True\n",
    "    printBoundaryArray(segCoordList[i].x, splineList[i](segCoordList[i].x), displaySize, 5)\n",
    "\n",
    "#-- Plot the turbine locations --#\n",
    "printTurbines(turbRandoList, getPltClrs().getColor(1), turb_diam/2)\n",
    "for i in range(len(turbRandoList)):         # Number the turbines\n",
    "    plt.annotate(i, (turbRandoList[i].x, turbRandoList[i].y), xytext=printOffset, textcoords='offset points')\n",
    "#-- End print of turbine locations--#\n"
   ]
  },
  {
   "cell_type": "markdown",
   "metadata": {
    "heading_collapsed": true
   },
   "source": [
    "### Retest of notebook `bakerIEA37cs3-10-cs3workout`\n",
    "\n",
    "`1601.14.Apr.20`"
   ]
  },
  {
   "cell_type": "markdown",
   "metadata": {
    "hidden": true
   },
   "source": [
    "The following is making sure the functions written in notebook `10` carried over when saved into the `sandbox` header file. I just call the functions and ensure they give the same output:"
   ]
  },
  {
   "cell_type": "code",
   "execution_count": 70,
   "metadata": {
    "hidden": true
   },
   "outputs": [
    {
     "data": {
      "image/png": "[encoded data removed]",
      "text/plain": [
       "<Figure size 432x288 with 1 Axes>"
      ]
     },
     "metadata": {
      "needs_background": "light"
     },
     "output_type": "display_data"
    }
   ],
   "source": [
    "newVertices = makeSimpleCs3Bndry(clsdBP)\n",
    "colorNum = 5\n",
    "printBoundaryClr(clsdBP, colorNum)\n",
    "printBoundaryClr(newVertices, colorNum+1)\n",
    "#plt.savefig(\"./figures/ConcaveBoundary.pdf\", bbox_inches='tight')"
   ]
  },
  {
   "cell_type": "code",
   "execution_count": 72,
   "metadata": {
    "code_folding": [
     0
    ],
    "hidden": true
   },
   "outputs": [
    {
     "data": {
      "text/plain": [
       "(-1.0722076220940426,\n",
       " 0.8912361943135312,\n",
       " -1.0859154832602076,\n",
       " 0.8042251484643573)"
      ]
     },
     "execution_count": 72,
     "metadata": {},
     "output_type": "execute_result"
    },
    {
     "data": {
      "image/png": "[encoded data removed]",
      "text/plain": [
       "<Figure size 432x288 with 1 Axes>"
      ]
     },
     "metadata": {
      "needs_background": "light"
     },
     "output_type": "display_data"
    }
   ],
   "source": [
    "# Plot the Normals\n",
    "BndryNormals = bndryNormals(newVertices)\n",
    "for i in range(4):\n",
    "    plt.plot([0,BndryNormals[i][0]], [0,BndryNormals[i][1]])\n",
    "\n",
    "plt.axis('scaled')                      # Trim the white space\n",
    "plt.axis('off')                         # Turn off the framing\n",
    "#plt.savefig(\"./figures/FaceNormals.pdf\", bbox_inches='tight')"
   ]
  },
  {
   "cell_type": "code",
   "execution_count": 75,
   "metadata": {
    "code_folding": [
     0
    ],
    "hidden": true
   },
   "outputs": [
    {
     "name": "stdout",
     "output_type": "stream",
     "text": [
      "[0. 0. 0. 1. 1. 0. 0. 1. 1. 0. 0. 1. 1. 0. 0. 1. 1. 1. 0. 0. 0. 0. 0. 0.\n",
      " 0.]\n"
     ]
    },
    {
     "data": {
      "image/png": "[encoded data removed]",
      "text/plain": [
       "<Figure size 432x288 with 1 Axes>"
      ]
     },
     "metadata": {
      "needs_background": "light"
     },
     "output_type": "display_data"
    }
   ],
   "source": [
    "#-- Check turbines are in bounds --#\n",
    "BndryNormals = bndryNormals(newVertices)\n",
    "[faceDist, bInside] = calcDistNorms(x0s, newVertices, BndryNormals)\n",
    "np.set_printoptions(suppress=True)\n",
    "#print(faceDist)\n",
    "print(bInside)\n",
    "\n",
    "printBoundaryClr(clsdBP, colorNum)\n",
    "#printTurbines(clsdBP, getPltClrs().getColor(5), 10) # Print the boundary verticies\n",
    "printBoundaryClr(newVertices, colorNum+1)\n",
    "printTurbines(x0s, getPltClrs().getColor(1), 10, True)\n",
    "#plt.savefig(\"./figures/BoundaryNumberedTurbs.pdf\", bbox_inches='tight')"
   ]
  },
  {
   "cell_type": "markdown",
   "metadata": {},
   "source": [
    "### Spacing Constraint\n",
    "I think there was a problem with my `checkTurbSpacing` function last time. I'll redo and check it here."
   ]
  },
  {
   "cell_type": "code",
   "execution_count": 207,
   "metadata": {
    "code_folding": [
     0
    ]
   },
   "outputs": [],
   "source": [
    "#-- Rewrite of checkTurbSpacing() --#\n",
    "from math import comb   # For calculating the number of combinations\n",
    "\n",
    "def checkTurbSpacing(turbCoords, fMinTurbDist):\n",
    "    #-- Returns an array of the distance between every pair of coordinates\n",
    "    #-- turbCoords should be of <coordinate> type.\n",
    "    nNumTurbs = len(turbCoords)         # Our number of turbines\n",
    "    nNumPairs = comb(nNumTurbs, 2)      # Number of unique turbine pairs > C(numTurbs, 2) = numTurbs! / (2*(numTurbs-2)!).\n",
    "    cTurbSpace = np.zeros(nNumPairs)    # Array holding the dist. between each pair\n",
    "    \n",
    "    nCntr = 0  # Logs where on the list we are\n",
    "    for i in range(nNumTurbs):          # For every turbine\n",
    "        for j in range(i):              # Check the pairs we haven't calculated\n",
    "            cTurbSpace[nCntr] = coordDist(turbCoords[i], turbCoords[j])\n",
    "            nCntr = nCntr + 1\n",
    "\n",
    "    constraints = cTurbSpace - fMinTurbDist    # Constrain that the turbines are less than 2 diams apart\n",
    "    return constraints  # Negative if ok, positive if too close"
   ]
  },
  {
   "cell_type": "code",
   "execution_count": 205,
   "metadata": {
    "code_folding": [
     0,
     1
    ]
   },
   "outputs": [
    {
     "name": "stdout",
     "output_type": "stream",
     "text": [
      "[1. 1. 1. 1. 1. 1. 1. 1. 1. 1. 1. 1. 1. 1. 1. 1. 1. 1. 1. 1. 1. 1. 1. 1.\n",
      " 1. 1. 1. 1. 1. 1. 1. 1. 1. 1. 1. 1. 1. 1. 1. 1. 1. 1. 1. 1. 1. 1. 1. 1.\n",
      " 1. 1. 1. 1. 1. 1. 1. 1. 1. 1. 1. 1. 1. 1. 1. 1. 1. 1. 1. 1. 1. 1. 1. 1.\n",
      " 1. 1. 1. 1. 1. 1. 1. 1. 1. 1. 1. 1. 1. 1. 1. 1. 1. 1. 1. 1. 1. 1. 1. 1.\n",
      " 1. 1. 1. 1. 1. 1. 1. 1. 1. 1. 1. 1. 1. 1. 1. 1. 1. 1. 1. 1. 1. 1. 1. 1.\n",
      " 1. 1. 1. 1. 1. 1. 1. 1. 1. 1. 1. 1. 1. 1. 1. 1. 1. 1. 1. 1. 1. 1. 1. 1.\n",
      " 1. 1. 1. 1. 1. 1. 1. 1. 1. 1. 1. 1. 1. 1. 1. 1. 1. 1. 1. 1. 1. 1. 1. 1.\n",
      " 1. 1. 1. 1. 1. 1. 1. 1. 1. 1. 1. 1. 1. 1. 1. 1. 1. 1. 1. 1. 1. 1. 1. 1.\n",
      " 1. 1. 1. 1. 1. 1. 1. 1. 1. 1. 1. 1. 1. 1. 1. 1. 1. 1. 1. 1. 1. 1. 1. 1.\n",
      " 1. 1. 1. 1. 1. 1. 1. 1. 1. 1. 1. 1. 1. 1. 1. 1. 1. 1. 1. 1. 1. 1. 1. 1.\n",
      " 1. 1. 1. 1. 1. 1. 1. 1. 1. 1. 1. 1. 1. 1. 1. 1. 1. 1. 1. 1. 1. 1. 1. 1.\n",
      " 1. 1. 1. 1. 1. 1. 1. 1. 1. 1. 1. 1. 1. 1. 1. 1. 1. 1. 1. 1. 1. 1. 1. 1.\n",
      " 1. 1. 1. 1. 1. 1. 1. 1. 1. 1. 1. 1.]\n",
      "\n"
     ]
    },
    {
     "data": {
      "image/png": "[encoded data removed]",
      "text/plain": [
       "<Figure size 720x720 with 1 Axes>"
      ]
     },
     "metadata": {
      "needs_background": "light"
     },
     "output_type": "display_data"
    }
   ],
   "source": [
    "#-- Validation of new checkTurbineSpacing() --#\n",
    "def nameTurbPairs(numTurbs):\n",
    "    #- Make an array logging all pair numbers -#\n",
    "    nNumPairs = comb(numTurbs, 2)\n",
    "    sPairNames = [\"\" for x in range(nNumPairs)]\n",
    "    nCntr = 0   # Just a counter to iterate where we are\n",
    "    for i in range(numTurbs):\n",
    "        for j in range((i+1), numTurbs):\n",
    "            sPairNames[nCntr] =  str(i) + ', ' + str(j)\n",
    "            nCntr = nCntr + 1\n",
    "\n",
    "    #-- Print the pari names to check --#\n",
    "    #for i in range(nNumPairs):\n",
    "    #    print(sPairNames[i])\n",
    "    #print()\n",
    "\n",
    "    return sPairNames\n",
    "\n",
    "#---- Validation ----#\n",
    "#-- Plot the boundary --#\n",
    "for i in range(numSides):\n",
    "    plt.hold = True\n",
    "    printBoundaryArray(segCoordList[i].x, splineList[i](segCoordList[i].x), displaySize, 5)\n",
    "#-- Print the Turbines --#\n",
    "printTurbines(turbRandoList, getPltClrs().getColor(1), turb_diam/2, True)\n",
    "\n",
    "#-- Calculate spacing constraints --#\n",
    "consTurbSpacing = checkTurbSpacing(turbRandoList, 2*turb_diam) # Get the turbine spacing constraints\n",
    "sPairNames = nameTurbPairs(numTurbs)               # Get the pair name list\n",
    "\n",
    "bSpacing = np.ones(nNumPairs) # Boolean array counting how many are too close\n",
    "nGood = 0   # Number of close pairs\n",
    "#- Check which were negative -#\n",
    "for i in range(nNumPairs):\n",
    "    if (consTurbSpacing[i] < 0):\n",
    "        bSpacing[i] = False\n",
    "        nGood = nGood + 1\n",
    "\n",
    "#-- Print if there are violations --#\n",
    "for i in range(nNumPairs):\n",
    "    if (bSpacing[i] == False):\n",
    "        print(sPairNames[i])\n",
    "        print(consTurbSpacing[i])\n",
    "        print()\n",
    "\n",
    "print(bSpacing)\n",
    "print()"
   ]
  },
  {
   "cell_type": "markdown",
   "metadata": {},
   "source": [
    "`0940.09.Apr.20`\n",
    "\n",
    "`checkTurbSpacing()` works. I commented out the part of `iea37cs3randomstarts()` that checks for spacing (the last `for` loop) and then ran the check, and it popped for the correct turbine pairs. Of note, it only checks each pair once. So if turb #1 and turb #5 are too close, it only logs one violation, not two.\n",
    "\n",
    "`1133.15.Apr.20`\n",
    "\n",
    "I was incorrect before. There definitely was a problem using the `ssd.pdist` function for checking spacing, it was giving false negatives. I hade to rewrite `checkTurbSpacing()` with a less efficient double for-loop to ensure it works correctly."
   ]
  },
  {
   "cell_type": "markdown",
   "metadata": {},
   "source": [
    "### Putting it all together\n",
    "\n",
    "`0946.09.Apr.20` I've really just got to get this done.\n",
    "\n",
    "Now that I'm sure the turbine spacing constraint works and the boundary constraint works, I've gotta code up the optimization.\n",
    "\n",
    "`1423.09.Apr.20`\n",
    "\n",
    "So after lab meeting, Dr.~Ning and PJ directed me to the [PyOptSparse Tutorial](https://github.com/mdolab/pyoptsparse/blob/master/doc/tutorial.rst) which instructs me how to setup the optimization. The previous ones I was looking at (with SNOPT v7 and PyOpt) were incorrect, which is why I was having problems.\n",
    "\n",
    "They did a really smart thing I didn't know about to pass all the variables: they used a [`dict`](https://www.w3schools.com/python/python_dictionaries.asp) instead of one long string of variables. I was packing and unpacking values previously with my `optimoMakeArgTuples()` and `optimoStripArgTuples()`, but I should've just been passing the values aldeary tagges as a dictionary. Live and learn.\n"
   ]
  },
  {
   "cell_type": "code",
   "execution_count": 151,
   "metadata": {},
   "outputs": [
    {
     "name": "stdout",
     "output_type": "stream",
     "text": [
      "Dictionary Values:\n",
      "wdf: [0.0312 0.026  0.0255 0.0253 0.0297 0.0397 0.0506 0.051  0.0415 0.0414\n",
      " 0.0522 0.0634 0.0706 0.0723 0.0697 0.0668 0.0676 0.0677 0.0613 0.0464]\n",
      "td:  198.0\n",
      "tci: 4.0\n",
      "tco: 25.0\n",
      "rws: 11.0\n",
      "rpr: 10000000.0\n",
      "AEP: 1.0\n",
      "TCs: 1.0\n",
      "TC:  [( 9649.55509596, 3800.43565207) ( 7116.78947092, 4183.11599194)\n",
      " ( 7997.32880363, 2915.0399419 ) ( 6205.47171692, 3289.31125204)\n",
      " ( 8459.96908245, 4492.07652203) ( 7015.32663682, 2995.24056219)\n",
      " (10295.24575054, 6270.98025532) ( 8609.83829634, 2167.95284358)\n",
      " ( 6655.33199346, 3557.58728167) ( 8885.85800773, 2459.72598968)\n",
      " ( 8558.53112459, 6395.31558222) ( 7901.16386234, 5345.23545629)\n",
      " ( 7800.15387563, 2483.63987697) ( 7587.52063941, 3202.5872514 )\n",
      " (10169.62773217, 5733.07159367) ( 7559.86428208, 4666.1261987 )\n",
      " ( 6520.1050531 , 3027.1345492 ) ( 8906.24326963, 5793.1877057 )\n",
      " ( 9351.33696622, 3055.88352784) ( 9390.45304063, 5217.75725659)\n",
      " ( 9662.15937263, 2795.55157502) ( 8397.07158431, 1562.76858067)\n",
      " ( 7629.13987334, 3847.39333895) ( 8742.60372145, 4147.07603396)\n",
      " ( 9891.95731106, 4166.73513135)]\n",
      "Normals: [(-0.98296018,  0.18381864) ( 0.69572353,  0.71830967)\n",
      " ( 0.80198875, -0.59733914) ( 0.        , -1.        )]\n",
      "BndryVerts: [(10285.68793805, 6072.6       ) ( 9204.17753667,  289.28198992)\n",
      " ( 6098.3       , 3297.5       ) ( 8165.25648869, 6072.6       )\n",
      " (10285.68793805, 6072.6       )]\n"
     ]
    }
   ],
   "source": [
    "def snoptMakeArgDict(wind_dir_freq, wind_speeds, wind_speed_probs, \\\n",
    "                     wind_dir, turb_diam, turb_ci, turb_co, rated_ws, \\\n",
    "                     rated_pwr, fAEPscale, fTCscale, turbCoords, cncvNorms, cncvVerts):\n",
    "    ieq37Dict = dict([('wind_dir_freq', wind_dir_freq), \\\n",
    "                      ('wind_speeds', wind_speeds), \\\n",
    "                      ('wind_speed_probs', wind_speed_probs), \\\n",
    "                      ('wind_dir', wind_dir), \\\n",
    "                      ('turb_diam', turb_diam), \\\n",
    "                      ('turb_ci', turb_ci), \\\n",
    "                      ('turb_co', turb_co), \\\n",
    "                      ('rated_ws', rated_ws), \\\n",
    "                      ('rated_pwr', rated_pwr), \\\n",
    "                      ('fAEPscale', fAEPscale), \\\n",
    "                      ('fTCscale', fTCscale), \\\n",
    "                      ('turbCoords', turbCoords), \\\n",
    "                      ('cncvNorms', cncvNorms), \\\n",
    "                      ('cncvVerts', cncvVerts)])\n",
    "\n",
    "    return ieq37Dict\n",
    "\n",
    "\n",
    "#--- Testing ---#\n",
    "#-- Load Everything --#\n",
    "fn = \"iea37-boundary-cs3.yaml\"\n",
    "bndryPts = getTurbAtrbtCs3YAML(fn)      # Pull the boundary vertices\n",
    "clsdBP = closeBndryList(bndryPts)       # repeat the first so it's 'closed'\n",
    "cncvVerts = makeSimpleCs3Bndry(clsdBP)  # Make the simplified Concave shape\n",
    "cncvNorms = bndryNormals(cncvVerts)   # Calculate the normals for the concave shape\n",
    "#- Load the turbine and windrose atributes -#\n",
    "fname_turb = \"iea37-10mw.yaml\"\n",
    "fname_wr = \"iea37-windrose-cs3.yaml\"\n",
    "wind_dir, wind_dir_freq, wind_speeds, wind_speed_probs, num_speed_bins, min_speed, max_speed = iea37aepC.getWindRoseYAML(fname_wr)\n",
    "turb_ci, turb_co, rated_ws, rated_pwr, turb_diam = iea37aepC.getTurbAtrbtYAML(fname_turb)\n",
    "turbCoords = turbRandoList    # Use the random locations calculated above\n",
    "numTurbs = len(turbCoords)\n",
    "\n",
    "fAEPscale = 1.0\n",
    "fTCscale = 1.0\n",
    "\n",
    "xDict = snoptMakeArgDict(wind_dir_freq, wind_speeds, wind_speed_probs, wind_dir, turb_diam, turb_ci, turb_co, rated_ws, rated_pwr, fAEPscale, fTCscale, turbCoords, cncvNorms, cncvVerts)\n",
    "print(\"Dictionary Values:\")\n",
    "print(\"wdf: \" + str(xDict['wind_dir_freq']))\n",
    "print(\"td:  \" + str(xDict['turb_diam']))\n",
    "print(\"tci: \" + str(xDict['turb_ci']))\n",
    "print(\"tco: \" + str(xDict['turb_co']))\n",
    "print(\"rws: \" + str(xDict['rated_ws']))\n",
    "print(\"rpr: \" + str(xDict['rated_pwr']))\n",
    "print(\"AEP: \" + str(xDict['fAEPscale']))\n",
    "print(\"TCs: \" + str(xDict['fTCscale']))\n",
    "print(\"TC:  \" + str(xDict['turbCoords']))\n",
    "print(\"Normals: \"+ str(xDict['cncvNorms']))\n",
    "print(\"BndryVerts: \" + str(xDict['cncvVerts']))\n",
    "\n"
   ]
  },
  {
   "cell_type": "markdown",
   "metadata": {},
   "source": [
    "`1519.09.Apr.20`\n",
    "\n",
    "Well the dictionary thing works. Might need some tweaks moving forward, but time to code up the optimization. "
   ]
  },
  {
   "cell_type": "code",
   "execution_count": 105,
   "metadata": {
    "code_folding": [
     0
    ]
   },
   "outputs": [],
   "source": [
    "#-- Setting up the dictionary function for the optimization --#\n",
    "from pyoptsparse import Optimization, SNOPT, pyOpt_solution, NSGA2\n",
    "\n",
    "# Inputs needed:\n",
    "# turbine coords, splines for walls (to check boundaries)\n",
    "def cs3posObjFun(posDict):\n",
    "    #- Target function (AEP calculation) -#\n",
    "    x0s = posDict['turbCoords']\n",
    "    fScaleFactorAEP = posDict['fAEPscale']\n",
    "    nTurbs = len(x0s) # get the number of turbines\n",
    "    nPairs = comb(nTurbs, 2) # Number of unique turbine pairs\n",
    "    funcs = {}\n",
    "    x0m = makeCoordMatrix(makeCoordArray(x0s))\n",
    "    AEP = iea37aepC.calcAEPcs3(x0m, posDict['wind_dir_freq'], posDict['wind_speeds'], posDict['wind_speed_probs'], posDict['wind_dir'], posDict['turb_diam'], posDict['turb_ci'], posDict['turb_co'], posDict['rated_ws'], posDict['rated_pwr'])\n",
    "    funcs['obj'] = - (AEP / fScaleFactorAEP) # Negative to minimize\n",
    "    \n",
    "    #- Prep data for constraints -#\n",
    "    x0 = makeCoordArray(x0s)\n",
    "    fScaleFactorTurbLoc = posDict['fTCscale']\n",
    "    funcs['bndry'] = calcDistNorms(x0s, posDict['cncvVerts'], posDict['cncvNorms'])\n",
    "    funcs['spacing'] = checkTurbSpacing(x0, turb_diam)\n",
    "    \n",
    "    #- Constraints (Pairwise distance [C(numTurbs, 2)], and all boundary checks [4* numTurbs]) -#\n",
    "    #nBndryCnstr = nTurbs * 4 # each turbine (25) has one constraint for each boundary (4)\n",
    "    #nSpaceCnstr = nPairs\n",
    "    #conval = [0]*(nBndryCnstr + nSpaceCnstr)\n",
    "    # List all the boundary and spacing constraints\n",
    "    #conval = np.concatenate(cnstrSpacing, nBndryCnstr)\n",
    "    #funcs['con'] = conval\n",
    "    \n",
    "    fail = False\n",
    "\n",
    "    return funcs, fail"
   ]
  },
  {
   "cell_type": "markdown",
   "metadata": {},
   "source": [
    "Setup some of the bounds on the optimization variables:"
   ]
  },
  {
   "cell_type": "code",
   "execution_count": 141,
   "metadata": {
    "code_folding": [
     0
    ]
   },
   "outputs": [
    {
     "name": "stdout",
     "output_type": "stream",
     "text": [
      "x-min: 6098.3\n",
      "x-max: 10285.68793805364\n",
      "y-min: 289.2819899215884\n",
      "y-max: 6072.6\n",
      "[(10285.68793805, 6072.6       ) ( 9204.17753667,  289.28198992)\n",
      " ( 6098.3       , 3297.5       ) ( 8165.25648869, 6072.6       )]\n"
     ]
    },
    {
     "data": {
      "image/png": "[encoded data removed]",
      "text/plain": [
       "<Figure size 432x288 with 1 Axes>"
      ]
     },
     "metadata": {
      "needs_background": "light"
     },
     "output_type": "display_data"
    }
   ],
   "source": [
    "#-- Get bounds on (x,y) TC design variables --#\n",
    "minTCx = min(xDict['cncvVerts'].x)\n",
    "maxTCx = max(xDict['cncvVerts'].x)\n",
    "minTCy = min(xDict['cncvVerts'].y)\n",
    "maxTCy = max(xDict['cncvVerts'].y)\n",
    "#- print values to check -#\n",
    "print(\"x-min: \" + str(minTCx))\n",
    "print(\"x-max: \" + str(maxTCx))\n",
    "print(\"y-min: \" + str(minTCy))\n",
    "print(\"y-max: \" + str(maxTCy))\n",
    "print(xDict['cncvVerts'][0:4])\n",
    "\n",
    "#-- print visual --#\n",
    "newVertices = makeSimpleCs3Bndry(clsdBP)\n",
    "colorNum = 5\n",
    "printBoundaryClr(newVertices, colorNum)\n",
    "printTurbines(newVertices[0:4], getPltClrs().getColor(6), 10, True)"
   ]
  },
  {
   "cell_type": "markdown",
   "metadata": {},
   "source": [
    "Execute the optimization:"
   ]
  },
  {
   "cell_type": "code",
   "execution_count": 122,
   "metadata": {},
   "outputs": [
    {
     "ename": "IndexError",
     "evalue": "too many indices for array",
     "output_type": "error",
     "traceback": [
      "\u001b[0;31m---------------------------------------------------------------------------\u001b[0m",
      "\u001b[0;31mIndexError\u001b[0m                                Traceback (most recent call last)",
      "\u001b[0;32m<ipython-input-122-450ed5e70caa>\u001b[0m in \u001b[0;36m<module>\u001b[0;34m\u001b[0m\n\u001b[1;32m      2\u001b[0m \u001b[0;31m#- Necessary Constants -#\u001b[0m\u001b[0;34m\u001b[0m\u001b[0;34m\u001b[0m\u001b[0;34m\u001b[0m\u001b[0m\n\u001b[1;32m      3\u001b[0m \u001b[0mnumTurbs\u001b[0m \u001b[0;34m=\u001b[0m \u001b[0mlen\u001b[0m\u001b[0;34m(\u001b[0m\u001b[0mturbRandoList\u001b[0m\u001b[0;34m)\u001b[0m\u001b[0;34m\u001b[0m\u001b[0;34m\u001b[0m\u001b[0m\n\u001b[0;32m----> 4\u001b[0;31m \u001b[0mminTCx\u001b[0m \u001b[0;34m=\u001b[0m \u001b[0mmin\u001b[0m\u001b[0;34m(\u001b[0m\u001b[0mxDict\u001b[0m\u001b[0;34m[\u001b[0m\u001b[0;34m'cncvVerts'\u001b[0m\u001b[0;34m]\u001b[0m\u001b[0;34m[\u001b[0m\u001b[0;34m:\u001b[0m\u001b[0;34m,\u001b[0m\u001b[0;36m0\u001b[0m\u001b[0;34m]\u001b[0m\u001b[0;34m)\u001b[0m\u001b[0;34m\u001b[0m\u001b[0;34m\u001b[0m\u001b[0m\n\u001b[0m\u001b[1;32m      5\u001b[0m \u001b[0mmaxTCx\u001b[0m \u001b[0;34m=\u001b[0m \u001b[0mmax\u001b[0m\u001b[0;34m(\u001b[0m\u001b[0mxDict\u001b[0m\u001b[0;34m[\u001b[0m\u001b[0;34m'cncvVerts'\u001b[0m\u001b[0;34m]\u001b[0m\u001b[0;34m[\u001b[0m\u001b[0;34m:\u001b[0m\u001b[0;34m,\u001b[0m\u001b[0;36m0\u001b[0m\u001b[0;34m]\u001b[0m\u001b[0;34m)\u001b[0m\u001b[0;34m\u001b[0m\u001b[0;34m\u001b[0m\u001b[0m\n\u001b[1;32m      6\u001b[0m \u001b[0mprint\u001b[0m\u001b[0;34m(\u001b[0m\u001b[0mminTCx\u001b[0m\u001b[0;34m)\u001b[0m\u001b[0;34m\u001b[0m\u001b[0;34m\u001b[0m\u001b[0m\n",
      "\u001b[0;32m~/miniconda2/lib/python3.8/site-packages/numpy/core/records.py\u001b[0m in \u001b[0;36m__getitem__\u001b[0;34m(self, indx)\u001b[0m\n\u001b[1;32m    516\u001b[0m \u001b[0;34m\u001b[0m\u001b[0m\n\u001b[1;32m    517\u001b[0m     \u001b[0;32mdef\u001b[0m \u001b[0m__getitem__\u001b[0m\u001b[0;34m(\u001b[0m\u001b[0mself\u001b[0m\u001b[0;34m,\u001b[0m \u001b[0mindx\u001b[0m\u001b[0;34m)\u001b[0m\u001b[0;34m:\u001b[0m\u001b[0;34m\u001b[0m\u001b[0;34m\u001b[0m\u001b[0m\n\u001b[0;32m--> 518\u001b[0;31m         \u001b[0mobj\u001b[0m \u001b[0;34m=\u001b[0m \u001b[0msuper\u001b[0m\u001b[0;34m(\u001b[0m\u001b[0mrecarray\u001b[0m\u001b[0;34m,\u001b[0m \u001b[0mself\u001b[0m\u001b[0;34m)\u001b[0m\u001b[0;34m.\u001b[0m\u001b[0m__getitem__\u001b[0m\u001b[0;34m(\u001b[0m\u001b[0mindx\u001b[0m\u001b[0;34m)\u001b[0m\u001b[0;34m\u001b[0m\u001b[0;34m\u001b[0m\u001b[0m\n\u001b[0m\u001b[1;32m    519\u001b[0m \u001b[0;34m\u001b[0m\u001b[0m\n\u001b[1;32m    520\u001b[0m         \u001b[0;31m# copy behavior of getattr, except that here\u001b[0m\u001b[0;34m\u001b[0m\u001b[0;34m\u001b[0m\u001b[0;34m\u001b[0m\u001b[0m\n",
      "\u001b[0;31mIndexError\u001b[0m: too many indices for array"
     ]
    }
   ],
   "source": [
    "#-- Testing it's set up right --#\n",
    "#- Necessary Constants -#\n",
    "numTurbs = len(turbRandoList) # get the number of turbines\n",
    "numPairs = comb(nTurbs, 2) # Number of unique turbine pairs\n",
    "minTCx = min(xDict['cncvVerts'].x)\n",
    "maxTCx = max(xDict['cncvVerts'].x)\n",
    "minTCy = min(xDict['cncvVerts'].y)\n",
    "maxTCy = max(xDict['cncvVerts'].y)\n",
    "\n",
    "testAEP = iea37aepC.calcAEPcs3(makeCoordMatrix(makeCoordArray(turbRandoList)), wind_dir_freq, wind_speeds, wind_speed_probs, wind_dir, turb_diam, turb_ci, turb_co, rated_ws, rated_pwr)\n",
    "print(\"Straight AEP: \" + str(sum(testAEP)))\n",
    "[testFuncs,_]  = cs3posObjFun(xDict)\n",
    "print(\"ObjFun AEP:   \" + str(sum(testFuncs['obj'])))\n",
    "\n",
    "optProb = Optimization('CaseStudy3', cs3posObjFun)\n",
    "#-- Strip x- and y- turbine coordinates and treat them separately --#\n",
    "optProb.addVarGroup('x-vals', numTurbs, type='c', lower=minTCx, upper=maxTCx, value =xDict['turbCoords'].x)\n",
    "optProb.addVarGroup('y-vals', numTurbs, type='c', lower=minTCy, upper=maxTCy, value =xDict['turbCoords'].y)\n",
    "#-- add our boundary constraint --#\n",
    "optProb.addConGroup('bndry',   numTurbs, lower=0.0, upper=None)\n",
    "#-- add our spacing constrain --#\n",
    "optProb.addConGroup('spacing', numPairs, lower=0.0, upper=None)\n",
    "\n",
    "#optProb.addObj('obj')\n",
    "##print(optProb)\n",
    "#opt = pyoptsparse.SNOPT()\n",
    "#sol = opt(optProb, sens='FD')\n",
    "#print(sol)"
   ]
  },
  {
   "cell_type": "code",
   "execution_count": null,
   "metadata": {},
   "outputs": [],
   "source": []
  },
  {
   "cell_type": "markdown",
   "metadata": {},
   "source": [
    "# ToDo:\n",
    "\n",
    "Scale AEP for optimizer.\n",
    "Scale Turbine Coordinates for optimizer"
   ]
  }
 ],
 "metadata": {
  "kernelspec": {
   "display_name": "Python 3",
   "language": "python",
   "name": "python3"
  },
  "language_info": {
   "codemirror_mode": {
    "name": "ipython",
    "version": 3
   },
   "file_extension": ".py",
   "mimetype": "text/x-python",
   "name": "python",
   "nbconvert_exporter": "python",
   "pygments_lexer": "ipython3",
   "version": "3.8.2"
  }
 },
 "nbformat": 4,
 "nbformat_minor": 2
}
