{
 "cells": [
  {
   "cell_type": "markdown",
   "metadata": {},
   "source": [
    "# Implementation 02 (SNOPT)\n",
    "`1011.30.Mar.20`"
   ]
  },
  {
   "cell_type": "markdown",
   "metadata": {},
   "source": [
    "Now that I have the constraints set up (Both the new boundary and the function determining if a turbine is \"in\"), I can try and feed that into [SNOPT](https://web.stanford.edu/group/SOL/snopt.htm) to actually get an optimization. I will also need to use  SNOPT for my old system as well."
   ]
  },
  {
   "cell_type": "markdown",
   "metadata": {},
   "source": [
    "### Setting up my desktop"
   ]
  },
  {
   "cell_type": "markdown",
   "metadata": {},
   "source": [
    "`1255.01.Apr.20`\n",
    "\n",
    "I had some trouble finding examples of implementation code.\n",
    "I today reached out to PJ and he gave some sample code.\n",
    "I'm going over it now."
   ]
  },
  {
   "cell_type": "markdown",
   "metadata": {
    "heading_collapsed": true
   },
   "source": [
    "#### PJ's code"
   ]
  },
  {
   "cell_type": "markdown",
   "metadata": {
    "hidden": true
   },
   "source": [
    "```python\n",
    "from pyoptsparse import Optimization, SNOPT, pyOpt_solution, NSGA2\n",
    "import numpy as np\n",
    "import matplotlib.pyplot as plt\n",
    "from position_constraints import *\n",
    "from windRoses import *\n",
    "from grid_param_test import *\n",
    "from aep_calc import *\n",
    "import scipy as sp\n",
    "import os\n",
    "import sys\n",
    "sys.dont_write_bytecode = True\n",
    "def obj_func_grid(xdict):\n",
    "    global rotorDiameter\n",
    "    global turbineZ\n",
    "    global windDirections\n",
    "    global windSpeeds\n",
    "    global windFrequencies\n",
    "    global shearExp\n",
    "    global minSpacing\n",
    "    global nTurbs\n",
    "    global boundaryVertices\n",
    "    global boundaryNormals\n",
    "    global circle_radius\n",
    "    global rf\n",
    "    global wakemodel\n",
    "    global nRows\n",
    "    global turbs_per_row\n",
    "    global x_start\n",
    "    global anchor_x\n",
    "    global anchor_y\n",
    "    global nCalls\n",
    "    nCalls += 1\n",
    "    dx = xdict['dx']\n",
    "    dy = xdict['dy']\n",
    "    offset = xdict['offset']\n",
    "    rotate = xdict['rotate']\n",
    "    # scale = xdict['scale']\n",
    "    scale = 1.0\n",
    "    turbineX,turbineY = makeGrid_centered(dx,dy,offset,rotate,turbs_per_row,x_start)\n",
    "    if nCalls == 1:\n",
    "        print turbineX\n",
    "        print turbineY\n",
    "    show = False\n",
    "    if show == True:\n",
    "        plt.figure(1)\n",
    "        plt.clf()\n",
    "        for i in range(nTurbs):\n",
    "            circ = plt.Circle((turbineX[i],turbineY[i]), rotorDiameter[i]/2.,facecolor=\"blue\",edgecolor=\"blue\",alpha=0.2)\n",
    "            plt.gca().add_patch(circ)\n",
    "        # circ = plt.Circle((0.,0.), circle_radius,facecolor=\"None\",edgecolor=\"black\",alpha=0.8)\n",
    "        # plt.plot(np.array([-1800.,-1800.,1800.,1800.,-1800]),np.array([-1800.,1800.,1800.,-1800.,-1800.]),'-k')\n",
    "        # plt.gca().add_patch(circ)\n",
    "        # plt.xlim(-2200.,2200.)\n",
    "        xb = boundaryVertices[:,0]\n",
    "        yb = boundaryVertices[:,1]\n",
    "        xb = np.append(xb,xb[0])\n",
    "        yb = np.append(yb,yb[0])\n",
    "        plt.plot(xb,yb,'--k')\n",
    "        plt.axis('equal')\n",
    "        plt.axis('off')\n",
    "        plt.draw()\n",
    "        plt.pause(0.001)\n",
    "    funcs = {}\n",
    "    AEP = fast_calc_AEP(turbineX, turbineY, turbineZ, rotorDiameter, windDirections,\n",
    "                windSpeeds, windFrequencies, wakemodel=wakemodel,relaxationFactor=rf)\n",
    "    print -AEP/1.E5\n",
    "    funcs['obj'] = -AEP/1.E5\n",
    "    funcs['sep'] = SpacingConstraint(turbineX, turbineY, rotorDiameter, minSpacing=minSpacing)/1.E5\n",
    "    bounds = arbitraryBoundary(turbineX, turbineY, boundaryVertices, boundaryNormals)/1.E3\n",
    "    b = np.zeros(np.shape(bounds)[0])\n",
    "    for i in range(len(b)):\n",
    "        b[i] = min(bounds[i])\n",
    "    funcs['bound'] = b\n",
    "    fail = False\n",
    "    return funcs, fail\n",
    "## Main\n",
    "if __name__ == \"__main__\":\n",
    "    global rotorDiameter\n",
    "    global turbineZ\n",
    "    global windDirections\n",
    "    global windSpeeds\n",
    "    global windFrequencies\n",
    "    global shearExp\n",
    "    global minSpacing\n",
    "    global nTurbs\n",
    "    global boundaryVertices\n",
    "    global boundaryNormals\n",
    "    global circle_radius\n",
    "    global rf\n",
    "    global wakemodel\n",
    "    global nRows\n",
    "    global turbs_per_row\n",
    "    global x_start\n",
    "    global anchor_x\n",
    "    global anchor_y\n",
    "    global nCalls\n",
    "    wakemodel = \"gaussian\"\n",
    "    nTurbs = 100\n",
    "    rose = 'ukiah'\n",
    "    windDirections, windFrequencies, windSpeeds = ukiahRose(30)\n",
    "    wind_angle = windDirections[np.argmax(windFrequencies)]\n",
    "    windDirections, windFrequencies, windSpeeds = ukiahRose(30,nSpeeds=8)\n",
    "    windDirections -= wind_angle\n",
    "    turbineZ = np.ones(nTurbs)*100.\n",
    "    rotorDiameter = np.ones(nTurbs)*130.\n",
    "    shearExp = 0.15\n",
    "    minSpacing = 2.0\n",
    "    maxAEP = 0.\n",
    "    spacing = 4.\n",
    "    side_length = (np.sqrt(nTurbs)-1.)*rotorDiameter[0]*spacing\n",
    "    a = side_length**2\n",
    "    circle_radius = np.sqrt(a/np.pi)\n",
    "    # folder = 'grid_square_%s_%s_%s_%s'%(nTurbs,spacing,rose,wakemodel)\n",
    "    # folder = 'grid4_square_%s_%s_%s_%s'%(nTurbs,spacing,rose,wakemodel)\n",
    "    #\n",
    "    # if not os.path.exists(folder):\n",
    "    #     os.makedirs(folder)\n",
    "    \"\"\"circle boundary\"\"\"\n",
    "    nBounds = 20\n",
    "    # circle_radius = 5280.\n",
    "    xBounds = np.zeros(nBounds)\n",
    "    yBounds = np.zeros(nBounds)\n",
    "    theta = np.linspace(0.,2.*np.pi-2.*np.pi/float(nBounds),nBounds)\n",
    "    for i in range(nBounds):\n",
    "        xBounds[i] = circle_radius*np.cos(theta[i])\n",
    "        yBounds[i] = circle_radius*np.sin(theta[i])\n",
    "    x = np.zeros_like(xBounds)\n",
    "    x[:] = xBounds[:]\n",
    "    y = np.zeros_like(yBounds)\n",
    "    y[:] = yBounds[:]\n",
    "    xBounds = x*np.cos(np.deg2rad(wind_angle)) - y*np.sin(np.deg2rad(wind_angle))\n",
    "    yBounds = x*np.sin(np.deg2rad(wind_angle)) + y*np.cos(np.deg2rad(wind_angle))\n",
    "    \"\"\"square boundary rotated 30 deg from dominant wind direction\"\"\"\n",
    "    # nBounds = 4\n",
    "    # x = np.array([-side_length/2.,side_length/2.,side_length/2.,-side_length/2.])\n",
    "    # y = np.array([-side_length/2.,-side_length/2.,side_length/2.,side_length/2.])\n",
    "    # xBounds = x*np.cos(np.deg2rad(30.)) - y*np.sin(np.deg2rad(30.))\n",
    "    # yBounds = x*np.sin(np.deg2rad(30.)) + y*np.cos(np.deg2rad(30.))\n",
    "    # locations = np.zeros((nBounds,2))\n",
    "    # locations[:, 0] = xBounds\n",
    "    # locations[:, 1] = yBounds\n",
    "    # boundaryVertices, boundaryNormals = calculate_boundary(locations)\n",
    "    \"\"\"amalia boundary\"\"\"\n",
    "    # locations = np.loadtxt('layout_amalia.txt')\n",
    "    # xBounds = locations[:, 0]\n",
    "    # yBounds = locations[:, 1]\n",
    "    # xBounds = xBounds - min(xBounds) - (max(xBounds)-min(xBounds))/2.\n",
    "    # yBounds = yBounds - min(yBounds) - (max(yBounds)-min(yBounds))/2.\n",
    "    # locations[:, 0] = xBounds\n",
    "    # locations[:, 1] = yBounds\n",
    "    # boundaryVertices, boundaryNormals = calculate_boundary(locations)\n",
    "    # xBounds = boundaryVertices[:, 0]\n",
    "    # yBounds = boundaryVertices[:, 1]\n",
    "    nBounds = len(xBounds)\n",
    "    points = np.zeros((nBounds,2))\n",
    "    points[:, 0] = xBounds\n",
    "    points[:, 1] = yBounds\n",
    "    # hull = sp.spatial.ConvexHull(points)\n",
    "    # area = hull.volume\n",
    "    # area_ratio = area/(np.pi*circle_radius**2)\n",
    "    # xBounds = xBounds/np.sqrt(area_ratio)\n",
    "    # yBounds = yBounds/np.sqrt(area_ratio)\n",
    "    # points[:, 0] = xBounds\n",
    "    # points[:, 1] = yBounds\n",
    "    # boundaryVertices, boundaryNormals = calculate_boundary(points)\n",
    "    xBounds = np.append(xBounds,xBounds[0])\n",
    "    yBounds = np.append(yBounds,yBounds[0])\n",
    "    dx_start,dy_start,offset_start,rotate_start,turbs_per_row,x_start = make_start_grid_test(nTurbs,boundaryVertices,boundaryNormals)\n",
    "    factors = np.array([3.0,2.75,2.5,2.25,2.0,1.75,1.5,1.25,1.0])\n",
    "    rf = 1.0\n",
    "    num = 1\n",
    "    nCalls = 0\n",
    "    for i in range(num):\n",
    "        print 'iterations: ', i\n",
    "        # dx = float(np.random.rand(1))*dx_start+200.\n",
    "        # dy = float(np.random.rand(1))*dy_start+200.\n",
    "        # offset = float(np.random.rand(1))*25.+10.\n",
    "        # rotate = float(np.random.rand(1))*30.-15.\n",
    "        dx = dx_start\n",
    "        dy = dy_start\n",
    "        offset = offset_start\n",
    "        rotate = rotate_start\n",
    "        input = {'dx':dx,'dy':dy,'offset':offset,'rotate':rotate}\n",
    "        funcs,_ = obj_func_grid(input)\n",
    "        AEPstart = funcs['obj']\n",
    "        print AEPstart\n",
    "        nCalls = 0\n",
    "        \"\"\"Optimization\"\"\"\n",
    "        optProb = Optimization('Wind_Farm_AEP', obj_func_grid)\n",
    "        optProb.addObj('obj')\n",
    "        optProb.addVar('dx', type='c', lower=0., upper=None, value=dx)\n",
    "        optProb.addVar('dy', type='c', lower=0., upper=None, value=dy)\n",
    "        optProb.addVar('offset', type='c', lower=None, upper=None, value=offset)\n",
    "        optProb.addVar('rotate', type='c', lower=None, upper=None, value=rotate)\n",
    "        num_cons_sep = (nTurbs-1)*nTurbs/2\n",
    "        optProb.addConGroup('sep', num_cons_sep, lower=0., upper=None)\n",
    "        optProb.addConGroup('bound', nTurbs, lower=0., upper=None)\n",
    "        opt = SNOPT()\n",
    "        opt.setOption('Scale option',0)\n",
    "        opt.setOption('Iterations limit',1000000)\n",
    "        opt.setOption('Summary file','summary_grid.out')\n",
    "        opt.setOption('Major optimality tolerance',1.e-5)\n",
    "        opt.setOption('Major feasibility tolerance',1.e-6)\n",
    "        res = opt(optProb)\n",
    "        dx_f = res.xStar['dx']\n",
    "        dy_f = res.xStar['dy']\n",
    "        o_f = res.xStar['offset']\n",
    "        r_f = res.xStar['rotate']\n",
    "        # print 'dx_f: ', dx_f\n",
    "        # print 'dy_f: ', dy_f\n",
    "        # print 'offset_f: ', o_f\n",
    "        # print 'rotate_f: ', r_f\n",
    "        print nCalls\n",
    "        input = {'dx':dx_f,'dy':dy_f,'offset':o_f,'rotate':r_f}\n",
    "        funcs,_ = obj_func_grid(input)\n",
    "        separation = min(funcs['sep'])\n",
    "        boundary = min(funcs['bound'])\n",
    "        if separation > -1.E-4 and boundary > -1.E-4 and -funcs['obj'] > maxAEP:\n",
    "            maxAEP = -funcs['obj']\n",
    "        if separation > -1.E-4 and boundary > -1.E-4:\n",
    "            print 'AEP opt: ', -funcs['obj']\n",
    "            # file = open('%s/AEP.txt'%folder, 'a')\n",
    "            # file.write('%s'%(-funcs['obj']) + '\\n')\n",
    "            # file.close()\n",
    "            #\n",
    "            # file = open('%s/funcCalls.txt'%folder, 'a')\n",
    "            # file.write('%s'%nCalls + '\\n')\n",
    "            # file.close()\n",
    "        print 'maxAEP: ', maxAEP\n",
    "    print 'final maxAEP: ', maxAEP\n",
    "    plt.show()\n",
    "```"
   ]
  },
  {
   "cell_type": "markdown",
   "metadata": {},
   "source": [
    "### More work"
   ]
  },
  {
   "cell_type": "markdown",
   "metadata": {},
   "source": [
    "`1357.01.Apr.20`\n",
    "\n",
    "I had an issue with installing pyOptSparse - I thought I had on monday, but apparently not.\n",
    "I think the issue was I installed Python 3 on this windows machine, but the FLOWLab only works in Python 2, so I needed to install that and change the environment with `activate py2` and `deactivate`.\n",
    "It's completing the installation now, we'll see if it worked."
   ]
  },
  {
   "cell_type": "markdown",
   "metadata": {},
   "source": [
    "`1307.03.Apr.20`\n",
    "\n",
    "I had to restart my system and apparently lost the last few days of logs, but it wasn't much. I've been trying to install SNOPT on my windows system and it just isn't working. I've got to call it at this point and move over to my laptop for working."
   ]
  },
  {
   "cell_type": "markdown",
   "metadata": {},
   "source": [
    "`1419.03.Apr.20`\n",
    "\n",
    "I prefer my keyboard, mouse, and monitor, and the laptop just can't connect to all those devices. Instead of buying yet another adapter, I opted to go with Chrome's remote desktop extension. It allows me to remote in to the macbook (there's a bit of lag), but I can code and run everything on here, while still using my main desktop for internet, background music, and everything else."
   ]
  },
  {
   "cell_type": "markdown",
   "metadata": {},
   "source": [
    "## Order of Events"
   ]
  },
  {
   "cell_type": "markdown",
   "metadata": {},
   "source": [
    "Ok I have the constraint functions set, I want to do 3 things from here out:\n",
    "\n",
    "1. Get SNOPT to optimize the smaller Dr. Ning area\n",
    "2. Get SNOPT to optimize my original full area\n",
    "3. Get my mapping algorithm working"
   ]
  },
  {
   "cell_type": "markdown",
   "metadata": {},
   "source": [
    "## SNOPT on Dr. Ning's area"
   ]
  },
  {
   "cell_type": "markdown",
   "metadata": {},
   "source": [
    "`0834.06.Apr.20`\n",
    "\n",
    "First I'll need to run the test files that wouldn't work on my desktop.\n",
    "\n",
    "`1259.08.Apr.2020`\n",
    "\n",
    "After conversing with Dr.~Ning, he told me since the lab has an old version of SNOPT, I need to retrograde and download an old version of [www.github.com/mdolab/pyoptsparse](PyOptSparse). After looking through the release history I installed [https://github.com/mdolab/pyoptsparse/releases/tag/v1.2](v1.2). The NLPQLP test failed, but at least the SNOPT test finally passed, so I'll keep moving forward. This took entirely too long to figure out.\n",
    "\n",
    "First thing to do is look at PJ's sample code that he gave me last week. (in markdowned code block below)."
   ]
  },
  {
   "cell_type": "markdown",
   "metadata": {},
   "source": [
    "`1756.08.Apr.20`\n",
    "\n",
    "I also am using a tutorial from [www.pyopt.org/tutorial](the pyOpt website).\n",
    "We'll see how it works.\n"
   ]
  },
  {
   "cell_type": "markdown",
   "metadata": {},
   "source": [
    "### Helper functions for formatting"
   ]
  },
  {
   "cell_type": "code",
   "execution_count": 12,
   "metadata": {},
   "outputs": [],
   "source": [
    "#- Rip the boundary coordinates from the .yaml file and print -#\n",
    "from scipy.optimize import minimize\n",
    "import scipy.spatial.distance as ssd\n",
    "import random\n",
    "\n",
    "%run 'baker_cs34_functions_sandbox.py'\n",
    "%run 'iea37_aepcalc.py'\n",
    "fn = \"iea37-boundary-cs3.yaml\"\n",
    "bndryPts = getTurbAtrbtCs3YAML(fn)\n",
    "coordList = closeBndryList(bndryPts)    # Duplicate the first coordinate for a closed boundary"
   ]
  },
  {
   "cell_type": "code",
   "execution_count": 13,
   "metadata": {},
   "outputs": [
    {
     "name": "stdout",
     "output_type": "stream",
     "text": [
      "The splined boundary and the defining coordinates:\n"
     ]
    },
    {
     "data": {
      "image/png": "[encoded data removed]",
      "text/plain": [
       "<Figure size 720x720 with 1 Axes>"
      ]
     },
     "metadata": {
      "needs_background": "light"
     },
     "output_type": "display_data"
    }
   ],
   "source": [
    "#-- Plot the boundary (modelled with splines) --#\n",
    "displaySize = np.recarray(1, coordinate)\n",
    "displaySize.x = 10\n",
    "displaySize.y = 10\n",
    "numLinspace = 10\n",
    "numGridLines = 10                   # How many gridlines we'll use for the visualization\n",
    "printOffset = (5, 5)\n",
    "clsdBP = closeBndryList(bndryPts)\n",
    "vertexList = [0, 6, 8, 9, 18]       # Hard code the vertices (though this could be done algorithmically)\n",
    "numSides = len(vertexList) - 1      # The number of sides for our original coordinate system. Usually (4) to Euclidean, but could be any number)\n",
    "\n",
    "scaleAEP = 1e5\n",
    "scaleTurbCoord = 1e3\n",
    "\n",
    "#-- Spline the boundary --#\n",
    "splineList = np.empty(numSides, interp1d)                  # Init. array IOT save the Splines for each \"side\"\n",
    "buf = np.zeros((numSides, numGridLines, 2))                # Used to initalize the recarray to zeros\n",
    "segCoordList = np.recarray([numSides, numGridLines], dtype=coordinate, buf=buf)\n",
    "\n",
    "#- Create the splines for each side (<numSides> many)-#\n",
    "for i in range(numSides):\n",
    "    BndPts = clsdBP[vertexList[i]:(vertexList[i+1]+1)]      # Extract the points for the \"edge\" we want\n",
    "    segCoordList[i] = sliceBoundary(BndPts, numGridLines)    # Reparameterize the boundry to be defined by <numGridLines> many points\n",
    "    splineList[i] = interp1d(segCoordList[i].x, segCoordList[i].y, kind='linear')   # Make the spline using NumPy's <interp1d>\n",
    "    \n",
    "print(\"The splined boundary and the defining coordinates:\")\n",
    "for i in range(numSides):\n",
    "    plt.hold = True\n",
    "    printBoundaryArray(segCoordList[i].x, splineList[i](segCoordList[i].x), displaySize, 1)\n",
    "\n",
    "#for i in vertexList:                         # Number the vertices\n",
    "for i in range(len(clsdBP)):                         # Number the vertices\n",
    "    plt.plot(clsdBP[i].x, clsdBP[i].y, 'o', color=(getPltClrs().getColor(5)))\n",
    "    plt.annotate(i, (clsdBP[i].x, clsdBP[i].y), xytext=printOffset, textcoords='offset points')"
   ]
  },
  {
   "cell_type": "code",
   "execution_count": 56,
   "metadata": {
    "code_folding": [
     12,
     18,
     30,
     37
    ]
   },
   "outputs": [
    {
     "data": {
      "image/png": "[encoded data removed]",
      "text/plain": [
       "<Figure size 720x720 with 1 Axes>"
      ]
     },
     "metadata": {
      "needs_background": "light"
     },
     "output_type": "display_data"
    }
   ],
   "source": [
    "# Helper functions for formatting\n",
    "def makeCoordArray(turb_coords):\n",
    "    # Takes coordinates in form turb_coords.x and .y and flattens them into a\n",
    "    # single array. For optimizer to use.\n",
    "    x0 = np.dstack((turb_coords.x, turb_coords.y)).flatten()\n",
    "    return x0\n",
    "\n",
    "def makeCoordStruct(x0):\n",
    "    # Takes coordinates in an [x1,y1,x2,y2...] line and puts them into the form turb_coords.x and .y\n",
    "    # For optimzer use.\n",
    "    nNumRtrs = int(len(x0)/2)\n",
    "    coordList = np.recarray(nNumRtrs, coordinate)\n",
    "    \n",
    "    coordMat = x0.reshape((nNumRtrs, 2))\n",
    "    coordList.x = coordMat[:,0]\n",
    "    coordList.y = coordMat[:,1]\n",
    "    \n",
    "    return coordList\n",
    "\n",
    "def makeCoordMatrix(x0):\n",
    "    # Makes an Mx2 matrix where [0,1] = [x,y]\n",
    "    # For scipy.spatial.distance.pdist() function\n",
    "    nNumRtrs = int(len(x0)/2)\n",
    "    coordMat = x0.reshape((nNumRtrs, 2))\n",
    "    return coordMat\n",
    "\n",
    "def makeFirstCoordStruct(turb_coords):\n",
    "    # Takes ripped .yaml coordinates and puts them into our struct format.\n",
    "    # Only needs to be done once at the beginning.\n",
    "    nNumRtrs = len(turb_coords)\n",
    "    coordList = np.recarray(nNumRtrs, coordinate)\n",
    "    \n",
    "    coordList.x = turb_coords[:, 0]\n",
    "    coordList.y = turb_coords[:, 1]\n",
    "\n",
    "    return coordList\n",
    "\n",
    "def iea37cs3randomstarts(numTurbs, splineList, vertexList, bndryPts, turb_diam):\n",
    "    #-- Initialize our array --#\n",
    "    buf = np.zeros((numTurbs,2))\n",
    "    turbRandoList = np.recarray((numTurbs), dtype=coordinate, buf=buf)\n",
    "    minTurbDist = 2*turb_diam\n",
    "\n",
    "    #-- Get the x-values --#\n",
    "    xmin = bndryPts[vertexList[2]].x   # Our minimum x-value\n",
    "    xmax = bndryPts[vertexList[0]].x   # our maximum x-value\n",
    "    for i in range(numTurbs):\n",
    "        turbRandoList[i].x = random.uniform(xmin, xmax)\n",
    "\n",
    "    #-- Get the y-values --#\n",
    "    #- Determine the upper and lower splines to use for the given x -#\n",
    "    # Fake for-loop here for proximity checking.\n",
    "    i = 0\n",
    "    while i<numTurbs:\n",
    "        ymin,ymax = getUpDwnYvals(turbRandoList[i].x, splineList, vertexList, bndryPts)\n",
    "        turbRandoList[i].y = random.uniform(ymin, ymax) # Get a random number in our bounds\n",
    "        # Check it doesn't conflict with nearby turbines\n",
    "        for j in range(i): # Check only the ones we've place so far\n",
    "            # If this turbine has a proximity conflict\n",
    "            if (coordDist(turbRandoList[i], turbRandoList[j]) < minTurbDist):\n",
    "                turbRandoList[i].x = random.uniform(xmin, xmax) # Give it a new x-val\n",
    "                i = i-1 # Redo the y-val too\n",
    "                break # Stop checking for conflicts and redo the y-values\n",
    "        i = i+1\n",
    "\n",
    "    return turbRandoList\n",
    "\n",
    "#-- Testing --#\n",
    "numTurbs = 25\n",
    "turbRandoList = iea37cs3randomstarts(numTurbs, splineList, vertexList, bndryPts, turb_diam)\n",
    "\n",
    "#-- Print the random turbine locations (with numbers) --#\n",
    "#-- Plot the boundary --#\n",
    "for i in range(numSides):\n",
    "    plt.hold = True\n",
    "    printBoundaryArray(segCoordList[i].x, splineList[i](segCoordList[i].x), displaySize, 5)\n",
    "\n",
    "#-- Plot the turbine locations --#\n",
    "printTurbines(turbRandoList, getPltClrs().getColor(1), turb_diam/2)\n",
    "for i in range(len(turbRandoList)):         # Number the turbines\n",
    "    plt.annotate(i, (turbRandoList[i].x, turbRandoList[i].y), xytext=printOffset, textcoords='offset points')\n",
    "#-- End print of turbine locations--#\n"
   ]
  },
  {
   "cell_type": "markdown",
   "metadata": {},
   "source": [
    "### Spacing Constraint\n",
    "I think there was a problem with my `checkTurbSpacing` function last time. I'll redo and check it here."
   ]
  },
  {
   "cell_type": "code",
   "execution_count": 57,
   "metadata": {},
   "outputs": [],
   "source": [
    "def checkTurbSpacing(x0, turb_diam):\n",
    "    testCoordMat = makeCoordMatrix(x0)           # make [[x1,y1],[x2,y2],...]\n",
    "\n",
    "    # Number will be C(numTurbs, 2) = numTurbs! / (2*(numTurbs-2)!).\n",
    "    cTurbSpace = ssd.pdist(testCoordMat, metric='euclidean') # Get the distance between each turbine\n",
    "    constraints = cTurbSpace - (2*turb_diam)                 # Constrain that the turbines are less than 2 diams apart\n",
    "    return constraints  # Negative if ok, positive if too close\n",
    "\n",
    "#-- Validation --#\n",
    "Ax0 = makeCoordArray(turbRandoList)                # get it into a long array of [x1,y1,x2,y2,...]\n",
    "consTurbSpacing = checkTurbSpacing(Ax0, turb_diam)\n",
    "\n",
    "#- Make an array logging all pair numbers -#\n",
    "nNumPairs = len(consTurbSpacing)\n",
    "sPairNames = [\"\" for x in range(nNumPairs)]\n",
    "nCntr = 0   # Just a counter to iterate where we are\n",
    "for i in range(numTurbs):\n",
    "    for j in range((i+1), numTurbs):\n",
    "        sPairNames[nCntr] =  str(i) + ', ' + str(j)\n",
    "        nCntr = nCntr + 1\n",
    "\n",
    "bSpacing = np.ones(nNumPairs) # Boolean array counting how many are too close\n",
    "nGood = 0   # Number of close pairs\n",
    "#- Check which were negative -#\n",
    "for i in range(nNumPairs):\n",
    "    if (consTurbSpacing[i] < 0):\n",
    "        bSpacing[i] = 0\n",
    "        nGood = nGood + 1\n",
    "\n",
    "#-- Print if there are violations --#\n",
    "for i in range(nNumPairs):\n",
    "    if (bSpacing[i] == 0):\n",
    "        print(sPairNames[i])\n",
    "        print(consTurbSpacing[i])\n",
    "        print()\n",
    "    "
   ]
  },
  {
   "cell_type": "markdown",
   "metadata": {},
   "source": [
    "`0940.09.Apr.20`\n",
    "\n",
    "`checkTurbSpacing()` works. I commented out the part of `iea37cs3randomstarts()` that checks for spacing (the last `for` loop) and then ran the check, and it popped for the correct turbine pairs. Of note, it only checks each pair once. So if turb #1 and turb #5 are too close, it only logs one violation, not two."
   ]
  },
  {
   "cell_type": "markdown",
   "metadata": {},
   "source": [
    "### Putting it all together\n",
    "\n",
    "`0946.09.Apr.20` I've really just got to get this done.\n",
    "\n",
    "Now that I'm sure the turbine spacing constraint works and the boundary constraint works, I've gotta code up the optimization."
   ]
  },
  {
   "cell_type": "code",
   "execution_count": null,
   "metadata": {},
   "outputs": [],
   "source": [
    "from pyoptsparse import Optimization, SNOPT, pyOpt_solution, NSGA2\n",
    "import numpy as np\n",
    "import matplotlib.pyplot as plt\n",
    "import scipy as sp\n",
    "import os\n",
    "import sys\n",
    "\n",
    "# Inputs needed:\n",
    "# turbine coords, splines for walls (to check boundaries)\n",
    "def cs3posObjFun(x):\n",
    "    f = \n",
    "    # Inputs will be (x,y) coordinates in a line of [x1, y1, x2, y2,... list]\n",
    "    \n",
    "\n",
    "optProb = Optimization('CaseStudy3', )\n",
    "\n",
    "snopt = SNOPT()"
   ]
  }
 ],
 "metadata": {
  "kernelspec": {
   "display_name": "Python 3",
   "language": "python",
   "name": "python3"
  },
  "language_info": {
   "codemirror_mode": {
    "name": "ipython",
    "version": 3
   },
   "file_extension": ".py",
   "mimetype": "text/x-python",
   "name": "python",
   "nbconvert_exporter": "python",
   "pygments_lexer": "ipython3",
   "version": "3.8.2"
  }
 },
 "nbformat": 4,
 "nbformat_minor": 2
}
